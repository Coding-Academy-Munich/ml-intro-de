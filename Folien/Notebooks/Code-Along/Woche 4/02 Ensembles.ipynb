{
 "cells": [
  {
   "cell_type": "markdown",
   "id": "2252706b08bf8015",
   "metadata": {
    "lang": "de",
    "slideshow": {
     "slide_type": "slide"
    },
    "tags": [
     "slide"
    ]
   },
   "source": [
    "\n",
    "<img src=\"data:image/svg+xml;base64,PHN2ZyB4bWxucz0iaHR0cDovL3d3dy53My5vcmcvMjAwMC9zdmciIHhtbG5zOnhsaW5rPSJodHRw\n",
    "Oi8vd3d3LnczLm9yZy8xOTk5L3hsaW5rIiB3aWR0aD0iMTExLjE2MSIgaGVpZ2h0PSIxMzQuNjY4\n",
    "IiB2ZXJzaW9uPSIxLjAiPjxkZWZzPjxsaW5lYXJHcmFkaWVudCBpZD0iYyI+PHN0b3Agb2Zmc2V0\n",
    "PSIwIiBzdHlsZT0ic3RvcC1jb2xvcjojYjhiOGI4O3N0b3Atb3BhY2l0eTouNDk4MDM5MjIiLz48\n",
    "c3RvcCBvZmZzZXQ9IjEiIHN0eWxlPSJzdG9wLWNvbG9yOiM3ZjdmN2Y7c3RvcC1vcGFjaXR5OjAi\n",
    "Lz48L2xpbmVhckdyYWRpZW50PjxsaW5lYXJHcmFkaWVudCBpZD0iYSI+PHN0b3Agb2Zmc2V0PSIw\n",
    "IiBzdHlsZT0ic3RvcC1jb2xvcjojZmZkNDNiO3N0b3Atb3BhY2l0eToxIi8+PHN0b3Agb2Zmc2V0\n",
    "PSIxIiBzdHlsZT0ic3RvcC1jb2xvcjojZmZlODczO3N0b3Atb3BhY2l0eToxIi8+PC9saW5lYXJH\n",
    "cmFkaWVudD48bGluZWFyR3JhZGllbnQgaWQ9ImIiPjxzdG9wIG9mZnNldD0iMCIgc3R5bGU9InN0\n",
    "b3AtY29sb3I6IzVhOWZkNDtzdG9wLW9wYWNpdHk6MSIvPjxzdG9wIG9mZnNldD0iMSIgc3R5bGU9\n",
    "InN0b3AtY29sb3I6IzMwNjk5ODtzdG9wLW9wYWNpdHk6MSIvPjwvbGluZWFyR3JhZGllbnQ+PGxp\n",
    "bmVhckdyYWRpZW50IHhsaW5rOmhyZWY9IiNhIiBpZD0iZSIgeDE9IjE1MC45NjEiIHgyPSIxMTIu\n",
    "MDMxIiB5MT0iMTkyLjM1MiIgeTI9IjEzNy4yNzMiIGdyYWRpZW50VHJhbnNmb3JtPSJtYXRyaXgo\n",
    "LjU2MjU0IDAgMCAuNTY3OTcgLTE0Ljk5MSAtMTEuNzAyKSIgZ3JhZGllbnRVbml0cz0idXNlclNw\n",
    "YWNlT25Vc2UiLz48bGluZWFyR3JhZGllbnQgeGxpbms6aHJlZj0iI2IiIGlkPSJkIiB4MT0iMjYu\n",
    "NjQ5IiB4Mj0iMTM1LjY2NSIgeTE9IjIwLjYwNCIgeTI9IjExNC4zOTgiIGdyYWRpZW50VHJhbnNm\n",
    "b3JtPSJtYXRyaXgoLjU2MjU0IDAgMCAuNTY3OTcgLTE0Ljk5MSAtMTEuNzAyKSIgZ3JhZGllbnRV\n",
    "bml0cz0idXNlclNwYWNlT25Vc2UiLz48cmFkaWFsR3JhZGllbnQgeGxpbms6aHJlZj0iI2MiIGlk\n",
    "PSJmIiBjeD0iNjEuNTE5IiBjeT0iMTMyLjI4NiIgcj0iMjkuMDM3IiBmeD0iNjEuNTE5IiBmeT0i\n",
    "MTMyLjI4NiIgZ3JhZGllbnRUcmFuc2Zvcm09Im1hdHJpeCgwIC0uMjM5OTUgMS4wNTQ2NyAwIC04\n",
    "My43IDE0Mi40NjIpIiBncmFkaWVudFVuaXRzPSJ1c2VyU3BhY2VPblVzZSIvPjwvZGVmcz48cGF0\n",
    "aCBkPSJNNTQuOTE5IDBjLTQuNTg0LjAyMi04Ljk2MS40MTMtMTIuODEzIDEuMDk1QzMwLjc2IDMu\n",
    "MDk5IDI4LjcgNy4yOTUgMjguNyAxNS4wMzJ2MTAuMjE5aDI2LjgxM3YzLjQwNkgxOC42MzhjLTcu\n",
    "NzkzIDAtMTQuNjE2IDQuNjg0LTE2Ljc1IDEzLjU5NC0yLjQ2MiAxMC4yMTMtMi41NzEgMTYuNTg2\n",
    "IDAgMjcuMjUgMS45MDUgNy45MzggNi40NTcgMTMuNTk0IDE0LjI1IDEzLjU5NGg5LjIxOHYtMTIu\n",
    "MjVjMC04Ljg1IDcuNjU3LTE2LjY1NyAxNi43NS0xNi42NTdoMjYuNzgyYzcuNDU0IDAgMTMuNDA2\n",
    "LTYuMTM4IDEzLjQwNi0xMy42MjV2LTI1LjUzYzAtNy4yNjctNi4xMy0xMi43MjYtMTMuNDA2LTEz\n",
    "LjkzOEM2NC4yODIuMzI4IDU5LjUwMi0uMDIgNTQuOTE4IDBtLTE0LjUgOC4yMmMyLjc3IDAgNS4w\n",
    "MzEgMi4yOTggNS4wMzEgNS4xMjUgMCAyLjgxNi0yLjI2MiA1LjA5My01LjAzMSA1LjA5My0yLjc4\n",
    "IDAtNS4wMzEtMi4yNzctNS4wMzEtNS4wOTMgMC0yLjgyNyAyLjI1MS01LjEyNSA1LjAzLTUuMTI1\n",
    "IiBzdHlsZT0iZmlsbDp1cmwoI2QpO2ZpbGwtb3BhY2l0eToxIi8+PHBhdGggZD0iTTg1LjYzOCAy\n",
    "OC42NTd2MTEuOTA2YzAgOS4yMzEtNy44MjYgMTctMTYuNzUgMTdINDIuMTA2Yy03LjMzNiAwLTEz\n",
    "LjQwNiA2LjI3OS0xMy40MDYgMTMuNjI1Vjk2LjcyYzAgNy4yNjYgNi4zMTkgMTEuNTQgMTMuNDA2\n",
    "IDEzLjYyNSA4LjQ4OCAyLjQ5NSAxNi42MjcgMi45NDYgMjYuNzgyIDAgNi43NS0xLjk1NSAxMy40\n",
    "MDYtNS44ODggMTMuNDA2LTEzLjYyNVY4Ni41SDU1LjUxM3YtMy40MDVIOTUuN2M3Ljc5MyAwIDEw\n",
    "LjY5Ni01LjQzNiAxMy40MDYtMTMuNTk0IDIuOC04LjM5OSAyLjY4LTE2LjQ3NiAwLTI3LjI1LTEu\n",
    "OTI1LTcuNzU4LTUuNjA0LTEzLjU5NC0xMy40MDYtMTMuNTk0ek03MC41NzUgOTMuMzEzYzIuNzgg\n",
    "MCA1LjAzMSAyLjI3OCA1LjAzMSA1LjA5NCAwIDIuODI3LTIuMjUxIDUuMTI1LTUuMDMxIDUuMTI1\n",
    "LTIuNzcgMC01LjAzMS0yLjI5OC01LjAzMS01LjEyNSAwLTIuODE2IDIuMjYxLTUuMDk0IDUuMDMx\n",
    "LTUuMDk0IiBzdHlsZT0iZmlsbDp1cmwoI2UpO2ZpbGwtb3BhY2l0eToxIi8+PGVsbGlwc2UgY3g9\n",
    "IjU1LjgxNyIgY3k9IjEyNy43MDEiIHJ4PSIzNS45MzEiIHJ5PSI2Ljk2NyIgc3R5bGU9Im9wYWNp\n",
    "dHk6LjQ0MzgyO2ZpbGw6dXJsKCNmKTtmaWxsLW9wYWNpdHk6MTtmaWxsLXJ1bGU6bm9uemVybztz\n",
    "dHJva2U6bm9uZTtzdHJva2Utd2lkdGg6MTUuNDE3NDtzdHJva2UtbWl0ZXJsaW1pdDo0O3N0cm9r\n",
    "ZS1kYXNoYXJyYXk6bm9uZTtzdHJva2Utb3BhY2l0eToxIi8+PC9zdmc+\n",
    "\"\n",
    "     style=\"display:block;margin:auto;width:10%\" alt=\"Python Logo\"/>\n",
    "<br>\n",
    "\n",
    "<div style=\"text-align:center; font-size:200%;\">\n",
    " <b>Ensembles</b>\n",
    "</div>\n",
    "<br/>\n",
    "<div style=\"text-align:center;\">Dr. Matthias Hölzl</div>\n",
    "<br/>"
   ]
  },
  {
   "cell_type": "markdown",
   "id": "ac3825675af92fcc",
   "metadata": {
    "lang": "de",
    "slideshow": {
     "slide_type": "slide"
    },
    "tags": [
     "slide"
    ]
   },
   "source": [
    "\n",
    "# Ensembles"
   ]
  },
  {
   "cell_type": "code",
   "execution_count": null,
   "id": "9e3c0be790f750a0",
   "metadata": {
    "slideshow": {
     "slide_type": "subslide"
    },
    "tags": [
     "subslide"
    ]
   },
   "outputs": [],
   "source": []
  },
  {
   "cell_type": "code",
   "execution_count": null,
   "id": "095e43c9de8a4e71",
   "metadata": {
    "tags": [
     "keep"
    ]
   },
   "outputs": [],
   "source": [
    "sns.set_theme()"
   ]
  },
  {
   "cell_type": "code",
   "execution_count": null,
   "id": "18366066fba63c63",
   "metadata": {
    "slideshow": {
     "slide_type": "subslide"
    },
    "tags": [
     "subslide",
     "keep"
    ]
   },
   "outputs": [],
   "source": [
    "rng = np.random.default_rng(42)\n",
    "x = rng.uniform(size=(150, 1), low=0.0, high=10.0)\n",
    "x_train, x_test = x[:100], x[100:]\n",
    "x_plot = np.linspace(0, 10, 500).reshape(-1, 1)"
   ]
  },
  {
   "cell_type": "code",
   "execution_count": null,
   "id": "93a5d470705709ed",
   "metadata": {
    "slideshow": {
     "slide_type": "subslide"
    },
    "tags": [
     "subslide",
     "keep"
    ]
   },
   "outputs": [],
   "source": [
    "def lin(x):\n",
    "    return 0.85 * x - 1.5"
   ]
  },
  {
   "cell_type": "code",
   "execution_count": null,
   "id": "52edfc1c40064d7f",
   "metadata": {
    "tags": [
     "keep"
    ]
   },
   "outputs": [],
   "source": [
    "def fun(x):\n",
    "    return 2 * np.sin(x) + 0.1 * x**2 - 2"
   ]
  },
  {
   "cell_type": "markdown",
   "id": "7259047e92d37fc0",
   "metadata": {
    "lang": "de",
    "slideshow": {
     "slide_type": "slide"
    },
    "tags": [
     "slide"
    ]
   },
   "source": [
    "# Ensembles, Random Forests, Gradient Boosted Trees"
   ]
  },
  {
   "cell_type": "markdown",
   "id": "d643d74e3202b57f",
   "metadata": {
    "lang": "de",
    "slideshow": {
     "slide_type": "slide"
    },
    "tags": [
     "slide"
    ]
   },
   "source": [
    "\n",
    "## Ensemble Methoden\n",
    "\n",
    "Idee: Kombiniere mehrere Schätzungen, um die Gesamtleistung zu verbessern.\n",
    "\n",
    "- Averaging-Methoden:\n",
    "  - Unabhängige Schätzer (Estimators), durchschnittliche Vorhersagen\n",
    "  - Reduziert die Varianz (overfitting)\n",
    "  - Bagging, Random Forests\n",
    "- Boosting methoden:\n",
    "  - Schätzer sequenziell trainieren\n",
    "  – Jeder Schätzer wird darauf trainiert, die Verzerrung seiner (kombinierten)\n",
    "    Vorgänger zu reduzieren"
   ]
  },
  {
   "cell_type": "markdown",
   "id": "39bc141e3d48c097",
   "metadata": {
    "lang": "de",
    "slideshow": {
     "slide_type": "subslide"
    },
    "tags": [
     "subslide"
    ]
   },
   "source": [
    "### Bagging\n",
    "\n",
    "- Durchschnitts-Methode: Erstelle mehrere Schätzer des gleichen Typs, bilde den\n",
    "  Durchschnitt ihrer Ergebnisse\n",
    "- Benötigt eine Möglichkeit, Unterschiede zwischen Schätzern einzuführen\n",
    "  - Andernfalls wird die Varianz nicht reduziert\n",
    "  - Trainiere mit zufälligen Teilmengen der Trainingsdaten\n",
    "- Reduziert Overfitting\n",
    "- Arbeitet am besten mit starken Schätzern (z.B. Entscheidungsbäumen mit (mäßig)\n",
    "  großer Tiefe)"
   ]
  },
  {
   "cell_type": "markdown",
   "id": "91fac6f0d4de7cca",
   "metadata": {
    "lang": "de"
   },
   "source": [
    "### Random Forests\n",
    "\n",
    "- Bagging classifier/regressor, der Entscheidungsbäume verwendet\n",
    "- Für jeden Baum im Wald:\n",
    "  - Teilmenge von Trainingsdaten\n",
    "  - Teilmenge von Merkmalen\n",
    "- Oft signifikante Verringerung der Varianz (Overfitting)\n",
    "- Manchmal Erhöhung des Bias"
   ]
  },
  {
   "cell_type": "code",
   "execution_count": null,
   "id": "d6f83bd4082bfa56",
   "metadata": {
    "slideshow": {
     "slide_type": "subslide"
    },
    "tags": [
     "subslide",
     "keep"
    ]
   },
   "outputs": [],
   "source": [
    "from sklearn.ensemble import RandomForestRegressor"
   ]
  },
  {
   "cell_type": "code",
   "execution_count": null,
   "id": "6e2905aade8cb2a3",
   "metadata": {
    "slideshow": {
     "slide_type": "subslide"
    },
    "tags": [
     "subslide",
     "keep"
    ]
   },
   "outputs": [],
   "source": [
    "et.evaluate_non_random_regressor(\n",
    "    RandomForestRegressor, lin, x_train, x_test, random_state=42\n",
    ")"
   ]
  },
  {
   "cell_type": "code",
   "execution_count": null,
   "id": "3690da518346a8b8",
   "metadata": {
    "slideshow": {
     "slide_type": "subslide"
    },
    "tags": [
     "subslide",
     "keep"
    ]
   },
   "outputs": [],
   "source": [
    "et.evaluate_non_random_regressor(\n",
    "    RandomForestRegressor, fun, x_train, x_test, random_state=42\n",
    ")"
   ]
  },
  {
   "cell_type": "code",
   "execution_count": null,
   "id": "2da741d61db41353",
   "metadata": {
    "slideshow": {
     "slide_type": "subslide"
    },
    "tags": [
     "subslide",
     "keep"
    ]
   },
   "outputs": [],
   "source": [
    "et.evaluate_non_random_regressor(\n",
    "    RandomForestRegressor,\n",
    "    fun,\n",
    "    x_train,\n",
    "    x_test,\n",
    "    n_estimators=25,\n",
    "    criterion=\"absolute_error\",\n",
    "    random_state=42,\n",
    ")"
   ]
  },
  {
   "cell_type": "code",
   "execution_count": null,
   "id": "021af58e5ca79e69",
   "metadata": {
    "slideshow": {
     "slide_type": "subslide"
    },
    "tags": [
     "subslide",
     "keep"
    ]
   },
   "outputs": [],
   "source": [
    "et.evaluate_regressor(RandomForestRegressor, lin, x_train, x_test, random_state=42)"
   ]
  },
  {
   "cell_type": "code",
   "execution_count": null,
   "id": "b10089f28cd413f5",
   "metadata": {
    "slideshow": {
     "slide_type": "subslide"
    },
    "tags": [
     "subslide",
     "keep"
    ]
   },
   "outputs": [],
   "source": [
    "et.evaluate_regressor(\n",
    "    RandomForestRegressor,\n",
    "    lin,\n",
    "    x_train,\n",
    "    x_test,\n",
    "    n_estimators=500,\n",
    "    max_depth=3,\n",
    "    random_state=42,\n",
    ")"
   ]
  },
  {
   "cell_type": "code",
   "execution_count": null,
   "id": "0cb657d29f79b740",
   "metadata": {
    "slideshow": {
     "slide_type": "subslide"
    },
    "tags": [
     "subslide",
     "keep"
    ]
   },
   "outputs": [],
   "source": [
    "et.evaluate_regressor(\n",
    "    RandomForestRegressor,\n",
    "    lin,\n",
    "    x_train,\n",
    "    x_test,\n",
    "    n_estimators=500,\n",
    "    min_samples_leaf=6,\n",
    "    random_state=42,\n",
    ")"
   ]
  },
  {
   "cell_type": "code",
   "execution_count": null,
   "id": "984eab2954a904a3",
   "metadata": {
    "slideshow": {
     "slide_type": "subslide"
    },
    "tags": [
     "subslide",
     "keep"
    ]
   },
   "outputs": [],
   "source": [
    "et.evaluate_regressor(RandomForestRegressor, fun, x_train, x_test, random_state=42)"
   ]
  },
  {
   "cell_type": "code",
   "execution_count": null,
   "id": "45977286f0e61627",
   "metadata": {
    "slideshow": {
     "slide_type": "subslide"
    },
    "tags": [
     "subslide",
     "keep"
    ]
   },
   "outputs": [],
   "source": [
    "et.evaluate_regressor(\n",
    "    RandomForestRegressor,\n",
    "    fun,\n",
    "    x_train,\n",
    "    x_test,\n",
    "    n_estimators=1000,\n",
    "    min_samples_leaf=6,\n",
    "    random_state=43,\n",
    "    n_jobs=-1,\n",
    ")"
   ]
  },
  {
   "cell_type": "markdown",
   "id": "58476b7f2ed09380",
   "metadata": {
    "lang": "de",
    "slideshow": {
     "slide_type": "slide"
    },
    "tags": [
     "slide"
    ]
   },
   "source": [
    "## Gradient Boosted Trees\n",
    "\n",
    "- Boosting-Methode sowohl für die Regression als auch für die Klassifizierung\n",
    "- Benötigt differenzierbare Verlustfunktion"
   ]
  },
  {
   "cell_type": "code",
   "execution_count": null,
   "id": "7839f57e1ce41f03",
   "metadata": {
    "slideshow": {
     "slide_type": "subslide"
    },
    "tags": [
     "subslide",
     "keep"
    ]
   },
   "outputs": [],
   "source": [
    "from sklearn.ensemble import GradientBoostingRegressor"
   ]
  },
  {
   "cell_type": "code",
   "execution_count": null,
   "id": "87c46b2d7d0da9a4",
   "metadata": {
    "slideshow": {
     "slide_type": "subslide"
    },
    "tags": [
     "subslide",
     "keep"
    ]
   },
   "outputs": [],
   "source": [
    "et.evaluate_non_random_regressor(GradientBoostingRegressor, lin, x_train, x_test)"
   ]
  },
  {
   "cell_type": "code",
   "execution_count": null,
   "id": "edd30a99264a83d1",
   "metadata": {
    "slideshow": {
     "slide_type": "subslide"
    },
    "tags": [
     "subslide",
     "keep"
    ]
   },
   "outputs": [],
   "source": [
    "et.evaluate_non_random_regressor(GradientBoostingRegressor, fun, x_train, x_test)"
   ]
  },
  {
   "cell_type": "code",
   "execution_count": null,
   "id": "8a6fbd86ddb33738",
   "metadata": {
    "slideshow": {
     "slide_type": "subslide"
    },
    "tags": [
     "subslide",
     "keep"
    ]
   },
   "outputs": [],
   "source": [
    "et.evaluate_regressor(GradientBoostingRegressor, lin, x_train, x_test)"
   ]
  },
  {
   "cell_type": "code",
   "execution_count": null,
   "id": "1794e4eae7ecec6d",
   "metadata": {
    "slideshow": {
     "slide_type": "subslide"
    },
    "tags": [
     "subslide",
     "keep"
    ]
   },
   "outputs": [],
   "source": [
    "et.evaluate_regressor(\n",
    "    GradientBoostingRegressor,\n",
    "    lin,\n",
    "    x_train,\n",
    "    x_test,\n",
    "    n_estimators=200,\n",
    "    learning_rate=0.05,\n",
    "    loss=\"absolute_error\",\n",
    ")"
   ]
  },
  {
   "cell_type": "code",
   "execution_count": null,
   "id": "1bd638ad473767d4",
   "metadata": {
    "slideshow": {
     "slide_type": "subslide"
    },
    "tags": [
     "subslide",
     "keep"
    ]
   },
   "outputs": [],
   "source": [
    "et.evaluate_regressor(\n",
    "    GradientBoostingRegressor,\n",
    "    lin,\n",
    "    x_train,\n",
    "    x_test,\n",
    "    n_estimators=500,\n",
    "    learning_rate=0.01,\n",
    "    loss=\"absolute_error\",\n",
    "    subsample=0.1,\n",
    "    random_state=46,\n",
    ")"
   ]
  },
  {
   "cell_type": "code",
   "execution_count": null,
   "id": "794260921878c9a4",
   "metadata": {
    "slideshow": {
     "slide_type": "subslide"
    },
    "tags": [
     "subslide",
     "keep"
    ]
   },
   "outputs": [],
   "source": [
    "et.evaluate_regressor(\n",
    "    GradientBoostingRegressor,\n",
    "    fun,\n",
    "    x_train,\n",
    "    x_test,\n",
    "    n_estimators=500,\n",
    "    learning_rate=0.01,\n",
    "    loss=\"absolute_error\",\n",
    "    subsample=0.1,\n",
    "    random_state=44,\n",
    ")"
   ]
  },
  {
   "cell_type": "markdown",
   "id": "fcc497b9e18891d7",
   "metadata": {
    "lang": "de",
    "slideshow": {
     "slide_type": "slide"
    },
    "tags": [
     "slide"
    ]
   },
   "source": [
    "## Mehrere Features"
   ]
  },
  {
   "cell_type": "code",
   "execution_count": null,
   "id": "aade3449be91a62c",
   "metadata": {
    "slideshow": {
     "slide_type": "subslide"
    },
    "tags": [
     "subslide",
     "keep"
    ]
   },
   "outputs": [],
   "source": [
    "from sklearn.datasets import make_regression\n",
    "from sklearn.model_selection import train_test_split\n",
    "\n",
    "np.set_printoptions(precision=1)"
   ]
  },
  {
   "cell_type": "code",
   "execution_count": null,
   "id": "64147a31b7d6d306",
   "metadata": {
    "slideshow": {
     "slide_type": "subslide"
    },
    "tags": [
     "subslide",
     "keep"
    ]
   },
   "outputs": [],
   "source": [
    "x, y, coef = make_regression(\n",
    "    n_samples=250, n_features=4, n_informative=1, coef=True, random_state=42\n",
    ")\n",
    "x.shape, y.shape, coef"
   ]
  },
  {
   "cell_type": "code",
   "execution_count": null,
   "id": "0558e99616c1c696",
   "metadata": {
    "slideshow": {
     "slide_type": "subslide"
    },
    "tags": [
     "subslide",
     "keep"
    ]
   },
   "outputs": [],
   "source": [
    "fig, axs = plt.subplots(ncols=2, nrows=2, figsize=(20, 12))\n",
    "for i, ax in enumerate(axs.reshape(-1)):\n",
    "    sns.scatterplot(x=x[:, i], y=y, ax=ax)\n",
    "plt.show()"
   ]
  },
  {
   "cell_type": "code",
   "execution_count": null,
   "id": "ed72a2f885f5e8dd",
   "metadata": {
    "slideshow": {
     "slide_type": "subslide"
    },
    "tags": [
     "subslide",
     "keep"
    ]
   },
   "outputs": [],
   "source": [
    "x, y, coef = make_regression(\n",
    "    n_samples=250, n_features=20, n_informative=10, coef=True, random_state=42\n",
    ")\n",
    "x.shape, y.shape, coef"
   ]
  },
  {
   "cell_type": "code",
   "execution_count": null,
   "id": "fab4b86a8d6cee02",
   "metadata": {
    "slideshow": {
     "slide_type": "subslide"
    },
    "tags": [
     "subslide",
     "keep"
    ]
   },
   "outputs": [],
   "source": [
    "x_train, x_test, y_train, y_test = train_test_split(x, y, test_size=0.4)\n",
    "x_train.shape, x_test.shape, y_train.shape, y_test.shape"
   ]
  },
  {
   "cell_type": "code",
   "execution_count": null,
   "id": "f4f7ac81c6aaab7d",
   "metadata": {
    "slideshow": {
     "slide_type": "subslide"
    },
    "tags": [
     "subslide",
     "keep"
    ]
   },
   "outputs": [],
   "source": [
    "fig, axs = plt.subplots(ncols=2, nrows=2, figsize=(20, 12))\n",
    "for i in range(2):\n",
    "    sns.scatterplot(x=x[:, i], y=y, ax=axs[0, i])\n",
    "for i in range(2):\n",
    "    sns.scatterplot(x=x[:, i + 6], y=y, ax=axs[1, i])\n",
    "plt.show()"
   ]
  },
  {
   "cell_type": "code",
   "execution_count": null,
   "id": "159b7493f63788a5",
   "metadata": {
    "slideshow": {
     "slide_type": "subslide"
    },
    "tags": [
     "subslide",
     "keep"
    ]
   },
   "outputs": [],
   "source": [
    "lr_clf = LinearRegression()\n",
    "lr_clf.fit(x_train, y_train)\n",
    "y_lr_pred = lr_clf.predict(x_test)\n",
    "\n",
    "mean_absolute_error(y_test, y_lr_pred), mean_squared_error(y_test, y_lr_pred)"
   ]
  },
  {
   "cell_type": "code",
   "execution_count": null,
   "id": "3cc74348e964484f",
   "metadata": {
    "slideshow": {
     "slide_type": "subslide"
    },
    "tags": [
     "subslide",
     "keep"
    ]
   },
   "outputs": [],
   "source": [
    "lr_clf.coef_.astype(np.int32), coef.astype(np.int32)"
   ]
  },
  {
   "cell_type": "code",
   "execution_count": null,
   "id": "a0c7bd32b4712f29",
   "metadata": {
    "slideshow": {
     "slide_type": "subslide"
    },
    "tags": [
     "subslide",
     "keep"
    ]
   },
   "outputs": [],
   "source": [
    "dt_clf = DecisionTreeRegressor()\n",
    "dt_clf.fit(x_train, y_train)\n",
    "y_dt_pred = dt_clf.predict(x_test)\n",
    "\n",
    "mean_absolute_error(y_test, y_dt_pred), mean_squared_error(y_test, y_dt_pred)"
   ]
  },
  {
   "cell_type": "code",
   "execution_count": null,
   "id": "fcd90caafa943baa",
   "metadata": {
    "slideshow": {
     "slide_type": "subslide"
    },
    "tags": [
     "subslide",
     "keep"
    ]
   },
   "outputs": [],
   "source": [
    "rf_clf = RandomForestRegressor()\n",
    "rf_clf.fit(x_train, y_train)\n",
    "y_rf_pred = rf_clf.predict(x_test)\n",
    "\n",
    "mean_absolute_error(y_test, y_rf_pred), mean_squared_error(y_test, y_rf_pred)"
   ]
  },
  {
   "cell_type": "code",
   "execution_count": null,
   "id": "91c5695eb7a6386a",
   "metadata": {
    "slideshow": {
     "slide_type": "subslide"
    },
    "tags": [
     "subslide",
     "keep"
    ]
   },
   "outputs": [],
   "source": [
    "gb_clf = GradientBoostingRegressor()\n",
    "gb_clf.fit(x_train, y_train)\n",
    "y_gb_pred = gb_clf.predict(x_test)\n",
    "\n",
    "mean_absolute_error(y_test, y_gb_pred), mean_squared_error(y_test, y_gb_pred)"
   ]
  },
  {
   "cell_type": "code",
   "execution_count": null,
   "id": "ff1fb9d647195fc7",
   "metadata": {
    "slideshow": {
     "slide_type": "subslide"
    },
    "tags": [
     "subslide",
     "keep"
    ]
   },
   "outputs": [],
   "source": [
    "x, y, coef = make_regression(\n",
    "    n_samples=250,\n",
    "    n_features=20,\n",
    "    n_informative=10,\n",
    "    noise=100.0,\n",
    "    coef=True,\n",
    "    random_state=42,\n",
    ")\n",
    "x.shape, y.shape, coef"
   ]
  },
  {
   "cell_type": "code",
   "execution_count": null,
   "id": "9c13acc0473b5636",
   "metadata": {
    "tags": [
     "keep"
    ]
   },
   "outputs": [],
   "source": [
    "x_train, x_test, y_train, y_test = train_test_split(x, y, test_size=0.4)\n",
    "x_train.shape, x_test.shape, y_train.shape, y_test.shape"
   ]
  },
  {
   "cell_type": "code",
   "execution_count": null,
   "id": "bd9ac22a759641cd",
   "metadata": {
    "slideshow": {
     "slide_type": "subslide"
    },
    "tags": [
     "subslide",
     "keep"
    ]
   },
   "outputs": [],
   "source": [
    "lr_clf = LinearRegression()\n",
    "lr_clf.fit(x_train, y_train)\n",
    "y_lr_pred = lr_clf.predict(x_test)\n",
    "\n",
    "mean_absolute_error(y_test, y_lr_pred), mean_squared_error(y_test, y_lr_pred)"
   ]
  },
  {
   "cell_type": "code",
   "execution_count": null,
   "id": "93be1f5884a65a74",
   "metadata": {
    "slideshow": {
     "slide_type": "subslide"
    },
    "tags": [
     "subslide",
     "keep"
    ]
   },
   "outputs": [],
   "source": [
    "dt_clf = DecisionTreeRegressor()\n",
    "dt_clf.fit(x_train, y_train)\n",
    "y_dt_pred = dt_clf.predict(x_test)\n",
    "\n",
    "mean_absolute_error(y_test, y_dt_pred), mean_squared_error(y_test, y_dt_pred)"
   ]
  },
  {
   "cell_type": "code",
   "execution_count": null,
   "id": "dd98c203ae3314dc",
   "metadata": {
    "slideshow": {
     "slide_type": "subslide"
    },
    "tags": [
     "subslide",
     "keep"
    ]
   },
   "outputs": [],
   "source": [
    "rf_clf = RandomForestRegressor()\n",
    "rf_clf.fit(x_train, y_train)\n",
    "y_rf_pred = rf_clf.predict(x_test)\n",
    "\n",
    "mean_absolute_error(y_test, y_rf_pred), mean_squared_error(y_test, y_rf_pred)"
   ]
  },
  {
   "cell_type": "code",
   "execution_count": null,
   "id": "dd495f7d206447c1",
   "metadata": {
    "slideshow": {
     "slide_type": "subslide"
    },
    "tags": [
     "subslide",
     "keep"
    ]
   },
   "outputs": [],
   "source": [
    "gb_clf = GradientBoostingRegressor()\n",
    "gb_clf.fit(x_train, y_train)\n",
    "y_gb_pred = gb_clf.predict(x_test)\n",
    "\n",
    "mean_absolute_error(y_test, y_gb_pred), mean_squared_error(y_test, y_gb_pred)"
   ]
  },
  {
   "cell_type": "code",
   "execution_count": null,
   "id": "d60a6e2364f9f3d6",
   "metadata": {
    "slideshow": {
     "slide_type": "subslide"
    },
    "tags": [
     "subslide",
     "keep"
    ]
   },
   "outputs": [],
   "source": [
    "x, y, coef = make_regression(\n",
    "    n_samples=250,\n",
    "    n_features=20,\n",
    "    n_informative=10,\n",
    "    noise=100.0,\n",
    "    coef=True,\n",
    "    random_state=42,\n",
    ")\n",
    "y += (20 * x[:, 1]) ** 2\n",
    "x.shape, y.shape, coef"
   ]
  },
  {
   "cell_type": "code",
   "execution_count": null,
   "id": "c69c467b7598713a",
   "metadata": {
    "slideshow": {
     "slide_type": "subslide"
    },
    "tags": [
     "subslide",
     "keep"
    ]
   },
   "outputs": [],
   "source": [
    "x_train, x_test, y_train, y_test = train_test_split(x, y, test_size=0.4)\n",
    "x_train.shape, x_test.shape, y_train.shape, y_test.shape"
   ]
  },
  {
   "cell_type": "code",
   "execution_count": null,
   "id": "45888af73122b5e3",
   "metadata": {
    "slideshow": {
     "slide_type": "subslide"
    },
    "tags": [
     "subslide",
     "keep"
    ]
   },
   "outputs": [],
   "source": [
    "fig, axs = plt.subplots(ncols=2, nrows=2, figsize=(20, 12))\n",
    "for i in range(2):\n",
    "    sns.scatterplot(x=x[:, i], y=y, ax=axs[0, i])\n",
    "for i in range(2):\n",
    "    sns.scatterplot(x=x[:, i + 6], y=y, ax=axs[1, i])\n",
    "plt.show()"
   ]
  },
  {
   "cell_type": "code",
   "execution_count": null,
   "id": "57957de2de101a9c",
   "metadata": {
    "slideshow": {
     "slide_type": "subslide"
    },
    "tags": [
     "subslide",
     "keep"
    ]
   },
   "outputs": [],
   "source": [
    "lr_clf = LinearRegression()\n",
    "lr_clf.fit(x_train, y_train)\n",
    "y_lr_pred = lr_clf.predict(x_test)\n",
    "\n",
    "mean_absolute_error(y_test, y_lr_pred), mean_squared_error(y_test, y_lr_pred)"
   ]
  },
  {
   "cell_type": "code",
   "execution_count": null,
   "id": "fef31f19d09c87c4",
   "metadata": {
    "slideshow": {
     "slide_type": "subslide"
    },
    "tags": [
     "subslide",
     "keep"
    ]
   },
   "outputs": [],
   "source": [
    "dt_clf = DecisionTreeRegressor()\n",
    "dt_clf.fit(x_train, y_train)\n",
    "y_dt_pred = dt_clf.predict(x_test)\n",
    "\n",
    "mean_absolute_error(y_test, y_dt_pred), mean_squared_error(y_test, y_dt_pred)"
   ]
  },
  {
   "cell_type": "code",
   "execution_count": null,
   "id": "341029d9da171e07",
   "metadata": {
    "slideshow": {
     "slide_type": "subslide"
    },
    "tags": [
     "subslide",
     "keep"
    ]
   },
   "outputs": [],
   "source": [
    "rf_clf = RandomForestRegressor()\n",
    "rf_clf.fit(x_train, y_train)\n",
    "y_rf_pred = rf_clf.predict(x_test)\n",
    "\n",
    "mean_absolute_error(y_test, y_rf_pred), mean_squared_error(y_test, y_rf_pred)"
   ]
  },
  {
   "cell_type": "code",
   "execution_count": null,
   "id": "95f2418cb98992cd",
   "metadata": {
    "slideshow": {
     "slide_type": "subslide"
    },
    "tags": [
     "subslide",
     "keep"
    ]
   },
   "outputs": [],
   "source": [
    "gb_clf = GradientBoostingRegressor()\n",
    "gb_clf.fit(x_train, y_train)\n",
    "y_gb_pred = gb_clf.predict(x_test)\n",
    "\n",
    "mean_absolute_error(y_test, y_gb_pred), mean_squared_error(y_test, y_gb_pred)"
   ]
  }
 ],
 "metadata": {
  "jupytext": {
   "cell_metadata_filter": "tags,lang,-all",
   "main_language": "python",
   "notebook_metadata_filter": "-all"
  },
  "kernelspec": {
   "display_name": "Python 3 (ipykernel)",
   "language": "python",
   "name": "python3"
  },
  "language_info": {
   "codemirror_mode": {
    "name": "ipython",
    "version": 3
   },
   "file_extension": ".py",
   "mimetype": "text/x-python",
   "name": "python",
   "nbconvert_exporter": "python",
   "pygments_lexer": "ipython3"
  }
 },
 "nbformat": 4,
 "nbformat_minor": 5
}
