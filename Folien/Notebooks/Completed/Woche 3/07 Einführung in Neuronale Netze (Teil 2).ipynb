{
 "cells": [
  {
   "cell_type": "markdown",
   "id": "32ebe67243c54327",
   "metadata": {
    "lang": "de",
    "slideshow": {
     "slide_type": "slide"
    },
    "tags": [
     "slide"
    ]
   },
   "source": [
    "\n",
    "<img src=\"data:image/svg+xml;base64,PHN2ZyB4bWxucz0iaHR0cDovL3d3dy53My5vcmcvMjAwMC9zdmciIHhtbG5zOnhsaW5rPSJodHRw\n",
    "Oi8vd3d3LnczLm9yZy8xOTk5L3hsaW5rIiB3aWR0aD0iMTExLjE2MSIgaGVpZ2h0PSIxMzQuNjY4\n",
    "IiB2ZXJzaW9uPSIxLjAiPjxkZWZzPjxsaW5lYXJHcmFkaWVudCBpZD0iYyI+PHN0b3Agb2Zmc2V0\n",
    "PSIwIiBzdHlsZT0ic3RvcC1jb2xvcjojYjhiOGI4O3N0b3Atb3BhY2l0eTouNDk4MDM5MjIiLz48\n",
    "c3RvcCBvZmZzZXQ9IjEiIHN0eWxlPSJzdG9wLWNvbG9yOiM3ZjdmN2Y7c3RvcC1vcGFjaXR5OjAi\n",
    "Lz48L2xpbmVhckdyYWRpZW50PjxsaW5lYXJHcmFkaWVudCBpZD0iYSI+PHN0b3Agb2Zmc2V0PSIw\n",
    "IiBzdHlsZT0ic3RvcC1jb2xvcjojZmZkNDNiO3N0b3Atb3BhY2l0eToxIi8+PHN0b3Agb2Zmc2V0\n",
    "PSIxIiBzdHlsZT0ic3RvcC1jb2xvcjojZmZlODczO3N0b3Atb3BhY2l0eToxIi8+PC9saW5lYXJH\n",
    "cmFkaWVudD48bGluZWFyR3JhZGllbnQgaWQ9ImIiPjxzdG9wIG9mZnNldD0iMCIgc3R5bGU9InN0\n",
    "b3AtY29sb3I6IzVhOWZkNDtzdG9wLW9wYWNpdHk6MSIvPjxzdG9wIG9mZnNldD0iMSIgc3R5bGU9\n",
    "InN0b3AtY29sb3I6IzMwNjk5ODtzdG9wLW9wYWNpdHk6MSIvPjwvbGluZWFyR3JhZGllbnQ+PGxp\n",
    "bmVhckdyYWRpZW50IHhsaW5rOmhyZWY9IiNhIiBpZD0iZSIgeDE9IjE1MC45NjEiIHgyPSIxMTIu\n",
    "MDMxIiB5MT0iMTkyLjM1MiIgeTI9IjEzNy4yNzMiIGdyYWRpZW50VHJhbnNmb3JtPSJtYXRyaXgo\n",
    "LjU2MjU0IDAgMCAuNTY3OTcgLTE0Ljk5MSAtMTEuNzAyKSIgZ3JhZGllbnRVbml0cz0idXNlclNw\n",
    "YWNlT25Vc2UiLz48bGluZWFyR3JhZGllbnQgeGxpbms6aHJlZj0iI2IiIGlkPSJkIiB4MT0iMjYu\n",
    "NjQ5IiB4Mj0iMTM1LjY2NSIgeTE9IjIwLjYwNCIgeTI9IjExNC4zOTgiIGdyYWRpZW50VHJhbnNm\n",
    "b3JtPSJtYXRyaXgoLjU2MjU0IDAgMCAuNTY3OTcgLTE0Ljk5MSAtMTEuNzAyKSIgZ3JhZGllbnRV\n",
    "bml0cz0idXNlclNwYWNlT25Vc2UiLz48cmFkaWFsR3JhZGllbnQgeGxpbms6aHJlZj0iI2MiIGlk\n",
    "PSJmIiBjeD0iNjEuNTE5IiBjeT0iMTMyLjI4NiIgcj0iMjkuMDM3IiBmeD0iNjEuNTE5IiBmeT0i\n",
    "MTMyLjI4NiIgZ3JhZGllbnRUcmFuc2Zvcm09Im1hdHJpeCgwIC0uMjM5OTUgMS4wNTQ2NyAwIC04\n",
    "My43IDE0Mi40NjIpIiBncmFkaWVudFVuaXRzPSJ1c2VyU3BhY2VPblVzZSIvPjwvZGVmcz48cGF0\n",
    "aCBkPSJNNTQuOTE5IDBjLTQuNTg0LjAyMi04Ljk2MS40MTMtMTIuODEzIDEuMDk1QzMwLjc2IDMu\n",
    "MDk5IDI4LjcgNy4yOTUgMjguNyAxNS4wMzJ2MTAuMjE5aDI2LjgxM3YzLjQwNkgxOC42MzhjLTcu\n",
    "NzkzIDAtMTQuNjE2IDQuNjg0LTE2Ljc1IDEzLjU5NC0yLjQ2MiAxMC4yMTMtMi41NzEgMTYuNTg2\n",
    "IDAgMjcuMjUgMS45MDUgNy45MzggNi40NTcgMTMuNTk0IDE0LjI1IDEzLjU5NGg5LjIxOHYtMTIu\n",
    "MjVjMC04Ljg1IDcuNjU3LTE2LjY1NyAxNi43NS0xNi42NTdoMjYuNzgyYzcuNDU0IDAgMTMuNDA2\n",
    "LTYuMTM4IDEzLjQwNi0xMy42MjV2LTI1LjUzYzAtNy4yNjctNi4xMy0xMi43MjYtMTMuNDA2LTEz\n",
    "LjkzOEM2NC4yODIuMzI4IDU5LjUwMi0uMDIgNTQuOTE4IDBtLTE0LjUgOC4yMmMyLjc3IDAgNS4w\n",
    "MzEgMi4yOTggNS4wMzEgNS4xMjUgMCAyLjgxNi0yLjI2MiA1LjA5My01LjAzMSA1LjA5My0yLjc4\n",
    "IDAtNS4wMzEtMi4yNzctNS4wMzEtNS4wOTMgMC0yLjgyNyAyLjI1MS01LjEyNSA1LjAzLTUuMTI1\n",
    "IiBzdHlsZT0iZmlsbDp1cmwoI2QpO2ZpbGwtb3BhY2l0eToxIi8+PHBhdGggZD0iTTg1LjYzOCAy\n",
    "OC42NTd2MTEuOTA2YzAgOS4yMzEtNy44MjYgMTctMTYuNzUgMTdINDIuMTA2Yy03LjMzNiAwLTEz\n",
    "LjQwNiA2LjI3OS0xMy40MDYgMTMuNjI1Vjk2LjcyYzAgNy4yNjYgNi4zMTkgMTEuNTQgMTMuNDA2\n",
    "IDEzLjYyNSA4LjQ4OCAyLjQ5NSAxNi42MjcgMi45NDYgMjYuNzgyIDAgNi43NS0xLjk1NSAxMy40\n",
    "MDYtNS44ODggMTMuNDA2LTEzLjYyNVY4Ni41SDU1LjUxM3YtMy40MDVIOTUuN2M3Ljc5MyAwIDEw\n",
    "LjY5Ni01LjQzNiAxMy40MDYtMTMuNTk0IDIuOC04LjM5OSAyLjY4LTE2LjQ3NiAwLTI3LjI1LTEu\n",
    "OTI1LTcuNzU4LTUuNjA0LTEzLjU5NC0xMy40MDYtMTMuNTk0ek03MC41NzUgOTMuMzEzYzIuNzgg\n",
    "MCA1LjAzMSAyLjI3OCA1LjAzMSA1LjA5NCAwIDIuODI3LTIuMjUxIDUuMTI1LTUuMDMxIDUuMTI1\n",
    "LTIuNzcgMC01LjAzMS0yLjI5OC01LjAzMS01LjEyNSAwLTIuODE2IDIuMjYxLTUuMDk0IDUuMDMx\n",
    "LTUuMDk0IiBzdHlsZT0iZmlsbDp1cmwoI2UpO2ZpbGwtb3BhY2l0eToxIi8+PGVsbGlwc2UgY3g9\n",
    "IjU1LjgxNyIgY3k9IjEyNy43MDEiIHJ4PSIzNS45MzEiIHJ5PSI2Ljk2NyIgc3R5bGU9Im9wYWNp\n",
    "dHk6LjQ0MzgyO2ZpbGw6dXJsKCNmKTtmaWxsLW9wYWNpdHk6MTtmaWxsLXJ1bGU6bm9uemVybztz\n",
    "dHJva2U6bm9uZTtzdHJva2Utd2lkdGg6MTUuNDE3NDtzdHJva2UtbWl0ZXJsaW1pdDo0O3N0cm9r\n",
    "ZS1kYXNoYXJyYXk6bm9uZTtzdHJva2Utb3BhY2l0eToxIi8+PC9zdmc+\n",
    "\"\n",
    "     style=\"display:block;margin:auto;width:10%\" alt=\"Python Logo\"/>\n",
    "<br>\n",
    "\n",
    "<div style=\"text-align:center; font-size:200%;\">\n",
    " <b>Einführung in Neuronale Netze (Teil 2)</b>\n",
    "</div>\n",
    "<br/>\n",
    "<div style=\"text-align:center;\">Dr. Matthias Hölzl</div>\n",
    "<br/>"
   ]
  },
  {
   "cell_type": "code",
   "execution_count": null,
   "id": "333f172f9bde3a98",
   "metadata": {
    "slideshow": {
     "slide_type": "subslide"
    },
    "tags": [
     "keep",
     "subslide"
    ]
   },
   "outputs": [],
   "source": [
    "import torch\n",
    "import torchvision\n",
    "import torchvision.transforms as transforms\n",
    "import torch.nn as nn\n",
    "import matplotlib.pyplot as plt\n",
    "from skorch import NeuralNetClassifier\n",
    "from llm_utils import plot_neuron_2d, evaluate_model"
   ]
  },
  {
   "cell_type": "markdown",
   "id": "64f7e2b60c77bcd1",
   "metadata": {
    "lang": "de",
    "slideshow": {
     "slide_type": "subslide"
    },
    "tags": [
     "subslide"
    ]
   },
   "source": [
    "## Neuronale Netze\n",
    "\n",
    "<img src=\"img/Figure-18-032.png\" style=\"width: 70%; margin-left: auto; margin-right: auto;\"/>"
   ]
  },
  {
   "cell_type": "code",
   "execution_count": null,
   "id": "32d38de9ed008b95",
   "metadata": {
    "slideshow": {
     "slide_type": "subslide"
    },
    "tags": [
     "subslide"
    ]
   },
   "outputs": [],
   "source": [
    "seq_model = nn.Sequential(\n",
    "    nn.Linear(2, 4), nn.ReLU(), nn.Linear(4, 3), nn.ReLU(), nn.Linear(3, 2)\n",
    ")"
   ]
  },
  {
   "cell_type": "code",
   "execution_count": null,
   "id": "cfebd610c8a747cf",
   "metadata": {},
   "outputs": [],
   "source": [
    "seq_model"
   ]
  },
  {
   "cell_type": "code",
   "execution_count": null,
   "id": "e8d4b87589f37364",
   "metadata": {},
   "outputs": [],
   "source": [
    "seq_model(torch.tensor([1.0, 2.0]))"
   ]
  },
  {
   "cell_type": "code",
   "execution_count": null,
   "id": "1ca27374e9dede26",
   "metadata": {
    "slideshow": {
     "slide_type": "subslide"
    },
    "tags": [
     "subslide"
    ]
   },
   "outputs": [],
   "source": [
    "class SimpleNet(nn.Module):\n",
    "    def __init__(self):\n",
    "        super().__init__()\n",
    "        self.linear1 = nn.Linear(2, 12)\n",
    "        self.linear2 = nn.Linear(12, 8)\n",
    "        self.linear3 = nn.Linear(8, 4)\n",
    "        self.linear4 = nn.Linear(4, 1)\n",
    "        self.activation_fun = nn.Tanh\n",
    "\n",
    "    def forward(self, x):\n",
    "        y = self.linear1(x)\n",
    "        y = self.activation_fun()(y)\n",
    "        y = self.linear2(y)\n",
    "        y = self.activation_fun()(y)\n",
    "        y = self.linear3(y)\n",
    "        y = self.activation_fun()(y)\n",
    "        y = self.linear4(y)\n",
    "        y = self.activation_fun()(y)\n",
    "        return y"
   ]
  },
  {
   "cell_type": "code",
   "execution_count": null,
   "id": "d6b159e8e5d7f182",
   "metadata": {},
   "outputs": [],
   "source": [
    "plot_neuron_2d(SimpleNet())"
   ]
  },
  {
   "cell_type": "markdown",
   "id": "18d8044470d36aa3",
   "metadata": {
    "lang": "de",
    "slideshow": {
     "slide_type": "subslide"
    },
    "tags": [
     "subslide"
    ]
   },
   "source": [
    "## Erinnerung: Training\n",
    "\n",
    "<br/>\n",
    "<img src=\"img/Figure-01-008.png\" style=\"width: 100%;\"/>"
   ]
  },
  {
   "cell_type": "markdown",
   "id": "ed50371bab76b989",
   "metadata": {
    "lang": "de",
    "slideshow": {
     "slide_type": "slide"
    },
    "tags": [
     "slide"
    ]
   },
   "source": [
    "## Training Neuraler Netze\n",
    "\n",
    "<img src=\"img/Figure-18-033.png\" style=\"width: 100%; margin-left: auto; margin-right: auto;\"/>"
   ]
  },
  {
   "cell_type": "markdown",
   "id": "2938315fa280550f",
   "metadata": {
    "slideshow": {
     "slide_type": "subslide"
    },
    "tags": [
     "subslide"
    ]
   },
   "source": [
    "\n",
    "<img src=\"img/Figure-18-034.png\" style=\"width: 40%; margin-left: auto; margin-right: auto;\"/>"
   ]
  },
  {
   "cell_type": "markdown",
   "id": "85d985651487e3ed",
   "metadata": {
    "slideshow": {
     "slide_type": "subslide"
    },
    "tags": [
     "subslide"
    ]
   },
   "source": [
    "\n",
    "<img src=\"img/Figure-18-035.png\" style=\"width: 100%; margin-left: auto; margin-right: auto;\"/>"
   ]
  },
  {
   "cell_type": "markdown",
   "id": "87a9cf89167e2a54",
   "metadata": {
    "slideshow": {
     "slide_type": "subslide"
    },
    "tags": [
     "subslide"
    ]
   },
   "source": [
    "\n",
    "<img src=\"img/Figure-18-036.png\" style=\"width: 50%; margin-left: auto; margin-right: auto;\"/>"
   ]
  },
  {
   "cell_type": "markdown",
   "id": "66ba052a0c23e2f9",
   "metadata": {
    "slideshow": {
     "slide_type": "subslide"
    },
    "tags": [
     "subslide"
    ]
   },
   "source": [
    "\n",
    "<img src=\"img/Figure-18-037.png\" style=\"width: 100%; margin-left: auto; margin-right: auto;\"/>"
   ]
  },
  {
   "cell_type": "markdown",
   "id": "cbd9a60a7950f90c",
   "metadata": {
    "lang": "de",
    "slideshow": {
     "slide_type": "subslide"
    },
    "tags": [
     "subslide"
    ]
   },
   "source": [
    "## Wie updaten wir die Parameter?\n",
    "\n",
    "<img src=\"img/Figure-05-012.png\" style=\"width: 35%; margin-left: auto; margin-right: auto;\"/>"
   ]
  },
  {
   "cell_type": "markdown",
   "id": "8596d1aa5f2f2177",
   "metadata": {
    "slideshow": {
     "slide_type": "subslide"
    },
    "tags": [
     "subslide"
    ]
   },
   "source": [
    "\n",
    "<img src=\"img/Figure-05-013.png\" style=\"width: 60%; margin-left: auto; margin-right: auto;\"/>"
   ]
  },
  {
   "cell_type": "markdown",
   "id": "191ae1ddc96bc973",
   "metadata": {
    "slideshow": {
     "slide_type": "slide"
    },
    "tags": [
     "slide"
    ]
   },
   "source": [
    "\n",
    "<img src=\"img/Figure-05-001.png\" style=\"float: left; width: 45%; margin-left: auto; margin-right: auto;\"/>\n",
    "<img src=\"img/Figure-05-005.png\" style=\"float: right; width: 45%; margin-left: auto; margin-right: auto;\"/>"
   ]
  },
  {
   "cell_type": "markdown",
   "id": "85a47fb77dff5123",
   "metadata": {
    "lang": "de",
    "slideshow": {
     "slide_type": "slide"
    },
    "tags": [
     "slide"
    ]
   },
   "source": [
    "# MNIST\n",
    "\n",
    "Im Folgenden wollen wir ein einfaches neuronales Netz auf dem MNIST-Datensatz\n",
    "trainieren."
   ]
  },
  {
   "cell_type": "markdown",
   "id": "c584b5338012603f",
   "metadata": {
    "lang": "de",
    "slideshow": {
     "slide_type": "subslide"
    },
    "tags": [
     "subslide"
    ]
   },
   "source": [
    "\n",
    "### Modell- und Trainings-Parameter\n",
    "\n",
    "Wir definieren einige Parameter für das Modell und das Training"
   ]
  },
  {
   "cell_type": "code",
   "execution_count": null,
   "id": "ffff0de028d7046c",
   "metadata": {
    "tags": [
     "keep"
    ]
   },
   "outputs": [],
   "source": [
    "INPUT_SIZE = 28 * 28\n",
    "NUM_CLASSES = 10\n",
    "BATCH_SIZE = 100\n",
    "DEVICE = \"cuda\" if torch.cuda.is_available() else \"cpu\""
   ]
  },
  {
   "cell_type": "code",
   "execution_count": null,
   "id": "f4475f18596420cc",
   "metadata": {},
   "outputs": [],
   "source": [
    "DEVICE"
   ]
  },
  {
   "cell_type": "markdown",
   "id": "20c09ce66bdd17e2",
   "metadata": {
    "lang": "de",
    "slideshow": {
     "slide_type": "subslide"
    },
    "tags": [
     "subslide"
    ]
   },
   "source": [
    "\n",
    "### Vorbereiten des Datasets\n",
    "\n",
    "- Um den MNIST-Datensatz zu verwenden, müssen wir ihn zuerst herunterladen\n",
    "- Das machen wir mit `torchvision.datasets.MNIST`\n",
    "- Dabei geben wir auch Transformationen an, die auf die Bilder angewendet\n",
    "  werden\n",
    "- In diesem Fall verwenden wir `transforms.Resize` und `transforms.ToTensor`\n",
    "  - `transforms.Resize` ändert die Größe der Bilder auf 28x28 Pixel\n",
    "  - `transforms.ToTensor` wandelt die Bilder in Tensoren um\n",
    "- Wir könnten noch weitere Transformationen hinzufügen"
   ]
  },
  {
   "cell_type": "code",
   "execution_count": null,
   "id": "b83c1b9327371ce7",
   "metadata": {
    "lines_to_next_cell": 2,
    "slideshow": {
     "slide_type": "subslide"
    },
    "tags": [
     "subslide",
     "keep"
    ]
   },
   "outputs": [],
   "source": [
    "mnist_transforms = transforms.Compose(\n",
    "    [transforms.Resize((28, 28)), transforms.ToTensor()]\n",
    ")"
   ]
  },
  {
   "cell_type": "code",
   "execution_count": null,
   "id": "dcc6d011758d4d2d",
   "metadata": {
    "tags": [
     "keep"
    ]
   },
   "outputs": [],
   "source": [
    "augmented_transforms = transforms.Compose(\n",
    "    [transforms.Resize((28, 28)), transforms.ToTensor(), transforms.RandomRotation(25)]\n",
    ")"
   ]
  },
  {
   "cell_type": "code",
   "execution_count": null,
   "id": "178a6f7784720546",
   "metadata": {
    "slideshow": {
     "slide_type": "subslide"
    },
    "tags": [
     "subslide"
    ]
   },
   "outputs": [],
   "source": [
    "train_dataset = torchvision.datasets.MNIST(\n",
    "    root=\"./localdata\", train=True, transform=mnist_transforms, download=True\n",
    ")"
   ]
  },
  {
   "cell_type": "code",
   "execution_count": null,
   "id": "56789815538701ce",
   "metadata": {},
   "outputs": [],
   "source": [
    "augmented_train_dataset = torchvision.datasets.MNIST(\n",
    "    root=\"./localdata\", train=True, transform=augmented_transforms, download=True\n",
    ")"
   ]
  },
  {
   "cell_type": "code",
   "execution_count": null,
   "id": "e39f578f6d2b7da7",
   "metadata": {},
   "outputs": [],
   "source": [
    "test_dataset = torchvision.datasets.MNIST(\n",
    "    root=\"./localdata\", train=False, transform=mnist_transforms, download=True\n",
    ")"
   ]
  },
  {
   "cell_type": "code",
   "execution_count": null,
   "id": "1b903c27504f4d12",
   "metadata": {
    "slideshow": {
     "slide_type": "subslide"
    },
    "tags": [
     "subslide"
    ]
   },
   "outputs": [],
   "source": [
    "type(train_dataset)"
   ]
  },
  {
   "cell_type": "code",
   "execution_count": null,
   "id": "3c252a2163ceeff2",
   "metadata": {},
   "outputs": [],
   "source": [
    "len(train_dataset)"
   ]
  },
  {
   "cell_type": "code",
   "execution_count": null,
   "id": "5adef1ad8efd1313",
   "metadata": {},
   "outputs": [],
   "source": [
    "type(train_dataset[0])"
   ]
  },
  {
   "cell_type": "code",
   "execution_count": null,
   "id": "623ef98b5c704545",
   "metadata": {},
   "outputs": [],
   "source": [
    "x, y = train_dataset[0]\n",
    "x.shape, x.min(), x.max(), y"
   ]
  },
  {
   "cell_type": "code",
   "execution_count": null,
   "id": "19c9bf6253136fae",
   "metadata": {},
   "outputs": [],
   "source": [
    "x[0, 12:18, 12:18]"
   ]
  },
  {
   "cell_type": "markdown",
   "id": "5deafd941b106732",
   "metadata": {
    "lang": "de",
    "slideshow": {
     "slide_type": "subslide"
    },
    "tags": [
     "subslide"
    ]
   },
   "source": [
    "\n",
    "Erzeugen eines Loaders aus dem Dataset\n",
    "- Ein Torch `DataLoader` ist ein Iterator, der das Dataset in Batches aufteilt\n",
    "- Erzeugt Batches von `batch_size` Elementen\n",
    "- `shuffle=True` mischt die Daten\n",
    "- `shuffle=False` gibt die Daten in der Reihenfolge zurück, wie sie im Dataset sind"
   ]
  },
  {
   "cell_type": "code",
   "execution_count": null,
   "id": "3e7170e7751686c3",
   "metadata": {},
   "outputs": [],
   "source": [
    "train_loader = torch.utils.data.DataLoader(\n",
    "    dataset=train_dataset, batch_size=BATCH_SIZE, shuffle=True\n",
    ")"
   ]
  },
  {
   "cell_type": "code",
   "execution_count": null,
   "id": "7a43986695887f75",
   "metadata": {},
   "outputs": [],
   "source": [
    "augmented_train_loader = torch.utils.data.DataLoader(\n",
    "    dataset=augmented_train_dataset, batch_size=BATCH_SIZE, shuffle=True\n",
    ")"
   ]
  },
  {
   "cell_type": "code",
   "execution_count": null,
   "id": "0c52343e8c90ee81",
   "metadata": {
    "lines_to_next_cell": 2
   },
   "outputs": [],
   "source": [
    "test_loader = torch.utils.data.DataLoader(\n",
    "    dataset=test_dataset, batch_size=BATCH_SIZE, shuffle=False\n",
    ")"
   ]
  },
  {
   "cell_type": "code",
   "execution_count": null,
   "id": "a24d4a3ff99417f9",
   "metadata": {
    "slideshow": {
     "slide_type": "subslide"
    },
    "tags": [
     "subslide",
     "keep"
    ]
   },
   "outputs": [],
   "source": [
    "import torch.nn.functional as F"
   ]
  },
  {
   "cell_type": "code",
   "execution_count": null,
   "id": "e20d007f6da92c73",
   "metadata": {
    "lines_to_next_cell": 2,
    "tags": [
     "keep"
    ]
   },
   "outputs": [],
   "source": [
    "LEARNING_RATE = 0.1\n",
    "DROPOUT = 0.5\n",
    "NUM_EPOCHS = 10"
   ]
  },
  {
   "cell_type": "markdown",
   "id": "e8a71e116985a7cd",
   "metadata": {
    "lang": "de",
    "slideshow": {
     "slide_type": "subslide"
    },
    "tags": [
     "subslide"
    ]
   },
   "source": [
    "\n",
    "### Definieren des Modells\n",
    "\n",
    "Wir definieren ein einfaches neuronales Netz mit einer einzigen versteckten\n",
    "Schicht\n",
    "\n",
    "- `hidden_size` ist die Anzahl der Neuronen in der versteckten Schicht\n",
    "- `dropout` ist die Dropout-Rate"
   ]
  },
  {
   "cell_type": "code",
   "execution_count": null,
   "id": "119ab15d7a3c700c",
   "metadata": {
    "lines_to_next_cell": 2
   },
   "outputs": [],
   "source": [
    "class MnistModule(nn.Module):\n",
    "    def __init__(self, hidden_size, dropout=DROPOUT):\n",
    "        super().__init__()\n",
    "        self.dropout = dropout\n",
    "        self.hidden = nn.Linear(INPUT_SIZE, hidden_size)\n",
    "        self.out = nn.Linear(hidden_size, NUM_CLASSES)\n",
    "\n",
    "    def forward(self, X, **kwargs):\n",
    "        y = self.hidden(X)\n",
    "        y = F.relu(y)\n",
    "        y = F.dropout(y, p=self.dropout, training=self.training)\n",
    "        y = self.out(y)\n",
    "        y = F.softmax(y, dim=-1)\n",
    "        return y"
   ]
  },
  {
   "cell_type": "markdown",
   "id": "815d0aed276a41d1",
   "metadata": {
    "lang": "de",
    "slideshow": {
     "slide_type": "subslide"
    },
    "tags": [
     "subslide"
    ]
   },
   "source": [
    "\n",
    "### Definieren des Skorch-Modells\n",
    "\n",
    "Wir definieren ein Skorch-Modell, das die oben definierte Klasse verwendet\n",
    "- `NeuralNetClassifier` ist das Torch-Modell\n",
    "- Mit `module___...` können wir die Parameter des Modells setzen\n",
    "- `max_epochs` ist die Anzahl der Epochen\n",
    "- `lr` ist die Lernrate\n",
    "- `device` ist das Gerät, auf dem das Modell trainiert wird"
   ]
  },
  {
   "cell_type": "code",
   "execution_count": null,
   "id": "8e6f9913b14586b1",
   "metadata": {
    "lines_to_next_cell": 2,
    "slideshow": {
     "slide_type": "subslide"
    },
    "tags": [
     "keep",
     "subslide"
    ]
   },
   "outputs": [],
   "source": [
    "def create_skorch_model(hidden_size, epochs=NUM_EPOCHS, dropout=DROPOUT):\n",
    "    model = NeuralNetClassifier(\n",
    "        MnistModule,\n",
    "        module__hidden_size=hidden_size,\n",
    "        module__dropout=dropout,\n",
    "        max_epochs=epochs,\n",
    "        lr=LEARNING_RATE,\n",
    "        device=\"cuda\" if torch.cuda.is_available() else \"cpu\",\n",
    "    )\n",
    "    return model"
   ]
  },
  {
   "cell_type": "markdown",
   "id": "bc28fba72e91e8a6",
   "metadata": {
    "lang": "de",
    "slideshow": {
     "slide_type": "subslide"
    },
    "tags": [
     "subslide"
    ]
   },
   "source": [
    "\n",
    "### Training des Modells\n",
    "\n",
    "- Wir verwenden die `fit`-Methode von Skorch, um das Modell zu trainieren\n",
    "- Da Skorch an Scikit-Learn angelehnt ist, verwenden wir nicht die\n",
    "  PyTorch Data Loader, sondern übergeben die Daten direkt als Tensoren\n",
    "- Mit `fit` wird das Modell trainiert und die Trainings- und\n",
    "  Validierungsverluste werden gespeichert"
   ]
  },
  {
   "cell_type": "code",
   "execution_count": null,
   "id": "8d94495b8f7d270f",
   "metadata": {
    "slideshow": {
     "slide_type": "subslide"
    },
    "tags": [
     "subslide"
    ]
   },
   "outputs": [],
   "source": [
    "model = create_skorch_model(64, dropout=0.25)"
   ]
  },
  {
   "cell_type": "code",
   "execution_count": null,
   "id": "2a93f088ced3a42b",
   "metadata": {},
   "outputs": [],
   "source": [
    "X_train = train_dataset.data.reshape(-1, INPUT_SIZE) / 255.0\n",
    "y_train = train_dataset.targets"
   ]
  },
  {
   "cell_type": "code",
   "execution_count": null,
   "id": "4d9d4db25ce78500",
   "metadata": {},
   "outputs": [],
   "source": [
    "type(X_train), type(y_train), X_train.shape, y_train.shape"
   ]
  },
  {
   "cell_type": "code",
   "execution_count": null,
   "id": "15fa1d6997a5ba31",
   "metadata": {
    "lines_to_next_cell": 2
   },
   "outputs": [],
   "source": [
    "X_test = test_dataset.data.reshape(-1, INPUT_SIZE) / 255.0\n",
    "y_test = test_dataset.targets"
   ]
  },
  {
   "cell_type": "code",
   "execution_count": null,
   "id": "79ee122b608bc3d3",
   "metadata": {},
   "outputs": [],
   "source": [
    "model.fit(X_train, y_train)"
   ]
  },
  {
   "cell_type": "code",
   "execution_count": null,
   "id": "1d402b5925ba2fb3",
   "metadata": {
    "slideshow": {
     "slide_type": "subslide"
    },
    "tags": [
     "keep",
     "subslide"
    ]
   },
   "outputs": [],
   "source": [
    "def fit_and_evaluate_model(hidden_size, num_epochs=NUM_EPOCHS, dropout=DROPOUT, X_train=X_train, y_train=y_train):\n",
    "    model = create_skorch_model(hidden_size, num_epochs, dropout)\n",
    "    model.fit(X_train, y_train)\n",
    "    evaluate_model(model, X_test, y_test)\n",
    "    return model"
   ]
  },
  {
   "cell_type": "code",
   "execution_count": null,
   "id": "9b26b308a6ab37b4",
   "metadata": {
    "slideshow": {
     "slide_type": "subslide"
    },
    "tags": [
     "subslide"
    ]
   },
   "outputs": [],
   "source": [
    "fit_and_evaluate_model(32, 20, dropout=0.1)"
   ]
  },
  {
   "cell_type": "code",
   "execution_count": null,
   "id": "b950944fe2215910",
   "metadata": {
    "slideshow": {
     "slide_type": "subslide"
    },
    "tags": [
     "subslide"
    ]
   },
   "outputs": [],
   "source": [
    "fit_and_evaluate_model(128, 40)"
   ]
  },
  {
   "cell_type": "code",
   "execution_count": null,
   "id": "024d1f5c689adef5",
   "metadata": {
    "slideshow": {
     "slide_type": "subslide"
    },
    "tags": [
     "subslide"
    ]
   },
   "outputs": [],
   "source": [
    "fit_and_evaluate_model(1024, 400, dropout=0.0, X_train=X_train[:1000], y_train=y_train[:1000])"
   ]
  },
  {
   "cell_type": "code",
   "execution_count": null,
   "id": "e54742b58265ae7e",
   "metadata": {
    "slideshow": {
     "slide_type": "subslide"
    },
    "tags": [
     "subslide"
    ]
   },
   "outputs": [],
   "source": [
    "fit_and_evaluate_model(512, 100)"
   ]
  },
  {
   "cell_type": "code",
   "execution_count": null,
   "id": "6b4e03423667dbb7",
   "metadata": {},
   "outputs": [],
   "source": []
  }
 ],
 "metadata": {
  "jupytext": {
   "cell_metadata_filter": "tags,lang,-all",
   "main_language": "python",
   "notebook_metadata_filter": "-all"
  },
  "kernelspec": {
   "display_name": "Python 3 (ipykernel)",
   "language": "python",
   "name": "python3"
  },
  "language_info": {
   "codemirror_mode": {
    "name": "ipython",
    "version": 3
   },
   "file_extension": ".py",
   "mimetype": "text/x-python",
   "name": "python",
   "nbconvert_exporter": "python",
   "pygments_lexer": "ipython3"
  }
 },
 "nbformat": 4,
 "nbformat_minor": 5
}
