{
 "cells": [
  {
   "cell_type": "code",
   "execution_count": null,
   "id": "6b4e03423667dbb7",
   "metadata": {
    "lines_to_next_cell": 0
   },
   "outputs": [],
   "source": []
  },
  {
   "cell_type": "markdown",
   "id": "7d686316ea6f4417",
   "metadata": {
    "lang": "de",
    "slideshow": {
     "slide_type": "slide"
    },
    "tags": [
     "slide"
    ]
   },
   "source": [
    "\n",
    "<img src=\"data:image/svg+xml;base64,PHN2ZyB4bWxucz0iaHR0cDovL3d3dy53My5vcmcvMjAwMC9zdmciIHhtbG5zOnhsaW5rPSJodHRw\n",
    "Oi8vd3d3LnczLm9yZy8xOTk5L3hsaW5rIiB3aWR0aD0iMTExLjE2MSIgaGVpZ2h0PSIxMzQuNjY4\n",
    "IiB2ZXJzaW9uPSIxLjAiPjxkZWZzPjxsaW5lYXJHcmFkaWVudCBpZD0iYyI+PHN0b3Agb2Zmc2V0\n",
    "PSIwIiBzdHlsZT0ic3RvcC1jb2xvcjojYjhiOGI4O3N0b3Atb3BhY2l0eTouNDk4MDM5MjIiLz48\n",
    "c3RvcCBvZmZzZXQ9IjEiIHN0eWxlPSJzdG9wLWNvbG9yOiM3ZjdmN2Y7c3RvcC1vcGFjaXR5OjAi\n",
    "Lz48L2xpbmVhckdyYWRpZW50PjxsaW5lYXJHcmFkaWVudCBpZD0iYSI+PHN0b3Agb2Zmc2V0PSIw\n",
    "IiBzdHlsZT0ic3RvcC1jb2xvcjojZmZkNDNiO3N0b3Atb3BhY2l0eToxIi8+PHN0b3Agb2Zmc2V0\n",
    "PSIxIiBzdHlsZT0ic3RvcC1jb2xvcjojZmZlODczO3N0b3Atb3BhY2l0eToxIi8+PC9saW5lYXJH\n",
    "cmFkaWVudD48bGluZWFyR3JhZGllbnQgaWQ9ImIiPjxzdG9wIG9mZnNldD0iMCIgc3R5bGU9InN0\n",
    "b3AtY29sb3I6IzVhOWZkNDtzdG9wLW9wYWNpdHk6MSIvPjxzdG9wIG9mZnNldD0iMSIgc3R5bGU9\n",
    "InN0b3AtY29sb3I6IzMwNjk5ODtzdG9wLW9wYWNpdHk6MSIvPjwvbGluZWFyR3JhZGllbnQ+PGxp\n",
    "bmVhckdyYWRpZW50IHhsaW5rOmhyZWY9IiNhIiBpZD0iZSIgeDE9IjE1MC45NjEiIHgyPSIxMTIu\n",
    "MDMxIiB5MT0iMTkyLjM1MiIgeTI9IjEzNy4yNzMiIGdyYWRpZW50VHJhbnNmb3JtPSJtYXRyaXgo\n",
    "LjU2MjU0IDAgMCAuNTY3OTcgLTE0Ljk5MSAtMTEuNzAyKSIgZ3JhZGllbnRVbml0cz0idXNlclNw\n",
    "YWNlT25Vc2UiLz48bGluZWFyR3JhZGllbnQgeGxpbms6aHJlZj0iI2IiIGlkPSJkIiB4MT0iMjYu\n",
    "NjQ5IiB4Mj0iMTM1LjY2NSIgeTE9IjIwLjYwNCIgeTI9IjExNC4zOTgiIGdyYWRpZW50VHJhbnNm\n",
    "b3JtPSJtYXRyaXgoLjU2MjU0IDAgMCAuNTY3OTcgLTE0Ljk5MSAtMTEuNzAyKSIgZ3JhZGllbnRV\n",
    "bml0cz0idXNlclNwYWNlT25Vc2UiLz48cmFkaWFsR3JhZGllbnQgeGxpbms6aHJlZj0iI2MiIGlk\n",
    "PSJmIiBjeD0iNjEuNTE5IiBjeT0iMTMyLjI4NiIgcj0iMjkuMDM3IiBmeD0iNjEuNTE5IiBmeT0i\n",
    "MTMyLjI4NiIgZ3JhZGllbnRUcmFuc2Zvcm09Im1hdHJpeCgwIC0uMjM5OTUgMS4wNTQ2NyAwIC04\n",
    "My43IDE0Mi40NjIpIiBncmFkaWVudFVuaXRzPSJ1c2VyU3BhY2VPblVzZSIvPjwvZGVmcz48cGF0\n",
    "aCBkPSJNNTQuOTE5IDBjLTQuNTg0LjAyMi04Ljk2MS40MTMtMTIuODEzIDEuMDk1QzMwLjc2IDMu\n",
    "MDk5IDI4LjcgNy4yOTUgMjguNyAxNS4wMzJ2MTAuMjE5aDI2LjgxM3YzLjQwNkgxOC42MzhjLTcu\n",
    "NzkzIDAtMTQuNjE2IDQuNjg0LTE2Ljc1IDEzLjU5NC0yLjQ2MiAxMC4yMTMtMi41NzEgMTYuNTg2\n",
    "IDAgMjcuMjUgMS45MDUgNy45MzggNi40NTcgMTMuNTk0IDE0LjI1IDEzLjU5NGg5LjIxOHYtMTIu\n",
    "MjVjMC04Ljg1IDcuNjU3LTE2LjY1NyAxNi43NS0xNi42NTdoMjYuNzgyYzcuNDU0IDAgMTMuNDA2\n",
    "LTYuMTM4IDEzLjQwNi0xMy42MjV2LTI1LjUzYzAtNy4yNjctNi4xMy0xMi43MjYtMTMuNDA2LTEz\n",
    "LjkzOEM2NC4yODIuMzI4IDU5LjUwMi0uMDIgNTQuOTE4IDBtLTE0LjUgOC4yMmMyLjc3IDAgNS4w\n",
    "MzEgMi4yOTggNS4wMzEgNS4xMjUgMCAyLjgxNi0yLjI2MiA1LjA5My01LjAzMSA1LjA5My0yLjc4\n",
    "IDAtNS4wMzEtMi4yNzctNS4wMzEtNS4wOTMgMC0yLjgyNyAyLjI1MS01LjEyNSA1LjAzLTUuMTI1\n",
    "IiBzdHlsZT0iZmlsbDp1cmwoI2QpO2ZpbGwtb3BhY2l0eToxIi8+PHBhdGggZD0iTTg1LjYzOCAy\n",
    "OC42NTd2MTEuOTA2YzAgOS4yMzEtNy44MjYgMTctMTYuNzUgMTdINDIuMTA2Yy03LjMzNiAwLTEz\n",
    "LjQwNiA2LjI3OS0xMy40MDYgMTMuNjI1Vjk2LjcyYzAgNy4yNjYgNi4zMTkgMTEuNTQgMTMuNDA2\n",
    "IDEzLjYyNSA4LjQ4OCAyLjQ5NSAxNi42MjcgMi45NDYgMjYuNzgyIDAgNi43NS0xLjk1NSAxMy40\n",
    "MDYtNS44ODggMTMuNDA2LTEzLjYyNVY4Ni41SDU1LjUxM3YtMy40MDVIOTUuN2M3Ljc5MyAwIDEw\n",
    "LjY5Ni01LjQzNiAxMy40MDYtMTMuNTk0IDIuOC04LjM5OSAyLjY4LTE2LjQ3NiAwLTI3LjI1LTEu\n",
    "OTI1LTcuNzU4LTUuNjA0LTEzLjU5NC0xMy40MDYtMTMuNTk0ek03MC41NzUgOTMuMzEzYzIuNzgg\n",
    "MCA1LjAzMSAyLjI3OCA1LjAzMSA1LjA5NCAwIDIuODI3LTIuMjUxIDUuMTI1LTUuMDMxIDUuMTI1\n",
    "LTIuNzcgMC01LjAzMS0yLjI5OC01LjAzMS01LjEyNSAwLTIuODE2IDIuMjYxLTUuMDk0IDUuMDMx\n",
    "LTUuMDk0IiBzdHlsZT0iZmlsbDp1cmwoI2UpO2ZpbGwtb3BhY2l0eToxIi8+PGVsbGlwc2UgY3g9\n",
    "IjU1LjgxNyIgY3k9IjEyNy43MDEiIHJ4PSIzNS45MzEiIHJ5PSI2Ljk2NyIgc3R5bGU9Im9wYWNp\n",
    "dHk6LjQ0MzgyO2ZpbGw6dXJsKCNmKTtmaWxsLW9wYWNpdHk6MTtmaWxsLXJ1bGU6bm9uemVybztz\n",
    "dHJva2U6bm9uZTtzdHJva2Utd2lkdGg6MTUuNDE3NDtzdHJva2UtbWl0ZXJsaW1pdDo0O3N0cm9r\n",
    "ZS1kYXNoYXJyYXk6bm9uZTtzdHJva2Utb3BhY2l0eToxIi8+PC9zdmc+\n",
    "\"\n",
    "     style=\"display:block;margin:auto;width:10%\" alt=\"Python Logo\"/>\n",
    "<br>\n",
    "\n",
    "<div style=\"text-align:center; font-size:200%;\">\n",
    " <b>Einführung in Neuronale Netze</b>\n",
    "</div>\n",
    "<br/>\n",
    "<div style=\"text-align:center;\">Dr. Matthias Hölzl</div>\n",
    "<br/>"
   ]
  },
  {
   "cell_type": "markdown",
   "id": "1f2556fa2353f4b3",
   "metadata": {
    "lang": "de",
    "slideshow": {
     "slide_type": "subslide"
    },
    "tags": [
     "subslide"
    ]
   },
   "source": [
    "<img src=\"img/Figure-01-021.png\" style=\"float: center; width: 30%; margin-left: auto; margin-right: auto;\"/>"
   ]
  },
  {
   "cell_type": "markdown",
   "id": "8486bcc49e2355d8",
   "metadata": {
    "lang": "de",
    "slideshow": {
     "slide_type": "subslide"
    },
    "tags": [
     "subslide"
    ]
   },
   "source": [
    "## Neuronen\n",
    "\n",
    "<img src=\"img/Figure-10-001.png\" style=\"width: 80%; margin-left: auto; margin-right: auto;\"/>"
   ]
  },
  {
   "cell_type": "markdown",
   "id": "6e8cd220597795ae",
   "metadata": {
    "lang": "de",
    "slideshow": {
     "slide_type": "subslide"
    },
    "tags": [
     "subslide"
    ]
   },
   "source": [
    "## Künstliche Neuronen\n",
    "\n",
    "<img src=\"img/Figure-10-006.png\" style=\"width: 60%; margin-left: auto; margin-right: auto;\"/>"
   ]
  },
  {
   "cell_type": "markdown",
   "id": "096e3f5ca56ab61b",
   "metadata": {
    "lang": "de",
    "slideshow": {
     "slide_type": "subslide"
    },
    "tags": [
     "subslide"
    ]
   },
   "source": [
    "## Künstliche Neuronen\n",
    "\n",
    "<img src=\"img/Figure-10-004.png\" style=\"width: 30%; margin-left: auto; margin-right: auto;\"/>"
   ]
  },
  {
   "cell_type": "markdown",
   "id": "6c9c49e4449aa624",
   "metadata": {
    "lang": "de",
    "slideshow": {
     "slide_type": "subslide"
    },
    "tags": [
     "subslide"
    ]
   },
   "source": [
    "## Lineare Modelle"
   ]
  },
  {
   "cell_type": "code",
   "execution_count": null,
   "id": "d318bb1bdd91b1cf",
   "metadata": {
    "tags": [
     "keep"
    ]
   },
   "outputs": [],
   "source": [
    "import torch\n",
    "import torch.nn as nn\n",
    "import numpy as np\n",
    "import matplotlib.pyplot as plt\n",
    "from mpl_toolkits.mplot3d import Axes3D\n",
    "from skorch import NeuralNetClassifier\n",
    "from skorch.callbacks import EpochScoring"
   ]
  },
  {
   "cell_type": "code",
   "execution_count": null,
   "id": "056aeb1df6fc3d32",
   "metadata": {
    "lines_to_next_cell": 1,
    "tags": [
     "keep"
    ]
   },
   "outputs": [],
   "source": [
    "def linear_model(x):\n",
    "    return 2 * x + 1"
   ]
  },
  {
   "cell_type": "code",
   "execution_count": null,
   "id": "5de42b1b27d89f93",
   "metadata": {
    "tags": [
     "keep"
    ]
   },
   "outputs": [],
   "source": [
    "linear_model(3)"
   ]
  },
  {
   "cell_type": "code",
   "execution_count": null,
   "id": "8f321accac31a228",
   "metadata": {
    "lines_to_next_cell": 2,
    "tags": [
     "keep"
    ]
   },
   "outputs": [],
   "source": [
    "linear_model(torch.tensor([1.0, 2.0, 3.0]))"
   ]
  },
  {
   "cell_type": "code",
   "execution_count": null,
   "id": "772907cdde60c4a0",
   "metadata": {},
   "outputs": [],
   "source": [
    "torch.linspace(-2, 2, 5)"
   ]
  },
  {
   "cell_type": "code",
   "execution_count": null,
   "id": "edd8d17399d3711c",
   "metadata": {},
   "outputs": [],
   "source": [
    "torch.linspace(-2, 1, 7)"
   ]
  },
  {
   "cell_type": "code",
   "execution_count": null,
   "id": "12f9353665a282d5",
   "metadata": {
    "slideshow": {
     "slide_type": "subslide"
    },
    "tags": [
     "keep",
     "subslide"
    ]
   },
   "outputs": [],
   "source": [
    "x = torch.linspace(-6, 6, 100)"
   ]
  },
  {
   "cell_type": "code",
   "execution_count": null,
   "id": "481a0d0059f74e86",
   "metadata": {},
   "outputs": [],
   "source": [
    "x[0], x[-1]"
   ]
  },
  {
   "cell_type": "code",
   "execution_count": null,
   "id": "4550b9a371b79fdc",
   "metadata": {},
   "outputs": [],
   "source": [
    "x[:1]"
   ]
  },
  {
   "cell_type": "code",
   "execution_count": null,
   "id": "2472de0ee8bab5a3",
   "metadata": {
    "tags": [
     "keep"
    ]
   },
   "outputs": [],
   "source": [
    "plt.plot(x, linear_model(x));"
   ]
  },
  {
   "cell_type": "code",
   "execution_count": null,
   "id": "bd2165b80529a6c9",
   "metadata": {},
   "outputs": [],
   "source": [
    "lin = nn.Linear(1, 1)"
   ]
  },
  {
   "cell_type": "code",
   "execution_count": null,
   "id": "7984f3a8f616c011",
   "metadata": {},
   "outputs": [],
   "source": [
    "lin"
   ]
  },
  {
   "cell_type": "code",
   "execution_count": null,
   "id": "91b86e67b82f660a",
   "metadata": {},
   "outputs": [],
   "source": [
    "lin.bias"
   ]
  },
  {
   "cell_type": "code",
   "execution_count": null,
   "id": "134ef4b190ff30d2",
   "metadata": {},
   "outputs": [],
   "source": [
    "lin.weight"
   ]
  },
  {
   "cell_type": "code",
   "execution_count": null,
   "id": "6594d9f24fb3b23f",
   "metadata": {},
   "outputs": [],
   "source": [
    "lin(x[:1])"
   ]
  },
  {
   "cell_type": "code",
   "execution_count": null,
   "id": "5e735cf0a161f8d3",
   "metadata": {},
   "outputs": [],
   "source": [
    "lin(x.view(100, 1))[:4]"
   ]
  },
  {
   "cell_type": "code",
   "execution_count": null,
   "id": "0406ba8935fddcac",
   "metadata": {
    "slideshow": {
     "slide_type": "subslide"
    },
    "tags": [
     "keep",
     "subslide"
    ]
   },
   "outputs": [],
   "source": [
    "plt.figure()\n",
    "plt.plot(x, lin(x.view(100, 1)).detach());"
   ]
  },
  {
   "cell_type": "code",
   "execution_count": null,
   "id": "f09244369fe2d836",
   "metadata": {},
   "outputs": [],
   "source": [
    "nn.Linear(1, 1).weight"
   ]
  },
  {
   "cell_type": "markdown",
   "id": "c3199b64eb16db26",
   "metadata": {
    "lang": "de",
    "slideshow": {
     "slide_type": "slide"
    },
    "tags": [
     "slide"
    ]
   },
   "source": [
    "## Aktivierungsfunktionen"
   ]
  },
  {
   "cell_type": "code",
   "execution_count": null,
   "id": "032b37c251aa888e",
   "metadata": {
    "slideshow": {
     "slide_type": "subslide"
    },
    "tags": [
     "keep",
     "subslide"
    ]
   },
   "outputs": [],
   "source": [
    "plt.figure(figsize=(10, 12))\n",
    "plt.subplot(3, 2, 1)\n",
    "plt.plot(x, nn.Sigmoid()(x))\n",
    "plt.subplot(3, 2, 2)\n",
    "plt.plot(x, nn.Tanh()(x))\n",
    "plt.subplot(3, 2, 3)\n",
    "plt.plot(x, nn.ReLU()(x))\n",
    "plt.subplot(3, 2, 4)\n",
    "plt.plot(x, - nn.ReLU()(x + 2))\n",
    "plt.subplot(3, 2, 5)\n",
    "plt.plot(x, nn.ReLU()(x) - nn.ReLU()(x + 2))\n",
    "plt.subplot(3, 2, 6)\n",
    "plt.plot(x, nn.Tanh()(x) - 1.5 * nn.Tanh()(x - 2));\n",
    "plt.show()"
   ]
  },
  {
   "cell_type": "code",
   "execution_count": null,
   "id": "1e7f5aa8f57053ce",
   "metadata": {},
   "outputs": [],
   "source": [
    "def neuron1(x):\n",
    "    return nn.Tanh()(nn.Linear(1, 1)(x))"
   ]
  },
  {
   "cell_type": "code",
   "execution_count": null,
   "id": "9c7efa5f9a270947",
   "metadata": {},
   "outputs": [],
   "source": [
    "plt.figure()\n",
    "plt.plot(x, neuron1(x.view(100, 1)).detach());"
   ]
  },
  {
   "cell_type": "code",
   "execution_count": null,
   "id": "61cde64ba33dbc36",
   "metadata": {},
   "outputs": [],
   "source": [
    "def neuron2(xy):\n",
    "    return nn.Tanh()(nn.Linear(2, 1)(xy))"
   ]
  },
  {
   "cell_type": "code",
   "execution_count": null,
   "id": "389fac18cef146a3",
   "metadata": {},
   "outputs": [],
   "source": [
    "def plot_neuron_2d(neuron):\n",
    "    # Create a grid of input points\n",
    "    x = np.linspace(-5, 5, 100)\n",
    "    y = np.linspace(-5, 5, 100)\n",
    "    X, Y = np.meshgrid(x, y)\n",
    "\n",
    "    # Prepare input for the neuron\n",
    "    xy = torch.tensor(np.column_stack((X.ravel(), Y.ravel())), dtype=torch.float32)\n",
    "\n",
    "    # Pass the input through the neuron\n",
    "    with torch.no_grad():\n",
    "        Z = neuron(xy).numpy().reshape(X.shape)\n",
    "\n",
    "    # Create the 3D plot\n",
    "    fig = plt.figure(figsize=(6, 6))\n",
    "    ax = fig.add_subplot(111, projection='3d')\n",
    "\n",
    "    # Plot the surface\n",
    "    surf = ax.plot_surface(X, Y, Z, cmap='viridis')\n",
    "\n",
    "    # Add a color bar\n",
    "    # fig.colorbar(surf, shrink=0.5, aspect=5)\n",
    "\n",
    "    # Set labels and title\n",
    "    ax.set_xlabel('X')\n",
    "    ax.set_ylabel('Y')\n",
    "    ax.set_zlabel('Activation')\n",
    "    ax.set_title('2D Neuron Activation')\n",
    "\n",
    "    # Enable rotation\n",
    "    ax.mouse_init()\n",
    "\n",
    "    # Adjust the view angle for better initial visualization\n",
    "    ax.view_init(elev=20, azim=45)\n",
    "\n",
    "    # Tight layout to ensure everything fits\n",
    "    plt.tight_layout()\n",
    "\n",
    "    # Show the plot\n",
    "    plt.show()\n",
    "\n"
   ]
  },
  {
   "cell_type": "code",
   "execution_count": null,
   "id": "5f90f3387bafd89a",
   "metadata": {},
   "outputs": [],
   "source": [
    "plot_neuron_2d(neuron2)"
   ]
  },
  {
   "cell_type": "code",
   "execution_count": null,
   "id": "780b2a1e261b7a58",
   "metadata": {},
   "outputs": [],
   "source": [
    "# Define the neuron\n",
    "class Neuron2D(nn.Module):\n",
    "    def __init__(self):\n",
    "        super().__init__()\n",
    "        self.linear = nn.Linear(2, 1)\n",
    "        self.activation = nn.Tanh()\n",
    "\n",
    "    def forward(self, xy):\n",
    "        return self.activation(self.linear(xy))"
   ]
  },
  {
   "cell_type": "code",
   "execution_count": null,
   "id": "2b808fab99822aa1",
   "metadata": {},
   "outputs": [],
   "source": [
    "plot_neuron_2d(Neuron2D())"
   ]
  },
  {
   "cell_type": "markdown",
   "id": "64f7e2b60c77bcd1",
   "metadata": {
    "lang": "de",
    "slideshow": {
     "slide_type": "subslide"
    },
    "tags": [
     "subslide"
    ]
   },
   "source": [
    "## Neuronale Netze\n",
    "\n",
    "<img src=\"img/Figure-18-032.png\" style=\"width: 70%; margin-left: auto; margin-right: auto;\"/>"
   ]
  },
  {
   "cell_type": "code",
   "execution_count": null,
   "id": "eec09728717271bb",
   "metadata": {},
   "outputs": [],
   "source": [
    "seq_model = nn.Sequential(\n",
    "    nn.Linear(2, 4),\n",
    "    nn.ReLU(),\n",
    "    nn.Linear(4, 3),\n",
    "    nn.ReLU(),\n",
    "    nn.Linear(3, 2)\n",
    ")"
   ]
  },
  {
   "cell_type": "code",
   "execution_count": null,
   "id": "e8d4b87589f37364",
   "metadata": {},
   "outputs": [],
   "source": [
    "seq_model(torch.tensor([1.0, 2.0]))"
   ]
  },
  {
   "cell_type": "code",
   "execution_count": null,
   "id": "1ca27374e9dede26",
   "metadata": {},
   "outputs": [],
   "source": [
    "class SimpleNet(nn.Module):\n",
    "    def __init__(self):\n",
    "        super().__init__()\n",
    "        self.linear1 = nn.Linear(2, 12)\n",
    "        self.linear2 = nn.Linear(12, 8)\n",
    "        self.linear3 = nn.Linear(8, 4)\n",
    "        self.linear4 = nn.Linear(4, 1)\n",
    "        self.activation_fun = nn.Tanh\n",
    "\n",
    "    def forward(self, x):\n",
    "        y = self.linear1(x)\n",
    "        y = self.activation_fun()(y)\n",
    "        y = self.linear2(y)\n",
    "        y = self.activation_fun()(y)\n",
    "        y = self.linear3(y)\n",
    "        y = self.activation_fun()(y)\n",
    "        y = self.linear4(y)\n",
    "        y = self.activation_fun()(y)\n",
    "        return y"
   ]
  },
  {
   "cell_type": "code",
   "execution_count": null,
   "id": "d6b159e8e5d7f182",
   "metadata": {},
   "outputs": [],
   "source": [
    "plot_neuron_2d(SimpleNet())"
   ]
  },
  {
   "cell_type": "markdown",
   "id": "18d8044470d36aa3",
   "metadata": {
    "lang": "de",
    "slideshow": {
     "slide_type": "subslide"
    },
    "tags": [
     "subslide"
    ]
   },
   "source": [
    "## Erinnerung: Training\n",
    "\n",
    "<br/>\n",
    "<img src=\"img/Figure-01-008.png\" style=\"width: 100%;\"/>"
   ]
  },
  {
   "cell_type": "markdown",
   "id": "ed50371bab76b989",
   "metadata": {
    "lang": "de",
    "slideshow": {
     "slide_type": "slide"
    },
    "tags": [
     "slide"
    ]
   },
   "source": [
    "## Training Neuraler Netze\n",
    "\n",
    "<img src=\"img/Figure-18-033.png\" style=\"width: 100%; margin-left: auto; margin-right: auto;\"/>"
   ]
  },
  {
   "cell_type": "markdown",
   "id": "4be840645fe192e1",
   "metadata": {
    "lang": "de",
    "slideshow": {
     "slide_type": "subslide"
    },
    "tags": [
     "subslide"
    ]
   },
   "source": [
    "\n",
    "## Training Neuraler Netze\n",
    "\n",
    "<img src=\"img/Figure-18-034.png\" style=\"width: 40%; margin-left: auto; margin-right: auto;\"/>"
   ]
  },
  {
   "cell_type": "markdown",
   "id": "b1df71f59d3fa847",
   "metadata": {
    "lang": "de",
    "slideshow": {
     "slide_type": "subslide"
    },
    "tags": [
     "subslide"
    ]
   },
   "source": [
    "## Training Neuraler Netze\n",
    "\n",
    "<img src=\"img/Figure-18-035.png\" style=\"width: 100%; margin-left: auto; margin-right: auto; 0\"/>"
   ]
  },
  {
   "cell_type": "markdown",
   "id": "04b2b44713fb88a0",
   "metadata": {
    "lang": "de",
    "slideshow": {
     "slide_type": "subslide"
    },
    "tags": [
     "subslide"
    ]
   },
   "source": [
    "## Training Neuraler Netze\n",
    "\n",
    "<img src=\"img/Figure-18-036.png\" style=\"width: 50%; margin-left: auto; margin-right: auto;\"/>"
   ]
  },
  {
   "cell_type": "markdown",
   "id": "5d6049085b721bf7",
   "metadata": {
    "lang": "de",
    "slideshow": {
     "slide_type": "subslide"
    },
    "tags": [
     "subslide"
    ]
   },
   "source": [
    "## Training Neuraler Netze\n",
    "\n",
    "<img src=\"img/Figure-18-037.png\" style=\"width: 100%; margin-left: auto; margin-right: auto; 0\"/>"
   ]
  },
  {
   "cell_type": "markdown",
   "id": "71e130f04a57fd1b",
   "metadata": {
    "lang": "de",
    "slideshow": {
     "slide_type": "subslide"
    },
    "tags": [
     "subslide"
    ]
   },
   "source": [
    "## Wie updaten wir die Parameter?\n",
    "\n",
    "<img src=\"img/Figure-05-012.png\" style=\"width: 35%; margin-left: auto; margin-right: auto; 0\"/>"
   ]
  },
  {
   "cell_type": "markdown",
   "id": "887063168b2c7218",
   "metadata": {
    "lang": "de",
    "slideshow": {
     "slide_type": "subslide"
    },
    "tags": [
     "subslide"
    ]
   },
   "source": [
    "## Wie updaten wir die Parameter?\n",
    "\n",
    "<img src=\"img/Figure-05-013.png\" style=\"width: 60%; margin-left: auto; margin-right: auto; 0\"/>"
   ]
  },
  {
   "cell_type": "markdown",
   "id": "3c15a8e7a84b4f5a",
   "metadata": {
    "lang": "de",
    "slideshow": {
     "slide_type": "slide"
    },
    "tags": [
     "slide"
    ]
   },
   "source": [
    "## Wie updaten wir die Parameter?\n",
    "\n",
    "<img src=\"img/Figure-05-001.png\" style=\"float: left; width: 45%; margin-left: auto; margin-right: auto; 0\"/>\n",
    "<img src=\"img/Figure-05-005.png\" style=\"float: right; width: 45%; margin-left: auto; margin-right: auto; 0\"/>"
   ]
  },
  {
   "cell_type": "markdown",
   "id": "40f217e01f373d73",
   "metadata": {
    "lang": "de",
    "slideshow": {
     "slide_type": "slide"
    },
    "tags": [
     "slide"
    ]
   },
   "source": [
    "# MNIST"
   ]
  },
  {
   "cell_type": "code",
   "execution_count": null,
   "id": "fff5bec86a704bb4",
   "metadata": {},
   "outputs": [],
   "source": [
    "import torch\n",
    "import torchvision\n",
    "import torchvision.transforms as transforms\n",
    "import torch.nn as nn\n",
    "from torch.utils.data import DataLoader\n",
    "from skorch.dataset import Dataset"
   ]
  },
  {
   "cell_type": "code",
   "execution_count": null,
   "id": "4968f0e99cd0af15",
   "metadata": {},
   "outputs": [],
   "source": [
    "input_size = 28 * 28\n",
    "num_classes = 10\n",
    "num_epochs = 5\n",
    "batch_size = 100\n",
    "learning_rate = 0.005"
   ]
  },
  {
   "cell_type": "code",
   "execution_count": null,
   "id": "9f5df1b90a73ef07",
   "metadata": {
    "slideshow": {
     "slide_type": "subslide"
    },
    "tags": [
     "subslide"
    ]
   },
   "outputs": [],
   "source": [
    "mnist_transforms = transforms.Compose([\n",
    "    transforms.Resize((28, 28)),\n",
    "    transforms.ToTensor()\n",
    "])"
   ]
  },
  {
   "cell_type": "code",
   "execution_count": null,
   "id": "d5051977650914c4",
   "metadata": {},
   "outputs": [],
   "source": [
    "train_dataset = torchvision.datasets.MNIST(root='./data',\n",
    "                                           train=True,\n",
    "                                           transform=mnist_transforms,\n",
    "                                           download=True)\n",
    "test_dataset = torchvision.datasets.MNIST(root='./data',\n",
    "                                          train=False,\n",
    "                                          transform=mnist_transforms,\n",
    "                                          download=True)"
   ]
  },
  {
   "cell_type": "code",
   "execution_count": null,
   "id": "f2ed29b723f486dd",
   "metadata": {
    "slideshow": {
     "slide_type": "subslide"
    },
    "tags": [
     "subslide"
    ]
   },
   "outputs": [],
   "source": [
    "it = iter(train_dataset)\n",
    "next(it)[0].shape, next(it)[1]"
   ]
  },
  {
   "cell_type": "code",
   "execution_count": null,
   "id": "21cc46cfde6cd695",
   "metadata": {},
   "outputs": [],
   "source": [
    "next(it)[0].shape, next(it)[1]"
   ]
  },
  {
   "cell_type": "code",
   "execution_count": null,
   "id": "95b78e74db1b7670",
   "metadata": {},
   "outputs": [],
   "source": [
    "train_loader = torch.utils.data.DataLoader(dataset=train_dataset, batch_size=batch_size, shuffle=True)\n",
    "test_loader = torch.utils.data.DataLoader(dataset=test_dataset, batch_size=batch_size, shuffle=False)"
   ]
  },
  {
   "cell_type": "code",
   "execution_count": null,
   "id": "72bd99392fd7a141",
   "metadata": {
    "slideshow": {
     "slide_type": "subslide"
    },
    "tags": [
     "subslide"
    ]
   },
   "outputs": [],
   "source": [
    "class MnistModule(nn.Module):\n",
    "    def __init__(self, input_size, hidden_size, num_classes):\n",
    "        super().__init__()\n",
    "        self.model = nn.Sequential(\n",
    "            nn.Linear(input_size, hidden_size),\n",
    "            nn.ReLU(),\n",
    "            nn.Linear(hidden_size, num_classes)\n",
    "        )\n",
    "\n",
    "    def forward(self, X, **kwargs):\n",
    "        return self.model(X.reshape(-1, input_size))"
   ]
  },
  {
   "cell_type": "code",
   "execution_count": null,
   "id": "08cd3084aff228c7",
   "metadata": {},
   "outputs": [],
   "source": [
    "def create_skorch_model(hidden_size, epochs):\n",
    "    model = NeuralNetClassifier(\n",
    "        MnistModule,\n",
    "        module__input_size=input_size,\n",
    "        module__hidden_size=hidden_size,\n",
    "        module__num_classes=num_classes,\n",
    "        max_epochs=epochs,\n",
    "        lr=learning_rate,\n",
    "        optimizer=torch.optim.Adam,\n",
    "        criterion=nn.CrossEntropyLoss,\n",
    "        device='cuda' if torch.cuda.is_available() else 'cpu',\n",
    "        iterator_train__shuffle=True,\n",
    "        train_split=None,  # We'll use our own validation set\n",
    "        callbacks=[\n",
    "            EpochScoring(scoring='accuracy', lower_is_better=False, name='val_acc', on_train=False),\n",
    "        ],\n",
    "        verbose=1,\n",
    "    )\n",
    "    return model"
   ]
  },
  {
   "cell_type": "code",
   "execution_count": null,
   "id": "86535216478d0efb",
   "metadata": {},
   "outputs": [],
   "source": [
    "model = create_skorch_model(32, 5)"
   ]
  },
  {
   "cell_type": "code",
   "execution_count": null,
   "id": "a5de6c924b69c07d",
   "metadata": {},
   "outputs": [],
   "source": [
    "class MnistDataset(Dataset):\n",
    "    def __init__(self, data):\n",
    "        self.data = data\n",
    "\n",
    "    def __len__(self):\n",
    "        return len(self.data.dataset)\n",
    "\n",
    "    def __getitem__(self, i):\n",
    "        x, y = self.data.dataset[i]\n",
    "        return x.reshape(-1, input_size), y"
   ]
  },
  {
   "cell_type": "code",
   "execution_count": null,
   "id": "db9527efc2d96e6f",
   "metadata": {},
   "outputs": [],
   "source": [
    "train_dataset = MnistDataset(train_loader)"
   ]
  },
  {
   "cell_type": "code",
   "execution_count": null,
   "id": "a77aed13b22a8d56",
   "metadata": {},
   "outputs": [],
   "source": [
    "test_dataset = MnistDataset(test_loader)"
   ]
  },
  {
   "cell_type": "code",
   "execution_count": null,
   "id": "e5159794d69af3f0",
   "metadata": {},
   "outputs": [],
   "source": [
    "model.fit(train_dataset, y=None, X_valid=test_dataset, y_valid=None)"
   ]
  },
  {
   "cell_type": "code",
   "execution_count": null,
   "id": "319e5b1698494d6d",
   "metadata": {},
   "outputs": [],
   "source": [
    "def fit_model(hidden_size, num_epochs=num_epochs):\n",
    "    model = create_skorch_model(hidden_size, num_epochs)\n",
    "\n",
    "    train_dataset = MnistDataset(train_loader)\n",
    "    test_dataset = MnistDataset(test_loader)\n",
    "\n",
    "    model.fit(train_dataset, y=None, X_valid=test_dataset, y_valid=None)\n",
    "\n",
    "    return model"
   ]
  },
  {
   "cell_type": "code",
   "execution_count": null,
   "id": "56af4ddfa161e144",
   "metadata": {},
   "outputs": [],
   "source": [
    "def evaluate_model(model, test_dataset):\n",
    "    y_pred = model.predict(test_dataset)\n",
    "    y_true = torch.cat([y for _, y in test_loader], dim=0).numpy()\n",
    "\n",
    "    accuracy = accuracy_score(y_true, y_pred)\n",
    "    precision = precision_score(y_true, y_pred, average='weighted')\n",
    "    recall = recall_score(y_true, y_pred, average='weighted')\n",
    "    f1 = f1_score(y_true, y_pred, average='weighted')\n",
    "\n",
    "    print(f\"Test Accuracy: {accuracy:.4f}\")\n",
    "    print(f\"Test Precision: {precision:.4f}\")\n",
    "    print(f\"Test Recall: {recall:.4f}\")\n",
    "    print(f\"Test F1 Score: {f1:.4f}\")\n",
    "\n",
    "    cm = confusion_matrix(y_true, y_pred)\n",
    "    plt.figure(figsize=(6,4))\n",
    "    sns.heatmap(cm, annot=True, fmt='d')\n",
    "    plt.title('Confusion Matrix')\n",
    "    plt.ylabel('Actual')\n",
    "    plt.xlabel('Predicted')\n",
    "    plt.show()\n",
    "\n",
    "    return accuracy, precision, recall, f1"
   ]
  },
  {
   "cell_type": "code",
   "execution_count": null,
   "id": "fa149f4ab0adf949",
   "metadata": {},
   "outputs": [],
   "source": [
    "from sklearn.metrics import accuracy_score, precision_score, recall_score, f1_score, confusion_matrix\n",
    "import seaborn as sns"
   ]
  },
  {
   "cell_type": "code",
   "execution_count": null,
   "id": "2022383d99f11494",
   "metadata": {},
   "outputs": [],
   "source": [
    "def fit_and_evaluate_model(hidden_size, num_epochs):\n",
    "    model = fit_model(hidden_size, num_epochs)\n",
    "    losses = model.history[:, 'train_loss']\n",
    "    test_dataset = MnistDataset(test_loader)\n",
    "\n",
    "    plt.figure(figsize=(6, 3))\n",
    "    plt.plot(range(len(losses)), losses)\n",
    "    plt.title(f'Hidden Size: {hidden_size}, Epochs: {num_epochs}')\n",
    "    plt.xlabel('Iterations')\n",
    "    plt.ylabel('Loss')\n",
    "    plt.show()\n",
    "\n",
    "    evaluate_model(model, test_dataset)"
   ]
  },
  {
   "cell_type": "code",
   "execution_count": null,
   "id": "1b35592c398555fe",
   "metadata": {},
   "outputs": [],
   "source": [
    "fit_and_evaluate_model(32, 5)"
   ]
  },
  {
   "cell_type": "code",
   "execution_count": null,
   "id": "4a2d1657f14d5c0a",
   "metadata": {},
   "outputs": [],
   "source": [
    "fit_and_evaluate_model(128, 8)"
   ]
  },
  {
   "cell_type": "code",
   "execution_count": null,
   "id": "dea492ba4224de13",
   "metadata": {},
   "outputs": [],
   "source": [
    "fit_and_evaluate_model(512, 10)"
   ]
  },
  {
   "cell_type": "markdown",
   "id": "e4b138008013d9bd",
   "metadata": {
    "lang": "de",
    "slideshow": {
     "slide_type": "slide"
    },
    "tags": [
     "slide"
    ]
   },
   "source": [
    "## Modelle\n",
    "\n",
    "<img src=\"img/Figure-11-001.png\" style=\"width: 100%;\"/>"
   ]
  },
  {
   "cell_type": "markdown",
   "id": "1f5425976f326e05",
   "metadata": {
    "lang": "de",
    "slideshow": {
     "slide_type": "subslide"
    },
    "tags": [
     "subslide"
    ]
   },
   "source": [
    "## Für Neuronale Netze:\n",
    "\n",
    "Was repräsentiert werden kann hängt ab von\n",
    "\n",
    "- Anzahl der Layers\n",
    "- Anzahl der Neutronen per Layer\n",
    "- Komplexität der Verbindungen zwischen Neutronen"
   ]
  },
  {
   "cell_type": "markdown",
   "id": "88f83ff4468db842",
   "metadata": {
    "lang": "de",
    "slideshow": {
     "slide_type": "subslide"
    },
    "tags": [
     "subslide"
    ]
   },
   "source": [
    "### Was kann man (theoretisch) lernen?\n",
    "\n",
    "Schwierig aber irrelevant"
   ]
  },
  {
   "cell_type": "markdown",
   "id": "436694720d04850f",
   "metadata": {
    "lang": "de",
    "slideshow": {
     "slide_type": "subslide"
    },
    "tags": [
     "subslide"
    ]
   },
   "source": [
    "### Was kann man praktisch lernen?\n",
    "\n",
    "Sehr viel, wenn man genug Zeit und Daten hat"
   ]
  },
  {
   "cell_type": "markdown",
   "id": "dd181d95013ac0c1",
   "metadata": {
    "lang": "de",
    "slideshow": {
     "slide_type": "subslide"
    },
    "tags": [
     "subslide"
    ]
   },
   "source": [
    "### Was kann man effizient lernen?\n",
    "\n",
    "Sehr viel, wenn man sich geschickt anstellt\n",
    "(und ein Problem hat, an dem viele andere Leute arbeiten)"
   ]
  },
  {
   "cell_type": "markdown",
   "id": "c835f51a7f0f10c2",
   "metadata": {
    "lang": "de",
    "slideshow": {
     "slide_type": "slide"
    },
    "tags": [
     "slide"
    ]
   },
   "source": [
    "# Bias/Variance Tradeoff\n",
    "\n",
    "- Modelle mit geringer Expressivität (representational power)\n",
    "  - Können schnell trainiert werden\n",
    "  - Arbeiten mit wenig Trainingsdaten\n",
    "  - Sind robust gegenüber Fehlern in den Trainingsdaten\n",
    "\n",
    "- Wir sind nicht an einer möglichst exakten Wiedergabe unserer Daten interessiert\n",
    "\n",
    "- Entscheidend ist wie gut unser Modell auf unbekannte Daten generalisiert"
   ]
  },
  {
   "cell_type": "markdown",
   "id": "bc9a3d6571c43eaf",
   "metadata": {
    "lang": "de",
    "slideshow": {
     "slide_type": "subslide"
    },
    "tags": [
     "subslide"
    ]
   },
   "source": [
    "<img src=\"img/Figure-09-002.png\" style=\"width: 60%; margin-left: auto; margin-right: auto;\"/>"
   ]
  },
  {
   "cell_type": "markdown",
   "id": "718edfdaba29ca43",
   "metadata": {
    "lang": "de",
    "slideshow": {
     "slide_type": "subslide"
    },
    "tags": [
     "subslide"
    ]
   },
   "source": [
    "<img src=\"img/Figure-09-004.png\" style=\"width: 60%; margin-left: auto; margin-right: auto;\"/>"
   ]
  },
  {
   "cell_type": "markdown",
   "id": "f732d26549fcd99f",
   "metadata": {
    "lang": "de",
    "slideshow": {
     "slide_type": "subslide"
    },
    "tags": [
     "subslide"
    ]
   },
   "source": [
    "<img src=\"img/Figure-09-003.png\" style=\"width: 60%; margin-left: auto; margin-right: auto;\"/>"
   ]
  },
  {
   "cell_type": "markdown",
   "id": "3a950c268381471c",
   "metadata": {
    "lang": "de",
    "slideshow": {
     "slide_type": "subslide"
    },
    "tags": [
     "subslide"
    ]
   },
   "source": [
    "<img src=\"img/Figure-09-005.png\" style=\"width: 60%; margin-left: auto; margin-right: auto;\"/>"
   ]
  },
  {
   "cell_type": "markdown",
   "id": "3290e7cb3b89425e",
   "metadata": {
    "lang": "de",
    "slideshow": {
     "slide_type": "subslide"
    },
    "tags": [
     "subslide"
    ]
   },
   "source": [
    "\n",
    "### Generalisierung und Rauschen\n",
    "<img src=\"img/Figure-09-008.png\" style=\"width: 40%; margin-left: auto; margin-right: auto;\"/>"
   ]
  },
  {
   "cell_type": "markdown",
   "id": "3d186e25d0ae856b",
   "metadata": {
    "lang": "de",
    "slideshow": {
     "slide_type": "subslide"
    },
    "tags": [
     "subslide"
    ]
   },
   "source": [
    "<img src=\"img/Figure-09-009.png\" style=\"width: 80%; margin-left: auto; margin-right: auto;\"/>"
   ]
  },
  {
   "cell_type": "markdown",
   "id": "2c302784699a7446",
   "metadata": {
    "lang": "de",
    "slideshow": {
     "slide_type": "subslide"
    },
    "tags": [
     "subslide"
    ]
   },
   "source": [
    "<img src=\"img/Figure-09-010.png\" style=\"width: 40%; margin-left: auto; margin-right: auto;\"/>"
   ]
  },
  {
   "cell_type": "markdown",
   "id": "4a9106907bd8c182",
   "metadata": {
    "lang": "de",
    "slideshow": {
     "slide_type": "subslide"
    },
    "tags": [
     "subslide"
    ]
   },
   "source": [
    "## Komplexität der Entscheidungsgrenze\n",
    "\n",
    "<img src=\"img/Figure-09-006.png\" style=\"width: 100%; margin-left: auto; margin-right: auto;\"/>"
   ]
  },
  {
   "cell_type": "markdown",
   "id": "2f8c9cca3bc6156e",
   "metadata": {
    "lang": "de",
    "slideshow": {
     "slide_type": "subslide"
    },
    "tags": [
     "subslide"
    ]
   },
   "source": [
    "<img src=\"img/Figure-09-001.png\" style=\"width: 50%; margin-left: auto; margin-right: auto;\"/>"
   ]
  },
  {
   "cell_type": "markdown",
   "id": "37faf5b2adfe2c20",
   "metadata": {
    "lang": "de",
    "slideshow": {
     "slide_type": "slide"
    },
    "tags": [
     "slide"
    ]
   },
   "source": [
    "## Datenverteilung und Qualität\n"
   ]
  },
  {
   "cell_type": "markdown",
   "id": "d665a4d3762dec92",
   "metadata": {
    "lang": "de"
   },
   "source": [
    "### Erinnerung: die Trainings-Schleife\n",
    "\n",
    "<img src=\"img/Figure-08-001.png\" style=\"width: 20%; margin-left: auto; margin-right: auto;\"/>"
   ]
  },
  {
   "cell_type": "markdown",
   "id": "ab53940f4eaa58a2",
   "metadata": {
    "lang": "de",
    "slideshow": {
     "slide_type": "subslide"
    },
    "tags": [
     "subslide"
    ]
   },
   "source": [
    "<img src=\"img/Figure-08-001.png\" style=\"width: 60%; margin-left: auto; margin-right: auto;\"/>"
   ]
  },
  {
   "cell_type": "markdown",
   "id": "6110fb5b4f7d46cf",
   "metadata": {
    "lang": "de",
    "slideshow": {
     "slide_type": "subslide"
    },
    "tags": [
     "subslide"
    ]
   },
   "source": [
    "## Was lernt ein Klassifizierer?\n",
    "\n",
    "<img src=\"img/Figure-08-002.png\" style=\"width: 60%; margin-left: auto; margin-right: auto;\"/>"
   ]
  },
  {
   "cell_type": "markdown",
   "id": "42ae9b52b2a1ba68",
   "metadata": {
    "lang": "de",
    "slideshow": {
     "slide_type": "subslide"
    },
    "tags": [
     "subslide"
    ]
   },
   "source": [
    "<img src=\"img/Figure-08-003.png\" style=\"width: 100%; margin-left: auto; margin-right: auto;\"/>"
   ]
  },
  {
   "cell_type": "markdown",
   "id": "0f17d4869836ca1f",
   "metadata": {
    "lang": "de",
    "slideshow": {
     "slide_type": "subslide"
    },
    "tags": [
     "subslide"
    ]
   },
   "source": [
    "<img src=\"img/Figure-08-004.png\" style=\"width: 70%; margin-left: auto; margin-right: auto;\"/>"
   ]
  },
  {
   "cell_type": "markdown",
   "id": "273b8ebaa40201c5",
   "metadata": {
    "lang": "de",
    "slideshow": {
     "slide_type": "slide"
    },
    "tags": [
     "slide"
    ]
   },
   "source": [
    "# Wie gut sind wir?\n",
    "\n",
    "Wie wissen wir, wie gut unser Modell wirklich ist?"
   ]
  },
  {
   "cell_type": "markdown",
   "id": "3b30c6facfa0fb15",
   "metadata": {
    "lang": "de",
    "slideshow": {
     "slide_type": "subslide"
    },
    "tags": [
     "subslide"
    ]
   },
   "source": [
    "## Was kann schief gehen?\n",
    "\n",
    "<img src=\"img/Figure-03-015.png\" style=\"width: 100%; margin-left: auto; margin-right: auto; 0\"/>"
   ]
  },
  {
   "cell_type": "markdown",
   "id": "5c95463f79c74ea7",
   "metadata": {
    "lang": "de",
    "slideshow": {
     "slide_type": "subslide"
    },
    "tags": [
     "subslide"
    ]
   },
   "source": [
    "## Was kann schief gehen?\n",
    "\n",
    "<img src=\"img/Figure-03-017.png\" style=\"width: 100%; margin-left: auto; margin-right: auto; 0\"/>"
   ]
  },
  {
   "cell_type": "markdown",
   "id": "f34727f4f36438f9",
   "metadata": {
    "lang": "de",
    "slideshow": {
     "slide_type": "subslide"
    },
    "tags": [
     "subslide"
    ]
   },
   "source": [
    "## Was kann schief gehen?\n",
    "\n",
    "<img src=\"img/Figure-03-018.png\" style=\"width: 80%; margin-left: auto; margin-right: auto; 0\"/>"
   ]
  },
  {
   "cell_type": "markdown",
   "id": "350071b154a15c8a",
   "metadata": {
    "lang": "de",
    "slideshow": {
     "slide_type": "subslide"
    },
    "tags": [
     "subslide"
    ]
   },
   "source": [
    "## Accuracy: Wie viel haben wir richtig gemacht?\n",
    "\n",
    "\n",
    "<img src=\"img/Figure-03-023.png\" style=\"width: 60%; margin-left: auto; margin-right: auto; 0\"/>"
   ]
  },
  {
   "cell_type": "markdown",
   "id": "ef542f011c303207",
   "metadata": {
    "lang": "de",
    "slideshow": {
     "slide_type": "subslide"
    },
    "tags": [
     "subslide"
    ]
   },
   "source": [
    "## Precision: Wie gut sind unsere positiven Elemente?\n",
    "\n",
    "\n",
    "<img src=\"img/Figure-03-024.png\" style=\"width: 60%; margin-left: auto; margin-right: auto; 0\"/>"
   ]
  },
  {
   "cell_type": "markdown",
   "id": "8772dc1da16f438b",
   "metadata": {
    "lang": "de",
    "slideshow": {
     "slide_type": "subslide"
    },
    "tags": [
     "subslide"
    ]
   },
   "source": [
    "## Recall: Wie viele positive Elemente haben wir übersehen?\n",
    "\n",
    "\n",
    "<img src=\"img/Figure-03-026.png\" style=\"width: 60%; margin-left: auto; margin-right: auto; 0\"/>"
   ]
  },
  {
   "cell_type": "markdown",
   "id": "71e5885276ab484d",
   "metadata": {
    "lang": "de",
    "slideshow": {
     "slide_type": "slide"
    },
    "tags": [
     "slide"
    ]
   },
   "source": [
    "## Bessere Netzwerkarchitektur\n",
    "\n",
    "<img src=\"img/Figure-21-008.png\" style=\"width: 30%; margin-left: auto; margin-right: auto; 0\"/>"
   ]
  },
  {
   "cell_type": "markdown",
   "id": "69f07d0af8f121d3",
   "metadata": {
    "lang": "de",
    "slideshow": {
     "slide_type": "subslide"
    },
    "tags": [
     "subslide"
    ]
   },
   "source": [
    "<img src=\"img/Figure-21-009.png\" style=\"width: 40%; margin-left: auto; margin-right: auto; 0\"/>"
   ]
  },
  {
   "cell_type": "markdown",
   "id": "224d9a8e426fede4",
   "metadata": {
    "lang": "de",
    "slideshow": {
     "slide_type": "subslide"
    },
    "tags": [
     "subslide"
    ]
   },
   "source": [
    "<img src=\"img/Figure-21-043.png\" style=\"width: 40%; margin-left: auto; margin-right: auto; 0\"/>"
   ]
  },
  {
   "cell_type": "markdown",
   "id": "717ae9f297c48575",
   "metadata": {
    "lang": "de",
    "slideshow": {
     "slide_type": "slide"
    },
    "tags": [
     "slide"
    ]
   },
   "source": [
    "## Beispiel: Conv Net"
   ]
  },
  {
   "cell_type": "code",
   "execution_count": null,
   "id": "536fa62f2556cac6",
   "metadata": {},
   "outputs": [],
   "source": [
    "def create_conv_model():\n",
    "    model = nn.Sequential(\n",
    "        nn.Conv2d(1, 32, 3, 1),\n",
    "        nn.ReLU(),\n",
    "        nn.Conv2d(32, 64, 3, 1),\n",
    "        nn.MaxPool2d(2),\n",
    "        nn.Dropout2d(0.25),\n",
    "        nn.Flatten(1),\n",
    "        nn.Linear(9216, 128),\n",
    "        nn.ReLU(),\n",
    "        nn.Dropout2d(0.5),\n",
    "        nn.Linear(128, 10)\n",
    "    )\n",
    "    optimizer = torch.optim.Adam(model.parameters(), lr=learning_rate)\n",
    "    return model, optimizer"
   ]
  },
  {
   "cell_type": "markdown",
   "id": "48ca89d3249ee71f",
   "metadata": {
    "lang": "de",
    "slideshow": {
     "slide_type": "slide"
    },
    "tags": [
     "slide"
    ]
   },
   "source": [
    "## Data Engine (Tesla)\n",
    "\n",
    "<img src=\"img/data-engine.jpeg\" style=\"width: 100%; margin-left: auto; margin-right: auto;\"/>"
   ]
  },
  {
   "cell_type": "markdown",
   "id": "0f3c19a4707abd85",
   "metadata": {
    "lang": "de",
    "slideshow": {
     "slide_type": "slide"
    },
    "tags": [
     "slide"
    ]
   },
   "source": [
    "## Probleme: Abhängigkeiten\n",
    "\n",
    "Relevante Informationen sind nicht immer nahe in den Daten:\n",
    "\n",
    "\"Er hatte mit dem Mann, der ihm den Schlüssel, der zum Schloss, das ihn von großem Reichtum trennte, gehörte, gab, noch nicht gesprochen."
   ]
  },
  {
   "cell_type": "markdown",
   "id": "cf690c06b8384f43",
   "metadata": {
    "lang": "de",
    "slideshow": {
     "slide_type": "subslide"
    },
    "tags": [
     "subslide"
    ]
   },
   "source": [
    "# Memory / State\n",
    "<img src=\"img/Figure-22-012.png\" style=\"width: 20%; margin-left: auto; margin-right: auto;\"/>"
   ]
  },
  {
   "cell_type": "markdown",
   "id": "6eba6c7730b51d49",
   "metadata": {
    "lang": "de",
    "slideshow": {
     "slide_type": "subslide"
    },
    "tags": [
     "subslide"
    ]
   },
   "source": [
    "Funktioniert gut aber mit gewissen Schwächen.\n",
    "\n",
    "Man muss wissen, welche Information für das aktuell betrachtete Element relevant ist:"
   ]
  },
  {
   "cell_type": "markdown",
   "id": "480c1b4bfa30a0eb",
   "metadata": {
    "lang": "de"
   },
   "source": [
    "- The cat didn't cross the street because *it* was too wide."
   ]
  },
  {
   "cell_type": "markdown",
   "id": "90638f1e6baf7fa0",
   "metadata": {
    "lang": "de",
    "slideshow": {
     "slide_type": "subslide"
    },
    "tags": [
     "subslide"
    ]
   },
   "source": [
    "<img src=\"img/garfield.jpg\" style=\"float: right;width: 60%;\"/>"
   ]
  },
  {
   "cell_type": "markdown",
   "id": "6fc6b5ac475f7a21",
   "metadata": {
    "lang": "de",
    "slideshow": {
     "slide_type": "subslide"
    },
    "tags": [
     "subslide"
    ]
   },
   "source": [
    "<img src=\"img/garfield-yawn.png\" style=\"float: right;width: 60%;\"/>\n",
    "\n",
    "- The cat didn't cross the street because *it* was too tired."
   ]
  },
  {
   "cell_type": "markdown",
   "id": "7cdf907f3c0d59b9",
   "metadata": {
    "lang": "de",
    "slideshow": {
     "slide_type": "subslide"
    },
    "tags": [
     "subslide"
    ]
   },
   "source": [
    "- The cat didn't cross the street because *it* was too wet.\n",
    "\n",
    "<img src=\"img/garfield-rain4.jpg\" style=\"float: right;width: 60%;\"/>"
   ]
  },
  {
   "cell_type": "markdown",
   "id": "9686d1c55711395f",
   "metadata": {
    "lang": "de",
    "slideshow": {
     "slide_type": "subslide"
    },
    "tags": [
     "subslide"
    ]
   },
   "source": [
    "- The cat didn't cross the street because *it* was raining.\n",
    "\n",
    "<img src=\"img/garfield-rain2.gif\" style=\"float: right;width: 60%;\"/>"
   ]
  },
  {
   "cell_type": "markdown",
   "id": "5085e5f0744b7f68",
   "metadata": {
    "lang": "de",
    "slideshow": {
     "slide_type": "slide"
    },
    "tags": [
     "slide"
    ]
   },
   "source": [
    "# The Bitter Lesson (Rich Sutton)\n",
    "\n",
    "[T]he only thing that matters in the long run is the leveraging of computation.\n",
    "\n",
    "Corollary: And data. Lots of data."
   ]
  },
  {
   "cell_type": "code",
   "execution_count": null,
   "id": "4934543e96850f9f",
   "metadata": {},
   "outputs": [],
   "source": []
  }
 ],
 "metadata": {
  "jupytext": {
   "cell_metadata_filter": "lang,tags,-all",
   "main_language": "python",
   "notebook_metadata_filter": "-all"
  },
  "kernelspec": {
   "display_name": "Python 3 (ipykernel)",
   "language": "python",
   "name": "python3"
  },
  "language_info": {
   "codemirror_mode": {
    "name": "ipython",
    "version": 3
   },
   "file_extension": ".py",
   "mimetype": "text/x-python",
   "name": "python",
   "nbconvert_exporter": "python",
   "pygments_lexer": "ipython3"
  }
 },
 "nbformat": 4,
 "nbformat_minor": 5
}
