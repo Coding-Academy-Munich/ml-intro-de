{
 "cells": [
  {
   "cell_type": "code",
   "execution_count": null,
   "id": "6b4e03423667dbb7",
   "metadata": {
    "lines_to_next_cell": 0
   },
   "outputs": [],
   "source": []
  },
  {
   "cell_type": "markdown",
   "id": "1ac0e2f7d4b681d3",
   "metadata": {
    "lang": "de",
    "slideshow": {
     "slide_type": "slide"
    },
    "tags": [
     "slide"
    ]
   },
   "source": [
    "\n",
    "<img src=\"data:image/svg+xml;base64,PHN2ZyB4bWxucz0iaHR0cDovL3d3dy53My5vcmcvMjAwMC9zdmciIHhtbG5zOnhsaW5rPSJodHRw\n",
    "Oi8vd3d3LnczLm9yZy8xOTk5L3hsaW5rIiB3aWR0aD0iMTExLjE2MSIgaGVpZ2h0PSIxMzQuNjY4\n",
    "IiB2ZXJzaW9uPSIxLjAiPjxkZWZzPjxsaW5lYXJHcmFkaWVudCBpZD0iYyI+PHN0b3Agb2Zmc2V0\n",
    "PSIwIiBzdHlsZT0ic3RvcC1jb2xvcjojYjhiOGI4O3N0b3Atb3BhY2l0eTouNDk4MDM5MjIiLz48\n",
    "c3RvcCBvZmZzZXQ9IjEiIHN0eWxlPSJzdG9wLWNvbG9yOiM3ZjdmN2Y7c3RvcC1vcGFjaXR5OjAi\n",
    "Lz48L2xpbmVhckdyYWRpZW50PjxsaW5lYXJHcmFkaWVudCBpZD0iYSI+PHN0b3Agb2Zmc2V0PSIw\n",
    "IiBzdHlsZT0ic3RvcC1jb2xvcjojZmZkNDNiO3N0b3Atb3BhY2l0eToxIi8+PHN0b3Agb2Zmc2V0\n",
    "PSIxIiBzdHlsZT0ic3RvcC1jb2xvcjojZmZlODczO3N0b3Atb3BhY2l0eToxIi8+PC9saW5lYXJH\n",
    "cmFkaWVudD48bGluZWFyR3JhZGllbnQgaWQ9ImIiPjxzdG9wIG9mZnNldD0iMCIgc3R5bGU9InN0\n",
    "b3AtY29sb3I6IzVhOWZkNDtzdG9wLW9wYWNpdHk6MSIvPjxzdG9wIG9mZnNldD0iMSIgc3R5bGU9\n",
    "InN0b3AtY29sb3I6IzMwNjk5ODtzdG9wLW9wYWNpdHk6MSIvPjwvbGluZWFyR3JhZGllbnQ+PGxp\n",
    "bmVhckdyYWRpZW50IHhsaW5rOmhyZWY9IiNhIiBpZD0iZSIgeDE9IjE1MC45NjEiIHgyPSIxMTIu\n",
    "MDMxIiB5MT0iMTkyLjM1MiIgeTI9IjEzNy4yNzMiIGdyYWRpZW50VHJhbnNmb3JtPSJtYXRyaXgo\n",
    "LjU2MjU0IDAgMCAuNTY3OTcgLTE0Ljk5MSAtMTEuNzAyKSIgZ3JhZGllbnRVbml0cz0idXNlclNw\n",
    "YWNlT25Vc2UiLz48bGluZWFyR3JhZGllbnQgeGxpbms6aHJlZj0iI2IiIGlkPSJkIiB4MT0iMjYu\n",
    "NjQ5IiB4Mj0iMTM1LjY2NSIgeTE9IjIwLjYwNCIgeTI9IjExNC4zOTgiIGdyYWRpZW50VHJhbnNm\n",
    "b3JtPSJtYXRyaXgoLjU2MjU0IDAgMCAuNTY3OTcgLTE0Ljk5MSAtMTEuNzAyKSIgZ3JhZGllbnRV\n",
    "bml0cz0idXNlclNwYWNlT25Vc2UiLz48cmFkaWFsR3JhZGllbnQgeGxpbms6aHJlZj0iI2MiIGlk\n",
    "PSJmIiBjeD0iNjEuNTE5IiBjeT0iMTMyLjI4NiIgcj0iMjkuMDM3IiBmeD0iNjEuNTE5IiBmeT0i\n",
    "MTMyLjI4NiIgZ3JhZGllbnRUcmFuc2Zvcm09Im1hdHJpeCgwIC0uMjM5OTUgMS4wNTQ2NyAwIC04\n",
    "My43IDE0Mi40NjIpIiBncmFkaWVudFVuaXRzPSJ1c2VyU3BhY2VPblVzZSIvPjwvZGVmcz48cGF0\n",
    "aCBkPSJNNTQuOTE5IDBjLTQuNTg0LjAyMi04Ljk2MS40MTMtMTIuODEzIDEuMDk1QzMwLjc2IDMu\n",
    "MDk5IDI4LjcgNy4yOTUgMjguNyAxNS4wMzJ2MTAuMjE5aDI2LjgxM3YzLjQwNkgxOC42MzhjLTcu\n",
    "NzkzIDAtMTQuNjE2IDQuNjg0LTE2Ljc1IDEzLjU5NC0yLjQ2MiAxMC4yMTMtMi41NzEgMTYuNTg2\n",
    "IDAgMjcuMjUgMS45MDUgNy45MzggNi40NTcgMTMuNTk0IDE0LjI1IDEzLjU5NGg5LjIxOHYtMTIu\n",
    "MjVjMC04Ljg1IDcuNjU3LTE2LjY1NyAxNi43NS0xNi42NTdoMjYuNzgyYzcuNDU0IDAgMTMuNDA2\n",
    "LTYuMTM4IDEzLjQwNi0xMy42MjV2LTI1LjUzYzAtNy4yNjctNi4xMy0xMi43MjYtMTMuNDA2LTEz\n",
    "LjkzOEM2NC4yODIuMzI4IDU5LjUwMi0uMDIgNTQuOTE4IDBtLTE0LjUgOC4yMmMyLjc3IDAgNS4w\n",
    "MzEgMi4yOTggNS4wMzEgNS4xMjUgMCAyLjgxNi0yLjI2MiA1LjA5My01LjAzMSA1LjA5My0yLjc4\n",
    "IDAtNS4wMzEtMi4yNzctNS4wMzEtNS4wOTMgMC0yLjgyNyAyLjI1MS01LjEyNSA1LjAzLTUuMTI1\n",
    "IiBzdHlsZT0iZmlsbDp1cmwoI2QpO2ZpbGwtb3BhY2l0eToxIi8+PHBhdGggZD0iTTg1LjYzOCAy\n",
    "OC42NTd2MTEuOTA2YzAgOS4yMzEtNy44MjYgMTctMTYuNzUgMTdINDIuMTA2Yy03LjMzNiAwLTEz\n",
    "LjQwNiA2LjI3OS0xMy40MDYgMTMuNjI1Vjk2LjcyYzAgNy4yNjYgNi4zMTkgMTEuNTQgMTMuNDA2\n",
    "IDEzLjYyNSA4LjQ4OCAyLjQ5NSAxNi42MjcgMi45NDYgMjYuNzgyIDAgNi43NS0xLjk1NSAxMy40\n",
    "MDYtNS44ODggMTMuNDA2LTEzLjYyNVY4Ni41SDU1LjUxM3YtMy40MDVIOTUuN2M3Ljc5MyAwIDEw\n",
    "LjY5Ni01LjQzNiAxMy40MDYtMTMuNTk0IDIuOC04LjM5OSAyLjY4LTE2LjQ3NiAwLTI3LjI1LTEu\n",
    "OTI1LTcuNzU4LTUuNjA0LTEzLjU5NC0xMy40MDYtMTMuNTk0ek03MC41NzUgOTMuMzEzYzIuNzgg\n",
    "MCA1LjAzMSAyLjI3OCA1LjAzMSA1LjA5NCAwIDIuODI3LTIuMjUxIDUuMTI1LTUuMDMxIDUuMTI1\n",
    "LTIuNzcgMC01LjAzMS0yLjI5OC01LjAzMS01LjEyNSAwLTIuODE2IDIuMjYxLTUuMDk0IDUuMDMx\n",
    "LTUuMDk0IiBzdHlsZT0iZmlsbDp1cmwoI2UpO2ZpbGwtb3BhY2l0eToxIi8+PGVsbGlwc2UgY3g9\n",
    "IjU1LjgxNyIgY3k9IjEyNy43MDEiIHJ4PSIzNS45MzEiIHJ5PSI2Ljk2NyIgc3R5bGU9Im9wYWNp\n",
    "dHk6LjQ0MzgyO2ZpbGw6dXJsKCNmKTtmaWxsLW9wYWNpdHk6MTtmaWxsLXJ1bGU6bm9uemVybztz\n",
    "dHJva2U6bm9uZTtzdHJva2Utd2lkdGg6MTUuNDE3NDtzdHJva2UtbWl0ZXJsaW1pdDo0O3N0cm9r\n",
    "ZS1kYXNoYXJyYXk6bm9uZTtzdHJva2Utb3BhY2l0eToxIi8+PC9zdmc+\n",
    "\"\n",
    "     style=\"display:block;margin:auto;width:10%\" alt=\"Python Logo\"/>\n",
    "<br>\n",
    "\n",
    "<div style=\"text-align:center; font-size:200%;\">\n",
    " <b>MNIST mit NumPy</b>\n",
    "</div>\n",
    "<br/>\n",
    "<div style=\"text-align:center;\">Dr. Matthias Hölzl</div>\n",
    "<br/>"
   ]
  },
  {
   "cell_type": "code",
   "execution_count": null,
   "id": "f69e8980fba7b76b",
   "metadata": {},
   "outputs": [],
   "source": [
    "import matplotlib.pyplot as plt\n",
    "import numpy as np\n",
    "from sklearn.datasets import fetch_openml\n",
    "from sklearn.ensemble import RandomForestClassifier\n",
    "from sklearn.metrics import (\n",
    "    accuracy_score,\n",
    "    balanced_accuracy_score,\n",
    ")\n",
    "from sklearn.model_selection import train_test_split"
   ]
  },
  {
   "cell_type": "code",
   "execution_count": null,
   "id": "60e127ab0c335c1d",
   "metadata": {},
   "outputs": [],
   "source": [
    "mnist = globals().get(\"mnist\") or fetch_openml(\"mnist_784\", version=1)"
   ]
  },
  {
   "cell_type": "code",
   "execution_count": null,
   "id": "9ec356965a5f7e57",
   "metadata": {},
   "outputs": [],
   "source": [
    "mnist.data.to_numpy().shape"
   ]
  },
  {
   "cell_type": "code",
   "execution_count": null,
   "id": "16053959004c982f",
   "metadata": {},
   "outputs": [],
   "source": [
    "x = mnist.data.to_numpy().reshape(-1, 28, 28).astype(np.int32)\n",
    "y = mnist.target.to_numpy().astype(np.int32)"
   ]
  },
  {
   "cell_type": "code",
   "execution_count": null,
   "id": "9365aff8998cc849",
   "metadata": {},
   "outputs": [],
   "source": [
    "def show_labeled_image(index):\n",
    "    plt.imshow(x[index], cmap=\"binary\")\n",
    "    plt.show()\n",
    "    return y[index]"
   ]
  },
  {
   "cell_type": "code",
   "execution_count": null,
   "id": "7f565fa33bbbce39",
   "metadata": {},
   "outputs": [],
   "source": [
    "show_labeled_image(5)"
   ]
  },
  {
   "cell_type": "code",
   "execution_count": null,
   "id": "7db42fab8c131a9b",
   "metadata": {},
   "outputs": [],
   "source": [
    "x_train, x_test, y_train, y_test = train_test_split(\n",
    "    x, y, test_size=0.2, random_state=42\n",
    ")"
   ]
  },
  {
   "cell_type": "code",
   "execution_count": null,
   "id": "722aa141b5d5bc14",
   "metadata": {},
   "outputs": [],
   "source": [
    "x_train.dtype"
   ]
  },
  {
   "cell_type": "code",
   "execution_count": null,
   "id": "f0e6b239ef14231d",
   "metadata": {},
   "outputs": [],
   "source": [
    "x_train.shape, x_test.shape"
   ]
  },
  {
   "cell_type": "code",
   "execution_count": null,
   "id": "9a610746a6c00228",
   "metadata": {},
   "outputs": [],
   "source": [
    "y_train.shape, y_test.shape"
   ]
  },
  {
   "cell_type": "code",
   "execution_count": null,
   "id": "b99a5c79c3ccf7b9",
   "metadata": {},
   "outputs": [],
   "source": [
    "x_mean = x_train.mean(axis=0)"
   ]
  },
  {
   "cell_type": "code",
   "execution_count": null,
   "id": "5c818bdf0144e215",
   "metadata": {},
   "outputs": [],
   "source": [
    "x_mean.shape"
   ]
  },
  {
   "cell_type": "code",
   "execution_count": null,
   "id": "b0d64e26348c95f1",
   "metadata": {},
   "outputs": [],
   "source": [
    "plt.imshow(x_mean, cmap=\"binary\")\n",
    "plt.show()"
   ]
  },
  {
   "cell_type": "code",
   "execution_count": null,
   "id": "5b5d524e3ae19cc9",
   "metadata": {},
   "outputs": [],
   "source": [
    "ideal_digits = np.zeros((10, 28, 28), dtype=np.int32)"
   ]
  },
  {
   "cell_type": "code",
   "execution_count": null,
   "id": "0458aa069e138906",
   "metadata": {},
   "outputs": [],
   "source": [
    "for i in range(10):\n",
    "    x_i = x_train[y_train == i]\n",
    "    ideal_digits[i] = x_i.mean(axis=0)"
   ]
  },
  {
   "cell_type": "code",
   "execution_count": null,
   "id": "ecca391f83bacaf1",
   "metadata": {},
   "outputs": [],
   "source": [
    "plt.imshow(ideal_digits[0], cmap=\"binary\")\n",
    "plt.show()"
   ]
  },
  {
   "cell_type": "code",
   "execution_count": null,
   "id": "d4f45ab1d0968160",
   "metadata": {
    "lines_to_next_cell": 2
   },
   "outputs": [],
   "source": [
    "fig, ax = plt.subplots(2, 5, figsize=(15, 5))\n",
    "for i in range(10):\n",
    "    ax.reshape(10)[i].imshow(ideal_digits[i], cmap=\"binary\")"
   ]
  },
  {
   "cell_type": "code",
   "execution_count": null,
   "id": "46ca7d81846eacc5",
   "metadata": {},
   "outputs": [],
   "source": [
    "plt.imshow(x_test[0], cmap=\"binary\")\n",
    "plt.show()"
   ]
  },
  {
   "cell_type": "code",
   "execution_count": null,
   "id": "8eebe4e7d3c9759c",
   "metadata": {},
   "outputs": [],
   "source": [
    "np.set_printoptions(precision=2)"
   ]
  },
  {
   "cell_type": "code",
   "execution_count": null,
   "id": "7fd9e11e662c24af",
   "metadata": {},
   "outputs": [],
   "source": [
    "x_test[0, 3:12, 3:12]"
   ]
  },
  {
   "cell_type": "code",
   "execution_count": null,
   "id": "53e62c6fe1d4645f",
   "metadata": {},
   "outputs": [],
   "source": [
    "diff = ideal_digits[8] - x_test[0]\n",
    "diff[3:12, 3:12]"
   ]
  },
  {
   "cell_type": "code",
   "execution_count": null,
   "id": "d4a7aa3038a6820f",
   "metadata": {},
   "outputs": [],
   "source": [
    "plt.imshow(diff)\n",
    "plt.show()"
   ]
  },
  {
   "cell_type": "code",
   "execution_count": null,
   "id": "8d18a79acecbbac2",
   "metadata": {},
   "outputs": [],
   "source": [
    "(diff * diff)[3:12, 3:12]"
   ]
  },
  {
   "cell_type": "code",
   "execution_count": null,
   "id": "7a034178afdb4c0c",
   "metadata": {},
   "outputs": [],
   "source": [
    "(diff * diff).sum()"
   ]
  },
  {
   "cell_type": "code",
   "execution_count": null,
   "id": "7f9bb3b288a9f78b",
   "metadata": {},
   "outputs": [],
   "source": [
    "diffs = ideal_digits - x_test[0]\n",
    "diffs.shape"
   ]
  },
  {
   "cell_type": "code",
   "execution_count": null,
   "id": "a6b91ef2a4055bc3",
   "metadata": {},
   "outputs": [],
   "source": [
    "errors = (diffs * diffs).sum(axis=(1, 2))\n",
    "print(errors.shape)\n",
    "errors.argmin()"
   ]
  },
  {
   "cell_type": "code",
   "execution_count": null,
   "id": "835372d683c2af6b",
   "metadata": {},
   "outputs": [],
   "source": [
    "def compute_single_numpy_prediction(img):\n",
    "    diffs = ideal_digits - img\n",
    "    return (diffs * diffs).sum(axis=(1, 2)).argmin()"
   ]
  },
  {
   "cell_type": "code",
   "execution_count": null,
   "id": "2d55c24d3fe9478a",
   "metadata": {},
   "outputs": [],
   "source": [
    "compute_single_numpy_prediction(x_test[0])"
   ]
  },
  {
   "cell_type": "code",
   "execution_count": null,
   "id": "83acde182355fa67",
   "metadata": {},
   "outputs": [],
   "source": [
    "batched_ideal_digits = np.expand_dims(ideal_digits, axis=0)\n",
    "batched_ideal_digits.shape"
   ]
  },
  {
   "cell_type": "code",
   "execution_count": null,
   "id": "58a885c8c21e8481",
   "metadata": {},
   "outputs": [],
   "source": [
    "np.expand_dims(x_test, axis=1).shape"
   ]
  },
  {
   "cell_type": "code",
   "execution_count": null,
   "id": "9cf8af3b618ed24d",
   "metadata": {},
   "outputs": [],
   "source": [
    "def compute_numpy_predictions(imgs):\n",
    "    diffs = ideal_digits - np.expand_dims(imgs, axis=1)\n",
    "    return (diffs * diffs).sum(axis=(2, 3)).argmin(axis=1)"
   ]
  },
  {
   "cell_type": "code",
   "execution_count": null,
   "id": "b09853ecfe908d75",
   "metadata": {},
   "outputs": [],
   "source": [
    "pred_numpy = compute_numpy_predictions(x_test)"
   ]
  },
  {
   "cell_type": "code",
   "execution_count": null,
   "id": "3d4f553938d22477",
   "metadata": {},
   "outputs": [],
   "source": [
    "pred_numpy.shape"
   ]
  },
  {
   "cell_type": "code",
   "execution_count": null,
   "id": "d3c57f024bd6a3d9",
   "metadata": {},
   "outputs": [],
   "source": [
    "def print_scores(predictions):\n",
    "    accuracy = accuracy_score(y_test, predictions) * 100\n",
    "    balanced_accuracy = balanced_accuracy_score(y_test, predictions) * 100\n",
    "    print(f\"Accuracy:          {accuracy:.1f}%\")\n",
    "    print(f\"Balanced Accuracy: {balanced_accuracy:.1f}%\")\n",
    "    print()\n",
    "    for i in range(10):\n",
    "        idx = y_test == i\n",
    "        accuracy_i = accuracy_score(y_test[idx], predictions[idx]) * 100\n",
    "        print(f\"Accuracy for {i}:    {accuracy_i:.1f}%\")\n",
    "    print()"
   ]
  },
  {
   "cell_type": "code",
   "execution_count": null,
   "id": "20a339376b835256",
   "metadata": {},
   "outputs": [],
   "source": [
    "print_scores(pred_numpy)"
   ]
  },
  {
   "cell_type": "code",
   "execution_count": null,
   "id": "73ecdf7c7dcb52d5",
   "metadata": {},
   "outputs": [],
   "source": [
    "plt.imshow(x_mean, cmap=\"binary\")\n",
    "plt.show()"
   ]
  },
  {
   "cell_type": "code",
   "execution_count": null,
   "id": "fe3416255165e36e",
   "metadata": {},
   "outputs": [],
   "source": [
    "rf_clf = RandomForestClassifier()"
   ]
  },
  {
   "cell_type": "code",
   "execution_count": null,
   "id": "f127eb9b9f3fa3d6",
   "metadata": {},
   "outputs": [],
   "source": [
    "x_train.shape"
   ]
  },
  {
   "cell_type": "code",
   "execution_count": null,
   "id": "482bee9395818baa",
   "metadata": {},
   "outputs": [],
   "source": [
    "rf_clf.fit(x_train.reshape(-1, 28 * 28), y_train)"
   ]
  },
  {
   "cell_type": "code",
   "execution_count": null,
   "id": "fcda5ec5f65a3247",
   "metadata": {},
   "outputs": [],
   "source": [
    "pred_rf = rf_clf.predict(x_test.reshape(-1, 28 * 28))"
   ]
  },
  {
   "cell_type": "code",
   "execution_count": null,
   "id": "a5bdefbc9c28729f",
   "metadata": {},
   "outputs": [],
   "source": [
    "print_scores(pred_rf)"
   ]
  },
  {
   "cell_type": "code",
   "execution_count": null,
   "id": "641fa5aca05dbb6a",
   "metadata": {},
   "outputs": [],
   "source": []
  }
 ],
 "metadata": {
  "jupytext": {
   "cell_metadata_filter": "lang,tags,-all",
   "main_language": "python",
   "notebook_metadata_filter": "-all"
  },
  "kernelspec": {
   "display_name": "Python 3 (ipykernel)",
   "language": "python",
   "name": "python3"
  },
  "language_info": {
   "codemirror_mode": {
    "name": "ipython",
    "version": 3
   },
   "file_extension": ".py",
   "mimetype": "text/x-python",
   "name": "python",
   "nbconvert_exporter": "python",
   "pygments_lexer": "ipython3"
  }
 },
 "nbformat": 4,
 "nbformat_minor": 5
}
