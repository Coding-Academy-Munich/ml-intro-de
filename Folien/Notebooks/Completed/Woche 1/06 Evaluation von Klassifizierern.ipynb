{
 "cells": [
  {
   "cell_type": "markdown",
   "id": "cbc0889673d7050f",
   "metadata": {
    "lang": "de",
    "slideshow": {
     "slide_type": "slide"
    },
    "tags": [
     "slide"
    ]
   },
   "source": [
    "\n",
    "<img src=\"data:image/svg+xml;base64,PHN2ZyB4bWxucz0iaHR0cDovL3d3dy53My5vcmcvMjAwMC9zdmciIHhtbG5zOnhsaW5rPSJodHRw\n",
    "Oi8vd3d3LnczLm9yZy8xOTk5L3hsaW5rIiB3aWR0aD0iMTExLjE2MSIgaGVpZ2h0PSIxMzQuNjY4\n",
    "IiB2ZXJzaW9uPSIxLjAiPjxkZWZzPjxsaW5lYXJHcmFkaWVudCBpZD0iYyI+PHN0b3Agb2Zmc2V0\n",
    "PSIwIiBzdHlsZT0ic3RvcC1jb2xvcjojYjhiOGI4O3N0b3Atb3BhY2l0eTouNDk4MDM5MjIiLz48\n",
    "c3RvcCBvZmZzZXQ9IjEiIHN0eWxlPSJzdG9wLWNvbG9yOiM3ZjdmN2Y7c3RvcC1vcGFjaXR5OjAi\n",
    "Lz48L2xpbmVhckdyYWRpZW50PjxsaW5lYXJHcmFkaWVudCBpZD0iYSI+PHN0b3Agb2Zmc2V0PSIw\n",
    "IiBzdHlsZT0ic3RvcC1jb2xvcjojZmZkNDNiO3N0b3Atb3BhY2l0eToxIi8+PHN0b3Agb2Zmc2V0\n",
    "PSIxIiBzdHlsZT0ic3RvcC1jb2xvcjojZmZlODczO3N0b3Atb3BhY2l0eToxIi8+PC9saW5lYXJH\n",
    "cmFkaWVudD48bGluZWFyR3JhZGllbnQgaWQ9ImIiPjxzdG9wIG9mZnNldD0iMCIgc3R5bGU9InN0\n",
    "b3AtY29sb3I6IzVhOWZkNDtzdG9wLW9wYWNpdHk6MSIvPjxzdG9wIG9mZnNldD0iMSIgc3R5bGU9\n",
    "InN0b3AtY29sb3I6IzMwNjk5ODtzdG9wLW9wYWNpdHk6MSIvPjwvbGluZWFyR3JhZGllbnQ+PGxp\n",
    "bmVhckdyYWRpZW50IHhsaW5rOmhyZWY9IiNhIiBpZD0iZSIgeDE9IjE1MC45NjEiIHgyPSIxMTIu\n",
    "MDMxIiB5MT0iMTkyLjM1MiIgeTI9IjEzNy4yNzMiIGdyYWRpZW50VHJhbnNmb3JtPSJtYXRyaXgo\n",
    "LjU2MjU0IDAgMCAuNTY3OTcgLTE0Ljk5MSAtMTEuNzAyKSIgZ3JhZGllbnRVbml0cz0idXNlclNw\n",
    "YWNlT25Vc2UiLz48bGluZWFyR3JhZGllbnQgeGxpbms6aHJlZj0iI2IiIGlkPSJkIiB4MT0iMjYu\n",
    "NjQ5IiB4Mj0iMTM1LjY2NSIgeTE9IjIwLjYwNCIgeTI9IjExNC4zOTgiIGdyYWRpZW50VHJhbnNm\n",
    "b3JtPSJtYXRyaXgoLjU2MjU0IDAgMCAuNTY3OTcgLTE0Ljk5MSAtMTEuNzAyKSIgZ3JhZGllbnRV\n",
    "bml0cz0idXNlclNwYWNlT25Vc2UiLz48cmFkaWFsR3JhZGllbnQgeGxpbms6aHJlZj0iI2MiIGlk\n",
    "PSJmIiBjeD0iNjEuNTE5IiBjeT0iMTMyLjI4NiIgcj0iMjkuMDM3IiBmeD0iNjEuNTE5IiBmeT0i\n",
    "MTMyLjI4NiIgZ3JhZGllbnRUcmFuc2Zvcm09Im1hdHJpeCgwIC0uMjM5OTUgMS4wNTQ2NyAwIC04\n",
    "My43IDE0Mi40NjIpIiBncmFkaWVudFVuaXRzPSJ1c2VyU3BhY2VPblVzZSIvPjwvZGVmcz48cGF0\n",
    "aCBkPSJNNTQuOTE5IDBjLTQuNTg0LjAyMi04Ljk2MS40MTMtMTIuODEzIDEuMDk1QzMwLjc2IDMu\n",
    "MDk5IDI4LjcgNy4yOTUgMjguNyAxNS4wMzJ2MTAuMjE5aDI2LjgxM3YzLjQwNkgxOC42MzhjLTcu\n",
    "NzkzIDAtMTQuNjE2IDQuNjg0LTE2Ljc1IDEzLjU5NC0yLjQ2MiAxMC4yMTMtMi41NzEgMTYuNTg2\n",
    "IDAgMjcuMjUgMS45MDUgNy45MzggNi40NTcgMTMuNTk0IDE0LjI1IDEzLjU5NGg5LjIxOHYtMTIu\n",
    "MjVjMC04Ljg1IDcuNjU3LTE2LjY1NyAxNi43NS0xNi42NTdoMjYuNzgyYzcuNDU0IDAgMTMuNDA2\n",
    "LTYuMTM4IDEzLjQwNi0xMy42MjV2LTI1LjUzYzAtNy4yNjctNi4xMy0xMi43MjYtMTMuNDA2LTEz\n",
    "LjkzOEM2NC4yODIuMzI4IDU5LjUwMi0uMDIgNTQuOTE4IDBtLTE0LjUgOC4yMmMyLjc3IDAgNS4w\n",
    "MzEgMi4yOTggNS4wMzEgNS4xMjUgMCAyLjgxNi0yLjI2MiA1LjA5My01LjAzMSA1LjA5My0yLjc4\n",
    "IDAtNS4wMzEtMi4yNzctNS4wMzEtNS4wOTMgMC0yLjgyNyAyLjI1MS01LjEyNSA1LjAzLTUuMTI1\n",
    "IiBzdHlsZT0iZmlsbDp1cmwoI2QpO2ZpbGwtb3BhY2l0eToxIi8+PHBhdGggZD0iTTg1LjYzOCAy\n",
    "OC42NTd2MTEuOTA2YzAgOS4yMzEtNy44MjYgMTctMTYuNzUgMTdINDIuMTA2Yy03LjMzNiAwLTEz\n",
    "LjQwNiA2LjI3OS0xMy40MDYgMTMuNjI1Vjk2LjcyYzAgNy4yNjYgNi4zMTkgMTEuNTQgMTMuNDA2\n",
    "IDEzLjYyNSA4LjQ4OCAyLjQ5NSAxNi42MjcgMi45NDYgMjYuNzgyIDAgNi43NS0xLjk1NSAxMy40\n",
    "MDYtNS44ODggMTMuNDA2LTEzLjYyNVY4Ni41SDU1LjUxM3YtMy40MDVIOTUuN2M3Ljc5MyAwIDEw\n",
    "LjY5Ni01LjQzNiAxMy40MDYtMTMuNTk0IDIuOC04LjM5OSAyLjY4LTE2LjQ3NiAwLTI3LjI1LTEu\n",
    "OTI1LTcuNzU4LTUuNjA0LTEzLjU5NC0xMy40MDYtMTMuNTk0ek03MC41NzUgOTMuMzEzYzIuNzgg\n",
    "MCA1LjAzMSAyLjI3OCA1LjAzMSA1LjA5NCAwIDIuODI3LTIuMjUxIDUuMTI1LTUuMDMxIDUuMTI1\n",
    "LTIuNzcgMC01LjAzMS0yLjI5OC01LjAzMS01LjEyNSAwLTIuODE2IDIuMjYxLTUuMDk0IDUuMDMx\n",
    "LTUuMDk0IiBzdHlsZT0iZmlsbDp1cmwoI2UpO2ZpbGwtb3BhY2l0eToxIi8+PGVsbGlwc2UgY3g9\n",
    "IjU1LjgxNyIgY3k9IjEyNy43MDEiIHJ4PSIzNS45MzEiIHJ5PSI2Ljk2NyIgc3R5bGU9Im9wYWNp\n",
    "dHk6LjQ0MzgyO2ZpbGw6dXJsKCNmKTtmaWxsLW9wYWNpdHk6MTtmaWxsLXJ1bGU6bm9uemVybztz\n",
    "dHJva2U6bm9uZTtzdHJva2Utd2lkdGg6MTUuNDE3NDtzdHJva2UtbWl0ZXJsaW1pdDo0O3N0cm9r\n",
    "ZS1kYXNoYXJyYXk6bm9uZTtzdHJva2Utb3BhY2l0eToxIi8+PC9zdmc+\n",
    "\"\n",
    "     style=\"display:block;margin:auto;width:10%\" alt=\"Python Logo\"/>\n",
    "<br>\n",
    "\n",
    "<div style=\"text-align:center; font-size:200%;\">\n",
    " <b>Evaluation von Klassifizierern</b>\n",
    "</div>\n",
    "<br/>\n",
    "<div style=\"text-align:center;\">Dr. Matthias Hölzl</div>\n",
    "<br/>"
   ]
  },
  {
   "cell_type": "markdown",
   "id": "fef63f441b1a1f74",
   "metadata": {
    "lang": "de",
    "slideshow": {
     "slide_type": "slide"
    },
    "tags": [
     "slide"
    ]
   },
   "source": [
    "\n",
    "# Evaluation von Klassifizierern"
   ]
  },
  {
   "cell_type": "markdown",
   "id": "56fb5d1d3c930616",
   "metadata": {
    "lang": "de",
    "slideshow": {
     "slide_type": "slide"
    },
    "tags": [
     "slide"
    ]
   },
   "source": [
    " # Wie gut sind wir?\n",
    "\n",
    " Woher wissen wir, wie gut unser Modell funktioniert?"
   ]
  },
  {
   "cell_type": "markdown",
   "id": "fcafb8b35348f927",
   "metadata": {
    "lang": "de",
    "slideshow": {
     "slide_type": "subslide"
    },
    "tags": [
     "subslide"
    ]
   },
   "source": [
    " ## Was kann schief gehen?\n",
    "\n",
    " <img src=\"img/Figure-03-015.png\" style=\"width: 100%; padding: 30px 100px 0\"/>"
   ]
  },
  {
   "cell_type": "markdown",
   "id": "e2135f38bfae8d9f",
   "metadata": {
    "lang": "de",
    "slideshow": {
     "slide_type": "subslide"
    },
    "tags": [
     "subslide"
    ]
   },
   "source": [
    " ## Was kann schief gehen?\n",
    "\n",
    " <img src=\"img/Figure-03-021.png\" style=\"width: 100%; padding: 30px 100px 0\"/>"
   ]
  },
  {
   "cell_type": "markdown",
   "id": "83525a97c6221db8",
   "metadata": {
    "lang": "de",
    "slideshow": {
     "slide_type": "subslide"
    },
    "tags": [
     "subslide"
    ]
   },
   "source": [
    " ## Was kann schief gehen?\n",
    "\n",
    " <img src=\"img/Figure-03-022.png\" style=\"width: 100%; padding: 30px 100px 0\"/>"
   ]
  },
  {
   "cell_type": "markdown",
   "id": "fad19932713b9567",
   "metadata": {
    "lang": "de",
    "slideshow": {
     "slide_type": "subslide"
    },
    "tags": [
     "subslide"
    ]
   },
   "source": [
    " ## Was kann schief gehen?\n",
    "\n",
    " <img src=\"img/Figure-03-017.png\" style=\"width: 100%; padding: 30px 100px 0\"/>"
   ]
  },
  {
   "cell_type": "markdown",
   "id": "0b92d203589d818d",
   "metadata": {
    "lang": "de",
    "slideshow": {
     "slide_type": "subslide"
    },
    "tags": [
     "subslide"
    ]
   },
   "source": [
    "## Confusion Matrix\n",
    "\n",
    " <img src=\"img/Figure-03-018.png\" style=\"width: 100%; padding: 30px 100px 0\"/>"
   ]
  },
  {
   "cell_type": "markdown",
   "id": "9738b8691c186ba7",
   "metadata": {
    "lang": "de",
    "slideshow": {
     "slide_type": "subslide"
    },
    "tags": [
     "subslide"
    ]
   },
   "source": [
    "## Confusion Matrix\n",
    "\n",
    " <img src=\"img/Figure-03-019.png\" style=\"width: 60%; padding: 30px 100px 0\"/>"
   ]
  },
  {
   "cell_type": "markdown",
   "id": "39cd2a0163db2226",
   "metadata": {
    "lang": "de",
    "slideshow": {
     "slide_type": "subslide"
    },
    "tags": [
     "subslide"
    ]
   },
   "source": [
    " ## Genauigkeit (Accuracy): Wie viel haben wir richtig gemacht?\n",
    "\n",
    "\n",
    " <img src=\"img/Figure-03-028.png\" style=\"width: 100%; padding: 30px 100px 0\"/>"
   ]
  },
  {
   "cell_type": "markdown",
   "id": "a88a57c780ef3321",
   "metadata": {
    "lang": "de",
    "lines_to_next_cell": 2,
    "slideshow": {
     "slide_type": "subslide"
    },
    "tags": [
     "subslide"
    ]
   },
   "source": [
    " ## Genauigkeit (Accuracy): Wie viel haben wir richtig gemacht?\n",
    "\n",
    " <img src=\"img/Figure-03-029.png\" style=\"width:60%; padding: 30px 100px 0\"/>"
   ]
  },
  {
   "cell_type": "markdown",
   "id": "f7272f2c4a220793",
   "metadata": {
    "lang": "de",
    "lines_to_next_cell": 2,
    "slideshow": {
     "slide_type": "subslide"
    },
    "tags": [
     "subslide"
    ]
   },
   "source": [
    " ## Genauigkeit (Accuracy): Wie viel haben wir richtig gemacht?\n",
    "\n",
    " <img src=\"img/Figure-03-023.png\" style=\"width: 100%; padding: 30px 100px 0\"/>"
   ]
  },
  {
   "cell_type": "markdown",
   "id": "79942c644867492a",
   "metadata": {
    "lang": "de",
    "slideshow": {
     "slide_type": "subslide"
    },
    "tags": [
     "subslide"
    ]
   },
   "source": [
    " ## Präzision: Wie gut sind unsere positiven Ergebnisse?\n",
    "\n",
    " <img src=\"img/Figure-03-030.png\" style=\"width: 80%; padding: 30px 100px 0\"/>"
   ]
  },
  {
   "cell_type": "markdown",
   "id": "9d595a142fea9089",
   "metadata": {
    "lang": "de",
    "slideshow": {
     "slide_type": "subslide"
    },
    "tags": [
     "subslide"
    ]
   },
   "source": [
    " ## Präzision: Wie gut sind unsere positiven Ergebnisse?\n",
    "\n",
    " <img src=\"img/Figure-03-024.png\" style=\"width: 80%; padding: 30px 100px 0\"/>"
   ]
  },
  {
   "cell_type": "markdown",
   "id": "5276620e507fd149",
   "metadata": {
    "lang": "de",
    "slideshow": {
     "slide_type": "subslide"
    },
    "tags": [
     "subslide"
    ]
   },
   "source": [
    " ## Recall: Wie viele positive Ergebnisse haben wir verloren?\n",
    "\n",
    " <img src=\"img/Figure-03-031.png\" style=\"width: 60%; padding: 30px 100px 0\"/>"
   ]
  },
  {
   "cell_type": "markdown",
   "id": "faf42b16574d6555",
   "metadata": {
    "lang": "de",
    "slideshow": {
     "slide_type": "subslide"
    },
    "tags": [
     "subslide"
    ]
   },
   "source": [
    " ## Recall: Wie viele positive Ergebnisse haben wir verloren?\n",
    "\n",
    " <img src=\"img/Figure-03-026.png\" style=\"width: 100%; padding: 30px 100px 0\"/>"
   ]
  },
  {
   "cell_type": "markdown",
   "id": "02d60ebb73cc43e7",
   "metadata": {
    "lang": "de",
    "slideshow": {
     "slide_type": "subslide"
    },
    "tags": [
     "subslide"
    ]
   },
   "source": [
    " ## Beschreiben von Klassifikations-Ergebnissen\n",
    "\n",
    " <img src=\"img/Figure-03-033.png\" style=\"width: 80%; padding: 30px 100px 0\"/>"
   ]
  },
  {
   "cell_type": "markdown",
   "id": "3adb43cf76b1ddaa",
   "metadata": {
    "lang": "de",
    "slideshow": {
     "slide_type": "subslide"
    },
    "tags": [
     "subslide"
    ]
   },
   "source": [
    " ## Beschreiben von Klassifikations-Ergebnissen\n",
    "\n",
    " <img src=\"img/Figure-03-034.png\" style=\"width: 50%; padding: 30px 100px 0\"/>"
   ]
  },
  {
   "cell_type": "markdown",
   "id": "075358402218f510",
   "metadata": {
    "lang": "de",
    "lines_to_next_cell": 2,
    "slideshow": {
     "slide_type": "subslide"
    },
    "tags": [
     "subslide"
    ]
   },
   "source": [
    " ## Beschreiben von Klassifikations-Ergebnissen\n",
    "\n",
    " <img src=\"img/Figure-03-032.png\" style=\"width: 50%; padding: 30px 100px 0\"/>"
   ]
  },
  {
   "cell_type": "markdown",
   "id": "f4347c400211a3ac",
   "metadata": {
    "lang": "de",
    "slideshow": {
     "slide_type": "subslide"
    },
    "tags": [
     "subslide"
    ]
   },
   "source": [
    "\n",
    "## Precision/Recall Tradeoff\n",
    "\n",
    " <img src=\"img/precision-recall-00.png\" style=\"width: 60%; padding: 30px 100px 0\"/>"
   ]
  },
  {
   "cell_type": "markdown",
   "id": "3090e7695c43e3fe",
   "metadata": {
    "lang": "de",
    "slideshow": {
     "slide_type": "subslide"
    },
    "tags": [
     "subslide"
    ]
   },
   "source": [
    "\n",
    "## Precision/Recall Tradeoff\n",
    "\n",
    " <img src=\"img/precision-recall-01.png\" style=\"width: 60%; padding: 30px 100px 0\"/>"
   ]
  },
  {
   "cell_type": "markdown",
   "id": "de30dac7ca0561bb",
   "metadata": {
    "lang": "de",
    "slideshow": {
     "slide_type": "subslide"
    },
    "tags": [
     "subslide"
    ]
   },
   "source": [
    "\n",
    "## Precision/Recall Tradeoff\n",
    "\n",
    " <img src=\"img/precision-recall-02.png\" style=\"width: 60%; padding: 30px 100px 0\"/>"
   ]
  },
  {
   "cell_type": "markdown",
   "id": "51c927c65d690e8a",
   "metadata": {
    "lang": "de",
    "slideshow": {
     "slide_type": "subslide"
    },
    "tags": [
     "subslide"
    ]
   },
   "source": [
    "\n",
    "## Precision/Recall Tradeoff\n",
    "\n",
    " <img src=\"img/precision-recall-03.png\" style=\"width: 60%; padding: 30px 100px 0\"/>"
   ]
  },
  {
   "cell_type": "markdown",
   "id": "c4c0a91caa6b1b6c",
   "metadata": {
    "lang": "de",
    "slideshow": {
     "slide_type": "subslide"
    },
    "tags": [
     "subslide"
    ]
   },
   "source": [
    "\n",
    "## Precision/Recall Tradeoff\n",
    "\n",
    " <img src=\"img/precision-recall-04.png\" style=\"width: 60%; padding: 30px 100px 0\"/>"
   ]
  },
  {
   "cell_type": "markdown",
   "id": "b19f23f708dd959b",
   "metadata": {
    "lang": "de",
    "slideshow": {
     "slide_type": "subslide"
    },
    "tags": [
     "subslide"
    ]
   },
   "source": [
    "\n",
    "## Precision/Recall Tradeoff\n",
    "\n",
    " <img src=\"img/precision-recall-05.png\" style=\"width: 60%; padding: 30px 100px 0\"/>"
   ]
  },
  {
   "cell_type": "markdown",
   "id": "9ab99f4251080ed1",
   "metadata": {
    "lang": "de",
    "slideshow": {
     "slide_type": "subslide"
    },
    "tags": [
     "subslide"
    ]
   },
   "source": [
    "\n",
    "## Precision/Recall Tradeoff\n",
    "\n",
    " <img src=\"img/precision-recall-06.png\" style=\"width: 60%; padding: 30px 100px 0\"/>"
   ]
  },
  {
   "cell_type": "markdown",
   "id": "fd097fd9dda44c4b",
   "metadata": {
    "lang": "de",
    "slideshow": {
     "slide_type": "subslide"
    },
    "tags": [
     "subslide"
    ]
   },
   "source": [
    "\n",
    "## Precision/Recall Tradeoff\n",
    "\n",
    " <img src=\"img/precision-recall-07.png\" style=\"width: 60%; padding: 30px 100px 0\"/>"
   ]
  },
  {
   "cell_type": "markdown",
   "id": "d0fa4c2975377e97",
   "metadata": {
    "lang": "de",
    "slideshow": {
     "slide_type": "subslide"
    },
    "tags": [
     "subslide"
    ]
   },
   "source": [
    "\n",
    "## Precision/Recall Tradeoff\n",
    "\n",
    " <img src=\"img/precision-recall-08.png\" style=\"width: 60%; padding: 30px 100px 0\"/>"
   ]
  },
  {
   "cell_type": "markdown",
   "id": "28c3e0cf0c440459",
   "metadata": {
    "lang": "de",
    "slideshow": {
     "slide_type": "subslide"
    },
    "tags": [
     "subslide"
    ]
   },
   "source": [
    "\n",
    "## Precision/Recall Tradeoff\n",
    "\n",
    " <img src=\"img/precision-recall-09.png\" style=\"width: 60%; padding: 30px 100px 0\"/>"
   ]
  },
  {
   "cell_type": "markdown",
   "id": "6af9ca64c00ecad1",
   "metadata": {
    "lang": "de",
    "slideshow": {
     "slide_type": "slide"
    },
    "tags": [
     "slide"
    ]
   },
   "source": [
    " ## Precision/Recall Tradeoff\n",
    "\n",
    " <img src=\"img/Figure-03-017.png\" style=\"width: 100%; padding: 30px 100px 0\"/>"
   ]
  },
  {
   "cell_type": "markdown",
   "id": "c2e50370579ba85a",
   "metadata": {
    "lang": "de",
    "slideshow": {
     "slide_type": "subslide"
    },
    "tags": [
     "subslide"
    ]
   },
   "source": [
    "## Precision/Recall Tradeoff\n",
    "\n",
    "<img src=\"img/Figure-03-035.png\" style=\"width: 100%; padding: 30px 100px 0\"/>"
   ]
  },
  {
   "cell_type": "markdown",
   "id": "2e118e1d87374206",
   "metadata": {
    "lang": "de",
    "slideshow": {
     "slide_type": "subslide"
    },
    "tags": [
     "subslide"
    ]
   },
   "source": [
    "## Precision/Recall Tradeoff\n",
    "\n",
    "<img src=\"img/Figure-03-036.png\" style=\"width: 70%; padding: auto\"/>"
   ]
  },
  {
   "cell_type": "markdown",
   "id": "056ed3b563f2e90d",
   "metadata": {
    "lang": "de",
    "slideshow": {
     "slide_type": "subslide"
    },
    "tags": [
     "subslide"
    ]
   },
   "source": [
    "## Precision/Recall Tradeoff\n",
    "\n",
    "<img src=\"img/Figure-03-037.png\" style=\"width: 80%; padding: auto\"/>"
   ]
  },
  {
   "cell_type": "markdown",
   "id": "6579837897fb9a99",
   "metadata": {
    "lang": "de",
    "slideshow": {
     "slide_type": "subslide"
    },
    "tags": [
     "subslide"
    ]
   },
   "source": [
    "## Precision/Recall Tradeoff\n",
    "\n",
    "<img src=\"img/Figure-03-038.png\" style=\"width: 70%; padding: auto\"/>"
   ]
  },
  {
   "cell_type": "markdown",
   "id": "986c9fc28aae980e",
   "metadata": {
    "lang": "de",
    "slideshow": {
     "slide_type": "slide"
    },
    "tags": [
     "slide"
    ]
   },
   "source": [
    " ## F1: Evaluierung des Precision/Recall Tradeoffs\n",
    "\n",
    " <img src=\"img/Figure-03-039.png\" style=\"width: 100%; padding: 30px 100px 0\"/>"
   ]
  },
  {
   "cell_type": "markdown",
   "id": "5534152693c91f44",
   "metadata": {
    "lang": "de",
    "slideshow": {
     "slide_type": "slide"
    },
    "tags": [
     "slide"
    ]
   },
   "source": [
    " ## Unbalancierte Daten\n",
    "\n",
    " <img src=\"img/Figure-03-020.png\" style=\"width: 60%; padding: 30px 100px 0\"/>"
   ]
  },
  {
   "cell_type": "markdown",
   "id": "13436343ece311e2",
   "metadata": {
    "lang": "de",
    "slideshow": {
     "slide_type": "slide"
    },
    "tags": [
     "slide"
    ]
   },
   "source": [
    " ## Unbalancierte Daten\n",
    "\n",
    " <img src=\"img/Figure-03-040.png\" style=\"width: 60%; padding: 30px 100px 0\"/>"
   ]
  },
  {
   "cell_type": "markdown",
   "id": "2035e6d21653a7aa",
   "metadata": {
    "lang": "de",
    "slideshow": {
     "slide_type": "slide"
    },
    "tags": [
     "slide"
    ]
   },
   "source": [
    " ## Unbalancierte Daten\n",
    "\n",
    " <img src=\"img/Figure-03-041.png\" style=\"width: 60%; padding: 30px 50px 0\"/>"
   ]
  },
  {
   "cell_type": "markdown",
   "id": "b363af685015b5f8",
   "metadata": {
    "lang": "de",
    "slideshow": {
     "slide_type": "slide"
    },
    "tags": [
     "slide"
    ]
   },
   "source": [
    " ## Unbalancierte Daten\n",
    "\n",
    " <img src=\"img/Figure-03-042.png\" style=\"width: 60%; padding: 30px 100px 0\"/>"
   ]
  },
  {
   "cell_type": "markdown",
   "id": "1986b93cb7d79d89",
   "metadata": {
    "lang": "de",
    "slideshow": {
     "slide_type": "slide"
    },
    "tags": [
     "slide"
    ]
   },
   "source": [
    " ## Unbalancierte Daten\n",
    "\n",
    " <img src=\"img/Figure-03-043.png\" style=\"width: 100%; padding: 30px 100px 0\"/>"
   ]
  }
 ],
 "metadata": {
  "jupytext": {
   "cell_metadata_filter": "lang,tags,-all",
   "main_language": "python",
   "notebook_metadata_filter": "-all"
  },
  "kernelspec": {
   "display_name": "Python 3 (ipykernel)",
   "language": "python",
   "name": "python3"
  },
  "language_info": {
   "codemirror_mode": {
    "name": "ipython",
    "version": 3
   },
   "file_extension": ".py",
   "mimetype": "text/x-python",
   "name": "python",
   "nbconvert_exporter": "python",
   "pygments_lexer": "ipython3"
  }
 },
 "nbformat": 4,
 "nbformat_minor": 5
}
