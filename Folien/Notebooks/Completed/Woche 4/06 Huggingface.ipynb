{
 "cells": [
  {
   "cell_type": "markdown",
   "id": "607f0b6e06856ef6",
   "metadata": {
    "lang": "de",
    "slideshow": {
     "slide_type": "slide"
    },
    "tags": [
     "slide"
    ]
   },
   "source": [
    "\n",
    "<img src=\"data:image/svg+xml;base64,PHN2ZyB4bWxucz0iaHR0cDovL3d3dy53My5vcmcvMjAwMC9zdmciIHhtbG5zOnhsaW5rPSJodHRw\n",
    "Oi8vd3d3LnczLm9yZy8xOTk5L3hsaW5rIiB3aWR0aD0iMTExLjE2MSIgaGVpZ2h0PSIxMzQuNjY4\n",
    "IiB2ZXJzaW9uPSIxLjAiPjxkZWZzPjxsaW5lYXJHcmFkaWVudCBpZD0iYyI+PHN0b3Agb2Zmc2V0\n",
    "PSIwIiBzdHlsZT0ic3RvcC1jb2xvcjojYjhiOGI4O3N0b3Atb3BhY2l0eTouNDk4MDM5MjIiLz48\n",
    "c3RvcCBvZmZzZXQ9IjEiIHN0eWxlPSJzdG9wLWNvbG9yOiM3ZjdmN2Y7c3RvcC1vcGFjaXR5OjAi\n",
    "Lz48L2xpbmVhckdyYWRpZW50PjxsaW5lYXJHcmFkaWVudCBpZD0iYSI+PHN0b3Agb2Zmc2V0PSIw\n",
    "IiBzdHlsZT0ic3RvcC1jb2xvcjojZmZkNDNiO3N0b3Atb3BhY2l0eToxIi8+PHN0b3Agb2Zmc2V0\n",
    "PSIxIiBzdHlsZT0ic3RvcC1jb2xvcjojZmZlODczO3N0b3Atb3BhY2l0eToxIi8+PC9saW5lYXJH\n",
    "cmFkaWVudD48bGluZWFyR3JhZGllbnQgaWQ9ImIiPjxzdG9wIG9mZnNldD0iMCIgc3R5bGU9InN0\n",
    "b3AtY29sb3I6IzVhOWZkNDtzdG9wLW9wYWNpdHk6MSIvPjxzdG9wIG9mZnNldD0iMSIgc3R5bGU9\n",
    "InN0b3AtY29sb3I6IzMwNjk5ODtzdG9wLW9wYWNpdHk6MSIvPjwvbGluZWFyR3JhZGllbnQ+PGxp\n",
    "bmVhckdyYWRpZW50IHhsaW5rOmhyZWY9IiNhIiBpZD0iZSIgeDE9IjE1MC45NjEiIHgyPSIxMTIu\n",
    "MDMxIiB5MT0iMTkyLjM1MiIgeTI9IjEzNy4yNzMiIGdyYWRpZW50VHJhbnNmb3JtPSJtYXRyaXgo\n",
    "LjU2MjU0IDAgMCAuNTY3OTcgLTE0Ljk5MSAtMTEuNzAyKSIgZ3JhZGllbnRVbml0cz0idXNlclNw\n",
    "YWNlT25Vc2UiLz48bGluZWFyR3JhZGllbnQgeGxpbms6aHJlZj0iI2IiIGlkPSJkIiB4MT0iMjYu\n",
    "NjQ5IiB4Mj0iMTM1LjY2NSIgeTE9IjIwLjYwNCIgeTI9IjExNC4zOTgiIGdyYWRpZW50VHJhbnNm\n",
    "b3JtPSJtYXRyaXgoLjU2MjU0IDAgMCAuNTY3OTcgLTE0Ljk5MSAtMTEuNzAyKSIgZ3JhZGllbnRV\n",
    "bml0cz0idXNlclNwYWNlT25Vc2UiLz48cmFkaWFsR3JhZGllbnQgeGxpbms6aHJlZj0iI2MiIGlk\n",
    "PSJmIiBjeD0iNjEuNTE5IiBjeT0iMTMyLjI4NiIgcj0iMjkuMDM3IiBmeD0iNjEuNTE5IiBmeT0i\n",
    "MTMyLjI4NiIgZ3JhZGllbnRUcmFuc2Zvcm09Im1hdHJpeCgwIC0uMjM5OTUgMS4wNTQ2NyAwIC04\n",
    "My43IDE0Mi40NjIpIiBncmFkaWVudFVuaXRzPSJ1c2VyU3BhY2VPblVzZSIvPjwvZGVmcz48cGF0\n",
    "aCBkPSJNNTQuOTE5IDBjLTQuNTg0LjAyMi04Ljk2MS40MTMtMTIuODEzIDEuMDk1QzMwLjc2IDMu\n",
    "MDk5IDI4LjcgNy4yOTUgMjguNyAxNS4wMzJ2MTAuMjE5aDI2LjgxM3YzLjQwNkgxOC42MzhjLTcu\n",
    "NzkzIDAtMTQuNjE2IDQuNjg0LTE2Ljc1IDEzLjU5NC0yLjQ2MiAxMC4yMTMtMi41NzEgMTYuNTg2\n",
    "IDAgMjcuMjUgMS45MDUgNy45MzggNi40NTcgMTMuNTk0IDE0LjI1IDEzLjU5NGg5LjIxOHYtMTIu\n",
    "MjVjMC04Ljg1IDcuNjU3LTE2LjY1NyAxNi43NS0xNi42NTdoMjYuNzgyYzcuNDU0IDAgMTMuNDA2\n",
    "LTYuMTM4IDEzLjQwNi0xMy42MjV2LTI1LjUzYzAtNy4yNjctNi4xMy0xMi43MjYtMTMuNDA2LTEz\n",
    "LjkzOEM2NC4yODIuMzI4IDU5LjUwMi0uMDIgNTQuOTE4IDBtLTE0LjUgOC4yMmMyLjc3IDAgNS4w\n",
    "MzEgMi4yOTggNS4wMzEgNS4xMjUgMCAyLjgxNi0yLjI2MiA1LjA5My01LjAzMSA1LjA5My0yLjc4\n",
    "IDAtNS4wMzEtMi4yNzctNS4wMzEtNS4wOTMgMC0yLjgyNyAyLjI1MS01LjEyNSA1LjAzLTUuMTI1\n",
    "IiBzdHlsZT0iZmlsbDp1cmwoI2QpO2ZpbGwtb3BhY2l0eToxIi8+PHBhdGggZD0iTTg1LjYzOCAy\n",
    "OC42NTd2MTEuOTA2YzAgOS4yMzEtNy44MjYgMTctMTYuNzUgMTdINDIuMTA2Yy03LjMzNiAwLTEz\n",
    "LjQwNiA2LjI3OS0xMy40MDYgMTMuNjI1Vjk2LjcyYzAgNy4yNjYgNi4zMTkgMTEuNTQgMTMuNDA2\n",
    "IDEzLjYyNSA4LjQ4OCAyLjQ5NSAxNi42MjcgMi45NDYgMjYuNzgyIDAgNi43NS0xLjk1NSAxMy40\n",
    "MDYtNS44ODggMTMuNDA2LTEzLjYyNVY4Ni41SDU1LjUxM3YtMy40MDVIOTUuN2M3Ljc5MyAwIDEw\n",
    "LjY5Ni01LjQzNiAxMy40MDYtMTMuNTk0IDIuOC04LjM5OSAyLjY4LTE2LjQ3NiAwLTI3LjI1LTEu\n",
    "OTI1LTcuNzU4LTUuNjA0LTEzLjU5NC0xMy40MDYtMTMuNTk0ek03MC41NzUgOTMuMzEzYzIuNzgg\n",
    "MCA1LjAzMSAyLjI3OCA1LjAzMSA1LjA5NCAwIDIuODI3LTIuMjUxIDUuMTI1LTUuMDMxIDUuMTI1\n",
    "LTIuNzcgMC01LjAzMS0yLjI5OC01LjAzMS01LjEyNSAwLTIuODE2IDIuMjYxLTUuMDk0IDUuMDMx\n",
    "LTUuMDk0IiBzdHlsZT0iZmlsbDp1cmwoI2UpO2ZpbGwtb3BhY2l0eToxIi8+PGVsbGlwc2UgY3g9\n",
    "IjU1LjgxNyIgY3k9IjEyNy43MDEiIHJ4PSIzNS45MzEiIHJ5PSI2Ljk2NyIgc3R5bGU9Im9wYWNp\n",
    "dHk6LjQ0MzgyO2ZpbGw6dXJsKCNmKTtmaWxsLW9wYWNpdHk6MTtmaWxsLXJ1bGU6bm9uemVybztz\n",
    "dHJva2U6bm9uZTtzdHJva2Utd2lkdGg6MTUuNDE3NDtzdHJva2UtbWl0ZXJsaW1pdDo0O3N0cm9r\n",
    "ZS1kYXNoYXJyYXk6bm9uZTtzdHJva2Utb3BhY2l0eToxIi8+PC9zdmc+\n",
    "\"\n",
    "     style=\"display:block;margin:auto;width:10%\" alt=\"Python Logo\"/>\n",
    "<br>\n",
    "\n",
    "<div style=\"text-align:center; font-size:200%;\">\n",
    " <b>Huggingface</b>\n",
    "</div>\n",
    "<br/>\n",
    "<div style=\"text-align:center;\">Dr. Matthias Hölzl</div>\n",
    "<br/>"
   ]
  },
  {
   "cell_type": "markdown",
   "id": "c386e4fc65e3c596",
   "metadata": {
    "lang": "de",
    "slideshow": {
     "slide_type": "subslide"
    },
    "tags": [
     "subslide"
    ]
   },
   "source": [
    "\n",
    "- [https://huggingface.co/](https://huggingface.co/)\n",
    "- Startup, das viele Modelle für NLP, CV und mehr bereitstellt\n",
    "- Python-Bibliothek `transformers` für vortrainierte Modelle\n",
    "- Datasets-Bibliothek für Datensätze\n",
    "- Viele weitere Bibliotheken"
   ]
  },
  {
   "cell_type": "markdown",
   "id": "d080fe5bca1c046e",
   "metadata": {
    "lang": "de",
    "slideshow": {
     "slide_type": "subslide"
    },
    "tags": [
     "subslide"
    ]
   },
   "source": [
    "\n",
    "## Huggingface Transformers\n",
    "\n",
    "- Bibliothek für vortrainierte Modelle und Tokenizer\n",
    "- NLP, CV, Audio, Multimodal\n",
    "- PyTorch, TensorFlow, JAX\n",
    "- Pipelines für einfache Anwendung\n",
    "- Vollständiges API für weitergehende Anpassungen"
   ]
  },
  {
   "cell_type": "markdown",
   "id": "a63871b3cfed4332",
   "metadata": {
    "lang": "de",
    "slideshow": {
     "slide_type": "subslide"
    },
    "tags": [
     "subslide"
    ]
   },
   "source": [
    "\n",
    "## Huggingface Datasets\n",
    "\n",
    "- Bibliothek für Datensätze\n",
    "- Einfaches Laden und Verwenden von Datensätzen\n",
    "- Viele Datensätze für NLP, CV, Audio, Multimodal"
   ]
  },
  {
   "cell_type": "markdown",
   "id": "e164c1255dce0956",
   "metadata": {
    "lang": "de",
    "slideshow": {
     "slide_type": "subslide"
    },
    "tags": [
     "subslide"
    ]
   },
   "source": [
    "\n",
    "## Beispiele für Pipelines\n",
    "\n",
    "### Spracherkennung\n",
    "\n",
    "- [Martin Luther King Jr. Speech](https://huggingface.co/datasets/Narsil/asr_dummy/resolve/main/mlk.flac)\n",
    "- Wir wollen eine Transkription des Audios"
   ]
  },
  {
   "cell_type": "code",
   "execution_count": null,
   "id": "568f5722775f0a04",
   "metadata": {},
   "outputs": [],
   "source": [
    "import torch\n",
    "from transformers import pipeline"
   ]
  },
  {
   "cell_type": "code",
   "execution_count": null,
   "id": "09e629d8b31f6325",
   "metadata": {},
   "outputs": [],
   "source": [
    "device = \"cuda\" if torch.cuda.is_available() else \"cpu\""
   ]
  },
  {
   "cell_type": "code",
   "execution_count": null,
   "id": "dd27a573089ef3b8",
   "metadata": {},
   "outputs": [],
   "source": [
    "asr = pipeline(task=\"automatic-speech-recognition\", device=device)"
   ]
  },
  {
   "cell_type": "code",
   "execution_count": null,
   "id": "3ed41e1960acdcf6",
   "metadata": {},
   "outputs": [],
   "source": [
    "audio_url = \"https://huggingface.co/datasets/Narsil/asr_dummy/resolve/main/mlk.flac\""
   ]
  },
  {
   "cell_type": "code",
   "execution_count": null,
   "id": "57ed28271a26dedc",
   "metadata": {},
   "outputs": [],
   "source": [
    "transcription = asr(audio_url)"
   ]
  },
  {
   "cell_type": "code",
   "execution_count": null,
   "id": "fd4cf0b0072d43dd",
   "metadata": {},
   "outputs": [],
   "source": [
    "transcription"
   ]
  },
  {
   "cell_type": "code",
   "execution_count": null,
   "id": "d88272df480e6677",
   "metadata": {
    "slideshow": {
     "slide_type": "subslide"
    },
    "tags": [
     "subslide"
    ]
   },
   "outputs": [],
   "source": [
    "asr = pipeline(task=\"automatic-speech-recognition\",\n",
    "               model=\"openai/whisper-large-v3\",\n",
    "               device=device)"
   ]
  },
  {
   "cell_type": "code",
   "execution_count": null,
   "id": "f3412b2988fa58ec",
   "metadata": {},
   "outputs": [],
   "source": [
    "transcription = asr(audio_url)"
   ]
  },
  {
   "cell_type": "code",
   "execution_count": null,
   "id": "1d8f5d848c5ad043",
   "metadata": {},
   "outputs": [],
   "source": [
    "transcription"
   ]
  },
  {
   "cell_type": "markdown",
   "id": "a84504901da14390",
   "metadata": {
    "lang": "de",
    "slideshow": {
     "slide_type": "subslide"
    },
    "tags": [
     "subslide"
    ]
   },
   "source": [
    "\n",
    "### Sentimentanalyse\n",
    "\n",
    "- Wir wollen die Stimmung eines Textes bestimmen"
   ]
  },
  {
   "cell_type": "code",
   "execution_count": null,
   "id": "14c80633f037848e",
   "metadata": {},
   "outputs": [],
   "source": [
    "nlp = pipeline(task=\"sentiment-analysis\",\n",
    "               model=\"distilbert/distilbert-base-uncased-finetuned-sst-2-english\",\n",
    "               device=device)"
   ]
  },
  {
   "cell_type": "code",
   "execution_count": null,
   "id": "2cd84937065f002f",
   "metadata": {},
   "outputs": [],
   "source": [
    "text = \"I love Huggingface!\""
   ]
  },
  {
   "cell_type": "code",
   "execution_count": null,
   "id": "67355042eb4340fa",
   "metadata": {},
   "outputs": [],
   "source": [
    "sentiment = nlp(text)"
   ]
  },
  {
   "cell_type": "code",
   "execution_count": null,
   "id": "2bdff6f6b3e5e7aa",
   "metadata": {},
   "outputs": [],
   "source": [
    "sentiment"
   ]
  },
  {
   "cell_type": "code",
   "execution_count": null,
   "id": "81ce66bc5a822327",
   "metadata": {},
   "outputs": [],
   "source": [
    "texts = [\n",
    "    \"I love Huggingface!\",\n",
    "    \"I hate Huggingface!\",\n",
    "    \"I am neutral about Huggingface.\",\n",
    "    \"The people at Huggingface are great!\",\n",
    "    \"Machine learning does have its limitations.\"\n",
    "]"
   ]
  },
  {
   "cell_type": "code",
   "execution_count": null,
   "id": "909a9a4b7eaf86fa",
   "metadata": {},
   "outputs": [],
   "source": [
    "nlp(texts)"
   ]
  },
  {
   "cell_type": "code",
   "execution_count": null,
   "id": "880ae0ff6c261378",
   "metadata": {},
   "outputs": [],
   "source": [
    "nlp = pipeline(task=\"sentiment-analysis\",\n",
    "               model=\"facebook/bart-large-mnli\",\n",
    "               device=device)"
   ]
  },
  {
   "cell_type": "code",
   "execution_count": null,
   "id": "4d09cf507e2cfffc",
   "metadata": {},
   "outputs": [],
   "source": [
    "nlp(texts)"
   ]
  },
  {
   "cell_type": "markdown",
   "id": "3e4f3e871b66c9ad",
   "metadata": {
    "lang": "de",
    "slideshow": {
     "slide_type": "subslide"
    },
    "tags": [
     "subslide"
    ]
   },
   "source": [
    "\n",
    "### Zero-Shot-Klassifikation\n",
    "\n",
    "- Wir wollen Texte klassifizieren, ohne Trainingsdaten zu haben\n",
    "- Wir geben Klassen vor, die das Modell verwenden soll"
   ]
  },
  {
   "cell_type": "code",
   "execution_count": null,
   "id": "e70be72aa9c10db7",
   "metadata": {},
   "outputs": [],
   "source": [
    "classifier = pipeline(task=\"zero-shot-classification\",\n",
    "                      model=\"facebook/bart-large-mnli\",\n",
    "                      device=device)"
   ]
  },
  {
   "cell_type": "code",
   "execution_count": null,
   "id": "39f16a33bdbf8e98",
   "metadata": {},
   "outputs": [],
   "source": [
    "text = \"I am looking for a new car.\""
   ]
  },
  {
   "cell_type": "code",
   "execution_count": null,
   "id": "dd4c79676d11da89",
   "metadata": {},
   "outputs": [],
   "source": [
    "classes = [\"business\", \"politics\", \"entertainment\", \"sports\"]"
   ]
  },
  {
   "cell_type": "code",
   "execution_count": null,
   "id": "ec7f200a93ccef2e",
   "metadata": {},
   "outputs": [],
   "source": [
    "classifier(text, classes)"
   ]
  },
  {
   "cell_type": "code",
   "execution_count": null,
   "id": "f8d7cf13c2e9b95b",
   "metadata": {},
   "outputs": [],
   "source": [
    "texts = [\n",
    "    \"I am looking for a new car.\",\n",
    "    \"The new movie is great!\",\n",
    "    \"The company is doing well.\",\n",
    "    \"The team won the championship.\",\n",
    "    \"Dow Jones heading for new record.\",\n",
    "    \"Marvel's latest release flopped.\"\n",
    "]"
   ]
  },
  {
   "cell_type": "code",
   "execution_count": null,
   "id": "06d57d91807e5597",
   "metadata": {},
   "outputs": [],
   "source": [
    "classifier(texts, classes)"
   ]
  },
  {
   "cell_type": "code",
   "execution_count": null,
   "id": "9b356e420b34534b",
   "metadata": {},
   "outputs": [],
   "source": [
    "classifier(texts, [\"positive\", \"negative\"])"
   ]
  },
  {
   "cell_type": "markdown",
   "id": "8561a3beca0d367c",
   "metadata": {
    "lang": "de",
    "slideshow": {
     "slide_type": "subslide"
    },
    "tags": [
     "subslide"
    ]
   },
   "source": [
    "\n",
    "### Textgenerierung\n",
    "\n",
    "- Wir wollen Texte generieren\n",
    "- Wir geben einen Anfangstext vor"
   ]
  },
  {
   "cell_type": "code",
   "execution_count": null,
   "id": "9d4668339e039c03",
   "metadata": {},
   "outputs": [],
   "source": [
    "generator = pipeline(task=\"text-generation\",\n",
    "                     model=\"HuggingFaceTB/SmolLM2-360M\",\n",
    "                     device=device)"
   ]
  },
  {
   "cell_type": "code",
   "execution_count": null,
   "id": "b4616ad0cf17898f",
   "metadata": {},
   "outputs": [],
   "source": [
    "prompts = [\"Once upon a time, \"] * 10"
   ]
  },
  {
   "cell_type": "code",
   "execution_count": null,
   "id": "27e2e0c283871447",
   "metadata": {},
   "outputs": [],
   "source": [
    "generator(prompts)"
   ]
  },
  {
   "cell_type": "code",
   "execution_count": null,
   "id": "7455232fb994d1f6",
   "metadata": {},
   "outputs": [],
   "source": [
    "generator = pipeline(task=\"text-generation\",\n",
    "                     model=\"HuggingFaceTB/SmolLM2-360M-Instruct\",\n",
    "                     device=device)"
   ]
  },
  {
   "cell_type": "code",
   "execution_count": null,
   "id": "4fb84b15caae05e1",
   "metadata": {
    "lines_to_next_cell": 2
   },
   "outputs": [],
   "source": [
    "generator(prompts)"
   ]
  },
  {
   "cell_type": "markdown",
   "id": "f507839b32d2d275",
   "metadata": {
    "lang": "de",
    "slideshow": {
     "slide_type": "subslide"
    },
    "tags": [
     "subslide"
    ]
   },
   "source": [
    "\n",
    "## Zero-Shot Bildklassifikation\n",
    "\n",
    "- Wir wollen Bilder klassifizieren\n",
    "- Wir geben ein Bild und die Klassen vor"
   ]
  },
  {
   "cell_type": "code",
   "execution_count": null,
   "id": "d0315d5438fbb1b8",
   "metadata": {},
   "outputs": [],
   "source": [
    "classifier = pipeline(task=\"zero-shot-image-classification\",\n",
    "                      model=\"google/siglip-so400m-patch14-384\")"
   ]
  },
  {
   "cell_type": "code",
   "execution_count": null,
   "id": "988c0a2c1e1afdd1",
   "metadata": {},
   "outputs": [],
   "source": [
    "image_url = \"https://huggingface.co/datasets/Narsil/image_dummy/resolve/main/elephant.jpg\""
   ]
  },
  {
   "cell_type": "code",
   "execution_count": null,
   "id": "7ce710200313bc0c",
   "metadata": {},
   "outputs": [],
   "source": [
    "classifier(image_url, candidate_labels=[\"elephant\", \"dog\", \"cat\", \"bird\"])"
   ]
  }
 ],
 "metadata": {
  "jupytext": {
   "cell_metadata_filter": "lang,tags,-all",
   "main_language": "python",
   "notebook_metadata_filter": "-all"
  },
  "kernelspec": {
   "display_name": "Python 3 (ipykernel)",
   "language": "python",
   "name": "python3"
  },
  "language_info": {
   "codemirror_mode": {
    "name": "ipython",
    "version": 3
   },
   "file_extension": ".py",
   "mimetype": "text/x-python",
   "name": "python",
   "nbconvert_exporter": "python",
   "pygments_lexer": "ipython3"
  }
 },
 "nbformat": 4,
 "nbformat_minor": 5
}
