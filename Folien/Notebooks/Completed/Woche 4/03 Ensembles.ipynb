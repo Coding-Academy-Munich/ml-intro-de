{
 "cells": [
  {
   "cell_type": "markdown",
   "id": "2252706b08bf8015",
   "metadata": {
    "lang": "de",
    "slideshow": {
     "slide_type": "slide"
    },
    "tags": [
     "slide"
    ]
   },
   "source": [
    "\n",
    "<img src=\"data:image/svg+xml;base64,PHN2ZyB4bWxucz0iaHR0cDovL3d3dy53My5vcmcvMjAwMC9zdmciIHhtbG5zOnhsaW5rPSJodHRw\n",
    "Oi8vd3d3LnczLm9yZy8xOTk5L3hsaW5rIiB3aWR0aD0iMTExLjE2MSIgaGVpZ2h0PSIxMzQuNjY4\n",
    "IiB2ZXJzaW9uPSIxLjAiPjxkZWZzPjxsaW5lYXJHcmFkaWVudCBpZD0iYyI+PHN0b3Agb2Zmc2V0\n",
    "PSIwIiBzdHlsZT0ic3RvcC1jb2xvcjojYjhiOGI4O3N0b3Atb3BhY2l0eTouNDk4MDM5MjIiLz48\n",
    "c3RvcCBvZmZzZXQ9IjEiIHN0eWxlPSJzdG9wLWNvbG9yOiM3ZjdmN2Y7c3RvcC1vcGFjaXR5OjAi\n",
    "Lz48L2xpbmVhckdyYWRpZW50PjxsaW5lYXJHcmFkaWVudCBpZD0iYSI+PHN0b3Agb2Zmc2V0PSIw\n",
    "IiBzdHlsZT0ic3RvcC1jb2xvcjojZmZkNDNiO3N0b3Atb3BhY2l0eToxIi8+PHN0b3Agb2Zmc2V0\n",
    "PSIxIiBzdHlsZT0ic3RvcC1jb2xvcjojZmZlODczO3N0b3Atb3BhY2l0eToxIi8+PC9saW5lYXJH\n",
    "cmFkaWVudD48bGluZWFyR3JhZGllbnQgaWQ9ImIiPjxzdG9wIG9mZnNldD0iMCIgc3R5bGU9InN0\n",
    "b3AtY29sb3I6IzVhOWZkNDtzdG9wLW9wYWNpdHk6MSIvPjxzdG9wIG9mZnNldD0iMSIgc3R5bGU9\n",
    "InN0b3AtY29sb3I6IzMwNjk5ODtzdG9wLW9wYWNpdHk6MSIvPjwvbGluZWFyR3JhZGllbnQ+PGxp\n",
    "bmVhckdyYWRpZW50IHhsaW5rOmhyZWY9IiNhIiBpZD0iZSIgeDE9IjE1MC45NjEiIHgyPSIxMTIu\n",
    "MDMxIiB5MT0iMTkyLjM1MiIgeTI9IjEzNy4yNzMiIGdyYWRpZW50VHJhbnNmb3JtPSJtYXRyaXgo\n",
    "LjU2MjU0IDAgMCAuNTY3OTcgLTE0Ljk5MSAtMTEuNzAyKSIgZ3JhZGllbnRVbml0cz0idXNlclNw\n",
    "YWNlT25Vc2UiLz48bGluZWFyR3JhZGllbnQgeGxpbms6aHJlZj0iI2IiIGlkPSJkIiB4MT0iMjYu\n",
    "NjQ5IiB4Mj0iMTM1LjY2NSIgeTE9IjIwLjYwNCIgeTI9IjExNC4zOTgiIGdyYWRpZW50VHJhbnNm\n",
    "b3JtPSJtYXRyaXgoLjU2MjU0IDAgMCAuNTY3OTcgLTE0Ljk5MSAtMTEuNzAyKSIgZ3JhZGllbnRV\n",
    "bml0cz0idXNlclNwYWNlT25Vc2UiLz48cmFkaWFsR3JhZGllbnQgeGxpbms6aHJlZj0iI2MiIGlk\n",
    "PSJmIiBjeD0iNjEuNTE5IiBjeT0iMTMyLjI4NiIgcj0iMjkuMDM3IiBmeD0iNjEuNTE5IiBmeT0i\n",
    "MTMyLjI4NiIgZ3JhZGllbnRUcmFuc2Zvcm09Im1hdHJpeCgwIC0uMjM5OTUgMS4wNTQ2NyAwIC04\n",
    "My43IDE0Mi40NjIpIiBncmFkaWVudFVuaXRzPSJ1c2VyU3BhY2VPblVzZSIvPjwvZGVmcz48cGF0\n",
    "aCBkPSJNNTQuOTE5IDBjLTQuNTg0LjAyMi04Ljk2MS40MTMtMTIuODEzIDEuMDk1QzMwLjc2IDMu\n",
    "MDk5IDI4LjcgNy4yOTUgMjguNyAxNS4wMzJ2MTAuMjE5aDI2LjgxM3YzLjQwNkgxOC42MzhjLTcu\n",
    "NzkzIDAtMTQuNjE2IDQuNjg0LTE2Ljc1IDEzLjU5NC0yLjQ2MiAxMC4yMTMtMi41NzEgMTYuNTg2\n",
    "IDAgMjcuMjUgMS45MDUgNy45MzggNi40NTcgMTMuNTk0IDE0LjI1IDEzLjU5NGg5LjIxOHYtMTIu\n",
    "MjVjMC04Ljg1IDcuNjU3LTE2LjY1NyAxNi43NS0xNi42NTdoMjYuNzgyYzcuNDU0IDAgMTMuNDA2\n",
    "LTYuMTM4IDEzLjQwNi0xMy42MjV2LTI1LjUzYzAtNy4yNjctNi4xMy0xMi43MjYtMTMuNDA2LTEz\n",
    "LjkzOEM2NC4yODIuMzI4IDU5LjUwMi0uMDIgNTQuOTE4IDBtLTE0LjUgOC4yMmMyLjc3IDAgNS4w\n",
    "MzEgMi4yOTggNS4wMzEgNS4xMjUgMCAyLjgxNi0yLjI2MiA1LjA5My01LjAzMSA1LjA5My0yLjc4\n",
    "IDAtNS4wMzEtMi4yNzctNS4wMzEtNS4wOTMgMC0yLjgyNyAyLjI1MS01LjEyNSA1LjAzLTUuMTI1\n",
    "IiBzdHlsZT0iZmlsbDp1cmwoI2QpO2ZpbGwtb3BhY2l0eToxIi8+PHBhdGggZD0iTTg1LjYzOCAy\n",
    "OC42NTd2MTEuOTA2YzAgOS4yMzEtNy44MjYgMTctMTYuNzUgMTdINDIuMTA2Yy03LjMzNiAwLTEz\n",
    "LjQwNiA2LjI3OS0xMy40MDYgMTMuNjI1Vjk2LjcyYzAgNy4yNjYgNi4zMTkgMTEuNTQgMTMuNDA2\n",
    "IDEzLjYyNSA4LjQ4OCAyLjQ5NSAxNi42MjcgMi45NDYgMjYuNzgyIDAgNi43NS0xLjk1NSAxMy40\n",
    "MDYtNS44ODggMTMuNDA2LTEzLjYyNVY4Ni41SDU1LjUxM3YtMy40MDVIOTUuN2M3Ljc5MyAwIDEw\n",
    "LjY5Ni01LjQzNiAxMy40MDYtMTMuNTk0IDIuOC04LjM5OSAyLjY4LTE2LjQ3NiAwLTI3LjI1LTEu\n",
    "OTI1LTcuNzU4LTUuNjA0LTEzLjU5NC0xMy40MDYtMTMuNTk0ek03MC41NzUgOTMuMzEzYzIuNzgg\n",
    "MCA1LjAzMSAyLjI3OCA1LjAzMSA1LjA5NCAwIDIuODI3LTIuMjUxIDUuMTI1LTUuMDMxIDUuMTI1\n",
    "LTIuNzcgMC01LjAzMS0yLjI5OC01LjAzMS01LjEyNSAwLTIuODE2IDIuMjYxLTUuMDk0IDUuMDMx\n",
    "LTUuMDk0IiBzdHlsZT0iZmlsbDp1cmwoI2UpO2ZpbGwtb3BhY2l0eToxIi8+PGVsbGlwc2UgY3g9\n",
    "IjU1LjgxNyIgY3k9IjEyNy43MDEiIHJ4PSIzNS45MzEiIHJ5PSI2Ljk2NyIgc3R5bGU9Im9wYWNp\n",
    "dHk6LjQ0MzgyO2ZpbGw6dXJsKCNmKTtmaWxsLW9wYWNpdHk6MTtmaWxsLXJ1bGU6bm9uemVybztz\n",
    "dHJva2U6bm9uZTtzdHJva2Utd2lkdGg6MTUuNDE3NDtzdHJva2UtbWl0ZXJsaW1pdDo0O3N0cm9r\n",
    "ZS1kYXNoYXJyYXk6bm9uZTtzdHJva2Utb3BhY2l0eToxIi8+PC9zdmc+\n",
    "\"\n",
    "     style=\"display:block;margin:auto;width:10%\" alt=\"Python Logo\"/>\n",
    "<br>\n",
    "\n",
    "<div style=\"text-align:center; font-size:200%;\">\n",
    " <b>Ensembles</b>\n",
    "</div>\n",
    "<br/>\n",
    "<div style=\"text-align:center;\">Dr. Matthias Hölzl</div>\n",
    "<br/>"
   ]
  },
  {
   "cell_type": "code",
   "execution_count": null,
   "id": "268ae4db09c04204",
   "metadata": {
    "slideshow": {
     "slide_type": "subslide"
    }
   },
   "outputs": [],
   "source": [
    "import numpy as np\n",
    "import matplotlib.pyplot as plt\n",
    "import seaborn as sns\n",
    "from sklearn.metrics import mean_absolute_error, mean_squared_error\n",
    "from sklearn.linear_model import LinearRegression\n",
    "from sklearn.tree import DecisionTreeRegressor\n",
    "\n",
    "sns.set_theme()"
   ]
  },
  {
   "cell_type": "code",
   "execution_count": null,
   "id": "e19966fcd2f659f4",
   "metadata": {
    "slideshow": {
     "slide_type": "subslide"
    }
   },
   "outputs": [],
   "source": [
    "rng = np.random.default_rng(42)\n",
    "\n",
    "x = rng.uniform(size=(150, 1), low=0.0, high=10.0)\n",
    "x_train, x_test = x[:100], x[100:]\n",
    "\n",
    "x_plot = np.linspace(0, 10, 500).reshape(-1, 1)"
   ]
  },
  {
   "cell_type": "code",
   "execution_count": null,
   "id": "93a5d470705709ed",
   "metadata": {
    "slideshow": {
     "slide_type": "subslide"
    }
   },
   "outputs": [],
   "source": [
    "def lin(x):\n",
    "    return 0.85 * x - 1.5"
   ]
  },
  {
   "cell_type": "code",
   "execution_count": null,
   "id": "e775ea24c96e33ff",
   "metadata": {
    "slideshow": {
     "slide_type": "-"
    }
   },
   "outputs": [],
   "source": [
    "def fun(x):\n",
    "    return 2 * np.sin(x) + 0.1 * x ** 2 - 2"
   ]
  },
  {
   "cell_type": "code",
   "execution_count": null,
   "id": "7d1a9bad91b407f2",
   "metadata": {
    "slideshow": {
     "slide_type": "-"
    }
   },
   "outputs": [],
   "source": [
    "def randomize(fun, x, scale=0.5):\n",
    "    return fun(x) + rng.normal(size=x.shape, scale=scale)"
   ]
  },
  {
   "cell_type": "code",
   "execution_count": null,
   "id": "0468c82047443178",
   "metadata": {
    "slideshow": {
     "slide_type": "subslide"
    }
   },
   "outputs": [],
   "source": [
    "def evaluate_non_random_regressor(reg_type, f_y, *args, **kwargs):\n",
    "    reg = reg_type(*args, **kwargs)\n",
    "\n",
    "    y_train = f_y(x_train).reshape(-1)\n",
    "    y_test = f_y(x_test).reshape(-1)\n",
    "\n",
    "    reg.fit(x_train, y_train)\n",
    "    y_pred = reg.predict(x_test)\n",
    "\n",
    "    x_plot = np.linspace(0, 10, 500).reshape(-1, 1)\n",
    "    fig, ax = plt.subplots(figsize=(20, 8))\n",
    "    sns.lineplot(x=x_plot[:, 0], y=reg.predict(x_plot), ax=ax)\n",
    "    sns.lineplot(x=x_plot[:, 0], y=f_y(x_plot[:, 0]), ax=ax)\n",
    "    sns.scatterplot(x=x_train[:, 0], y=y_train, ax=ax)\n",
    "    plt.show()\n",
    "\n",
    "    mae = mean_absolute_error(y_test, y_pred)\n",
    "    mse = mean_squared_error(y_test, y_pred)\n",
    "    rmse = np.sqrt(mean_squared_error(y_test, y_pred))\n",
    "    print(\n",
    "        \"\\nNo randomness:      \" f\"MAE = {mae:.2f}, MSE = {mse:.2f}, RMSE = {rmse:.2f}\"\n",
    "    )\n",
    "\n",
    "    return reg"
   ]
  },
  {
   "cell_type": "code",
   "execution_count": null,
   "id": "55000be1b1058575",
   "metadata": {
    "slideshow": {
     "slide_type": "subslide"
    }
   },
   "outputs": [],
   "source": [
    "def plot_graphs(f_y, reg, reg_rand, reg_chaos, y_train, y_rand_train, y_chaos_train):\n",
    "    x_plot = np.linspace(0, 10, 500).reshape(-1, 1)\n",
    "    fig, ax = plt.subplots(figsize=(20, 12))\n",
    "    sns.lineplot(x=x_plot[:, 0], y=reg.predict(x_plot), ax=ax)\n",
    "    sns.scatterplot(x=x_train[:, 0], y=y_train, ax=ax)\n",
    "\n",
    "    sns.lineplot(x=x_plot[:, 0], y=reg_rand.predict(x_plot), ax=ax)\n",
    "    sns.scatterplot(x=x_train[:, 0], y=y_rand_train, ax=ax)\n",
    "\n",
    "    sns.lineplot(x=x_plot[:, 0], y=reg_chaos.predict(x_plot), ax=ax)\n",
    "    sns.scatterplot(x=x_train[:, 0], y=y_chaos_train, ax=ax)\n",
    "\n",
    "    sns.lineplot(x=x_plot[:, 0], y=f_y(x_plot[:, 0]), ax=ax)\n",
    "    plt.show()"
   ]
  },
  {
   "cell_type": "code",
   "execution_count": null,
   "id": "ab633b48fd60d68c",
   "metadata": {
    "slideshow": {
     "slide_type": "subslide"
    }
   },
   "outputs": [],
   "source": [
    "def print_evaluation(y_test, y_pred, y_rand_test, y_rand_pred, y_chaos_test, y_chaos_pred):\n",
    "    mae = mean_absolute_error(y_test, y_pred)\n",
    "    mae_rand = mean_absolute_error(y_rand_test, y_rand_pred)\n",
    "    mae_chaos = mean_absolute_error(y_chaos_test, y_chaos_pred)\n",
    "\n",
    "    mse = mean_squared_error(y_test, y_pred)\n",
    "    mse_rand = mean_squared_error(y_rand_test, y_rand_pred)\n",
    "    mse_chaos = mean_squared_error(y_chaos_test, y_chaos_pred)\n",
    "\n",
    "    rmse = np.sqrt(mean_squared_error(y_test, y_pred))\n",
    "    rmse_rand = np.sqrt(mean_squared_error(y_rand_test, y_rand_pred))\n",
    "    rmse_chaos = np.sqrt(mean_squared_error(y_chaos_test, y_chaos_pred))\n",
    "\n",
    "    print(\n",
    "        \"\\nNo randomness:      \" f\"MAE = {mae:.2f}, MSE = {mse:.2f}, RMSE = {rmse:.2f}\"\n",
    "    )\n",
    "    print(\n",
    "        \"Some randomness:    \"\n",
    "        f\"MAE = {mae_rand:.2f}, MSE = {mse_rand:.2f}, RMSE = {rmse_rand:.2f}\"\n",
    "    )\n",
    "    print(\n",
    "        \"Lots of randomness: \"\n",
    "        f\"MAE = {mae_chaos:.2f}, MSE = {mse_chaos:.2f}, RMSE = {rmse_chaos:.2f}\"\n",
    "    )"
   ]
  },
  {
   "cell_type": "code",
   "execution_count": null,
   "id": "90acbd876a3f251b",
   "metadata": {
    "slideshow": {
     "slide_type": "subslide"
    }
   },
   "outputs": [],
   "source": [
    "def evaluate_regressor(reg_type, f_y, *args, **kwargs):\n",
    "    reg = reg_type(*args, **kwargs)\n",
    "    reg_rand = reg_type(*args, **kwargs)\n",
    "    reg_chaos = reg_type(*args, **kwargs)\n",
    "\n",
    "    y_train = f_y(x_train).reshape(-1)\n",
    "    y_test = f_y(x_test).reshape(-1)\n",
    "    y_pred = reg.fit(x_train, y_train).predict(x_test)\n",
    "\n",
    "    y_rand_train = randomize(f_y, x_train).reshape(-1)\n",
    "    y_rand_test = randomize(f_y, x_test).reshape(-1)\n",
    "    y_rand_pred = reg_rand.fit(x_train, y_rand_train).predict(x_test)\n",
    "\n",
    "    y_chaos_train = randomize(f_y, x_train, 1.5).reshape(-1)\n",
    "    y_chaos_test = randomize(f_y, x_test, 1.5).reshape(-1)\n",
    "    y_chaos_pred = reg_chaos.fit(x_train, y_chaos_train).predict(x_test)\n",
    "\n",
    "    plot_graphs(f_y, reg, reg_rand, reg_chaos, y_train, y_rand_train, y_chaos_train)\n",
    "    print_evaluation(y_test, y_pred, y_rand_test, y_rand_pred, y_chaos_test, y_chaos_pred)"
   ]
  },
  {
   "cell_type": "markdown",
   "id": "7259047e92d37fc0",
   "metadata": {
    "slideshow": {
     "slide_type": "slide"
    }
   },
   "source": [
    "# Ensembles, Random Forests, Gradient Boosted Trees"
   ]
  },
  {
   "cell_type": "markdown",
   "id": "cf59d3c717c3ca07",
   "metadata": {
    "slideshow": {
     "slide_type": "slide"
    }
   },
   "source": [
    "## Ensemble Methods\n",
    "\n",
    "Idea: combine several estimators to improve their overal performance.\n",
    "\n",
    "- Averaging methods:\n",
    "  - Independent estimators, average predictions\n",
    "  - Reduces variance (overfitting)\n",
    "  - Bagging, random forests\n",
    "- Boosting methods:\n",
    "  - Train estimators sequentially\n",
    "  - Each estimator is trained to reduce the bias of its (combined) predecessors"
   ]
  },
  {
   "cell_type": "markdown",
   "id": "111eebe375ddecbc",
   "metadata": {
    "slideshow": {
     "slide_type": "subslide"
    }
   },
   "source": [
    "### Bagging\n",
    "\n",
    "- Averaging method: build several estimators of the same type, average their results\n",
    "- Needs some way to introduce differences between estimators\n",
    "  - Otherwise variance is not reduced\n",
    "  - Train on random subsets of the training data\n",
    "- Reduce overfitting\n",
    "- Work best with strong estimators (e.g., decision trees with (moderately) large depth)"
   ]
  },
  {
   "cell_type": "markdown",
   "id": "9ae15647b989a0bd",
   "metadata": {},
   "source": [
    "### Random Forests\n",
    "\n",
    "- Bagging classifier/regressor using decision trees\n",
    "- For each tree in the forest:\n",
    "  - Subset of training data\n",
    "  - Subset of features\n",
    "- Often significant reduction in variance (overfitting)\n",
    "- Sometimes increase in bias"
   ]
  },
  {
   "cell_type": "code",
   "execution_count": null,
   "id": "d6f83bd4082bfa56",
   "metadata": {
    "slideshow": {
     "slide_type": "subslide"
    }
   },
   "outputs": [],
   "source": [
    "from sklearn.ensemble import RandomForestRegressor"
   ]
  },
  {
   "cell_type": "code",
   "execution_count": null,
   "id": "40cf43da4696f9ef",
   "metadata": {
    "slideshow": {
     "slide_type": "subslide"
    }
   },
   "outputs": [],
   "source": [
    "evaluate_non_random_regressor(RandomForestRegressor, lin, random_state=42);"
   ]
  },
  {
   "cell_type": "code",
   "execution_count": null,
   "id": "2204ff7fa6b246c9",
   "metadata": {
    "slideshow": {
     "slide_type": "subslide"
    }
   },
   "outputs": [],
   "source": [
    "evaluate_non_random_regressor(RandomForestRegressor, fun, random_state=42);"
   ]
  },
  {
   "cell_type": "code",
   "execution_count": null,
   "id": "b616167ef0b83d7a",
   "metadata": {
    "slideshow": {
     "slide_type": "subslide"
    }
   },
   "outputs": [],
   "source": [
    "evaluate_non_random_regressor(\n",
    "    RandomForestRegressor, fun, n_estimators=25, criterion=\"absolute_error\", random_state=42\n",
    ");"
   ]
  },
  {
   "cell_type": "code",
   "execution_count": null,
   "id": "f6384d068e037ef0",
   "metadata": {
    "slideshow": {
     "slide_type": "subslide"
    }
   },
   "outputs": [],
   "source": [
    "evaluate_regressor(RandomForestRegressor, lin, random_state=42);"
   ]
  },
  {
   "cell_type": "code",
   "execution_count": null,
   "id": "c5c4290695c68381",
   "metadata": {
    "slideshow": {
     "slide_type": "subslide"
    }
   },
   "outputs": [],
   "source": [
    "evaluate_regressor(\n",
    "    RandomForestRegressor, lin, n_estimators=500, max_depth=3, random_state=42\n",
    ")"
   ]
  },
  {
   "cell_type": "code",
   "execution_count": null,
   "id": "8235060234eb9102",
   "metadata": {
    "slideshow": {
     "slide_type": "subslide"
    }
   },
   "outputs": [],
   "source": [
    "evaluate_regressor(\n",
    "    RandomForestRegressor, lin, n_estimators=500, min_samples_leaf=6, random_state=42\n",
    ")"
   ]
  },
  {
   "cell_type": "code",
   "execution_count": null,
   "id": "7e5fff96b833317e",
   "metadata": {
    "slideshow": {
     "slide_type": "subslide"
    }
   },
   "outputs": [],
   "source": [
    "evaluate_regressor(RandomForestRegressor, fun, random_state=42)"
   ]
  },
  {
   "cell_type": "code",
   "execution_count": null,
   "id": "65264f842035c4d9",
   "metadata": {
    "slideshow": {
     "slide_type": "subslide"
    }
   },
   "outputs": [],
   "source": [
    "evaluate_regressor(\n",
    "    RandomForestRegressor,\n",
    "    fun,\n",
    "    n_estimators=1000,\n",
    "    min_samples_leaf=6,\n",
    "    random_state=43,\n",
    "    n_jobs=-1,\n",
    ")"
   ]
  },
  {
   "cell_type": "markdown",
   "id": "f8475d412dc0c82f",
   "metadata": {
    "slideshow": {
     "slide_type": "slide"
    }
   },
   "source": [
    "## Gradient Boosted Trees\n",
    "\n",
    "- Boosting method for both regression and classification\n",
    "- Requires differentiable loss function"
   ]
  },
  {
   "cell_type": "code",
   "execution_count": null,
   "id": "7839f57e1ce41f03",
   "metadata": {
    "slideshow": {
     "slide_type": "subslide"
    }
   },
   "outputs": [],
   "source": [
    "from sklearn.ensemble import GradientBoostingRegressor"
   ]
  },
  {
   "cell_type": "code",
   "execution_count": null,
   "id": "f54ddb2f1683e02e",
   "metadata": {
    "slideshow": {
     "slide_type": "subslide"
    }
   },
   "outputs": [],
   "source": [
    "evaluate_non_random_regressor(GradientBoostingRegressor, lin);"
   ]
  },
  {
   "cell_type": "code",
   "execution_count": null,
   "id": "8650992e55280018",
   "metadata": {
    "slideshow": {
     "slide_type": "subslide"
    }
   },
   "outputs": [],
   "source": [
    "evaluate_non_random_regressor(GradientBoostingRegressor, fun);"
   ]
  },
  {
   "cell_type": "code",
   "execution_count": null,
   "id": "2001fa532bc32af7",
   "metadata": {
    "slideshow": {
     "slide_type": "subslide"
    }
   },
   "outputs": [],
   "source": [
    "evaluate_regressor(GradientBoostingRegressor, lin);"
   ]
  },
  {
   "cell_type": "code",
   "execution_count": null,
   "id": "e6107b6faca61317",
   "metadata": {
    "slideshow": {
     "slide_type": "subslide"
    }
   },
   "outputs": [],
   "source": [
    "evaluate_regressor(GradientBoostingRegressor, lin, n_estimators=200, learning_rate=0.05, loss=\"absolute_error\");"
   ]
  },
  {
   "cell_type": "code",
   "execution_count": null,
   "id": "1cf7433e9b84ef7b",
   "metadata": {
    "slideshow": {
     "slide_type": "subslide"
    }
   },
   "outputs": [],
   "source": [
    "evaluate_regressor(GradientBoostingRegressor, lin, n_estimators=500, learning_rate=0.01,\n",
    "                   loss=\"absolute_error\", subsample=0.1, random_state=46);"
   ]
  },
  {
   "cell_type": "code",
   "execution_count": null,
   "id": "ef1f49c6131c7681",
   "metadata": {
    "slideshow": {
     "slide_type": "subslide"
    }
   },
   "outputs": [],
   "source": [
    "evaluate_regressor(GradientBoostingRegressor, fun, n_estimators=500, learning_rate=0.01,\n",
    "                   loss=\"absolute_error\", subsample=0.1, random_state=44);"
   ]
  },
  {
   "cell_type": "markdown",
   "id": "8d41f5449218017e",
   "metadata": {
    "slideshow": {
     "slide_type": "slide"
    }
   },
   "source": [
    "### Multiple Features"
   ]
  },
  {
   "cell_type": "code",
   "execution_count": null,
   "id": "12e93efc7103306a",
   "metadata": {
    "slideshow": {
     "slide_type": "subslide"
    }
   },
   "outputs": [],
   "source": [
    "from sklearn.datasets import make_regression\n",
    "from sklearn.model_selection import train_test_split\n",
    "np.set_printoptions(precision=1)"
   ]
  },
  {
   "cell_type": "code",
   "execution_count": null,
   "id": "22c994418b235a84",
   "metadata": {},
   "outputs": [],
   "source": [
    "x, y, coef = make_regression(n_samples=250, n_features=4, n_informative=1, coef=True, random_state=42)\n",
    "x.shape, y.shape, coef"
   ]
  },
  {
   "cell_type": "code",
   "execution_count": null,
   "id": "c3fec615bc3e2b3a",
   "metadata": {
    "slideshow": {
     "slide_type": "subslide"
    }
   },
   "outputs": [],
   "source": [
    "fig, axs = plt.subplots(ncols=2, nrows=2, figsize=(20, 12))\n",
    "for i, ax in enumerate(axs.reshape(-1)):\n",
    "    sns.scatterplot(x=x[:, i], y=y, ax=ax)"
   ]
  },
  {
   "cell_type": "code",
   "execution_count": null,
   "id": "aa761bda42cc7cff",
   "metadata": {
    "slideshow": {
     "slide_type": "subslide"
    }
   },
   "outputs": [],
   "source": [
    "x, y, coef = make_regression(n_samples=250, n_features=20, n_informative=10, coef=True, random_state=42)\n",
    "x.shape, y.shape, coef"
   ]
  },
  {
   "cell_type": "code",
   "execution_count": null,
   "id": "fab4b86a8d6cee02",
   "metadata": {},
   "outputs": [],
   "source": [
    "x_train, x_test, y_train, y_test = train_test_split(x, y, test_size=0.4)\n",
    "x_train.shape, x_test.shape, y_train.shape, y_test.shape"
   ]
  },
  {
   "cell_type": "code",
   "execution_count": null,
   "id": "105ee18c233eae9a",
   "metadata": {
    "slideshow": {
     "slide_type": "subslide"
    }
   },
   "outputs": [],
   "source": [
    "fig, axs = plt.subplots(ncols=2, nrows=2, figsize=(20, 12))\n",
    "for i in range(2):\n",
    "    sns.scatterplot(x=x[:, i], y=y, ax=axs[0, i]);\n",
    "for i in range(2):\n",
    "    sns.scatterplot(x=x[:, i + 6], y=y, ax=axs[1, i]);"
   ]
  },
  {
   "cell_type": "code",
   "execution_count": null,
   "id": "159b7493f63788a5",
   "metadata": {
    "slideshow": {
     "slide_type": "subslide"
    }
   },
   "outputs": [],
   "source": [
    "lr_clf = LinearRegression()\n",
    "lr_clf.fit(x_train, y_train)\n",
    "y_lr_pred = lr_clf.predict(x_test)\n",
    "\n",
    "mean_absolute_error(y_test, y_lr_pred), mean_squared_error(y_test, y_lr_pred)"
   ]
  },
  {
   "cell_type": "code",
   "execution_count": null,
   "id": "3cc74348e964484f",
   "metadata": {},
   "outputs": [],
   "source": [
    "lr_clf.coef_.astype(np.int32), coef.astype(np.int32)"
   ]
  },
  {
   "cell_type": "code",
   "execution_count": null,
   "id": "a0c7bd32b4712f29",
   "metadata": {
    "slideshow": {
     "slide_type": "subslide"
    }
   },
   "outputs": [],
   "source": [
    "dt_clf = DecisionTreeRegressor()\n",
    "dt_clf.fit(x_train, y_train)\n",
    "y_dt_pred = dt_clf.predict(x_test)\n",
    "\n",
    "mean_absolute_error(y_test, y_dt_pred), mean_squared_error(y_test, y_dt_pred)"
   ]
  },
  {
   "cell_type": "code",
   "execution_count": null,
   "id": "fcd90caafa943baa",
   "metadata": {
    "slideshow": {
     "slide_type": "subslide"
    }
   },
   "outputs": [],
   "source": [
    "rf_clf = RandomForestRegressor()\n",
    "rf_clf.fit(x_train, y_train)\n",
    "y_rf_pred = rf_clf.predict(x_test)\n",
    "\n",
    "mean_absolute_error(y_test, y_rf_pred), mean_squared_error(y_test, y_rf_pred)"
   ]
  },
  {
   "cell_type": "code",
   "execution_count": null,
   "id": "91c5695eb7a6386a",
   "metadata": {
    "slideshow": {
     "slide_type": "subslide"
    }
   },
   "outputs": [],
   "source": [
    "gb_clf = GradientBoostingRegressor()\n",
    "gb_clf.fit(x_train, y_train)\n",
    "y_gb_pred = gb_clf.predict(x_test)\n",
    "\n",
    "mean_absolute_error(y_test, y_gb_pred), mean_squared_error(y_test, y_gb_pred)"
   ]
  },
  {
   "cell_type": "code",
   "execution_count": null,
   "id": "1a26f5fae818b867",
   "metadata": {
    "slideshow": {
     "slide_type": "subslide"
    }
   },
   "outputs": [],
   "source": [
    "x, y, coef = make_regression(n_samples=250, n_features=20, n_informative=10, noise=100.0, coef=True, random_state=42)\n",
    "x.shape, y.shape, coef"
   ]
  },
  {
   "cell_type": "code",
   "execution_count": null,
   "id": "e0fb012c3fb0cc9c",
   "metadata": {},
   "outputs": [],
   "source": [
    "x_train, x_test, y_train, y_test = train_test_split(x, y, test_size=0.4)\n",
    "x_train.shape, x_test.shape, y_train.shape, y_test.shape"
   ]
  },
  {
   "cell_type": "code",
   "execution_count": null,
   "id": "e71455015c968f17",
   "metadata": {
    "slideshow": {
     "slide_type": "subslide"
    }
   },
   "outputs": [],
   "source": [
    "lr_clf = LinearRegression()\n",
    "lr_clf.fit(x_train, y_train)\n",
    "y_lr_pred = lr_clf.predict(x_test)\n",
    "\n",
    "mean_absolute_error(y_test, y_lr_pred), mean_squared_error(y_test, y_lr_pred)"
   ]
  },
  {
   "cell_type": "code",
   "execution_count": null,
   "id": "e4c1350baa870da9",
   "metadata": {
    "slideshow": {
     "slide_type": "subslide"
    }
   },
   "outputs": [],
   "source": [
    "dt_clf = DecisionTreeRegressor()\n",
    "dt_clf.fit(x_train, y_train)\n",
    "y_dt_pred = dt_clf.predict(x_test)\n",
    "\n",
    "mean_absolute_error(y_test, y_dt_pred), mean_squared_error(y_test, y_dt_pred)"
   ]
  },
  {
   "cell_type": "code",
   "execution_count": null,
   "id": "3c6a7ed419792be9",
   "metadata": {
    "slideshow": {
     "slide_type": "subslide"
    }
   },
   "outputs": [],
   "source": [
    "rf_clf = RandomForestRegressor()\n",
    "rf_clf.fit(x_train, y_train)\n",
    "y_rf_pred = rf_clf.predict(x_test)\n",
    "\n",
    "mean_absolute_error(y_test, y_rf_pred), mean_squared_error(y_test, y_rf_pred)"
   ]
  },
  {
   "cell_type": "code",
   "execution_count": null,
   "id": "8c5f10389d932128",
   "metadata": {
    "slideshow": {
     "slide_type": "subslide"
    }
   },
   "outputs": [],
   "source": [
    "gb_clf = GradientBoostingRegressor()\n",
    "gb_clf.fit(x_train, y_train)\n",
    "y_gb_pred = gb_clf.predict(x_test)\n",
    "\n",
    "mean_absolute_error(y_test, y_gb_pred), mean_squared_error(y_test, y_gb_pred)"
   ]
  },
  {
   "cell_type": "code",
   "execution_count": null,
   "id": "cb1c1b34f61b9392",
   "metadata": {
    "slideshow": {
     "slide_type": "subslide"
    }
   },
   "outputs": [],
   "source": [
    "x, y, coef = make_regression(n_samples=250, n_features=20, n_informative=10, noise=100.0,\n",
    "                             coef=True, random_state=42)\n",
    "y += (20 * x[:, 1]) ** 2\n",
    "x.shape, y.shape, coef"
   ]
  },
  {
   "cell_type": "code",
   "execution_count": null,
   "id": "0a029bd4924500e8",
   "metadata": {},
   "outputs": [],
   "source": [
    "x_train, x_test, y_train, y_test = train_test_split(x, y, test_size=0.4)\n",
    "x_train.shape, x_test.shape, y_train.shape, y_test.shape"
   ]
  },
  {
   "cell_type": "code",
   "execution_count": null,
   "id": "a51f5245987b60d8",
   "metadata": {
    "slideshow": {
     "slide_type": "subslide"
    }
   },
   "outputs": [],
   "source": [
    "fig, axs = plt.subplots(ncols=2, nrows=2, figsize=(20, 12))\n",
    "for i in range(2):\n",
    "    sns.scatterplot(x=x[:, i], y=y, ax=axs[0, i]);\n",
    "for i in range(2):\n",
    "    sns.scatterplot(x=x[:, i + 6], y=y, ax=axs[1, i]);"
   ]
  },
  {
   "cell_type": "code",
   "execution_count": null,
   "id": "ae27b86dda257467",
   "metadata": {
    "slideshow": {
     "slide_type": "subslide"
    }
   },
   "outputs": [],
   "source": [
    "lr_clf = LinearRegression()\n",
    "lr_clf.fit(x_train, y_train)\n",
    "y_lr_pred = lr_clf.predict(x_test)\n",
    "\n",
    "mean_absolute_error(y_test, y_lr_pred), mean_squared_error(y_test, y_lr_pred)"
   ]
  },
  {
   "cell_type": "code",
   "execution_count": null,
   "id": "ddff3987c1f6dfc7",
   "metadata": {
    "slideshow": {
     "slide_type": "subslide"
    }
   },
   "outputs": [],
   "source": [
    "dt_clf = DecisionTreeRegressor()\n",
    "dt_clf.fit(x_train, y_train)\n",
    "y_dt_pred = dt_clf.predict(x_test)\n",
    "\n",
    "mean_absolute_error(y_test, y_dt_pred), mean_squared_error(y_test, y_dt_pred)"
   ]
  },
  {
   "cell_type": "code",
   "execution_count": null,
   "id": "6291cbbdcff547d5",
   "metadata": {
    "slideshow": {
     "slide_type": "subslide"
    }
   },
   "outputs": [],
   "source": [
    "rf_clf = RandomForestRegressor()\n",
    "rf_clf.fit(x_train, y_train)\n",
    "y_rf_pred = rf_clf.predict(x_test)\n",
    "\n",
    "mean_absolute_error(y_test, y_rf_pred), mean_squared_error(y_test, y_rf_pred)"
   ]
  },
  {
   "cell_type": "code",
   "execution_count": null,
   "id": "8e5f269818d87001",
   "metadata": {
    "slideshow": {
     "slide_type": "subslide"
    }
   },
   "outputs": [],
   "source": [
    "gb_clf = GradientBoostingRegressor()\n",
    "gb_clf.fit(x_train, y_train)\n",
    "y_gb_pred = gb_clf.predict(x_test)\n",
    "\n",
    "mean_absolute_error(y_test, y_gb_pred), mean_squared_error(y_test, y_gb_pred)"
   ]
  },
  {
   "cell_type": "markdown",
   "id": "3155cac30339d839",
   "metadata": {
    "slideshow": {
     "slide_type": "slide"
    }
   },
   "source": [
    "\n",
    " ## Feature Engineering"
   ]
  },
  {
   "cell_type": "code",
   "execution_count": null,
   "id": "acbdf09815fdefae",
   "metadata": {
    "slideshow": {
     "slide_type": "subslide"
    }
   },
   "outputs": [],
   "source": [
    "x = rng.uniform(size=(150, 1), low=0.0, high=10.0)\n",
    "x_train, x_test = x[:100], x[100:]\n",
    "x_plot = np.linspace(0, 10, 500)\n",
    "x_train[:3]"
   ]
  },
  {
   "cell_type": "code",
   "execution_count": null,
   "id": "c9f0cb510c2e54b5",
   "metadata": {
    "slideshow": {
     "slide_type": "subslide"
    }
   },
   "outputs": [],
   "source": [
    "y_lin_train = lin(x_train).reshape(-1)\n",
    "y_lin_test = lin(x_test).reshape(-1)\n",
    "y_fun_train = fun(x_train.reshape(-1))\n",
    "y_fun_test = fun(x_test).reshape(-1)"
   ]
  },
  {
   "cell_type": "code",
   "execution_count": null,
   "id": "00a9e6722c6cd6fa",
   "metadata": {
    "slideshow": {
     "slide_type": "subslide"
    }
   },
   "outputs": [],
   "source": [
    "x_squares = x * x\n",
    "x_squares[:3]"
   ]
  },
  {
   "cell_type": "code",
   "execution_count": null,
   "id": "d35609786f1af4e8",
   "metadata": {
    "slideshow": {
     "slide_type": "subslide"
    }
   },
   "outputs": [],
   "source": [
    "x_sins = np.sin(x)\n",
    "x_sins[:3]"
   ]
  },
  {
   "cell_type": "code",
   "execution_count": null,
   "id": "4deb7dbdd57fc115",
   "metadata": {
    "slideshow": {
     "slide_type": "subslide"
    }
   },
   "outputs": [],
   "source": [
    "x_train_aug = np.concatenate([x_train, x_train * x_train, np.sin(x_train)], axis=1)\n",
    "x_train_aug[:3]"
   ]
  },
  {
   "cell_type": "code",
   "execution_count": null,
   "id": "85b07a21b9738077",
   "metadata": {
    "slideshow": {
     "slide_type": "subslide"
    }
   },
   "outputs": [],
   "source": [
    "x_test_aug = np.concatenate([x_test, x_test * x_test, np.sin(x_test)], axis=1)"
   ]
  },
  {
   "cell_type": "code",
   "execution_count": null,
   "id": "82a1cda4a85903cd",
   "metadata": {
    "slideshow": {
     "slide_type": "subslide"
    }
   },
   "outputs": [],
   "source": [
    "# from sklearn.linear_model import Ridge\n",
    "# lr_aug_lin = Ridge()\n",
    "lr_aug_lin = LinearRegression()\n",
    "lr_aug_lin.fit(x_train_aug, y_lin_train);"
   ]
  },
  {
   "cell_type": "code",
   "execution_count": null,
   "id": "bfe310e86db9f4ab",
   "metadata": {
    "lines_to_next_cell": 2,
    "slideshow": {
     "slide_type": "subslide"
    }
   },
   "outputs": [],
   "source": [
    "lr_aug_lin.coef_, lr_aug_lin.intercept_"
   ]
  },
  {
   "cell_type": "code",
   "execution_count": null,
   "id": "11b36760b4e5467e",
   "metadata": {
    "slideshow": {
     "slide_type": "subslide"
    }
   },
   "outputs": [],
   "source": [
    "y_aug_lin_pred = lr_aug_lin.predict(x_test_aug)"
   ]
  },
  {
   "cell_type": "code",
   "execution_count": null,
   "id": "3884cb9a8a69fc9c",
   "metadata": {
    "slideshow": {
     "slide_type": "subslide"
    }
   },
   "outputs": [],
   "source": [
    "mean_absolute_error(y_lin_test, y_aug_lin_pred), mean_squared_error(\n",
    "    y_lin_test, y_aug_lin_pred\n",
    ")"
   ]
  },
  {
   "cell_type": "code",
   "execution_count": null,
   "id": "7f28d96a1552e19e",
   "metadata": {
    "slideshow": {
     "slide_type": "subslide"
    }
   },
   "outputs": [],
   "source": [
    "x_test.shape, x_plot.shape"
   ]
  },
  {
   "cell_type": "code",
   "execution_count": null,
   "id": "015499ff967a6ea5",
   "metadata": {
    "slideshow": {
     "slide_type": "subslide"
    }
   },
   "outputs": [],
   "source": [
    "def train_and_plot_aug(f_y, scale=0.5):\n",
    "    y_plot = f_y(x_plot)\n",
    "\n",
    "    f_r = lambda x: randomize(f_y, x, scale=scale)\n",
    "    y_train = f_r(x_train_aug[:, 0])\n",
    "    y_test = f_r(x_test)\n",
    "\n",
    "    lr_aug = LinearRegression() # Try with Ridge() as well...\n",
    "    lr_aug.fit(x_train_aug, y_train)\n",
    "    y_pred_test = lr_aug.predict(\n",
    "                      np.concatenate([x_test, x_test * x_test, np.sin(x_test)], axis=1)\n",
    "                   )\n",
    "    x_plot2 = x_plot.reshape(-1, 1)\n",
    "    y_pred_plot = lr_aug.predict(\n",
    "                     np.concatenate([x_plot2, x_plot2 * x_plot2, np.sin(x_plot2)], axis=1)\n",
    "                  )\n",
    "\n",
    "    fig, ax = plt.subplots(figsize=(12, 6))\n",
    "    sns.scatterplot(x=x_plot2[:, 0], y=y_plot, color=\"orange\")\n",
    "    sns.scatterplot(x=x_plot2[:, 0], y=y_pred_plot, color=\"red\")\n",
    "    sns.scatterplot(x=x_train_aug[:, 0], y=y_train, color=\"green\")\n",
    "    plt.show()\n",
    "\n",
    "    mae_in = mean_absolute_error(y_test, y_pred_test)\n",
    "    mse_in = mean_absolute_error(y_test, y_pred_test)\n",
    "    rmse_in = np.sqrt(mse_in)\n",
    "\n",
    "    y_nr = f_y(x_test)\n",
    "    mae_true = mean_absolute_error(y_nr, y_pred_test)\n",
    "    mse_true = mean_absolute_error(y_nr, y_pred_test)\n",
    "    rmse_true = np.sqrt(mse_true)\n",
    "\n",
    "    print(f\"Vs. input: MAE: {mae_in:.2f}, MSE: {mse_in:.2f}, RMSE: {rmse_in:.2f}\")\n",
    "    print(f\"True:      MAE: {mae_true:.2f}, MSE: {mse_true:.2f}, RMSE: {rmse_true:.2f}\")\n",
    "    print(f\"Parameters: {lr_aug.coef_}, {lr_aug.intercept_}\")"
   ]
  },
  {
   "cell_type": "code",
   "execution_count": null,
   "id": "8339871c86f083de",
   "metadata": {
    "slideshow": {
     "slide_type": "subslide"
    }
   },
   "outputs": [],
   "source": [
    "train_and_plot_aug(lin)"
   ]
  },
  {
   "cell_type": "code",
   "execution_count": null,
   "id": "1f65e9f07b8efd4b",
   "metadata": {
    "slideshow": {
     "slide_type": "subslide"
    }
   },
   "outputs": [],
   "source": [
    "train_and_plot_aug(fun, scale=0.0)"
   ]
  },
  {
   "cell_type": "code",
   "execution_count": null,
   "id": "8b5553c169ed1d38",
   "metadata": {
    "slideshow": {
     "slide_type": "subslide"
    }
   },
   "outputs": [],
   "source": [
    "train_and_plot_aug(fun, scale=0.5)"
   ]
  },
  {
   "cell_type": "code",
   "execution_count": null,
   "id": "adf6dfc322b62d29",
   "metadata": {
    "slideshow": {
     "slide_type": "subslide"
    }
   },
   "outputs": [],
   "source": [
    "train_and_plot_aug(fun, scale=1.5)"
   ]
  },
  {
   "cell_type": "code",
   "execution_count": null,
   "id": "1a998ff0218a9294",
   "metadata": {
    "slideshow": {
     "slide_type": "subslide"
    }
   },
   "outputs": [],
   "source": [
    "train_and_plot_aug(fun, scale=3)"
   ]
  },
  {
   "cell_type": "code",
   "execution_count": null,
   "id": "f706cf29e6f39bee",
   "metadata": {},
   "outputs": [],
   "source": [
    "def fun2(x): return 2.8 * np.sin(x) + 0.3 * x + 0.08 * x ** 2 - 2.5\n",
    "\n",
    "train_and_plot_aug(fun2, scale=1.5)"
   ]
  },
  {
   "cell_type": "code",
   "execution_count": null,
   "id": "2eb046d72df6330e",
   "metadata": {},
   "outputs": [],
   "source": [
    "train_and_plot_aug(lambda x: np.select([x<=6, x>6], [-0.5, 3.5]))"
   ]
  },
  {
   "cell_type": "code",
   "execution_count": null,
   "id": "6b4e03423667dbb7",
   "metadata": {},
   "outputs": [],
   "source": []
  }
 ],
 "metadata": {
  "jupytext": {
   "cell_metadata_filter": "slideshow,lang,tags,-all",
   "main_language": "python",
   "notebook_metadata_filter": "-all"
  },
  "kernelspec": {
   "display_name": "Python 3 (ipykernel)",
   "language": "python",
   "name": "python3"
  },
  "language_info": {
   "codemirror_mode": {
    "name": "ipython",
    "version": 3
   },
   "file_extension": ".py",
   "mimetype": "text/x-python",
   "name": "python",
   "nbconvert_exporter": "python",
   "pygments_lexer": "ipython3"
  }
 },
 "nbformat": 4,
 "nbformat_minor": 5
}
