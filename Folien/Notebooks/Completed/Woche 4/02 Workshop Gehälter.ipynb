{
 "cells": [
  {
   "cell_type": "markdown",
   "id": "16f5eb7b7be1aa47",
   "metadata": {
    "lang": "de",
    "slideshow": {
     "slide_type": "slide"
    },
    "tags": [
     "slide"
    ]
   },
   "source": [
    "\n",
    "<img src=\"data:image/svg+xml;base64,PHN2ZyB4bWxucz0iaHR0cDovL3d3dy53My5vcmcvMjAwMC9zdmciIHhtbG5zOnhsaW5rPSJodHRw\n",
    "Oi8vd3d3LnczLm9yZy8xOTk5L3hsaW5rIiB3aWR0aD0iMTExLjE2MSIgaGVpZ2h0PSIxMzQuNjY4\n",
    "IiB2ZXJzaW9uPSIxLjAiPjxkZWZzPjxsaW5lYXJHcmFkaWVudCBpZD0iYyI+PHN0b3Agb2Zmc2V0\n",
    "PSIwIiBzdHlsZT0ic3RvcC1jb2xvcjojYjhiOGI4O3N0b3Atb3BhY2l0eTouNDk4MDM5MjIiLz48\n",
    "c3RvcCBvZmZzZXQ9IjEiIHN0eWxlPSJzdG9wLWNvbG9yOiM3ZjdmN2Y7c3RvcC1vcGFjaXR5OjAi\n",
    "Lz48L2xpbmVhckdyYWRpZW50PjxsaW5lYXJHcmFkaWVudCBpZD0iYSI+PHN0b3Agb2Zmc2V0PSIw\n",
    "IiBzdHlsZT0ic3RvcC1jb2xvcjojZmZkNDNiO3N0b3Atb3BhY2l0eToxIi8+PHN0b3Agb2Zmc2V0\n",
    "PSIxIiBzdHlsZT0ic3RvcC1jb2xvcjojZmZlODczO3N0b3Atb3BhY2l0eToxIi8+PC9saW5lYXJH\n",
    "cmFkaWVudD48bGluZWFyR3JhZGllbnQgaWQ9ImIiPjxzdG9wIG9mZnNldD0iMCIgc3R5bGU9InN0\n",
    "b3AtY29sb3I6IzVhOWZkNDtzdG9wLW9wYWNpdHk6MSIvPjxzdG9wIG9mZnNldD0iMSIgc3R5bGU9\n",
    "InN0b3AtY29sb3I6IzMwNjk5ODtzdG9wLW9wYWNpdHk6MSIvPjwvbGluZWFyR3JhZGllbnQ+PGxp\n",
    "bmVhckdyYWRpZW50IHhsaW5rOmhyZWY9IiNhIiBpZD0iZSIgeDE9IjE1MC45NjEiIHgyPSIxMTIu\n",
    "MDMxIiB5MT0iMTkyLjM1MiIgeTI9IjEzNy4yNzMiIGdyYWRpZW50VHJhbnNmb3JtPSJtYXRyaXgo\n",
    "LjU2MjU0IDAgMCAuNTY3OTcgLTE0Ljk5MSAtMTEuNzAyKSIgZ3JhZGllbnRVbml0cz0idXNlclNw\n",
    "YWNlT25Vc2UiLz48bGluZWFyR3JhZGllbnQgeGxpbms6aHJlZj0iI2IiIGlkPSJkIiB4MT0iMjYu\n",
    "NjQ5IiB4Mj0iMTM1LjY2NSIgeTE9IjIwLjYwNCIgeTI9IjExNC4zOTgiIGdyYWRpZW50VHJhbnNm\n",
    "b3JtPSJtYXRyaXgoLjU2MjU0IDAgMCAuNTY3OTcgLTE0Ljk5MSAtMTEuNzAyKSIgZ3JhZGllbnRV\n",
    "bml0cz0idXNlclNwYWNlT25Vc2UiLz48cmFkaWFsR3JhZGllbnQgeGxpbms6aHJlZj0iI2MiIGlk\n",
    "PSJmIiBjeD0iNjEuNTE5IiBjeT0iMTMyLjI4NiIgcj0iMjkuMDM3IiBmeD0iNjEuNTE5IiBmeT0i\n",
    "MTMyLjI4NiIgZ3JhZGllbnRUcmFuc2Zvcm09Im1hdHJpeCgwIC0uMjM5OTUgMS4wNTQ2NyAwIC04\n",
    "My43IDE0Mi40NjIpIiBncmFkaWVudFVuaXRzPSJ1c2VyU3BhY2VPblVzZSIvPjwvZGVmcz48cGF0\n",
    "aCBkPSJNNTQuOTE5IDBjLTQuNTg0LjAyMi04Ljk2MS40MTMtMTIuODEzIDEuMDk1QzMwLjc2IDMu\n",
    "MDk5IDI4LjcgNy4yOTUgMjguNyAxNS4wMzJ2MTAuMjE5aDI2LjgxM3YzLjQwNkgxOC42MzhjLTcu\n",
    "NzkzIDAtMTQuNjE2IDQuNjg0LTE2Ljc1IDEzLjU5NC0yLjQ2MiAxMC4yMTMtMi41NzEgMTYuNTg2\n",
    "IDAgMjcuMjUgMS45MDUgNy45MzggNi40NTcgMTMuNTk0IDE0LjI1IDEzLjU5NGg5LjIxOHYtMTIu\n",
    "MjVjMC04Ljg1IDcuNjU3LTE2LjY1NyAxNi43NS0xNi42NTdoMjYuNzgyYzcuNDU0IDAgMTMuNDA2\n",
    "LTYuMTM4IDEzLjQwNi0xMy42MjV2LTI1LjUzYzAtNy4yNjctNi4xMy0xMi43MjYtMTMuNDA2LTEz\n",
    "LjkzOEM2NC4yODIuMzI4IDU5LjUwMi0uMDIgNTQuOTE4IDBtLTE0LjUgOC4yMmMyLjc3IDAgNS4w\n",
    "MzEgMi4yOTggNS4wMzEgNS4xMjUgMCAyLjgxNi0yLjI2MiA1LjA5My01LjAzMSA1LjA5My0yLjc4\n",
    "IDAtNS4wMzEtMi4yNzctNS4wMzEtNS4wOTMgMC0yLjgyNyAyLjI1MS01LjEyNSA1LjAzLTUuMTI1\n",
    "IiBzdHlsZT0iZmlsbDp1cmwoI2QpO2ZpbGwtb3BhY2l0eToxIi8+PHBhdGggZD0iTTg1LjYzOCAy\n",
    "OC42NTd2MTEuOTA2YzAgOS4yMzEtNy44MjYgMTctMTYuNzUgMTdINDIuMTA2Yy03LjMzNiAwLTEz\n",
    "LjQwNiA2LjI3OS0xMy40MDYgMTMuNjI1Vjk2LjcyYzAgNy4yNjYgNi4zMTkgMTEuNTQgMTMuNDA2\n",
    "IDEzLjYyNSA4LjQ4OCAyLjQ5NSAxNi42MjcgMi45NDYgMjYuNzgyIDAgNi43NS0xLjk1NSAxMy40\n",
    "MDYtNS44ODggMTMuNDA2LTEzLjYyNVY4Ni41SDU1LjUxM3YtMy40MDVIOTUuN2M3Ljc5MyAwIDEw\n",
    "LjY5Ni01LjQzNiAxMy40MDYtMTMuNTk0IDIuOC04LjM5OSAyLjY4LTE2LjQ3NiAwLTI3LjI1LTEu\n",
    "OTI1LTcuNzU4LTUuNjA0LTEzLjU5NC0xMy40MDYtMTMuNTk0ek03MC41NzUgOTMuMzEzYzIuNzgg\n",
    "MCA1LjAzMSAyLjI3OCA1LjAzMSA1LjA5NCAwIDIuODI3LTIuMjUxIDUuMTI1LTUuMDMxIDUuMTI1\n",
    "LTIuNzcgMC01LjAzMS0yLjI5OC01LjAzMS01LjEyNSAwLTIuODE2IDIuMjYxLTUuMDk0IDUuMDMx\n",
    "LTUuMDk0IiBzdHlsZT0iZmlsbDp1cmwoI2UpO2ZpbGwtb3BhY2l0eToxIi8+PGVsbGlwc2UgY3g9\n",
    "IjU1LjgxNyIgY3k9IjEyNy43MDEiIHJ4PSIzNS45MzEiIHJ5PSI2Ljk2NyIgc3R5bGU9Im9wYWNp\n",
    "dHk6LjQ0MzgyO2ZpbGw6dXJsKCNmKTtmaWxsLW9wYWNpdHk6MTtmaWxsLXJ1bGU6bm9uemVybztz\n",
    "dHJva2U6bm9uZTtzdHJva2Utd2lkdGg6MTUuNDE3NDtzdHJva2UtbWl0ZXJsaW1pdDo0O3N0cm9r\n",
    "ZS1kYXNoYXJyYXk6bm9uZTtzdHJva2Utb3BhY2l0eToxIi8+PC9zdmc+\n",
    "\"\n",
    "     style=\"display:block;margin:auto;width:10%\" alt=\"Python Logo\"/>\n",
    "<br>\n",
    "\n",
    "<div style=\"text-align:center; font-size:200%;\">\n",
    " <b>Workshop Gehälter</b>\n",
    "</div>\n",
    "<br/>\n",
    "<div style=\"text-align:center;\">Dr. Matthias Hölzl</div>\n",
    "<br/>"
   ]
  },
  {
   "cell_type": "markdown",
   "id": "11fbcbaeaf6bdad0",
   "metadata": {},
   "source": [
    "\n",
    "The module `fake_salary` contains a number of synthetic datasets that\n",
    "represent salary as a function of ages and education level, or ages and\n",
    "profession.\n",
    "\n",
    "Analyze how `linear_salaries`, `stepwise_salaries`, `interpolated_salaries`\n",
    "and `multivar_salaries` depend on `ages` and `education_levels` and train\n",
    "regression models (at least linear and decision tree models) that model these\n",
    "dependencies.\n",
    "\n",
    "Do the same for `multidist_ages`, `professions`, and `multidist_salaries`.\n",
    "\n",
    "*Hint:* The `fake_salary` module contains a number of plots that show the\n",
    "relatinships; to display them run the file as main module or interactively in\n",
    "VS Code. Please try to solve the exercises yourself before looking at the\n",
    "plots."
   ]
  },
  {
   "cell_type": "code",
   "execution_count": null,
   "id": "6c000bc27d7b406c",
   "metadata": {
    "tags": [
     "keep"
    ]
   },
   "outputs": [],
   "source": [
    "import matplotlib.pyplot as plt\n",
    "import seaborn as sns\n",
    "import numpy as np\n",
    "import pandas as pd\n",
    "from sklearn.model_selection import train_test_split\n",
    "from sklearn.linear_model import SGDRegressor\n",
    "from sklearn.ensemble import RandomForestRegressor\n",
    "from sklearn.metrics import mean_absolute_error, root_mean_squared_error"
   ]
  },
  {
   "cell_type": "code",
   "execution_count": null,
   "id": "b0cfc2f67b51e989",
   "metadata": {
    "tags": [
     "keep"
    ]
   },
   "outputs": [],
   "source": [
    "from fake_salary import (\n",
    "    ages,\n",
    "    education_levels,\n",
    "\n",
    "    linear_salaries,\n",
    "    stepwise_salaries,\n",
    "    interpolated_salaries,\n",
    "    multivar_salaries,\n",
    "\n",
    "    multidist_ages,\n",
    "    professions,\n",
    "\n",
    "    multidist_salaries,\n",
    ")"
   ]
  },
  {
   "cell_type": "code",
   "execution_count": null,
   "id": "268a77f9ff1b5a9e",
   "metadata": {
    "tags": [
     "keep"
    ]
   },
   "outputs": [],
   "source": [
    "ages.shape, education_levels.shape"
   ]
  },
  {
   "cell_type": "code",
   "execution_count": null,
   "id": "2da4025c422bd59c",
   "metadata": {
    "tags": [
     "keep"
    ]
   },
   "outputs": [],
   "source": [
    "(linear_salaries.shape,\n",
    " stepwise_salaries.shape,\n",
    " interpolated_salaries.shape,\n",
    " multivar_salaries.shape)"
   ]
  },
  {
   "cell_type": "code",
   "execution_count": null,
   "id": "ffcd3d6249a7a8c3",
   "metadata": {
    "tags": [
     "keep"
    ]
   },
   "outputs": [],
   "source": [
    "sns.set_theme(style=\"darkgrid\")"
   ]
  },
  {
   "cell_type": "code",
   "execution_count": null,
   "id": "72a48f1146732075",
   "metadata": {},
   "outputs": [],
   "source": [
    "sns.scatterplot(x=ages[:500], y=linear_salaries[:500]);"
   ]
  },
  {
   "cell_type": "code",
   "execution_count": null,
   "id": "a46ecf2ac424e5b8",
   "metadata": {},
   "outputs": [],
   "source": [
    "sns.scatterplot(x=ages, y=linear_salaries, alpha=0.15);"
   ]
  },
  {
   "cell_type": "code",
   "execution_count": null,
   "id": "f0f85b1ddc34fcbf",
   "metadata": {},
   "outputs": [],
   "source": [
    "sns.regplot(x=ages[:500], y=linear_salaries[:500], line_kws={\"color\": \"red\"})"
   ]
  },
  {
   "cell_type": "code",
   "execution_count": null,
   "id": "35629afb0a58f320",
   "metadata": {
    "lines_to_next_cell": 2,
    "tags": [
     "alt"
    ]
   },
   "outputs": [],
   "source": [
    "# Salaries approximately taken from\n",
    "# https://www.indeed.com/career-advice/pay-salary/average-salary-by-age"
   ]
  },
  {
   "cell_type": "code",
   "execution_count": null,
   "id": "d4d088b88fc41e21",
   "metadata": {
    "lines_to_next_cell": 2,
    "tags": [
     "alt"
    ]
   },
   "outputs": [],
   "source": [
    "sns.scatterplot(x=ages[:500], y=interpolated_salaries[:500]);"
   ]
  },
  {
   "cell_type": "code",
   "execution_count": null,
   "id": "4fb636170f3d7a07",
   "metadata": {
    "lines_to_next_cell": 2,
    "tags": [
     "alt"
    ]
   },
   "outputs": [],
   "source": [
    "sns.scatterplot(x=ages, y=interpolated_salaries, alpha=0.15);"
   ]
  },
  {
   "cell_type": "code",
   "execution_count": null,
   "id": "40d9eb47db16833b",
   "metadata": {
    "tags": [
     "alt"
    ]
   },
   "outputs": [],
   "source": [
    "sns.scatterplot(x=ages, y=linear_salaries, alpha=0.15)\n",
    "sns.scatterplot(x=ages, y=stepwise_salaries, alpha=0.15)\n",
    "sns.scatterplot(x=ages, y=interpolated_salaries, alpha=0.15)"
   ]
  },
  {
   "cell_type": "code",
   "execution_count": null,
   "id": "614755a56e97f17f",
   "metadata": {
    "tags": [
     "alt"
    ]
   },
   "outputs": [],
   "source": [
    "linear_salaries_df = pd.DataFrame(\n",
    "    {\"age\": np.round(ages), \"salary\": np.round(linear_salaries)}\n",
    ")\n",
    "stepwise_salaries_df = pd.DataFrame(\n",
    "    {\"age\": np.round(ages), \"salary\": np.round(stepwise_salaries)}\n",
    ")\n",
    "interpolated_salaries_df = pd.DataFrame(\n",
    "    {\"age\": np.round(ages), \"salary\": np.round(interpolated_salaries)}\n",
    ")"
   ]
  },
  {
   "cell_type": "code",
   "execution_count": null,
   "id": "f78b1f625cc50b02",
   "metadata": {
    "tags": [
     "alt"
    ]
   },
   "outputs": [],
   "source": [
    "linear_salaries_df"
   ]
  },
  {
   "cell_type": "code",
   "execution_count": null,
   "id": "0702b27619b26700",
   "metadata": {
    "tags": [
     "alt"
    ]
   },
   "outputs": [],
   "source": [
    "sns.scatterplot(data=linear_salaries_df, x=\"age\", y=\"salary\", alpha=0.25)\n",
    "sns.scatterplot(data=stepwise_salaries_df, x=\"age\", y=\"salary\", alpha=0.25)\n",
    "sns.scatterplot(data=interpolated_salaries_df, x=\"age\", y=\"salary\", alpha=0.25);"
   ]
  },
  {
   "cell_type": "code",
   "execution_count": null,
   "id": "eaf05409ded44ce6",
   "metadata": {
    "tags": [
     "alt"
    ]
   },
   "outputs": [],
   "source": [
    "sns.scatterplot(x=ages, y=multivar_salaries, hue=education_levels)"
   ]
  },
  {
   "cell_type": "code",
   "execution_count": null,
   "id": "a536a63f12c3145e",
   "metadata": {
    "tags": [
     "alt"
    ]
   },
   "outputs": [],
   "source": [
    "multivar_salaries_df = pd.DataFrame(\n",
    "    {\"age\": np.round(ages), \"edu_lvl\": education_levels, \"salary\": multivar_salaries}\n",
    ")"
   ]
  },
  {
   "cell_type": "code",
   "execution_count": null,
   "id": "ffba03e3e09b55ef",
   "metadata": {
    "tags": [
     "alt"
    ]
   },
   "outputs": [],
   "source": [
    "sns.scatterplot(\n",
    "    data=multivar_salaries_df, x=\"age\", y=\"salary\", hue=\"edu_lvl\", alpha=0.25\n",
    ")"
   ]
  },
  {
   "cell_type": "code",
   "execution_count": null,
   "id": "6cc68b62134143c9",
   "metadata": {
    "tags": [
     "alt"
    ]
   },
   "outputs": [],
   "source": [
    "sns.pairplot(data=multivar_salaries_df);"
   ]
  },
  {
   "cell_type": "code",
   "execution_count": null,
   "id": "18ba7aa21f2ec8f9",
   "metadata": {
    "tags": [
     "alt"
    ]
   },
   "outputs": [],
   "source": [
    "grid = sns.pairplot(\n",
    "    data=multivar_salaries_df,\n",
    "    vars=[\"age\", \"salary\", \"edu_lvl\"],\n",
    "    hue=\"edu_lvl\",\n",
    "    diag_kind=\"hist\",\n",
    "    height=3,\n",
    "    aspect=1,\n",
    ")"
   ]
  },
  {
   "cell_type": "code",
   "execution_count": null,
   "id": "a7509eba057bfc29",
   "metadata": {
    "tags": [
     "alt"
    ]
   },
   "outputs": [],
   "source": [
    "sns.scatterplot(x=multidist_ages, y=multidist_salaries, alpha=0.15);"
   ]
  },
  {
   "cell_type": "code",
   "execution_count": null,
   "id": "befdbd727626cd18",
   "metadata": {
    "tags": [
     "alt"
    ]
   },
   "outputs": [],
   "source": [
    "fig, ax = plt.subplots(figsize=(9, 8))\n",
    "sns.scatterplot(\n",
    "    x=multidist_ages,\n",
    "    y=multidist_salaries,\n",
    "    hue=professions,\n",
    "    style=professions,\n",
    "    # palette=\"flare\",\n",
    "    ax=ax,\n",
    "    alpha=0.5,\n",
    ");"
   ]
  },
  {
   "cell_type": "code",
   "execution_count": null,
   "id": "ef983e15e94f516e",
   "metadata": {
    "lines_to_next_cell": 2,
    "tags": [
     "alt"
    ]
   },
   "outputs": [],
   "source": [
    "fig, ax = plt.subplots(figsize=(9, 8))\n",
    "sns.scatterplot(\n",
    "    x=multidist_ages,\n",
    "    y=multidist_salaries,\n",
    "    hue=professions,\n",
    "    # style=professions,\n",
    "    # palette=\"coolwarm\",\n",
    "    # palette=\"seismic\",\n",
    "    palette=\"gist_rainbow\",\n",
    "    ax=ax,\n",
    "    alpha=0.5,\n",
    ")"
   ]
  },
  {
   "cell_type": "code",
   "execution_count": null,
   "id": "c2e24d059957cf02",
   "metadata": {
    "tags": [
     "alt"
    ]
   },
   "outputs": [],
   "source": [
    "multidist_salaries_df = pd.DataFrame(\n",
    "    {\n",
    "        \"age\": np.round(multidist_ages),\n",
    "        \"profession\": professions,\n",
    "        \"salary\": np.round(multidist_salaries),\n",
    "    }\n",
    ")"
   ]
  },
  {
   "cell_type": "code",
   "execution_count": null,
   "id": "e483701ba8fd1807",
   "metadata": {
    "lines_to_next_cell": 2,
    "tags": [
     "alt"
    ]
   },
   "outputs": [],
   "source": [
    "fig, ax = plt.subplots(figsize=(9, 8))\n",
    "sns.scatterplot(\n",
    "    data=multidist_salaries_df,\n",
    "    x=\"age\",\n",
    "    y=\"salary\",\n",
    "    hue=\"profession\",\n",
    "    palette=\"gist_rainbow\",\n",
    "    ax=ax,\n",
    "    alpha=0.5,\n",
    ")"
   ]
  },
  {
   "cell_type": "code",
   "execution_count": null,
   "id": "ed7cefe77ccd8d31",
   "metadata": {
    "tags": [
     "alt"
    ]
   },
   "outputs": [],
   "source": [
    "fig, axes = plt.subplots(\n",
    "    ncols=2,\n",
    "    nrows=3,\n",
    "    figsize=(9, 9),\n",
    "    # sharex=True,\n",
    "    sharey=True,\n",
    "    gridspec_kw={\"hspace\": 0.5, \"wspace\": 0.2},\n",
    ")\n",
    "for row in range(3):\n",
    "    for col in range(2):\n",
    "        profession = col + 2 * row\n",
    "        ax = axes[row, col]\n",
    "        ax.set_title(f\"profession={profession}\")\n",
    "        sns.scatterplot(\n",
    "            data=multidist_salaries_df.loc[\n",
    "                multidist_salaries_df[\"profession\"] == profession\n",
    "            ],\n",
    "            x=\"age\",\n",
    "            y=\"salary\",\n",
    "            ax=ax,\n",
    "            alpha=0.25,\n",
    "        )"
   ]
  },
  {
   "cell_type": "code",
   "execution_count": null,
   "id": "5c5db5b893b20106",
   "metadata": {},
   "outputs": [],
   "source": [
    "grid = sns.pairplot(\n",
    "    data=multidist_salaries_df, hue=\"profession\", height=3, aspect=1.5\n",
    ")"
   ]
  },
  {
   "cell_type": "code",
   "execution_count": null,
   "id": "e3ed2cdbd81e4140",
   "metadata": {
    "tags": [
     "keep"
    ]
   },
   "outputs": [],
   "source": [
    "X1 = ages.reshape(-1, 1)"
   ]
  },
  {
   "cell_type": "code",
   "execution_count": null,
   "id": "4a3cd50c5884e911",
   "metadata": {
    "tags": [
     "keep"
    ]
   },
   "outputs": [],
   "source": [
    "X1_lin_train, X1_lin_test, y1_lin_train, y1_lin_test = train_test_split(X1, linear_salaries, test_size=0.2)"
   ]
  },
  {
   "cell_type": "code",
   "execution_count": null,
   "id": "5418408457daf82a",
   "metadata": {
    "tags": [
     "keep"
    ]
   },
   "outputs": [],
   "source": [
    "X1_lin_train.shape, X1_lin_test.shape, y1_lin_train.shape, y1_lin_test.shape"
   ]
  },
  {
   "cell_type": "code",
   "execution_count": null,
   "id": "256b6ac96a976e2e",
   "metadata": {
    "tags": [
     "keep"
    ]
   },
   "outputs": [],
   "source": [
    "sgd1_lin = SGDRegressor().fit(X1_lin_train, y1_lin_train)"
   ]
  },
  {
   "cell_type": "code",
   "execution_count": null,
   "id": "68bb97c813099a7c",
   "metadata": {
    "tags": [
     "keep"
    ]
   },
   "outputs": [],
   "source": [
    "def evaluate_model(model, X_train, X_test, y_train, y_test):\n",
    "    y_train_pred = model.predict(X_train)\n",
    "    y_test_pred = model.predict(X_test)\n",
    "    mae_train = mean_absolute_error(y_train, y_train_pred)\n",
    "    mae_test = mean_absolute_error(y_test, y_test_pred)\n",
    "    rmse_train = root_mean_squared_error(y_train, y_train_pred)\n",
    "    rmse_test = root_mean_squared_error(y_test, y_test_pred)\n",
    "    print(f\"MAE train:  {mae_train:.2f}, test: {mae_test:.2f}\")\n",
    "    print(f\"RMSE train: {rmse_train:.2f}, test: {rmse_test:.2f}\")"
   ]
  },
  {
   "cell_type": "code",
   "execution_count": null,
   "id": "d1faa30b64468c47",
   "metadata": {
    "tags": [
     "keep"
    ]
   },
   "outputs": [],
   "source": [
    "evaluate_model(sgd1_lin, X1_lin_train, X1_lin_test, y1_lin_train, y1_lin_test)"
   ]
  },
  {
   "cell_type": "code",
   "execution_count": null,
   "id": "910edc1edd3bc396",
   "metadata": {},
   "outputs": [],
   "source": [
    "def plot_results(model, X_train, X_test, y_train, y_test):\n",
    "    y_train_pred = model.predict(X_train)\n",
    "    y_test_pred = model.predict(X_test)\n",
    "    plt.figure(figsize=(9, 6))\n",
    "    plt.scatter(X_train[:, 0], y_train, alpha=0.25, label=\"train\")\n",
    "    plt.scatter(X_test[:, 0], y_test, alpha=0.25, label=\"test\")\n",
    "    plt.scatter(X_train[:, 0], y_train_pred, alpha=0.25, label=\"train pred\")\n",
    "    plt.scatter(X_test[:, 0], y_test_pred, alpha=0.25, label=\"test pred\")\n",
    "    plt.legend()\n",
    "    plt.show()"
   ]
  },
  {
   "cell_type": "code",
   "execution_count": null,
   "id": "aeda46202c353d2a",
   "metadata": {
    "tags": [
     "alt"
    ]
   },
   "outputs": [],
   "source": [
    "plot_results(sgd1_lin, X1_lin_train, X1_lin_test, y1_lin_train, y1_lin_test)"
   ]
  },
  {
   "cell_type": "code",
   "execution_count": null,
   "id": "7929caf823b0a177",
   "metadata": {
    "tags": [
     "alt"
    ]
   },
   "outputs": [],
   "source": [
    "X = np.concatenate([ages.reshape(-1, 1), education_levels.reshape(-1, 1)], axis=1)\n",
    "X.shape"
   ]
  },
  {
   "cell_type": "code",
   "execution_count": null,
   "id": "e3bb8b3b58f9c8fa",
   "metadata": {
    "tags": [
     "alt"
    ]
   },
   "outputs": [],
   "source": [
    "X_lin_train, X_lin_test, y_lin_train, y_lin_test = train_test_split(X, linear_salaries, test_size=0.2)"
   ]
  },
  {
   "cell_type": "code",
   "execution_count": null,
   "id": "e1f0c5ddcd2b118a",
   "metadata": {
    "tags": [
     "alt"
    ]
   },
   "outputs": [],
   "source": [
    "X_lin_train.shape, X_lin_test.shape, y_lin_train.shape, y_lin_test.shape"
   ]
  },
  {
   "cell_type": "code",
   "execution_count": null,
   "id": "7df185875771958c",
   "metadata": {
    "tags": [
     "alt"
    ]
   },
   "outputs": [],
   "source": [
    "sgd_lin = SGDRegressor().fit(X_lin_train, y_lin_train)"
   ]
  },
  {
   "cell_type": "code",
   "execution_count": null,
   "id": "b18fd06af36ccf95",
   "metadata": {
    "tags": [
     "alt"
    ]
   },
   "outputs": [],
   "source": [
    "evaluate_model(sgd_lin, X_lin_train, X_lin_test, y_lin_train, y_lin_test)"
   ]
  },
  {
   "cell_type": "code",
   "execution_count": null,
   "id": "e5ff615174e98969",
   "metadata": {
    "tags": [
     "alt"
    ]
   },
   "outputs": [],
   "source": [
    "plot_results(sgd_lin, X_lin_train, X_lin_test, y_lin_train, y_lin_test)"
   ]
  },
  {
   "cell_type": "code",
   "execution_count": null,
   "id": "22e48badbc571491",
   "metadata": {
    "tags": [
     "alt"
    ]
   },
   "outputs": [],
   "source": [
    "rf_lin = RandomForestRegressor(max_depth=6).fit(X_lin_train, y_lin_train)"
   ]
  },
  {
   "cell_type": "code",
   "execution_count": null,
   "id": "5d2e58a8a037eda6",
   "metadata": {
    "tags": [
     "alt"
    ]
   },
   "outputs": [],
   "source": [
    "evaluate_model(rf_lin, X_lin_train, X_lin_test, y_lin_train, y_lin_test)"
   ]
  },
  {
   "cell_type": "code",
   "execution_count": null,
   "id": "e7edf1dc15a86421",
   "metadata": {
    "tags": [
     "alt"
    ]
   },
   "outputs": [],
   "source": [
    "plot_results(rf_lin, X_lin_train, X_lin_test, y_lin_train, y_lin_test)"
   ]
  },
  {
   "cell_type": "code",
   "execution_count": null,
   "id": "b55c32a0b2ccdd5b",
   "metadata": {
    "tags": [
     "alt"
    ]
   },
   "outputs": [],
   "source": [
    "X_int_train, X_int_test, y_int_train, y_int_test = train_test_split(X, interpolated_salaries, test_size=0.2)"
   ]
  },
  {
   "cell_type": "code",
   "execution_count": null,
   "id": "a72f998dabfa7413",
   "metadata": {
    "tags": [
     "alt"
    ]
   },
   "outputs": [],
   "source": [
    "sgd_int = SGDRegressor().fit(X_int_train, y_int_train)"
   ]
  },
  {
   "cell_type": "code",
   "execution_count": null,
   "id": "a91549ed0e29d50a",
   "metadata": {
    "tags": [
     "alt"
    ]
   },
   "outputs": [],
   "source": [
    "evaluate_model(sgd_int, X_int_train, X_int_test, y_int_train, y_int_test)"
   ]
  },
  {
   "cell_type": "code",
   "execution_count": null,
   "id": "f4998e1d8d2e0af6",
   "metadata": {
    "tags": [
     "alt"
    ]
   },
   "outputs": [],
   "source": [
    "plot_results(sgd_int, X_int_train, X_int_test, y_int_train, y_int_test)"
   ]
  },
  {
   "cell_type": "code",
   "execution_count": null,
   "id": "c72962188fc13833",
   "metadata": {
    "tags": [
     "alt"
    ]
   },
   "outputs": [],
   "source": [
    "rf_int = RandomForestRegressor(max_depth=6).fit(X_int_train, y_int_train)"
   ]
  },
  {
   "cell_type": "code",
   "execution_count": null,
   "id": "15d1f51aa39df1c3",
   "metadata": {
    "tags": [
     "alt"
    ]
   },
   "outputs": [],
   "source": [
    "evaluate_model(rf_int, X_int_train, X_int_test, y_int_train, y_int_test)"
   ]
  },
  {
   "cell_type": "code",
   "execution_count": null,
   "id": "94b9694cc021f4c8",
   "metadata": {
    "tags": [
     "alt"
    ]
   },
   "outputs": [],
   "source": [
    "plot_results(rf_int, X_int_train, X_int_test, y_int_train, y_int_test)"
   ]
  },
  {
   "cell_type": "code",
   "execution_count": null,
   "id": "575bcb0b98e0bd4a",
   "metadata": {
    "tags": [
     "alt"
    ]
   },
   "outputs": [],
   "source": [
    "X_sw_train, X_sw_test, y_sw_train, y_sw_test = train_test_split(X, stepwise_salaries, test_size=0.2)"
   ]
  },
  {
   "cell_type": "code",
   "execution_count": null,
   "id": "a4761c4c9c9c051f",
   "metadata": {
    "tags": [
     "alt"
    ]
   },
   "outputs": [],
   "source": [
    "sgd_sw = SGDRegressor().fit(X_sw_train, y_sw_train)"
   ]
  },
  {
   "cell_type": "code",
   "execution_count": null,
   "id": "47b8301500e4a050",
   "metadata": {
    "tags": [
     "alt"
    ]
   },
   "outputs": [],
   "source": [
    "evaluate_model(sgd_sw, X_sw_train, X_sw_test, y_sw_train, y_sw_test)"
   ]
  },
  {
   "cell_type": "code",
   "execution_count": null,
   "id": "65b9820e6b664591",
   "metadata": {
    "tags": [
     "alt"
    ]
   },
   "outputs": [],
   "source": [
    "plot_results(sgd_sw, X_sw_train, X_sw_test, y_sw_train, y_sw_test)"
   ]
  },
  {
   "cell_type": "code",
   "execution_count": null,
   "id": "55e4329ccea7048f",
   "metadata": {
    "tags": [
     "alt"
    ]
   },
   "outputs": [],
   "source": [
    "rf_sw = RandomForestRegressor(max_depth=6).fit(X_sw_train, y_sw_train)"
   ]
  },
  {
   "cell_type": "code",
   "execution_count": null,
   "id": "a9d31a1b4becddfd",
   "metadata": {
    "tags": [
     "alt"
    ]
   },
   "outputs": [],
   "source": [
    "evaluate_model(rf_sw, X_sw_train, X_sw_test, y_sw_train, y_sw_test)"
   ]
  },
  {
   "cell_type": "code",
   "execution_count": null,
   "id": "0c27408955c79e64",
   "metadata": {
    "tags": [
     "alt"
    ]
   },
   "outputs": [],
   "source": [
    "plot_results(rf_sw, X_sw_train, X_sw_test, y_sw_train, y_sw_test)"
   ]
  },
  {
   "cell_type": "code",
   "execution_count": null,
   "id": "dec9d931ef4978f5",
   "metadata": {},
   "outputs": [],
   "source": [
    "X_mv_train, X_mv_test, y_mv_train, y_mv_test = train_test_split(X, multivar_salaries, test_size=0.2)"
   ]
  },
  {
   "cell_type": "code",
   "execution_count": null,
   "id": "9fa152a53b902c68",
   "metadata": {},
   "outputs": [],
   "source": [
    "sgd_mv = SGDRegressor().fit(X_mv_train, y_mv_train)"
   ]
  },
  {
   "cell_type": "code",
   "execution_count": null,
   "id": "4de8ca9fecaa4eb4",
   "metadata": {},
   "outputs": [],
   "source": [
    "evaluate_model(sgd_mv, X_mv_train, X_mv_test, y_mv_train, y_mv_test)"
   ]
  },
  {
   "cell_type": "code",
   "execution_count": null,
   "id": "6fcf3e3427ef2e64",
   "metadata": {},
   "outputs": [],
   "source": [
    "plot_results(sgd_mv, X_mv_train, X_mv_test, y_mv_train, y_mv_test)"
   ]
  },
  {
   "cell_type": "code",
   "execution_count": null,
   "id": "4f8d2a2f1b8295bc",
   "metadata": {},
   "outputs": [],
   "source": [
    "rf_mv = RandomForestRegressor(max_depth=8).fit(X_mv_train, y_mv_train)"
   ]
  },
  {
   "cell_type": "code",
   "execution_count": null,
   "id": "9ae8c7f6153f5d97",
   "metadata": {},
   "outputs": [],
   "source": [
    "evaluate_model(rf_mv, X_mv_train, X_mv_test, y_mv_train, y_mv_test)"
   ]
  },
  {
   "cell_type": "code",
   "execution_count": null,
   "id": "5fcc2c241ae20746",
   "metadata": {},
   "outputs": [],
   "source": [
    "plot_results(rf_mv, X_mv_train, X_mv_test, y_mv_train, y_mv_test)"
   ]
  },
  {
   "cell_type": "code",
   "execution_count": null,
   "id": "6b4e03423667dbb7",
   "metadata": {},
   "outputs": [],
   "source": []
  }
 ],
 "metadata": {
  "jupytext": {
   "cell_metadata_filter": "tags,lang,-all",
   "main_language": "python",
   "notebook_metadata_filter": "-all"
  },
  "kernelspec": {
   "display_name": "Python 3 (ipykernel)",
   "language": "python",
   "name": "python3"
  },
  "language_info": {
   "codemirror_mode": {
    "name": "ipython",
    "version": 3
   },
   "file_extension": ".py",
   "mimetype": "text/x-python",
   "name": "python",
   "nbconvert_exporter": "python",
   "pygments_lexer": "ipython3"
  }
 },
 "nbformat": 4,
 "nbformat_minor": 5
}
