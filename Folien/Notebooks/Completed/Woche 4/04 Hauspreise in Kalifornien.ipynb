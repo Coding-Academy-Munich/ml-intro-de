{
 "cells": [
  {
   "cell_type": "markdown",
   "id": "09e2be58d55c8341",
   "metadata": {
    "lang": "de",
    "slideshow": {
     "slide_type": "slide"
    },
    "tags": [
     "slide"
    ]
   },
   "source": [
    "\n",
    "<img src=\"data:image/svg+xml;base64,PHN2ZyB4bWxucz0iaHR0cDovL3d3dy53My5vcmcvMjAwMC9zdmciIHhtbG5zOnhsaW5rPSJodHRw\n",
    "Oi8vd3d3LnczLm9yZy8xOTk5L3hsaW5rIiB3aWR0aD0iMTExLjE2MSIgaGVpZ2h0PSIxMzQuNjY4\n",
    "IiB2ZXJzaW9uPSIxLjAiPjxkZWZzPjxsaW5lYXJHcmFkaWVudCBpZD0iYyI+PHN0b3Agb2Zmc2V0\n",
    "PSIwIiBzdHlsZT0ic3RvcC1jb2xvcjojYjhiOGI4O3N0b3Atb3BhY2l0eTouNDk4MDM5MjIiLz48\n",
    "c3RvcCBvZmZzZXQ9IjEiIHN0eWxlPSJzdG9wLWNvbG9yOiM3ZjdmN2Y7c3RvcC1vcGFjaXR5OjAi\n",
    "Lz48L2xpbmVhckdyYWRpZW50PjxsaW5lYXJHcmFkaWVudCBpZD0iYSI+PHN0b3Agb2Zmc2V0PSIw\n",
    "IiBzdHlsZT0ic3RvcC1jb2xvcjojZmZkNDNiO3N0b3Atb3BhY2l0eToxIi8+PHN0b3Agb2Zmc2V0\n",
    "PSIxIiBzdHlsZT0ic3RvcC1jb2xvcjojZmZlODczO3N0b3Atb3BhY2l0eToxIi8+PC9saW5lYXJH\n",
    "cmFkaWVudD48bGluZWFyR3JhZGllbnQgaWQ9ImIiPjxzdG9wIG9mZnNldD0iMCIgc3R5bGU9InN0\n",
    "b3AtY29sb3I6IzVhOWZkNDtzdG9wLW9wYWNpdHk6MSIvPjxzdG9wIG9mZnNldD0iMSIgc3R5bGU9\n",
    "InN0b3AtY29sb3I6IzMwNjk5ODtzdG9wLW9wYWNpdHk6MSIvPjwvbGluZWFyR3JhZGllbnQ+PGxp\n",
    "bmVhckdyYWRpZW50IHhsaW5rOmhyZWY9IiNhIiBpZD0iZSIgeDE9IjE1MC45NjEiIHgyPSIxMTIu\n",
    "MDMxIiB5MT0iMTkyLjM1MiIgeTI9IjEzNy4yNzMiIGdyYWRpZW50VHJhbnNmb3JtPSJtYXRyaXgo\n",
    "LjU2MjU0IDAgMCAuNTY3OTcgLTE0Ljk5MSAtMTEuNzAyKSIgZ3JhZGllbnRVbml0cz0idXNlclNw\n",
    "YWNlT25Vc2UiLz48bGluZWFyR3JhZGllbnQgeGxpbms6aHJlZj0iI2IiIGlkPSJkIiB4MT0iMjYu\n",
    "NjQ5IiB4Mj0iMTM1LjY2NSIgeTE9IjIwLjYwNCIgeTI9IjExNC4zOTgiIGdyYWRpZW50VHJhbnNm\n",
    "b3JtPSJtYXRyaXgoLjU2MjU0IDAgMCAuNTY3OTcgLTE0Ljk5MSAtMTEuNzAyKSIgZ3JhZGllbnRV\n",
    "bml0cz0idXNlclNwYWNlT25Vc2UiLz48cmFkaWFsR3JhZGllbnQgeGxpbms6aHJlZj0iI2MiIGlk\n",
    "PSJmIiBjeD0iNjEuNTE5IiBjeT0iMTMyLjI4NiIgcj0iMjkuMDM3IiBmeD0iNjEuNTE5IiBmeT0i\n",
    "MTMyLjI4NiIgZ3JhZGllbnRUcmFuc2Zvcm09Im1hdHJpeCgwIC0uMjM5OTUgMS4wNTQ2NyAwIC04\n",
    "My43IDE0Mi40NjIpIiBncmFkaWVudFVuaXRzPSJ1c2VyU3BhY2VPblVzZSIvPjwvZGVmcz48cGF0\n",
    "aCBkPSJNNTQuOTE5IDBjLTQuNTg0LjAyMi04Ljk2MS40MTMtMTIuODEzIDEuMDk1QzMwLjc2IDMu\n",
    "MDk5IDI4LjcgNy4yOTUgMjguNyAxNS4wMzJ2MTAuMjE5aDI2LjgxM3YzLjQwNkgxOC42MzhjLTcu\n",
    "NzkzIDAtMTQuNjE2IDQuNjg0LTE2Ljc1IDEzLjU5NC0yLjQ2MiAxMC4yMTMtMi41NzEgMTYuNTg2\n",
    "IDAgMjcuMjUgMS45MDUgNy45MzggNi40NTcgMTMuNTk0IDE0LjI1IDEzLjU5NGg5LjIxOHYtMTIu\n",
    "MjVjMC04Ljg1IDcuNjU3LTE2LjY1NyAxNi43NS0xNi42NTdoMjYuNzgyYzcuNDU0IDAgMTMuNDA2\n",
    "LTYuMTM4IDEzLjQwNi0xMy42MjV2LTI1LjUzYzAtNy4yNjctNi4xMy0xMi43MjYtMTMuNDA2LTEz\n",
    "LjkzOEM2NC4yODIuMzI4IDU5LjUwMi0uMDIgNTQuOTE4IDBtLTE0LjUgOC4yMmMyLjc3IDAgNS4w\n",
    "MzEgMi4yOTggNS4wMzEgNS4xMjUgMCAyLjgxNi0yLjI2MiA1LjA5My01LjAzMSA1LjA5My0yLjc4\n",
    "IDAtNS4wMzEtMi4yNzctNS4wMzEtNS4wOTMgMC0yLjgyNyAyLjI1MS01LjEyNSA1LjAzLTUuMTI1\n",
    "IiBzdHlsZT0iZmlsbDp1cmwoI2QpO2ZpbGwtb3BhY2l0eToxIi8+PHBhdGggZD0iTTg1LjYzOCAy\n",
    "OC42NTd2MTEuOTA2YzAgOS4yMzEtNy44MjYgMTctMTYuNzUgMTdINDIuMTA2Yy03LjMzNiAwLTEz\n",
    "LjQwNiA2LjI3OS0xMy40MDYgMTMuNjI1Vjk2LjcyYzAgNy4yNjYgNi4zMTkgMTEuNTQgMTMuNDA2\n",
    "IDEzLjYyNSA4LjQ4OCAyLjQ5NSAxNi42MjcgMi45NDYgMjYuNzgyIDAgNi43NS0xLjk1NSAxMy40\n",
    "MDYtNS44ODggMTMuNDA2LTEzLjYyNVY4Ni41SDU1LjUxM3YtMy40MDVIOTUuN2M3Ljc5MyAwIDEw\n",
    "LjY5Ni01LjQzNiAxMy40MDYtMTMuNTk0IDIuOC04LjM5OSAyLjY4LTE2LjQ3NiAwLTI3LjI1LTEu\n",
    "OTI1LTcuNzU4LTUuNjA0LTEzLjU5NC0xMy40MDYtMTMuNTk0ek03MC41NzUgOTMuMzEzYzIuNzgg\n",
    "MCA1LjAzMSAyLjI3OCA1LjAzMSA1LjA5NCAwIDIuODI3LTIuMjUxIDUuMTI1LTUuMDMxIDUuMTI1\n",
    "LTIuNzcgMC01LjAzMS0yLjI5OC01LjAzMS01LjEyNSAwLTIuODE2IDIuMjYxLTUuMDk0IDUuMDMx\n",
    "LTUuMDk0IiBzdHlsZT0iZmlsbDp1cmwoI2UpO2ZpbGwtb3BhY2l0eToxIi8+PGVsbGlwc2UgY3g9\n",
    "IjU1LjgxNyIgY3k9IjEyNy43MDEiIHJ4PSIzNS45MzEiIHJ5PSI2Ljk2NyIgc3R5bGU9Im9wYWNp\n",
    "dHk6LjQ0MzgyO2ZpbGw6dXJsKCNmKTtmaWxsLW9wYWNpdHk6MTtmaWxsLXJ1bGU6bm9uemVybztz\n",
    "dHJva2U6bm9uZTtzdHJva2Utd2lkdGg6MTUuNDE3NDtzdHJva2UtbWl0ZXJsaW1pdDo0O3N0cm9r\n",
    "ZS1kYXNoYXJyYXk6bm9uZTtzdHJva2Utb3BhY2l0eToxIi8+PC9zdmc+\n",
    "\"\n",
    "     style=\"display:block;margin:auto;width:10%\" alt=\"Python Logo\"/>\n",
    "<br>\n",
    "\n",
    "<div style=\"text-align:center; font-size:200%;\">\n",
    " <b>Hauspreise in Kalifornien</b>\n",
    "</div>\n",
    "<br/>\n",
    "<div style=\"text-align:center;\">Dr. Matthias Hölzl</div>\n",
    "<br/>"
   ]
  },
  {
   "cell_type": "markdown",
   "id": "b5872b34bc71c01c",
   "metadata": {
    "lang": "de",
    "slideshow": {
     "slide_type": "slide"
    },
    "tags": [
     "slide"
    ]
   },
   "source": [
    "\n",
    "# Hauspreise in Kalifornien"
   ]
  },
  {
   "cell_type": "markdown",
   "id": "896a8eac1a434478",
   "metadata": {
    "lang": "de",
    "slideshow": {
     "slide_type": "subslide"
    },
    "tags": [
     "subslide"
    ]
   },
   "source": [
    "\n",
    "## Herunterladen und Analysieren der Daten"
   ]
  },
  {
   "cell_type": "code",
   "execution_count": null,
   "id": "be6f3b28e771d394",
   "metadata": {
    "tags": [
     "keep"
    ]
   },
   "outputs": [],
   "source": [
    "from pprint import pprint\n",
    "\n",
    "import matplotlib.pyplot as plt\n",
    "import numpy as np\n",
    "import pandas as pd\n",
    "import seaborn as sns\n",
    "from IPython.display import display\n",
    "from sklearn.datasets import fetch_california_housing\n",
    "from sklearn.ensemble import RandomForestRegressor\n",
    "from sklearn.linear_model import SGDRegressor\n",
    "from sklearn.metrics import mean_squared_error\n",
    "from sklearn.model_selection import train_test_split\n",
    "from sklearn.preprocessing import StandardScaler\n",
    "from sklearn.tree import DecisionTreeRegressor"
   ]
  },
  {
   "cell_type": "code",
   "execution_count": null,
   "id": "8eebe4e7d3c9759c",
   "metadata": {
    "lines_to_next_cell": 2,
    "tags": [
     "keep"
    ]
   },
   "outputs": [],
   "source": [
    "np.set_printoptions(precision=2)"
   ]
  },
  {
   "cell_type": "code",
   "execution_count": null,
   "id": "6b559a5e644b7976",
   "metadata": {},
   "outputs": [],
   "source": [
    "california_housing = fetch_california_housing()"
   ]
  },
  {
   "cell_type": "code",
   "execution_count": null,
   "id": "bd8e7057dacfaa59",
   "metadata": {},
   "outputs": [],
   "source": [
    "pprint(california_housing)"
   ]
  },
  {
   "cell_type": "code",
   "execution_count": null,
   "id": "84cc54fc8dbe9745",
   "metadata": {},
   "outputs": [],
   "source": [
    "dir(california_housing)"
   ]
  },
  {
   "cell_type": "code",
   "execution_count": null,
   "id": "8ea352359399e63a",
   "metadata": {},
   "outputs": [],
   "source": [
    "pprint(california_housing.data)"
   ]
  },
  {
   "cell_type": "code",
   "execution_count": null,
   "id": "cd5300ec1aa1cb82",
   "metadata": {},
   "outputs": [],
   "source": [
    "pprint(california_housing.data[0])"
   ]
  },
  {
   "cell_type": "code",
   "execution_count": null,
   "id": "bdf05f51b8e8fed9",
   "metadata": {},
   "outputs": [],
   "source": [
    "print(california_housing.feature_names)"
   ]
  },
  {
   "cell_type": "code",
   "execution_count": null,
   "id": "fd96b2fb90245f91",
   "metadata": {},
   "outputs": [],
   "source": [
    "pprint(california_housing.target)"
   ]
  },
  {
   "cell_type": "markdown",
   "id": "24162e14814447c6",
   "metadata": {
    "lang": "de"
   },
   "source": [
    "\n",
    "## Erzeugen von Data Frames\n",
    "\n",
    "Für tabellarische Daten ist es oft sinnvoll Pandas Data Frames zu erzeugen, da\n",
    "diese viele Funktionen zur Analyse und zum Bearbeiten derartiger Datensätze anbieten."
   ]
  },
  {
   "cell_type": "code",
   "execution_count": null,
   "id": "c73b43e7f35e7977",
   "metadata": {
    "tags": [
     "keep"
    ]
   },
   "outputs": [],
   "source": [
    "simple_df = pd.DataFrame(\n",
    "    data={\n",
    "        \"attr_1\": [1, 2, 3, 4],\n",
    "        \"attr_2\": [1.0, 2.0, 3.0, 4.0],\n",
    "        \"attr_3\": [0.1, 0.5, 0.2, 0.6],\n",
    "    }\n",
    ")"
   ]
  },
  {
   "cell_type": "code",
   "execution_count": null,
   "id": "54b2fb7a2f0e776c",
   "metadata": {},
   "outputs": [],
   "source": [
    "simple_df"
   ]
  },
  {
   "cell_type": "code",
   "execution_count": null,
   "id": "12344aa8056c9899",
   "metadata": {},
   "outputs": [],
   "source": [
    "simple_df.info()"
   ]
  },
  {
   "cell_type": "code",
   "execution_count": null,
   "id": "a052144ad1d23de8",
   "metadata": {},
   "outputs": [],
   "source": [
    "simple_df.describe()"
   ]
  },
  {
   "cell_type": "code",
   "execution_count": null,
   "id": "aae100ed3e3f42e7",
   "metadata": {
    "tags": [
     "keep"
    ]
   },
   "outputs": [],
   "source": [
    "simple_data = np.array([[1, 1.0, 0.1], [2, 2.0, 0.5], [3, 3.0, 0.2], [4, 4.0, 0.6]])"
   ]
  },
  {
   "cell_type": "code",
   "execution_count": null,
   "id": "7088f0c4e790501c",
   "metadata": {
    "tags": [
     "keep"
    ]
   },
   "outputs": [],
   "source": [
    "simple_columns = [\"attr_1\", \"attr_2\", \"attr_3\"]"
   ]
  },
  {
   "cell_type": "code",
   "execution_count": null,
   "id": "2d3e07cb482b8cdf",
   "metadata": {},
   "outputs": [],
   "source": [
    "simple_df2 = pd.DataFrame.from_records(data=simple_data, columns=simple_columns)"
   ]
  },
  {
   "cell_type": "code",
   "execution_count": null,
   "id": "75bd3e7779b89fe9",
   "metadata": {},
   "outputs": [],
   "source": [
    "simple_df2"
   ]
  },
  {
   "cell_type": "code",
   "execution_count": null,
   "id": "a7ad2e17e12d4845",
   "metadata": {},
   "outputs": [],
   "source": [
    "simple_df2.info()"
   ]
  },
  {
   "cell_type": "code",
   "execution_count": null,
   "id": "0845356f25e759f9",
   "metadata": {},
   "outputs": [],
   "source": [
    "simple_df2.describe()"
   ]
  },
  {
   "cell_type": "code",
   "execution_count": null,
   "id": "dafe64b1470b4791",
   "metadata": {},
   "outputs": [],
   "source": [
    "simple_df2 == simple_df"
   ]
  },
  {
   "cell_type": "code",
   "execution_count": null,
   "id": "b0e38f802ffb6ce5",
   "metadata": {},
   "outputs": [],
   "source": [
    "all_data = np.concatenate(\n",
    "    [california_housing.data, california_housing.target.reshape(-1, 1)], axis=1\n",
    ")"
   ]
  },
  {
   "cell_type": "code",
   "execution_count": null,
   "id": "35580e8146bcbdd1",
   "metadata": {},
   "outputs": [],
   "source": [
    "all_data.shape"
   ]
  },
  {
   "cell_type": "code",
   "execution_count": null,
   "id": "0b1fb12bd1c29697",
   "metadata": {},
   "outputs": [],
   "source": [
    "all_data.dtype"
   ]
  },
  {
   "cell_type": "code",
   "execution_count": null,
   "id": "1a1229d0422b0de1",
   "metadata": {},
   "outputs": [],
   "source": [
    "all_columns = [*california_housing.feature_names, \"Target\"]"
   ]
  },
  {
   "cell_type": "code",
   "execution_count": null,
   "id": "cd38c1934eb8dcf4",
   "metadata": {
    "tags": [
     "keep"
    ]
   },
   "outputs": [],
   "source": [
    "pprint(all_columns, compact=True)\n",
    "print(\"Length =\", len(all_columns))"
   ]
  },
  {
   "cell_type": "code",
   "execution_count": null,
   "id": "6d92a5e39ca1f7fe",
   "metadata": {},
   "outputs": [],
   "source": [
    "housing_df = pd.DataFrame.from_records(data=all_data, columns=all_columns)"
   ]
  },
  {
   "cell_type": "code",
   "execution_count": null,
   "id": "fec647493a388e00",
   "metadata": {},
   "outputs": [],
   "source": [
    "housing_df"
   ]
  },
  {
   "cell_type": "code",
   "execution_count": null,
   "id": "41c0c5fd714954c9",
   "metadata": {},
   "outputs": [],
   "source": [
    "housing_df.info()"
   ]
  },
  {
   "cell_type": "code",
   "execution_count": null,
   "id": "c87398b418c2cf0d",
   "metadata": {},
   "outputs": [],
   "source": [
    "housing_df.describe()"
   ]
  },
  {
   "cell_type": "code",
   "execution_count": null,
   "id": "b41a2dd6eb9bc30e",
   "metadata": {},
   "outputs": [],
   "source": [
    "california_housing_v2 = fetch_california_housing(as_frame=True)"
   ]
  },
  {
   "cell_type": "code",
   "execution_count": null,
   "id": "c9c0e763c310691d",
   "metadata": {},
   "outputs": [],
   "source": [
    "california_housing_v2.frame"
   ]
  },
  {
   "cell_type": "code",
   "execution_count": null,
   "id": "bc8f616a41536ad2",
   "metadata": {},
   "outputs": [],
   "source": [
    "california_housing.frame"
   ]
  },
  {
   "cell_type": "code",
   "execution_count": null,
   "id": "1d7c5deaf7e14e06",
   "metadata": {
    "tags": [
     "keep"
    ]
   },
   "outputs": [],
   "source": [
    "x, y = california_housing.data, california_housing.target"
   ]
  },
  {
   "cell_type": "code",
   "execution_count": null,
   "id": "3260c8a0589a9aac",
   "metadata": {
    "tags": [
     "keep"
    ]
   },
   "outputs": [],
   "source": [
    "pprint(x)\n",
    "pprint(y)"
   ]
  },
  {
   "cell_type": "code",
   "execution_count": null,
   "id": "c144256dcfdcd9c7",
   "metadata": {},
   "outputs": [],
   "source": [
    "plt.hist(x=x[0], bins=50)\n",
    "plt.show()"
   ]
  },
  {
   "cell_type": "code",
   "execution_count": null,
   "id": "1ee8a0330b1b3588",
   "metadata": {},
   "outputs": [],
   "source": [
    "plt.hist(x=x[1], bins=50)\n",
    "plt.show()"
   ]
  },
  {
   "cell_type": "code",
   "execution_count": null,
   "id": "c3eb77df150c3d56",
   "metadata": {},
   "outputs": [],
   "source": [
    "sns.histplot(data=x[0])\n",
    "plt.show()"
   ]
  },
  {
   "cell_type": "code",
   "execution_count": null,
   "id": "095e43c9de8a4e71",
   "metadata": {},
   "outputs": [],
   "source": [
    "sns.set_theme()"
   ]
  },
  {
   "cell_type": "code",
   "execution_count": null,
   "id": "034bde7c5d67980d",
   "metadata": {},
   "outputs": [],
   "source": [
    "sns.histplot(data=x[0])\n",
    "plt.show()"
   ]
  },
  {
   "cell_type": "code",
   "execution_count": null,
   "id": "83dc3cc6b2e596de",
   "metadata": {},
   "outputs": [],
   "source": [
    "sns.histplot(data=housing_df, x=all_columns[0])\n",
    "plt.show()"
   ]
  },
  {
   "cell_type": "code",
   "execution_count": null,
   "id": "307623c322058c91",
   "metadata": {},
   "outputs": [],
   "source": [
    "housing_df.hist(figsize=(15, 9))\n",
    "plt.show()"
   ]
  },
  {
   "cell_type": "code",
   "execution_count": null,
   "id": "48055492ad6bccfe",
   "metadata": {},
   "outputs": [],
   "source": [
    "x_train, x_test, y_train, y_test = train_test_split(\n",
    "    x, y, test_size=0.25, random_state=42\n",
    ")"
   ]
  },
  {
   "cell_type": "code",
   "execution_count": null,
   "id": "f0e6b239ef14231d",
   "metadata": {},
   "outputs": [],
   "source": [
    "x_train.shape, x_test.shape"
   ]
  },
  {
   "cell_type": "code",
   "execution_count": null,
   "id": "9a610746a6c00228",
   "metadata": {},
   "outputs": [],
   "source": [
    "y_train.shape, y_test.shape"
   ]
  },
  {
   "cell_type": "code",
   "execution_count": null,
   "id": "36bd6f2902769bce",
   "metadata": {
    "tags": [
     "keep"
    ]
   },
   "outputs": [],
   "source": [
    "pprint(y[:5], compact=True)\n",
    "pprint(y_train[:5], compact=True)\n",
    "pprint(y_test[:5], compact=True)"
   ]
  },
  {
   "cell_type": "code",
   "execution_count": null,
   "id": "19ca773aecf5a430",
   "metadata": {},
   "outputs": [],
   "source": [
    "train_df, test_df = train_test_split(housing_df, test_size=0.25, random_state=42)"
   ]
  },
  {
   "cell_type": "code",
   "execution_count": null,
   "id": "1f55b25c1a18ff61",
   "metadata": {},
   "outputs": [],
   "source": [
    "train_df"
   ]
  },
  {
   "cell_type": "code",
   "execution_count": null,
   "id": "d40191d502d4e7e7",
   "metadata": {
    "tags": [
     "keep"
    ]
   },
   "outputs": [],
   "source": [
    "lat_idx = all_columns.index(\"Latitude\")\n",
    "print(lat_idx)\n",
    "lng_idx = all_columns.index(\"Longitude\")\n",
    "print(lng_idx)"
   ]
  },
  {
   "cell_type": "code",
   "execution_count": null,
   "id": "9926106366ec0e92",
   "metadata": {},
   "outputs": [],
   "source": [
    "plt.scatter(x=x[:, lng_idx], y=x[:, lat_idx])\n",
    "plt.show()"
   ]
  },
  {
   "cell_type": "code",
   "execution_count": null,
   "id": "cddd4bcaab46c153",
   "metadata": {},
   "outputs": [],
   "source": [
    "plt.scatter(x=x[:, lng_idx], y=x[:, lat_idx], alpha=0.15)\n",
    "plt.show()"
   ]
  },
  {
   "cell_type": "code",
   "execution_count": null,
   "id": "d5cb9a539244e46a",
   "metadata": {},
   "outputs": [],
   "source": [
    "sns.scatterplot(x=x[:, lng_idx], y=x[:, lat_idx])\n",
    "plt.show()"
   ]
  },
  {
   "cell_type": "code",
   "execution_count": null,
   "id": "18895acf8c090860",
   "metadata": {},
   "outputs": [],
   "source": [
    "sns.scatterplot(housing_df, x=\"Longitude\", y=\"Latitude\")\n",
    "plt.show()"
   ]
  },
  {
   "cell_type": "code",
   "execution_count": null,
   "id": "e2d77caae0eb36be",
   "metadata": {},
   "outputs": [],
   "source": [
    "sns.scatterplot(housing_df, x=\"Longitude\", y=\"Latitude\", alpha=0.35)\n",
    "plt.show()"
   ]
  },
  {
   "cell_type": "code",
   "execution_count": null,
   "id": "fcc703d090b688c2",
   "metadata": {},
   "outputs": [],
   "source": [
    "housing_df.plot(kind=\"scatter\", x=\"Longitude\", y=\"Latitude\", figsize=(6, 6), alpha=0.25)\n",
    "plt.show()"
   ]
  },
  {
   "cell_type": "code",
   "execution_count": null,
   "id": "75596982ba5953fb",
   "metadata": {
    "tags": [
     "keep"
    ]
   },
   "outputs": [],
   "source": [
    "housing_df.plot(\n",
    "    kind=\"scatter\",\n",
    "    x=\"Longitude\",\n",
    "    y=\"Latitude\",\n",
    "    alpha=0.4,\n",
    "    s=housing_df[\"Population\"] / 50,\n",
    "    figsize=(8, 6),\n",
    "    c=\"Target\",\n",
    "    cmap=\"jet\",\n",
    "    colorbar=True,\n",
    ")\n",
    "plt.show()"
   ]
  },
  {
   "cell_type": "code",
   "execution_count": null,
   "id": "b9f2daabce32196b",
   "metadata": {},
   "outputs": [],
   "source": [
    "sns.pairplot(housing_df[:1000])\n",
    "plt.show()"
   ]
  },
  {
   "cell_type": "markdown",
   "id": "3dab67f1c01bda85",
   "metadata": {
    "lang": "de",
    "slideshow": {
     "slide_type": "subslide"
    },
    "tags": [
     "subslide"
    ]
   },
   "source": [
    "\n",
    "## Trainieren von Modellen"
   ]
  },
  {
   "cell_type": "code",
   "execution_count": null,
   "id": "27c02a870bec6dec",
   "metadata": {},
   "outputs": [],
   "source": [
    "sgd_regressor = SGDRegressor()"
   ]
  },
  {
   "cell_type": "code",
   "execution_count": null,
   "id": "b3b705592aaab8ee",
   "metadata": {},
   "outputs": [],
   "source": [
    "sgd_regressor.fit(x_train, y_train)"
   ]
  },
  {
   "cell_type": "code",
   "execution_count": null,
   "id": "e68ab0164c841ad1",
   "metadata": {},
   "outputs": [],
   "source": [
    "sgd_pred = sgd_regressor.predict(x_test)"
   ]
  },
  {
   "cell_type": "code",
   "execution_count": null,
   "id": "84e61cb3e4dbfdd4",
   "metadata": {},
   "outputs": [],
   "source": [
    "mean_squared_error(y_test, sgd_pred)"
   ]
  },
  {
   "cell_type": "code",
   "execution_count": null,
   "id": "ac813ac74b350235",
   "metadata": {},
   "outputs": [],
   "source": [
    "mean_squared_error(y_train, sgd_regressor.predict(x_train))"
   ]
  },
  {
   "cell_type": "code",
   "execution_count": null,
   "id": "cead1b5bd070fd79",
   "metadata": {},
   "outputs": [],
   "source": [
    "scaler = StandardScaler()"
   ]
  },
  {
   "cell_type": "code",
   "execution_count": null,
   "id": "f7bdf2b3043cd4d3",
   "metadata": {},
   "outputs": [],
   "source": [
    "scaler.fit(x_train)"
   ]
  },
  {
   "cell_type": "code",
   "execution_count": null,
   "id": "7e670fcd68954ab0",
   "metadata": {},
   "outputs": [],
   "source": [
    "x_train_scaled = scaler.transform(x_train)"
   ]
  },
  {
   "cell_type": "code",
   "execution_count": null,
   "id": "d0a731bcf27330dd",
   "metadata": {},
   "outputs": [],
   "source": [
    "x_train[0]"
   ]
  },
  {
   "cell_type": "code",
   "execution_count": null,
   "id": "f1f3a2ba7fccfd01",
   "metadata": {},
   "outputs": [],
   "source": [
    "x_train_scaled[0]"
   ]
  },
  {
   "cell_type": "code",
   "execution_count": null,
   "id": "5a5029e1e24e98dc",
   "metadata": {},
   "outputs": [],
   "source": [
    "# x_train_scaled = scaler.fit_transform(x_train)"
   ]
  },
  {
   "cell_type": "code",
   "execution_count": null,
   "id": "023103f92ae1a10c",
   "metadata": {},
   "outputs": [],
   "source": [
    "sgd_scaled_regressor = SGDRegressor()"
   ]
  },
  {
   "cell_type": "code",
   "execution_count": null,
   "id": "46d3c395b282648e",
   "metadata": {},
   "outputs": [],
   "source": [
    "sgd_scaled_regressor.fit(x_train_scaled, y_train)"
   ]
  },
  {
   "cell_type": "code",
   "execution_count": null,
   "id": "cece5ce4a5805f2e",
   "metadata": {},
   "outputs": [],
   "source": [
    "sgd_scaled_pred = sgd_scaled_regressor.predict(scaler.transform(x_test))"
   ]
  },
  {
   "cell_type": "code",
   "execution_count": null,
   "id": "2395144e2ab06a73",
   "metadata": {},
   "outputs": [],
   "source": [
    "mean_squared_error(y_test, sgd_scaled_pred)"
   ]
  },
  {
   "cell_type": "code",
   "execution_count": null,
   "id": "e34d9ad398a2bf58",
   "metadata": {},
   "outputs": [],
   "source": [
    "mean_squared_error(y_train, sgd_scaled_regressor.predict(scaler.transform(x_train)))"
   ]
  },
  {
   "cell_type": "code",
   "execution_count": null,
   "id": "8efeff7d45acfc59",
   "metadata": {},
   "outputs": [],
   "source": [
    "tree_regressor = DecisionTreeRegressor()"
   ]
  },
  {
   "cell_type": "code",
   "execution_count": null,
   "id": "2fc949f976749bd1",
   "metadata": {},
   "outputs": [],
   "source": [
    "tree_regressor.fit(x_train, y_train)"
   ]
  },
  {
   "cell_type": "code",
   "execution_count": null,
   "id": "e086f8040d150c8e",
   "metadata": {},
   "outputs": [],
   "source": [
    "tree_predict = tree_regressor.predict(x_test)"
   ]
  },
  {
   "cell_type": "code",
   "execution_count": null,
   "id": "cc6a055b26f91959",
   "metadata": {},
   "outputs": [],
   "source": [
    "mean_squared_error(y_test, tree_predict)"
   ]
  },
  {
   "cell_type": "code",
   "execution_count": null,
   "id": "729983dd1ced70bf",
   "metadata": {},
   "outputs": [],
   "source": [
    "mean_squared_error(y_train, tree_regressor.predict(x_train))"
   ]
  },
  {
   "cell_type": "code",
   "execution_count": null,
   "id": "ecad0e2682b5e44a",
   "metadata": {},
   "outputs": [],
   "source": [
    "rf_regressor = RandomForestRegressor()"
   ]
  },
  {
   "cell_type": "code",
   "execution_count": null,
   "id": "81d4e15a0b2b36c8",
   "metadata": {},
   "outputs": [],
   "source": [
    "rf_regressor.fit(x_train, y_train)"
   ]
  },
  {
   "cell_type": "code",
   "execution_count": null,
   "id": "282a5f927c39966f",
   "metadata": {},
   "outputs": [],
   "source": [
    "rf_predict = rf_regressor.predict(x_test)"
   ]
  },
  {
   "cell_type": "code",
   "execution_count": null,
   "id": "1ef87909733ceb95",
   "metadata": {},
   "outputs": [],
   "source": [
    "mean_squared_error(y_test, rf_predict)"
   ]
  },
  {
   "cell_type": "code",
   "execution_count": null,
   "id": "3c2e4f719bdd4ad0",
   "metadata": {},
   "outputs": [],
   "source": [
    "mean_squared_error(y_train, rf_regressor.predict(x_train))"
   ]
  }
 ],
 "metadata": {
  "jupytext": {
   "cell_metadata_filter": "lang,tags,-all",
   "main_language": "python",
   "notebook_metadata_filter": "-all"
  },
  "kernelspec": {
   "display_name": "Python 3 (ipykernel)",
   "language": "python",
   "name": "python3"
  },
  "language_info": {
   "codemirror_mode": {
    "name": "ipython",
    "version": 3
   },
   "file_extension": ".py",
   "mimetype": "text/x-python",
   "name": "python",
   "nbconvert_exporter": "python",
   "pygments_lexer": "ipython3"
  }
 },
 "nbformat": 4,
 "nbformat_minor": 5
}
