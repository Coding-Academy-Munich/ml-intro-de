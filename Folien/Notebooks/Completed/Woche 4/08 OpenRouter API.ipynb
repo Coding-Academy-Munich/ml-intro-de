{
 "cells": [
  {
   "cell_type": "markdown",
   "id": "1a2ba59c77b3f93b",
   "metadata": {
    "lang": "de",
    "slideshow": {
     "slide_type": "slide"
    },
    "tags": [
     "slide"
    ]
   },
   "source": [
    "\n",
    "<img src=\"data:image/svg+xml;base64,PHN2ZyB4bWxucz0iaHR0cDovL3d3dy53My5vcmcvMjAwMC9zdmciIHhtbG5zOnhsaW5rPSJodHRw\n",
    "Oi8vd3d3LnczLm9yZy8xOTk5L3hsaW5rIiB3aWR0aD0iMTExLjE2MSIgaGVpZ2h0PSIxMzQuNjY4\n",
    "IiB2ZXJzaW9uPSIxLjAiPjxkZWZzPjxsaW5lYXJHcmFkaWVudCBpZD0iYyI+PHN0b3Agb2Zmc2V0\n",
    "PSIwIiBzdHlsZT0ic3RvcC1jb2xvcjojYjhiOGI4O3N0b3Atb3BhY2l0eTouNDk4MDM5MjIiLz48\n",
    "c3RvcCBvZmZzZXQ9IjEiIHN0eWxlPSJzdG9wLWNvbG9yOiM3ZjdmN2Y7c3RvcC1vcGFjaXR5OjAi\n",
    "Lz48L2xpbmVhckdyYWRpZW50PjxsaW5lYXJHcmFkaWVudCBpZD0iYSI+PHN0b3Agb2Zmc2V0PSIw\n",
    "IiBzdHlsZT0ic3RvcC1jb2xvcjojZmZkNDNiO3N0b3Atb3BhY2l0eToxIi8+PHN0b3Agb2Zmc2V0\n",
    "PSIxIiBzdHlsZT0ic3RvcC1jb2xvcjojZmZlODczO3N0b3Atb3BhY2l0eToxIi8+PC9saW5lYXJH\n",
    "cmFkaWVudD48bGluZWFyR3JhZGllbnQgaWQ9ImIiPjxzdG9wIG9mZnNldD0iMCIgc3R5bGU9InN0\n",
    "b3AtY29sb3I6IzVhOWZkNDtzdG9wLW9wYWNpdHk6MSIvPjxzdG9wIG9mZnNldD0iMSIgc3R5bGU9\n",
    "InN0b3AtY29sb3I6IzMwNjk5ODtzdG9wLW9wYWNpdHk6MSIvPjwvbGluZWFyR3JhZGllbnQ+PGxp\n",
    "bmVhckdyYWRpZW50IHhsaW5rOmhyZWY9IiNhIiBpZD0iZSIgeDE9IjE1MC45NjEiIHgyPSIxMTIu\n",
    "MDMxIiB5MT0iMTkyLjM1MiIgeTI9IjEzNy4yNzMiIGdyYWRpZW50VHJhbnNmb3JtPSJtYXRyaXgo\n",
    "LjU2MjU0IDAgMCAuNTY3OTcgLTE0Ljk5MSAtMTEuNzAyKSIgZ3JhZGllbnRVbml0cz0idXNlclNw\n",
    "YWNlT25Vc2UiLz48bGluZWFyR3JhZGllbnQgeGxpbms6aHJlZj0iI2IiIGlkPSJkIiB4MT0iMjYu\n",
    "NjQ5IiB4Mj0iMTM1LjY2NSIgeTE9IjIwLjYwNCIgeTI9IjExNC4zOTgiIGdyYWRpZW50VHJhbnNm\n",
    "b3JtPSJtYXRyaXgoLjU2MjU0IDAgMCAuNTY3OTcgLTE0Ljk5MSAtMTEuNzAyKSIgZ3JhZGllbnRV\n",
    "bml0cz0idXNlclNwYWNlT25Vc2UiLz48cmFkaWFsR3JhZGllbnQgeGxpbms6aHJlZj0iI2MiIGlk\n",
    "PSJmIiBjeD0iNjEuNTE5IiBjeT0iMTMyLjI4NiIgcj0iMjkuMDM3IiBmeD0iNjEuNTE5IiBmeT0i\n",
    "MTMyLjI4NiIgZ3JhZGllbnRUcmFuc2Zvcm09Im1hdHJpeCgwIC0uMjM5OTUgMS4wNTQ2NyAwIC04\n",
    "My43IDE0Mi40NjIpIiBncmFkaWVudFVuaXRzPSJ1c2VyU3BhY2VPblVzZSIvPjwvZGVmcz48cGF0\n",
    "aCBkPSJNNTQuOTE5IDBjLTQuNTg0LjAyMi04Ljk2MS40MTMtMTIuODEzIDEuMDk1QzMwLjc2IDMu\n",
    "MDk5IDI4LjcgNy4yOTUgMjguNyAxNS4wMzJ2MTAuMjE5aDI2LjgxM3YzLjQwNkgxOC42MzhjLTcu\n",
    "NzkzIDAtMTQuNjE2IDQuNjg0LTE2Ljc1IDEzLjU5NC0yLjQ2MiAxMC4yMTMtMi41NzEgMTYuNTg2\n",
    "IDAgMjcuMjUgMS45MDUgNy45MzggNi40NTcgMTMuNTk0IDE0LjI1IDEzLjU5NGg5LjIxOHYtMTIu\n",
    "MjVjMC04Ljg1IDcuNjU3LTE2LjY1NyAxNi43NS0xNi42NTdoMjYuNzgyYzcuNDU0IDAgMTMuNDA2\n",
    "LTYuMTM4IDEzLjQwNi0xMy42MjV2LTI1LjUzYzAtNy4yNjctNi4xMy0xMi43MjYtMTMuNDA2LTEz\n",
    "LjkzOEM2NC4yODIuMzI4IDU5LjUwMi0uMDIgNTQuOTE4IDBtLTE0LjUgOC4yMmMyLjc3IDAgNS4w\n",
    "MzEgMi4yOTggNS4wMzEgNS4xMjUgMCAyLjgxNi0yLjI2MiA1LjA5My01LjAzMSA1LjA5My0yLjc4\n",
    "IDAtNS4wMzEtMi4yNzctNS4wMzEtNS4wOTMgMC0yLjgyNyAyLjI1MS01LjEyNSA1LjAzLTUuMTI1\n",
    "IiBzdHlsZT0iZmlsbDp1cmwoI2QpO2ZpbGwtb3BhY2l0eToxIi8+PHBhdGggZD0iTTg1LjYzOCAy\n",
    "OC42NTd2MTEuOTA2YzAgOS4yMzEtNy44MjYgMTctMTYuNzUgMTdINDIuMTA2Yy03LjMzNiAwLTEz\n",
    "LjQwNiA2LjI3OS0xMy40MDYgMTMuNjI1Vjk2LjcyYzAgNy4yNjYgNi4zMTkgMTEuNTQgMTMuNDA2\n",
    "IDEzLjYyNSA4LjQ4OCAyLjQ5NSAxNi42MjcgMi45NDYgMjYuNzgyIDAgNi43NS0xLjk1NSAxMy40\n",
    "MDYtNS44ODggMTMuNDA2LTEzLjYyNVY4Ni41SDU1LjUxM3YtMy40MDVIOTUuN2M3Ljc5MyAwIDEw\n",
    "LjY5Ni01LjQzNiAxMy40MDYtMTMuNTk0IDIuOC04LjM5OSAyLjY4LTE2LjQ3NiAwLTI3LjI1LTEu\n",
    "OTI1LTcuNzU4LTUuNjA0LTEzLjU5NC0xMy40MDYtMTMuNTk0ek03MC41NzUgOTMuMzEzYzIuNzgg\n",
    "MCA1LjAzMSAyLjI3OCA1LjAzMSA1LjA5NCAwIDIuODI3LTIuMjUxIDUuMTI1LTUuMDMxIDUuMTI1\n",
    "LTIuNzcgMC01LjAzMS0yLjI5OC01LjAzMS01LjEyNSAwLTIuODE2IDIuMjYxLTUuMDk0IDUuMDMx\n",
    "LTUuMDk0IiBzdHlsZT0iZmlsbDp1cmwoI2UpO2ZpbGwtb3BhY2l0eToxIi8+PGVsbGlwc2UgY3g9\n",
    "IjU1LjgxNyIgY3k9IjEyNy43MDEiIHJ4PSIzNS45MzEiIHJ5PSI2Ljk2NyIgc3R5bGU9Im9wYWNp\n",
    "dHk6LjQ0MzgyO2ZpbGw6dXJsKCNmKTtmaWxsLW9wYWNpdHk6MTtmaWxsLXJ1bGU6bm9uemVybztz\n",
    "dHJva2U6bm9uZTtzdHJva2Utd2lkdGg6MTUuNDE3NDtzdHJva2UtbWl0ZXJsaW1pdDo0O3N0cm9r\n",
    "ZS1kYXNoYXJyYXk6bm9uZTtzdHJva2Utb3BhY2l0eToxIi8+PC9zdmc+\n",
    "\"\n",
    "     style=\"display:block;margin:auto;width:10%\" alt=\"Python Logo\"/>\n",
    "<br>\n",
    "\n",
    "<div style=\"text-align:center; font-size:200%;\">\n",
    " <b>OpenRouter API</b>\n",
    "</div>\n",
    "<br/>\n",
    "<div style=\"text-align:center;\">Dr. Matthias Hölzl</div>\n",
    "<br/>"
   ]
  },
  {
   "cell_type": "code",
   "execution_count": null,
   "id": "c67095b7b3954930",
   "metadata": {
    "slideshow": {
     "slide_type": "subslide"
    },
    "tags": [
     "subslide"
    ]
   },
   "outputs": [],
   "source": [
    "import json\n",
    "import os\n",
    "import requests\n",
    "from loguru import logger\n",
    "from dataclasses import dataclass\n",
    "from textwrap import wrap"
   ]
  },
  {
   "cell_type": "code",
   "execution_count": null,
   "id": "ef7c65b31685ee9d",
   "metadata": {
    "tags": [
     "keep"
    ]
   },
   "outputs": [],
   "source": [
    "OPENROUTER_API_URL = \"https://openrouter.ai/api/v1/chat/completions\"\n",
    "OPENROUTER_API_KEY = os.getenv(\"OPENROUTER_API_KEY\") or \"No API Key Found\""
   ]
  },
  {
   "cell_type": "code",
   "execution_count": null,
   "id": "f4f03d15e708d3a3",
   "metadata": {
    "lines_to_next_cell": 1,
    "slideshow": {
     "slide_type": "subslide"
    },
    "tags": [
     "keep",
     "subslide"
    ]
   },
   "outputs": [],
   "source": [
    "@dataclass\n",
    "class Message:\n",
    "    role: str\n",
    "    content: str"
   ]
  },
  {
   "cell_type": "code",
   "execution_count": null,
   "id": "3b71b441914df5ee",
   "metadata": {
    "lines_to_next_cell": 1,
    "slideshow": {
     "slide_type": "subslide"
    },
    "tags": [
     "keep",
     "subslide"
    ]
   },
   "outputs": [],
   "source": [
    "@dataclass\n",
    "class Model:\n",
    "    id: str\n",
    "    slug: str"
   ]
  },
  {
   "cell_type": "code",
   "execution_count": null,
   "id": "7ba6c283cb26f97e",
   "metadata": {
    "tags": [
     "keep"
    ]
   },
   "outputs": [],
   "source": [
    "models = {\n",
    "    \"claude\": Model(id=\"anthropic/claude-3.5-sonnet:beta\", slug=\"claude\"),\n",
    "    \"phi\": Model(id=\"microsoft/phi-3.5-mini-128k-instruct\", slug=\"phi\"),\n",
    "    \"llama\": Model(id=\"meta-llama/llama-3.1-8b-instruct\", slug=\"llama\"),\n",
    "    \"qwen\": Model(id=\"qwen/qwen-2.5-72b-instruct\", slug=\"qwen\"),\n",
    "    # \"gemini\": Model(id=\"google/gemini-pro-1.5\", slug=\"gemini\"),\n",
    "    \"chatgpt\": Model(id=\"openai/chatgpt-4o-latest\", slug=\"chatgpt\"),\n",
    "}"
   ]
  },
  {
   "cell_type": "code",
   "execution_count": null,
   "id": "b42426987c4029af",
   "metadata": {
    "slideshow": {
     "slide_type": "subslide"
    },
    "tags": [
     "keep",
     "subslide"
    ]
   },
   "outputs": [],
   "source": [
    "@dataclass\n",
    "class OpenRouterProvider:\n",
    "    api_key: str = OPENROUTER_API_KEY\n",
    "    api_url: str = OPENROUTER_API_URL\n",
    "\n",
    "    def send_messages(self, messages: list[Message], model: Model) -> str:\n",
    "        headers = {\"Authorization\": f\"Bearer {self.api_key}\"}\n",
    "        data = json.dumps(\n",
    "            {\n",
    "                \"model\": model.id,\n",
    "                \"messages\": [message.__dict__ for message in messages],\n",
    "            }\n",
    "        )\n",
    "\n",
    "        response = requests.post(url=self.api_url, headers=headers, data=data)\n",
    "\n",
    "        if response.status_code == 200:\n",
    "            response_json = response.json()\n",
    "            logger.trace(\n",
    "                f\"Received response message from {model.slug}: \"\n",
    "                f\"{response_json['choices'][0]['message']['content']}\"\n",
    "            )\n",
    "            return response_json[\"choices\"][0][\"message\"][\"content\"]\n",
    "        else:\n",
    "            raise RuntimeError(f\"Failed to convert chunk: {response.text}\")\n",
    "\n",
    "    def chat(self, model: Model) -> list[Message]:\n",
    "        messages = [Message(role=\"system\", content=\"You are a helpful assistant.\")]\n",
    "        indent = \" \" * 2\n",
    "        while True:\n",
    "            user_input = input(\"User: \")\n",
    "            if user_input.lower() == \"exit\":\n",
    "                break\n",
    "            print(f\"\\nUser:\\n{format_text(user_input)}\", flush=True)\n",
    "            messages.append(Message(role=\"user\", content=user_input))\n",
    "            response = self.send_messages(messages, model)\n",
    "            messages.append(Message(role=\"assistant\", content=response))\n",
    "            print(f\"\\nResponse:\\n{format_text(response)}\", flush=True)\n",
    "        return messages\n",
    "\n",
    "    def chat_non_interactively(self, model: Model, user_text: list[str]) -> list[Message]:\n",
    "        user_text = user_text.copy()\n",
    "        messages = [Message(role=\"system\", content=\"You are a helpful assistant.\")]\n",
    "        indent = \" \" * 2\n",
    "        while user_text:\n",
    "            content = user_text.pop(0)\n",
    "            print(f\"\\nUser:\\n{format_text(content)}\", flush=True)\n",
    "            messages.append(Message(role=\"user\", content=content))\n",
    "            response = self.send_messages(messages, model)\n",
    "            messages.append(Message(role=\"assistant\", content=response))\n",
    "            print(f\"\\nResponse:\\n{format_text(response)}\", flush=True)\n",
    "        return messages"
   ]
  },
  {
   "cell_type": "code",
   "execution_count": null,
   "id": "771c03393c425168",
   "metadata": {},
   "outputs": [],
   "source": [
    "import re\n",
    "from textwrap import wrap\n",
    "\n",
    "def format_text(text: str, width: int = 80, indent: int = 2) -> str:\n",
    "    lines = text.split('\\n')\n",
    "    formatted_lines = []\n",
    "    in_code_block = False\n",
    "    code_block: list[str] = []\n",
    "\n",
    "    for line in lines:\n",
    "        if line.strip().startswith('```'):\n",
    "            if in_code_block:\n",
    "                # End of code block\n",
    "                formatted_lines.extend([' ' * indent + l for l in code_block])\n",
    "                formatted_lines.append(' ' * indent + line)\n",
    "                formatted_lines.append('')  # Add empty line after code block\n",
    "                in_code_block = False\n",
    "                code_block = []\n",
    "            else:\n",
    "                # Start of code block\n",
    "                if formatted_lines:\n",
    "                    formatted_lines.append('')  # Add empty line before code block\n",
    "                formatted_lines.append(' ' * indent + line)\n",
    "                in_code_block = True\n",
    "        elif in_code_block:\n",
    "            code_block.append(line)\n",
    "        else:\n",
    "            # Regular text, wrap it\n",
    "            wrapped = wrap(line, width - indent, initial_indent=' ' * indent, subsequent_indent=' ' * indent)\n",
    "            formatted_lines.extend(wrapped)\n",
    "\n",
    "    # Handle any remaining code block\n",
    "    if code_block:\n",
    "        formatted_lines.extend([' ' * indent + l for l in code_block])\n",
    "\n",
    "    return '\\n'.join(formatted_lines)"
   ]
  },
  {
   "cell_type": "code",
   "execution_count": null,
   "id": "9fe9988df4f875e4",
   "metadata": {},
   "outputs": [],
   "source": [
    "EXAMPLE_MESSAGES = [\n",
    "    Message(role=\"system\", content=\"Hello, what can I help you with?\"),\n",
    "    Message(role=\"user\", content=\"What is the capital of Bavaria?\"),\n",
    "]"
   ]
  },
  {
   "cell_type": "code",
   "execution_count": null,
   "id": "7d65f6ec35affcc2",
   "metadata": {},
   "outputs": [],
   "source": [
    "USER_INPUTS = [\n",
    "    \"What is the capital of Bavaria?\",\n",
    "    \"Tell me more about it.\",\n",
    "    \"Write a Python program that prints the numbers from 1 to 100.\",\n",
    "    \"Do the same, but for multiples of three print 'Fizz' instead of the number \"\n",
    "    \"for the multiples of five print 'Buzz', and for multiples of \"\n",
    "    \"15 print 'FizzBuzz'.\",\n",
    "    \"If there are three killers in a room and somebody enters the room and shoots \"\n",
    "    \"one of the killers dead, how many killers are left in the room?\",\n",
    "]"
   ]
  },
  {
   "cell_type": "code",
   "execution_count": null,
   "id": "02476c34a1d60bbb",
   "metadata": {},
   "outputs": [],
   "source": [
    "if __name__ == \"__main__\":\n",
    "    provider = OpenRouterProvider()\n",
    "    for slug in [\"phi\", \"qwen\"]:\n",
    "        model = models[slug]\n",
    "        print(\"=\" * 80)\n",
    "        print(f\"Model: {slug}\")\n",
    "        provider.chat_non_interactively(model, USER_INPUTS)\n",
    "        print()"
   ]
  },
  {
   "cell_type": "code",
   "execution_count": null,
   "id": "6b4e03423667dbb7",
   "metadata": {},
   "outputs": [],
   "source": []
  }
 ],
 "metadata": {
  "jupytext": {
   "cell_metadata_filter": "lang,tags,-all",
   "main_language": "python",
   "notebook_metadata_filter": "-all"
  },
  "kernelspec": {
   "display_name": "Python 3 (ipykernel)",
   "language": "python",
   "name": "python3"
  },
  "language_info": {
   "codemirror_mode": {
    "name": "ipython",
    "version": 3
   },
   "file_extension": ".py",
   "mimetype": "text/x-python",
   "name": "python",
   "nbconvert_exporter": "python",
   "pygments_lexer": "ipython3"
  }
 },
 "nbformat": 4,
 "nbformat_minor": 5
}
