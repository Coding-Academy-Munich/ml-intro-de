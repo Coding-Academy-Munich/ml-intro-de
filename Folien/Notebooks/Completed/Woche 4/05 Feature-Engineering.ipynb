{
 "cells": [
  {
   "cell_type": "markdown",
   "id": "8059bc9bd2e5395e",
   "metadata": {
    "lang": "de",
    "slideshow": {
     "slide_type": "slide"
    },
    "tags": [
     "slide"
    ]
   },
   "source": [
    "\n",
    "<img src=\"data:image/svg+xml;base64,PHN2ZyB4bWxucz0iaHR0cDovL3d3dy53My5vcmcvMjAwMC9zdmciIHhtbG5zOnhsaW5rPSJodHRw\n",
    "Oi8vd3d3LnczLm9yZy8xOTk5L3hsaW5rIiB3aWR0aD0iMTExLjE2MSIgaGVpZ2h0PSIxMzQuNjY4\n",
    "IiB2ZXJzaW9uPSIxLjAiPjxkZWZzPjxsaW5lYXJHcmFkaWVudCBpZD0iYyI+PHN0b3Agb2Zmc2V0\n",
    "PSIwIiBzdHlsZT0ic3RvcC1jb2xvcjojYjhiOGI4O3N0b3Atb3BhY2l0eTouNDk4MDM5MjIiLz48\n",
    "c3RvcCBvZmZzZXQ9IjEiIHN0eWxlPSJzdG9wLWNvbG9yOiM3ZjdmN2Y7c3RvcC1vcGFjaXR5OjAi\n",
    "Lz48L2xpbmVhckdyYWRpZW50PjxsaW5lYXJHcmFkaWVudCBpZD0iYSI+PHN0b3Agb2Zmc2V0PSIw\n",
    "IiBzdHlsZT0ic3RvcC1jb2xvcjojZmZkNDNiO3N0b3Atb3BhY2l0eToxIi8+PHN0b3Agb2Zmc2V0\n",
    "PSIxIiBzdHlsZT0ic3RvcC1jb2xvcjojZmZlODczO3N0b3Atb3BhY2l0eToxIi8+PC9saW5lYXJH\n",
    "cmFkaWVudD48bGluZWFyR3JhZGllbnQgaWQ9ImIiPjxzdG9wIG9mZnNldD0iMCIgc3R5bGU9InN0\n",
    "b3AtY29sb3I6IzVhOWZkNDtzdG9wLW9wYWNpdHk6MSIvPjxzdG9wIG9mZnNldD0iMSIgc3R5bGU9\n",
    "InN0b3AtY29sb3I6IzMwNjk5ODtzdG9wLW9wYWNpdHk6MSIvPjwvbGluZWFyR3JhZGllbnQ+PGxp\n",
    "bmVhckdyYWRpZW50IHhsaW5rOmhyZWY9IiNhIiBpZD0iZSIgeDE9IjE1MC45NjEiIHgyPSIxMTIu\n",
    "MDMxIiB5MT0iMTkyLjM1MiIgeTI9IjEzNy4yNzMiIGdyYWRpZW50VHJhbnNmb3JtPSJtYXRyaXgo\n",
    "LjU2MjU0IDAgMCAuNTY3OTcgLTE0Ljk5MSAtMTEuNzAyKSIgZ3JhZGllbnRVbml0cz0idXNlclNw\n",
    "YWNlT25Vc2UiLz48bGluZWFyR3JhZGllbnQgeGxpbms6aHJlZj0iI2IiIGlkPSJkIiB4MT0iMjYu\n",
    "NjQ5IiB4Mj0iMTM1LjY2NSIgeTE9IjIwLjYwNCIgeTI9IjExNC4zOTgiIGdyYWRpZW50VHJhbnNm\n",
    "b3JtPSJtYXRyaXgoLjU2MjU0IDAgMCAuNTY3OTcgLTE0Ljk5MSAtMTEuNzAyKSIgZ3JhZGllbnRV\n",
    "bml0cz0idXNlclNwYWNlT25Vc2UiLz48cmFkaWFsR3JhZGllbnQgeGxpbms6aHJlZj0iI2MiIGlk\n",
    "PSJmIiBjeD0iNjEuNTE5IiBjeT0iMTMyLjI4NiIgcj0iMjkuMDM3IiBmeD0iNjEuNTE5IiBmeT0i\n",
    "MTMyLjI4NiIgZ3JhZGllbnRUcmFuc2Zvcm09Im1hdHJpeCgwIC0uMjM5OTUgMS4wNTQ2NyAwIC04\n",
    "My43IDE0Mi40NjIpIiBncmFkaWVudFVuaXRzPSJ1c2VyU3BhY2VPblVzZSIvPjwvZGVmcz48cGF0\n",
    "aCBkPSJNNTQuOTE5IDBjLTQuNTg0LjAyMi04Ljk2MS40MTMtMTIuODEzIDEuMDk1QzMwLjc2IDMu\n",
    "MDk5IDI4LjcgNy4yOTUgMjguNyAxNS4wMzJ2MTAuMjE5aDI2LjgxM3YzLjQwNkgxOC42MzhjLTcu\n",
    "NzkzIDAtMTQuNjE2IDQuNjg0LTE2Ljc1IDEzLjU5NC0yLjQ2MiAxMC4yMTMtMi41NzEgMTYuNTg2\n",
    "IDAgMjcuMjUgMS45MDUgNy45MzggNi40NTcgMTMuNTk0IDE0LjI1IDEzLjU5NGg5LjIxOHYtMTIu\n",
    "MjVjMC04Ljg1IDcuNjU3LTE2LjY1NyAxNi43NS0xNi42NTdoMjYuNzgyYzcuNDU0IDAgMTMuNDA2\n",
    "LTYuMTM4IDEzLjQwNi0xMy42MjV2LTI1LjUzYzAtNy4yNjctNi4xMy0xMi43MjYtMTMuNDA2LTEz\n",
    "LjkzOEM2NC4yODIuMzI4IDU5LjUwMi0uMDIgNTQuOTE4IDBtLTE0LjUgOC4yMmMyLjc3IDAgNS4w\n",
    "MzEgMi4yOTggNS4wMzEgNS4xMjUgMCAyLjgxNi0yLjI2MiA1LjA5My01LjAzMSA1LjA5My0yLjc4\n",
    "IDAtNS4wMzEtMi4yNzctNS4wMzEtNS4wOTMgMC0yLjgyNyAyLjI1MS01LjEyNSA1LjAzLTUuMTI1\n",
    "IiBzdHlsZT0iZmlsbDp1cmwoI2QpO2ZpbGwtb3BhY2l0eToxIi8+PHBhdGggZD0iTTg1LjYzOCAy\n",
    "OC42NTd2MTEuOTA2YzAgOS4yMzEtNy44MjYgMTctMTYuNzUgMTdINDIuMTA2Yy03LjMzNiAwLTEz\n",
    "LjQwNiA2LjI3OS0xMy40MDYgMTMuNjI1Vjk2LjcyYzAgNy4yNjYgNi4zMTkgMTEuNTQgMTMuNDA2\n",
    "IDEzLjYyNSA4LjQ4OCAyLjQ5NSAxNi42MjcgMi45NDYgMjYuNzgyIDAgNi43NS0xLjk1NSAxMy40\n",
    "MDYtNS44ODggMTMuNDA2LTEzLjYyNVY4Ni41SDU1LjUxM3YtMy40MDVIOTUuN2M3Ljc5MyAwIDEw\n",
    "LjY5Ni01LjQzNiAxMy40MDYtMTMuNTk0IDIuOC04LjM5OSAyLjY4LTE2LjQ3NiAwLTI3LjI1LTEu\n",
    "OTI1LTcuNzU4LTUuNjA0LTEzLjU5NC0xMy40MDYtMTMuNTk0ek03MC41NzUgOTMuMzEzYzIuNzgg\n",
    "MCA1LjAzMSAyLjI3OCA1LjAzMSA1LjA5NCAwIDIuODI3LTIuMjUxIDUuMTI1LTUuMDMxIDUuMTI1\n",
    "LTIuNzcgMC01LjAzMS0yLjI5OC01LjAzMS01LjEyNSAwLTIuODE2IDIuMjYxLTUuMDk0IDUuMDMx\n",
    "LTUuMDk0IiBzdHlsZT0iZmlsbDp1cmwoI2UpO2ZpbGwtb3BhY2l0eToxIi8+PGVsbGlwc2UgY3g9\n",
    "IjU1LjgxNyIgY3k9IjEyNy43MDEiIHJ4PSIzNS45MzEiIHJ5PSI2Ljk2NyIgc3R5bGU9Im9wYWNp\n",
    "dHk6LjQ0MzgyO2ZpbGw6dXJsKCNmKTtmaWxsLW9wYWNpdHk6MTtmaWxsLXJ1bGU6bm9uemVybztz\n",
    "dHJva2U6bm9uZTtzdHJva2Utd2lkdGg6MTUuNDE3NDtzdHJva2UtbWl0ZXJsaW1pdDo0O3N0cm9r\n",
    "ZS1kYXNoYXJyYXk6bm9uZTtzdHJva2Utb3BhY2l0eToxIi8+PC9zdmc+\n",
    "\"\n",
    "     style=\"display:block;margin:auto;width:10%\" alt=\"Python Logo\"/>\n",
    "<br>\n",
    "\n",
    "<div style=\"text-align:center; font-size:200%;\">\n",
    " <b>Feature-Engineering</b>\n",
    "</div>\n",
    "<br/>\n",
    "<div style=\"text-align:center;\">Dr. Matthias Hölzl</div>\n",
    "<br/>"
   ]
  },
  {
   "cell_type": "markdown",
   "id": "22609d3c841c77ac",
   "metadata": {
    "lang": "de",
    "slideshow": {
     "slide_type": "slide"
    },
    "tags": [
     "slide"
    ]
   },
   "source": [
    "\n",
    "# Feature-Engineering"
   ]
  },
  {
   "cell_type": "code",
   "execution_count": null,
   "id": "68dbfe29cf7ab688",
   "metadata": {
    "slideshow": {
     "slide_type": "subslide"
    },
    "tags": [
     "subslide",
     "keep"
    ]
   },
   "outputs": [],
   "source": [
    "import numpy as np\n",
    "import seaborn as sns\n",
    "from sklearn.metrics import mean_absolute_error, mean_squared_error\n",
    "from sklearn.linear_model import LinearRegression\n",
    "import evaluation_tools as et"
   ]
  },
  {
   "cell_type": "code",
   "execution_count": null,
   "id": "095e43c9de8a4e71",
   "metadata": {
    "tags": [
     "keep"
    ]
   },
   "outputs": [],
   "source": [
    "sns.set_theme()"
   ]
  },
  {
   "cell_type": "code",
   "execution_count": null,
   "id": "ad12d061ebc416fd",
   "metadata": {
    "slideshow": {
     "slide_type": "subslide"
    },
    "tags": [
     "subslide",
     "keep"
    ]
   },
   "outputs": [],
   "source": [
    "rng = np.random.default_rng(42)"
   ]
  },
  {
   "cell_type": "code",
   "execution_count": null,
   "id": "93a5d470705709ed",
   "metadata": {
    "slideshow": {
     "slide_type": "subslide"
    },
    "tags": [
     "subslide",
     "keep"
    ]
   },
   "outputs": [],
   "source": [
    "def lin(x):\n",
    "    return 0.85 * x - 1.5"
   ]
  },
  {
   "cell_type": "code",
   "execution_count": null,
   "id": "7609881145366c94",
   "metadata": {
    "tags": [
     "keep"
    ]
   },
   "outputs": [],
   "source": [
    "def fun(x):\n",
    "    return 0.1 * x**2 + 2 * np.sin(x) - 2"
   ]
  },
  {
   "cell_type": "markdown",
   "id": "62ed878839b5abcf",
   "metadata": {
    "lang": "de",
    "slideshow": {
     "slide_type": "slide"
    },
    "tags": [
     "slide"
    ]
   },
   "source": [
    "\n",
    "### Trainieren eines linearen Modells"
   ]
  },
  {
   "cell_type": "code",
   "execution_count": null,
   "id": "acbdf09815fdefae",
   "metadata": {
    "slideshow": {
     "slide_type": "subslide"
    },
    "tags": [
     "subslide",
     "keep"
    ]
   },
   "outputs": [],
   "source": [
    "x = rng.uniform(size=(150, 1), low=0.0, high=10.0)\n",
    "x_train, x_test = x[:100], x[100:]\n",
    "x_plot = np.linspace(0, 10, 500)\n",
    "x_train[:3]"
   ]
  },
  {
   "cell_type": "code",
   "execution_count": null,
   "id": "d59381d661f97646",
   "metadata": {
    "slideshow": {
     "slide_type": "subslide"
    },
    "tags": [
     "subslide",
     "keep"
    ]
   },
   "outputs": [],
   "source": [
    "y_lin_train = lin(x_train).reshape(-1)\n",
    "y_lin_test = lin(x_test).reshape(-1)\n",
    "y_fun_train = fun(x_train).reshape(-1)\n",
    "y_fun_test = fun(x_test).reshape(-1)"
   ]
  },
  {
   "cell_type": "markdown",
   "id": "33b40069a29613bd",
   "metadata": {
    "lang": "de",
    "slideshow": {
     "slide_type": "subslide"
    },
    "tags": [
     "subslide"
    ]
   },
   "source": [
    "\n",
    "Linearer Regressor für lineare Funktion"
   ]
  },
  {
   "cell_type": "code",
   "execution_count": null,
   "id": "139e94fbfa7134cc",
   "metadata": {},
   "outputs": [],
   "source": [
    "lr_lin = LinearRegression()\n",
    "lr_lin.fit(x_train, y_lin_train)"
   ]
  },
  {
   "cell_type": "code",
   "execution_count": null,
   "id": "03efa7744f2d40f9",
   "metadata": {},
   "outputs": [],
   "source": [
    "lr_lin.coef_, lr_lin.intercept_"
   ]
  },
  {
   "cell_type": "code",
   "execution_count": null,
   "id": "84ada9ce4253f762",
   "metadata": {
    "slideshow": {
     "slide_type": "subslide"
    },
    "tags": [
     "subslide"
    ]
   },
   "outputs": [],
   "source": [
    "et.evaluate_regressor(LinearRegression, lin, x_train, x_test)"
   ]
  },
  {
   "cell_type": "markdown",
   "id": "387e299f1caba078",
   "metadata": {
    "lang": "de",
    "slideshow": {
     "slide_type": "subslide"
    },
    "tags": [
     "subslide"
    ]
   },
   "source": [
    "\n",
    "Linearer Regressor für nicht-lineare Funktion"
   ]
  },
  {
   "cell_type": "code",
   "execution_count": null,
   "id": "bee2d2b1bcb32fa5",
   "metadata": {},
   "outputs": [],
   "source": [
    "et.evaluate_regressor(LinearRegression, fun, x_train, x_test)"
   ]
  },
  {
   "cell_type": "markdown",
   "id": "7d4dbbd40be20ed4",
   "metadata": {
    "lang": "de",
    "slideshow": {
     "slide_type": "subslide"
    },
    "tags": [
     "subslide"
    ]
   },
   "source": [
    "\n",
    "### Feature-Augmentation\n",
    "\n",
    "- Idee: Wir geben dem linearen Regressor mehr Features, die nicht-linear sind.\n",
    "- Idealerweise die Funktionen von $x$, die in der Funktion $f$ vorkommen.\n",
    "- $\\mathit{lin}(x) = 0.85 \\cdot x - 1.5$\n",
    "- $\\mathit{fun}(x) = 0.1 \\cdot x^2+ 2 \\cdot \\sin(x) - 2$"
   ]
  },
  {
   "cell_type": "markdown",
   "id": "accb4e69dfd7acfd",
   "metadata": {
    "slideshow": {
     "slide_type": "subslide"
    },
    "tags": [
     "subslide"
    ]
   },
   "source": [
    "\n",
    "$\\mathit{fun}(x) = 0.1 \\cdot x^2+ 2 \\cdot \\sin(x) - 2$"
   ]
  },
  {
   "cell_type": "code",
   "execution_count": null,
   "id": "4deb7dbdd57fc115",
   "metadata": {},
   "outputs": [],
   "source": [
    "x_train_aug = np.concatenate([x_train, x_train * x_train, np.sin(x_train)], axis=1)\n",
    "x_train_aug[:3]"
   ]
  },
  {
   "cell_type": "code",
   "execution_count": null,
   "id": "85b07a21b9738077",
   "metadata": {},
   "outputs": [],
   "source": [
    "x_test_aug = np.concatenate([x_test, x_test * x_test, np.sin(x_test)], axis=1)"
   ]
  },
  {
   "cell_type": "markdown",
   "id": "d8a4cbf0e744dd6b",
   "metadata": {
    "lang": "de",
    "lines_to_next_cell": 2,
    "slideshow": {
     "slide_type": "subslide"
    },
    "tags": [
     "subslide"
    ]
   },
   "source": [
    "\n",
    "- Trainieren eines linearen Regressors mit augmentierten Features\n",
    "- Lineare Funktion (mit Rauschen) als Zielvariable"
   ]
  },
  {
   "cell_type": "code",
   "execution_count": null,
   "id": "80c07fc62b7545c2",
   "metadata": {},
   "outputs": [],
   "source": [
    "lr_aug_lin = LinearRegression()\n",
    "lr_aug_lin.fit(x_train_aug, y_lin_train)"
   ]
  },
  {
   "cell_type": "markdown",
   "id": "1ceefb67ce194535",
   "metadata": {},
   "source": [
    "$\\mathit{lin}(x) = 0.85 \\cdot x - 1.5$"
   ]
  },
  {
   "cell_type": "code",
   "execution_count": null,
   "id": "bfe310e86db9f4ab",
   "metadata": {},
   "outputs": [],
   "source": [
    "lr_aug_lin.coef_, lr_aug_lin.intercept_"
   ]
  },
  {
   "cell_type": "code",
   "execution_count": null,
   "id": "f255a2f8d01659f8",
   "metadata": {
    "slideshow": {
     "slide_type": "subslide"
    },
    "tags": [
     "subslide"
    ]
   },
   "outputs": [],
   "source": [
    "lin_reg, lin_reg_rand, lin_reg_chaos = et.evaluate_regressor(\n",
    "    LinearRegression, lin, x_train_aug, x_test_aug, use_x_train_for_plot=True\n",
    ")"
   ]
  },
  {
   "cell_type": "markdown",
   "id": "c6ba8c08bdd746e4",
   "metadata": {
    "slideshow": {
     "slide_type": "subslide"
    },
    "tags": [
     "subslide"
    ]
   },
   "source": [
    "$\\mathit{lin}(x) = 0.85 \\cdot x - 1.5$"
   ]
  },
  {
   "cell_type": "code",
   "execution_count": null,
   "id": "b1908d86573d2d5c",
   "metadata": {},
   "outputs": [],
   "source": [
    "lin_reg.coef_, lin_reg.intercept_"
   ]
  },
  {
   "cell_type": "code",
   "execution_count": null,
   "id": "92f6fa88c972f468",
   "metadata": {},
   "outputs": [],
   "source": [
    "lin_reg_rand.coef_, lin_reg_rand.intercept_"
   ]
  },
  {
   "cell_type": "code",
   "execution_count": null,
   "id": "25c16b3c3c287595",
   "metadata": {},
   "outputs": [],
   "source": [
    "lin_reg_chaos.coef_, lin_reg_chaos.intercept_"
   ]
  },
  {
   "cell_type": "markdown",
   "id": "6a8e0de63cd7beda",
   "metadata": {
    "lang": "de",
    "slideshow": {
     "slide_type": "subslide"
    },
    "tags": [
     "subslide"
    ]
   },
   "source": [
    "\n",
    "- Trainieren eines linearen Regressors mit augmentierten Features\n",
    "- Nicht-lineare Funktion (mit Rauschen) als Zielvariable"
   ]
  },
  {
   "cell_type": "code",
   "execution_count": null,
   "id": "13f4c70291060269",
   "metadata": {
    "slideshow": {
     "slide_type": "subslide"
    },
    "tags": [
     "subslide"
    ]
   },
   "outputs": [],
   "source": [
    "fun_reg, fun_reg_rand, fun_reg_chaos = et.evaluate_regressor(\n",
    "    LinearRegression, fun, x_train_aug, x_test_aug, use_x_train_for_plot=True\n",
    ")"
   ]
  },
  {
   "cell_type": "markdown",
   "id": "6f833d74127aec74",
   "metadata": {
    "slideshow": {
     "slide_type": "subslide"
    },
    "tags": [
     "subslide"
    ]
   },
   "source": [
    "$\\mathit{fun}(x) = 0.1 \\cdot x^2+ 2 \\cdot \\sin(x) - 2$"
   ]
  },
  {
   "cell_type": "code",
   "execution_count": null,
   "id": "597da8b6c6ae3aa3",
   "metadata": {},
   "outputs": [],
   "source": [
    "fun_reg.coef_, fun_reg.intercept_"
   ]
  },
  {
   "cell_type": "code",
   "execution_count": null,
   "id": "29548dfdc6608825",
   "metadata": {},
   "outputs": [],
   "source": [
    "fun_reg_rand.coef_, fun_reg_rand.intercept_"
   ]
  },
  {
   "cell_type": "code",
   "execution_count": null,
   "id": "aed3fd10c4df7499",
   "metadata": {},
   "outputs": [],
   "source": [
    "fun_reg_chaos.coef_, fun_reg_chaos.intercept_"
   ]
  },
  {
   "cell_type": "code",
   "execution_count": null,
   "id": "8e7ee4aef0371dae",
   "metadata": {
    "slideshow": {
     "slide_type": "subslide"
    },
    "tags": [
     "subslide"
    ]
   },
   "outputs": [],
   "source": [
    "et.train_and_plot_aug(lin, x_train, x_plot, x_test)"
   ]
  },
  {
   "cell_type": "code",
   "execution_count": null,
   "id": "520479c59fcf5858",
   "metadata": {
    "slideshow": {
     "slide_type": "subslide"
    },
    "tags": [
     "subslide"
    ]
   },
   "outputs": [],
   "source": [
    "et.train_and_plot_aug(fun, x_train, x_plot, x_test, scale=0.0)"
   ]
  },
  {
   "cell_type": "code",
   "execution_count": null,
   "id": "15844fdddba3be1e",
   "metadata": {
    "slideshow": {
     "slide_type": "subslide"
    },
    "tags": [
     "subslide"
    ]
   },
   "outputs": [],
   "source": [
    "et.train_and_plot_aug(fun, x_train, x_plot, x_test, scale=0.5)"
   ]
  },
  {
   "cell_type": "code",
   "execution_count": null,
   "id": "710b3c22d177c670",
   "metadata": {
    "slideshow": {
     "slide_type": "subslide"
    },
    "tags": [
     "subslide"
    ]
   },
   "outputs": [],
   "source": [
    "et.train_and_plot_aug(fun, x_train, x_plot, x_test, scale=1.5)"
   ]
  },
  {
   "cell_type": "code",
   "execution_count": null,
   "id": "c6ef1d076fc82664",
   "metadata": {
    "slideshow": {
     "slide_type": "subslide"
    },
    "tags": [
     "subslide"
    ]
   },
   "outputs": [],
   "source": [
    "et.train_and_plot_aug(fun, x_train, x_plot, x_test, scale=3)"
   ]
  },
  {
   "cell_type": "code",
   "execution_count": null,
   "id": "9fc53076a16a6b21",
   "metadata": {
    "slideshow": {
     "slide_type": "subslide"
    },
    "tags": [
     "subslide",
     "keep"
    ]
   },
   "outputs": [],
   "source": [
    "def fun2(x):\n",
    "    return 2.8 * np.sin(x) + 0.3 * x + 0.08 * x**2 - 2.5"
   ]
  },
  {
   "cell_type": "code",
   "execution_count": null,
   "id": "c7b9ba2ff1a84eee",
   "metadata": {
    "lines_to_next_cell": 1
   },
   "outputs": [],
   "source": [
    "et.train_and_plot_aug(fun2, x_train, x_plot, x_test, scale=1.5)"
   ]
  },
  {
   "cell_type": "code",
   "execution_count": null,
   "id": "b63e45f6697990c6",
   "metadata": {
    "lines_to_next_cell": 1,
    "slideshow": {
     "slide_type": "subslide"
    },
    "tags": [
     "subslide",
     "keep"
    ]
   },
   "outputs": [],
   "source": [
    "def fun3(x):\n",
    "    return np.sin(x) + 0.3 * x + 0.01 * x**3 - 2.5"
   ]
  },
  {
   "cell_type": "code",
   "execution_count": null,
   "id": "785e525c4e863101",
   "metadata": {
    "lines_to_next_cell": 2
   },
   "outputs": [],
   "source": [
    "et.train_and_plot_aug(fun3, x_train, x_plot, x_test, scale=0.5)"
   ]
  },
  {
   "cell_type": "code",
   "execution_count": null,
   "id": "941e9dbbec691475",
   "metadata": {
    "slideshow": {
     "slide_type": "subslide"
    },
    "tags": [
     "subslide"
    ]
   },
   "outputs": [],
   "source": [
    "et.train_and_plot_aug(\n",
    "    lambda x: np.select([x <= 6, x > 6], [-0.5, 3.5]), x_train, x_plot, x_test\n",
    ")"
   ]
  },
  {
   "cell_type": "code",
   "execution_count": null,
   "id": "6b4e03423667dbb7",
   "metadata": {},
   "outputs": [],
   "source": []
  }
 ],
 "metadata": {
  "jupytext": {
   "cell_metadata_filter": "tags,lang,-all",
   "main_language": "python",
   "notebook_metadata_filter": "-all"
  },
  "kernelspec": {
   "display_name": "Python 3 (ipykernel)",
   "language": "python",
   "name": "python3"
  },
  "language_info": {
   "codemirror_mode": {
    "name": "ipython",
    "version": 3
   },
   "file_extension": ".py",
   "mimetype": "text/x-python",
   "name": "python",
   "nbconvert_exporter": "python",
   "pygments_lexer": "ipython3"
  }
 },
 "nbformat": 4,
 "nbformat_minor": 5
}
