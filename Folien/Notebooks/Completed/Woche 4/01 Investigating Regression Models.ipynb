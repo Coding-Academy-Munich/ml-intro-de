{
 "cells": [
  {
   "cell_type": "markdown",
   "id": "461497cb5c997651",
   "metadata": {
    "lang": "de",
    "slideshow": {
     "slide_type": "slide"
    },
    "tags": [
     "slide"
    ]
   },
   "source": [
    "\n",
    "<img src=\"data:image/svg+xml;base64,PHN2ZyB4bWxucz0iaHR0cDovL3d3dy53My5vcmcvMjAwMC9zdmciIHhtbG5zOnhsaW5rPSJodHRw\n",
    "Oi8vd3d3LnczLm9yZy8xOTk5L3hsaW5rIiB3aWR0aD0iMTExLjE2MSIgaGVpZ2h0PSIxMzQuNjY4\n",
    "IiB2ZXJzaW9uPSIxLjAiPjxkZWZzPjxsaW5lYXJHcmFkaWVudCBpZD0iYyI+PHN0b3Agb2Zmc2V0\n",
    "PSIwIiBzdHlsZT0ic3RvcC1jb2xvcjojYjhiOGI4O3N0b3Atb3BhY2l0eTouNDk4MDM5MjIiLz48\n",
    "c3RvcCBvZmZzZXQ9IjEiIHN0eWxlPSJzdG9wLWNvbG9yOiM3ZjdmN2Y7c3RvcC1vcGFjaXR5OjAi\n",
    "Lz48L2xpbmVhckdyYWRpZW50PjxsaW5lYXJHcmFkaWVudCBpZD0iYSI+PHN0b3Agb2Zmc2V0PSIw\n",
    "IiBzdHlsZT0ic3RvcC1jb2xvcjojZmZkNDNiO3N0b3Atb3BhY2l0eToxIi8+PHN0b3Agb2Zmc2V0\n",
    "PSIxIiBzdHlsZT0ic3RvcC1jb2xvcjojZmZlODczO3N0b3Atb3BhY2l0eToxIi8+PC9saW5lYXJH\n",
    "cmFkaWVudD48bGluZWFyR3JhZGllbnQgaWQ9ImIiPjxzdG9wIG9mZnNldD0iMCIgc3R5bGU9InN0\n",
    "b3AtY29sb3I6IzVhOWZkNDtzdG9wLW9wYWNpdHk6MSIvPjxzdG9wIG9mZnNldD0iMSIgc3R5bGU9\n",
    "InN0b3AtY29sb3I6IzMwNjk5ODtzdG9wLW9wYWNpdHk6MSIvPjwvbGluZWFyR3JhZGllbnQ+PGxp\n",
    "bmVhckdyYWRpZW50IHhsaW5rOmhyZWY9IiNhIiBpZD0iZSIgeDE9IjE1MC45NjEiIHgyPSIxMTIu\n",
    "MDMxIiB5MT0iMTkyLjM1MiIgeTI9IjEzNy4yNzMiIGdyYWRpZW50VHJhbnNmb3JtPSJtYXRyaXgo\n",
    "LjU2MjU0IDAgMCAuNTY3OTcgLTE0Ljk5MSAtMTEuNzAyKSIgZ3JhZGllbnRVbml0cz0idXNlclNw\n",
    "YWNlT25Vc2UiLz48bGluZWFyR3JhZGllbnQgeGxpbms6aHJlZj0iI2IiIGlkPSJkIiB4MT0iMjYu\n",
    "NjQ5IiB4Mj0iMTM1LjY2NSIgeTE9IjIwLjYwNCIgeTI9IjExNC4zOTgiIGdyYWRpZW50VHJhbnNm\n",
    "b3JtPSJtYXRyaXgoLjU2MjU0IDAgMCAuNTY3OTcgLTE0Ljk5MSAtMTEuNzAyKSIgZ3JhZGllbnRV\n",
    "bml0cz0idXNlclNwYWNlT25Vc2UiLz48cmFkaWFsR3JhZGllbnQgeGxpbms6aHJlZj0iI2MiIGlk\n",
    "PSJmIiBjeD0iNjEuNTE5IiBjeT0iMTMyLjI4NiIgcj0iMjkuMDM3IiBmeD0iNjEuNTE5IiBmeT0i\n",
    "MTMyLjI4NiIgZ3JhZGllbnRUcmFuc2Zvcm09Im1hdHJpeCgwIC0uMjM5OTUgMS4wNTQ2NyAwIC04\n",
    "My43IDE0Mi40NjIpIiBncmFkaWVudFVuaXRzPSJ1c2VyU3BhY2VPblVzZSIvPjwvZGVmcz48cGF0\n",
    "aCBkPSJNNTQuOTE5IDBjLTQuNTg0LjAyMi04Ljk2MS40MTMtMTIuODEzIDEuMDk1QzMwLjc2IDMu\n",
    "MDk5IDI4LjcgNy4yOTUgMjguNyAxNS4wMzJ2MTAuMjE5aDI2LjgxM3YzLjQwNkgxOC42MzhjLTcu\n",
    "NzkzIDAtMTQuNjE2IDQuNjg0LTE2Ljc1IDEzLjU5NC0yLjQ2MiAxMC4yMTMtMi41NzEgMTYuNTg2\n",
    "IDAgMjcuMjUgMS45MDUgNy45MzggNi40NTcgMTMuNTk0IDE0LjI1IDEzLjU5NGg5LjIxOHYtMTIu\n",
    "MjVjMC04Ljg1IDcuNjU3LTE2LjY1NyAxNi43NS0xNi42NTdoMjYuNzgyYzcuNDU0IDAgMTMuNDA2\n",
    "LTYuMTM4IDEzLjQwNi0xMy42MjV2LTI1LjUzYzAtNy4yNjctNi4xMy0xMi43MjYtMTMuNDA2LTEz\n",
    "LjkzOEM2NC4yODIuMzI4IDU5LjUwMi0uMDIgNTQuOTE4IDBtLTE0LjUgOC4yMmMyLjc3IDAgNS4w\n",
    "MzEgMi4yOTggNS4wMzEgNS4xMjUgMCAyLjgxNi0yLjI2MiA1LjA5My01LjAzMSA1LjA5My0yLjc4\n",
    "IDAtNS4wMzEtMi4yNzctNS4wMzEtNS4wOTMgMC0yLjgyNyAyLjI1MS01LjEyNSA1LjAzLTUuMTI1\n",
    "IiBzdHlsZT0iZmlsbDp1cmwoI2QpO2ZpbGwtb3BhY2l0eToxIi8+PHBhdGggZD0iTTg1LjYzOCAy\n",
    "OC42NTd2MTEuOTA2YzAgOS4yMzEtNy44MjYgMTctMTYuNzUgMTdINDIuMTA2Yy03LjMzNiAwLTEz\n",
    "LjQwNiA2LjI3OS0xMy40MDYgMTMuNjI1Vjk2LjcyYzAgNy4yNjYgNi4zMTkgMTEuNTQgMTMuNDA2\n",
    "IDEzLjYyNSA4LjQ4OCAyLjQ5NSAxNi42MjcgMi45NDYgMjYuNzgyIDAgNi43NS0xLjk1NSAxMy40\n",
    "MDYtNS44ODggMTMuNDA2LTEzLjYyNVY4Ni41SDU1LjUxM3YtMy40MDVIOTUuN2M3Ljc5MyAwIDEw\n",
    "LjY5Ni01LjQzNiAxMy40MDYtMTMuNTk0IDIuOC04LjM5OSAyLjY4LTE2LjQ3NiAwLTI3LjI1LTEu\n",
    "OTI1LTcuNzU4LTUuNjA0LTEzLjU5NC0xMy40MDYtMTMuNTk0ek03MC41NzUgOTMuMzEzYzIuNzgg\n",
    "MCA1LjAzMSAyLjI3OCA1LjAzMSA1LjA5NCAwIDIuODI3LTIuMjUxIDUuMTI1LTUuMDMxIDUuMTI1\n",
    "LTIuNzcgMC01LjAzMS0yLjI5OC01LjAzMS01LjEyNSAwLTIuODE2IDIuMjYxLTUuMDk0IDUuMDMx\n",
    "LTUuMDk0IiBzdHlsZT0iZmlsbDp1cmwoI2UpO2ZpbGwtb3BhY2l0eToxIi8+PGVsbGlwc2UgY3g9\n",
    "IjU1LjgxNyIgY3k9IjEyNy43MDEiIHJ4PSIzNS45MzEiIHJ5PSI2Ljk2NyIgc3R5bGU9Im9wYWNp\n",
    "dHk6LjQ0MzgyO2ZpbGw6dXJsKCNmKTtmaWxsLW9wYWNpdHk6MTtmaWxsLXJ1bGU6bm9uemVybztz\n",
    "dHJva2U6bm9uZTtzdHJva2Utd2lkdGg6MTUuNDE3NDtzdHJva2UtbWl0ZXJsaW1pdDo0O3N0cm9r\n",
    "ZS1kYXNoYXJyYXk6bm9uZTtzdHJva2Utb3BhY2l0eToxIi8+PC9zdmc+\n",
    "\"\n",
    "     style=\"display:block;margin:auto;width:10%\" alt=\"Python Logo\"/>\n",
    "<br>\n",
    "\n",
    "<div style=\"text-align:center; font-size:200%;\">\n",
    " <b>Investigating Regression Models</b>\n",
    "</div>\n",
    "<br/>\n",
    "<div style=\"text-align:center;\">Dr. Matthias Hölzl</div>\n",
    "<br/>"
   ]
  },
  {
   "cell_type": "code",
   "execution_count": null,
   "id": "edd0405036ec60b7",
   "metadata": {
    "slideshow": {
     "slide_type": "subslide"
    }
   },
   "outputs": [],
   "source": [
    "import numpy as np\n",
    "import matplotlib.pyplot as plt\n",
    "import seaborn as sns\n",
    "\n",
    "sns.set_theme()"
   ]
  },
  {
   "cell_type": "code",
   "execution_count": null,
   "id": "0c8139feed4d6976",
   "metadata": {
    "slideshow": {
     "slide_type": "subslide"
    }
   },
   "outputs": [],
   "source": [
    "rng = np.random.default_rng(42)\n",
    "x = rng.uniform(size=(150, 1), low=0.0, high=10.0)"
   ]
  },
  {
   "cell_type": "code",
   "execution_count": null,
   "id": "bf6ae7402d55a96a",
   "metadata": {
    "slideshow": {
     "slide_type": "subslide"
    }
   },
   "outputs": [],
   "source": [
    "plt.figure(figsize=(20, 1), frameon=False)\n",
    "plt.yticks([], [])\n",
    "plt.scatter(x, np.zeros_like(x), alpha=0.4);"
   ]
  },
  {
   "cell_type": "code",
   "execution_count": null,
   "id": "93a5d470705709ed",
   "metadata": {
    "slideshow": {
     "slide_type": "subslide"
    }
   },
   "outputs": [],
   "source": [
    "def lin(x):\n",
    "    return 0.85 * x - 1.5"
   ]
  },
  {
   "cell_type": "code",
   "execution_count": null,
   "id": "e775ea24c96e33ff",
   "metadata": {
    "slideshow": {
     "slide_type": "subslide"
    }
   },
   "outputs": [],
   "source": [
    "def fun(x):\n",
    "    return 2 * np.sin(x) + 0.1 * x ** 2 - 2"
   ]
  },
  {
   "cell_type": "code",
   "execution_count": null,
   "id": "c46990d23a0499f9",
   "metadata": {
    "slideshow": {
     "slide_type": "subslide"
    }
   },
   "outputs": [],
   "source": [
    "x_plot = np.linspace(0, 10, 500)\n",
    "plt.figure(figsize=(12, 6))\n",
    "sns.lineplot(x=x_plot, y=lin(x_plot))\n",
    "sns.lineplot(x=x_plot, y=fun(x_plot));"
   ]
  },
  {
   "cell_type": "code",
   "execution_count": null,
   "id": "7d1a9bad91b407f2",
   "metadata": {
    "slideshow": {
     "slide_type": "subslide"
    }
   },
   "outputs": [],
   "source": [
    "def randomize(fun, x, scale=0.5):\n",
    "    return fun(x) + rng.normal(size=x.shape, scale=scale)"
   ]
  },
  {
   "cell_type": "code",
   "execution_count": null,
   "id": "df48d7fba989697e",
   "metadata": {
    "slideshow": {
     "slide_type": "subslide"
    }
   },
   "outputs": [],
   "source": [
    "x_train, x_test = x[:100], x[100:]"
   ]
  },
  {
   "cell_type": "code",
   "execution_count": null,
   "id": "c9f0cb510c2e54b5",
   "metadata": {
    "slideshow": {
     "slide_type": "subslide"
    }
   },
   "outputs": [],
   "source": [
    "y_lin_train = lin(x_train).reshape(-1)\n",
    "y_lin_test = lin(x_test).reshape(-1)\n",
    "y_fun_train = fun(x_train.reshape(-1))\n",
    "y_fun_test = fun(x_test).reshape(-1)"
   ]
  },
  {
   "cell_type": "code",
   "execution_count": null,
   "id": "923059eb2046e5e7",
   "metadata": {
    "slideshow": {
     "slide_type": "subslide"
    }
   },
   "outputs": [],
   "source": [
    "y_rand_lin_train = randomize(lin, x_train).reshape(-1)\n",
    "y_rand_lin_test = randomize(lin, x_test).reshape(-1)\n",
    "y_rand_fun_train = randomize(fun, x_train.reshape(-1))\n",
    "y_rand_fun_test = randomize(fun, x_test).reshape(-1)"
   ]
  },
  {
   "cell_type": "code",
   "execution_count": null,
   "id": "45d34ca2ddcd3353",
   "metadata": {
    "slideshow": {
     "slide_type": "subslide"
    }
   },
   "outputs": [],
   "source": [
    "y_chaos_lin_train = randomize(lin, x_train, 1.5).reshape(-1)\n",
    "y_chaos_lin_test = randomize(lin, x_test, 1.5).reshape(-1)\n",
    "y_chaos_fun_train = randomize(fun, x_train, 1.5).reshape(-1)\n",
    "y_chaos_fun_test = randomize(fun, x_test, 1.5).reshape(-1)"
   ]
  },
  {
   "cell_type": "code",
   "execution_count": null,
   "id": "3b76b4e784940723",
   "metadata": {
    "slideshow": {
     "slide_type": "subslide"
    }
   },
   "outputs": [],
   "source": [
    "fig, ax = plt.subplots(figsize=(12, 8))\n",
    "sns.lineplot(x=x_train[:, 0], y=y_lin_train, color=\"red\", ax=ax)\n",
    "sns.scatterplot(x=x_train[:, 0], y=y_rand_lin_train, ax=ax)\n",
    "sns.scatterplot(x=x_train[:, 0], y=y_chaos_lin_train, ax=ax);"
   ]
  },
  {
   "cell_type": "code",
   "execution_count": null,
   "id": "002ce34195fec019",
   "metadata": {
    "slideshow": {
     "slide_type": "subslide"
    }
   },
   "outputs": [],
   "source": [
    "fig, ax = plt.subplots(figsize=(12, 8))\n",
    "sns.lineplot(x=x_train[:, 0], y=y_fun_train, color=\"red\", ax=ax)\n",
    "sns.scatterplot(x=x_train[:, 0], y=y_rand_fun_train, ax=ax)\n",
    "sns.scatterplot(x=x_train[:, 0], y=y_chaos_fun_train, ax=ax);"
   ]
  },
  {
   "cell_type": "markdown",
   "id": "93371b611f01a174",
   "metadata": {
    "slideshow": {
     "slide_type": "slide"
    }
   },
   "source": [
    "\n",
    " ## Linear Regression"
   ]
  },
  {
   "cell_type": "code",
   "execution_count": null,
   "id": "7d20a6d42e11ce7a",
   "metadata": {
    "slideshow": {
     "slide_type": "subslide"
    }
   },
   "outputs": [],
   "source": [
    "from sklearn.linear_model import LinearRegression"
   ]
  },
  {
   "cell_type": "code",
   "execution_count": null,
   "id": "824db2ca5c3c3a00",
   "metadata": {
    "slideshow": {
     "slide_type": "subslide"
    }
   },
   "outputs": [],
   "source": [
    "lr_lin = LinearRegression()\n",
    "lr_rand_lin = LinearRegression()\n",
    "lr_chaos_lin = LinearRegression()"
   ]
  },
  {
   "cell_type": "code",
   "execution_count": null,
   "id": "dbffe79f7b88c4bc",
   "metadata": {
    "slideshow": {
     "slide_type": "subslide"
    }
   },
   "outputs": [],
   "source": [
    "lr_lin.fit(x_train, y_lin_train)\n",
    "lr_rand_lin.fit(x_train, y_rand_lin_train)\n",
    "lr_chaos_lin.fit(x_train, y_chaos_lin_train);"
   ]
  },
  {
   "cell_type": "code",
   "execution_count": null,
   "id": "4a64a2359af42515",
   "metadata": {
    "slideshow": {
     "slide_type": "subslide"
    }
   },
   "outputs": [],
   "source": [
    "print(\"lr_lin\", lr_lin.coef_, lr_lin.intercept_)\n",
    "print(\"lr_rand_lin\", lr_rand_lin.coef_, lr_rand_lin.intercept_)\n",
    "print(\"lr_chaos_lin\", lr_chaos_lin.coef_, lr_chaos_lin.intercept_)"
   ]
  },
  {
   "cell_type": "code",
   "execution_count": null,
   "id": "adb751aac4ee62ab",
   "metadata": {
    "slideshow": {
     "slide_type": "subslide"
    }
   },
   "outputs": [],
   "source": [
    "y_lr_lin_pred = lr_lin.predict(x_test)\n",
    "y_lr_rand_lin_pred = lr_rand_lin.predict(x_test)\n",
    "y_lr_chaos_lin_pred = lr_chaos_lin.predict(x_test)"
   ]
  },
  {
   "cell_type": "code",
   "execution_count": null,
   "id": "5a6b5f945bcb8f8d",
   "metadata": {
    "slideshow": {
     "slide_type": "subslide"
    }
   },
   "outputs": [],
   "source": [
    "fig, ax = plt.subplots(figsize=(12, 8))\n",
    "sns.lineplot(x=x_test[:, 0], y=y_lr_lin_pred, ax=ax)\n",
    "sns.scatterplot(x=x_test[:, 0], y=y_lin_test, ax=ax)\n",
    "\n",
    "sns.lineplot(x=x_test[:, 0], y=y_lr_rand_lin_pred, ax=ax)\n",
    "sns.scatterplot(x=x_test[:, 0], y=y_rand_lin_test, ax=ax)\n",
    "\n",
    "sns.lineplot(x=x_test[:, 0], y=y_lr_chaos_lin_pred, ax=ax)\n",
    "sns.scatterplot(x=x_test[:, 0], y=y_chaos_lin_test, ax=ax);"
   ]
  },
  {
   "cell_type": "code",
   "execution_count": null,
   "id": "5eb8412b4bce6126",
   "metadata": {
    "slideshow": {
     "slide_type": "subslide"
    }
   },
   "outputs": [],
   "source": [
    "from sklearn.metrics import mean_absolute_error, mean_squared_error"
   ]
  },
  {
   "cell_type": "code",
   "execution_count": null,
   "id": "198b9a80a3718b48",
   "metadata": {
    "slideshow": {
     "slide_type": "subslide"
    }
   },
   "outputs": [],
   "source": [
    "mae_lin = mean_absolute_error(y_lin_test, y_lr_lin_pred)\n",
    "mae_rand_lin = mean_absolute_error(y_rand_lin_test, y_lr_rand_lin_pred)\n",
    "mae_chaos_lin = mean_absolute_error(y_chaos_lin_test, y_lr_chaos_lin_pred)\n",
    "\n",
    "mse_lin = mean_squared_error(y_lin_test, y_lr_lin_pred)\n",
    "mse_rand_lin = mean_squared_error(y_rand_lin_test, y_lr_rand_lin_pred)\n",
    "mse_chaos_lin = mean_squared_error(y_chaos_lin_test, y_lr_chaos_lin_pred)\n",
    "\n",
    "rmse_lin = np.sqrt(mean_squared_error(y_lin_test, y_lr_lin_pred))\n",
    "rmse_rand_lin = np.sqrt(mean_squared_error(y_rand_lin_test, y_lr_rand_lin_pred))\n",
    "rmse_chaos_lin = np.sqrt(mean_squared_error(y_chaos_lin_test, y_lr_chaos_lin_pred))\n",
    "\n",
    "print(\n",
    "    \"No randomness:      \"\n",
    "    f\"MAE = {mae_lin:.2f}, MSE = {mse_lin:.2f}, RMSE = {rmse_lin:.2f}\"\n",
    ")\n",
    "print(\n",
    "    \"Some randomness:    \"\n",
    "    f\"MAE = {mae_rand_lin:.2f}, MSE = {mse_rand_lin:.2f}, RMSE = {rmse_rand_lin:.2f}\"\n",
    ")\n",
    "print(\n",
    "    \"Lots of randomness: \"\n",
    "    f\"MAE = {mae_chaos_lin:.2f}, MSE = {mse_chaos_lin:.2f}, RMSE = {rmse_chaos_lin:.2f}\"\n",
    ")"
   ]
  },
  {
   "cell_type": "markdown",
   "id": "dc12a590cd5abbbd",
   "metadata": {
    "slideshow": {
     "slide_type": "subslide"
    }
   },
   "source": [
    "\n",
    " ## Defining an Evaluation Function"
   ]
  },
  {
   "cell_type": "code",
   "execution_count": null,
   "id": "03a23cc5ed1185eb",
   "metadata": {
    "slideshow": {
     "slide_type": "subslide"
    }
   },
   "outputs": [],
   "source": [
    "def evaluate_non_random_regressor(reg_type, f_y, *args, **kwargs):\n",
    "    reg = reg_type(*args, **kwargs)\n",
    "\n",
    "    y_train = f_y(x_train).reshape(-1)\n",
    "    y_test = f_y(x_test).reshape(-1)\n",
    "\n",
    "    reg.fit(x_train, y_train)\n",
    "    y_pred = reg.predict(x_test)\n",
    "\n",
    "    x_plot = np.linspace(0, 10, 500).reshape(-1, 1)\n",
    "    fig, ax = plt.subplots(figsize=(12, 6))\n",
    "    sns.lineplot(x=x_plot[:, 0], y=reg.predict(x_plot), ax=ax)\n",
    "    sns.lineplot(x=x_plot[:, 0], y=f_y(x_plot[:, 0]), ax=ax)\n",
    "    sns.scatterplot(x=x_train[:, 0], y=y_train, ax=ax)\n",
    "    plt.show()\n",
    "\n",
    "    mae = mean_absolute_error(y_test, y_pred)\n",
    "    mse = mean_squared_error(y_test, y_pred)\n",
    "    rmse = np.sqrt(mean_squared_error(y_test, y_pred))\n",
    "    print(\n",
    "        \"\\nNo randomness:      \" f\"MAE = {mae:.2f}, MSE = {mse:.2f}, RMSE = {rmse:.2f}\"\n",
    "    )\n",
    "\n",
    "    return reg"
   ]
  },
  {
   "cell_type": "code",
   "execution_count": null,
   "id": "d3957360cf27ed77",
   "metadata": {
    "slideshow": {
     "slide_type": "subslide"
    }
   },
   "outputs": [],
   "source": [
    "evaluate_non_random_regressor(LinearRegression, fun);"
   ]
  },
  {
   "cell_type": "markdown",
   "id": "490141c5e21ef373",
   "metadata": {
    "slideshow": {
     "slide_type": "subslide"
    }
   },
   "source": [
    "\n",
    "### Underfitting\n",
    "\n",
    "Underfitting occurs when the model is not able to fit the training data."
   ]
  },
  {
   "cell_type": "code",
   "execution_count": null,
   "id": "e8fa7d16057c8bd1",
   "metadata": {
    "slideshow": {
     "slide_type": "subslide"
    }
   },
   "outputs": [],
   "source": [
    "def plot_graphs(f_y, reg, reg_rand, reg_chaos, y_train, y_rand_test, y_chaos_test):\n",
    "    x_plot = np.linspace(0, 10, 500).reshape(-1, 1)\n",
    "    fig, ax = plt.subplots(figsize=(12, 8))\n",
    "    sns.lineplot(x=x_plot[:, 0], y=reg.predict(x_plot), ax=ax)\n",
    "    sns.scatterplot(x=x_train[:, 0], y=y_train, ax=ax)\n",
    "\n",
    "    sns.lineplot(x=x_plot[:, 0], y=reg_rand.predict(x_plot), ax=ax)\n",
    "    sns.scatterplot(x=x_test[:, 0], y=y_rand_test, ax=ax)\n",
    "\n",
    "    sns.lineplot(x=x_plot[:, 0], y=reg_chaos.predict(x_plot), ax=ax)\n",
    "    sns.scatterplot(x=x_test[:, 0], y=y_chaos_test, ax=ax)\n",
    "\n",
    "    sns.lineplot(x=x_plot[:, 0], y=f_y(x_plot[:, 0]), ax=ax)\n",
    "    plt.show()"
   ]
  },
  {
   "cell_type": "code",
   "execution_count": null,
   "id": "ab633b48fd60d68c",
   "metadata": {
    "slideshow": {
     "slide_type": "subslide"
    }
   },
   "outputs": [],
   "source": [
    "def print_evaluation(y_test, y_pred, y_rand_test, y_rand_pred, y_chaos_test, y_chaos_pred):\n",
    "    mae = mean_absolute_error(y_test, y_pred)\n",
    "    mae_rand = mean_absolute_error(y_rand_test, y_rand_pred)\n",
    "    mae_chaos = mean_absolute_error(y_chaos_test, y_chaos_pred)\n",
    "\n",
    "    mse = mean_squared_error(y_test, y_pred)\n",
    "    mse_rand = mean_squared_error(y_rand_test, y_rand_pred)\n",
    "    mse_chaos = mean_squared_error(y_chaos_test, y_chaos_pred)\n",
    "\n",
    "    rmse = np.sqrt(mean_squared_error(y_test, y_pred))\n",
    "    rmse_rand = np.sqrt(mean_squared_error(y_rand_test, y_rand_pred))\n",
    "    rmse_chaos = np.sqrt(mean_squared_error(y_chaos_test, y_chaos_pred))\n",
    "\n",
    "    print(\n",
    "        \"\\nNo randomness:      \" f\"MAE = {mae:.2f}, MSE = {mse:.2f}, RMSE = {rmse:.2f}\"\n",
    "    )\n",
    "    print(\n",
    "        \"Some randomness:    \"\n",
    "        f\"MAE = {mae_rand:.2f}, MSE = {mse_rand:.2f}, RMSE = {rmse_rand:.2f}\"\n",
    "    )\n",
    "    print(\n",
    "        \"Lots of randomness: \"\n",
    "        f\"MAE = {mae_chaos:.2f}, MSE = {mse_chaos:.2f}, RMSE = {rmse_chaos:.2f}\"\n",
    "    )"
   ]
  },
  {
   "cell_type": "code",
   "execution_count": null,
   "id": "79ef8add5559b5b1",
   "metadata": {
    "slideshow": {
     "slide_type": "subslide"
    }
   },
   "outputs": [],
   "source": [
    "def evaluate_regressor(reg_type, f_y, *args, **kwargs):\n",
    "    reg = reg_type(*args, **kwargs)\n",
    "    reg_rand = reg_type(*args, **kwargs)\n",
    "    reg_chaos = reg_type(*args, **kwargs)\n",
    "\n",
    "    y_train = f_y(x_train).reshape(-1)\n",
    "    y_test = f_y(x_test).reshape(-1)\n",
    "    y_pred = reg.fit(x_train, y_train).predict(x_test)\n",
    "\n",
    "    y_rand_train = randomize(f_y, x_train).reshape(-1)\n",
    "    y_rand_test = randomize(f_y, x_test).reshape(-1)\n",
    "    y_rand_pred = reg_rand.fit(x_train, y_rand_train).predict(x_test)\n",
    "\n",
    "    y_chaos_train = randomize(f_y, x_train, 1.5).reshape(-1)\n",
    "    y_chaos_test = randomize(f_y, x_test, 1.5).reshape(-1)\n",
    "    y_chaos_pred = reg_chaos.fit(x_train, y_chaos_train).predict(x_test)\n",
    "\n",
    "    plot_graphs(f_y, reg, reg_rand, reg_chaos, y_train, y_rand_test, y_chaos_test)\n",
    "    print_evaluation(y_test, y_pred, y_rand_test, y_rand_pred, y_chaos_test, y_chaos_pred)"
   ]
  },
  {
   "cell_type": "code",
   "execution_count": null,
   "id": "e9da68ca24fb496a",
   "metadata": {
    "slideshow": {
     "slide_type": "subslide"
    }
   },
   "outputs": [],
   "source": [
    "evaluate_regressor(LinearRegression, lin)"
   ]
  },
  {
   "cell_type": "code",
   "execution_count": null,
   "id": "d4890b69405f027b",
   "metadata": {
    "slideshow": {
     "slide_type": "subslide"
    }
   },
   "outputs": [],
   "source": [
    "evaluate_regressor(LinearRegression, fun)"
   ]
  },
  {
   "cell_type": "markdown",
   "id": "7c1650001b224a82",
   "metadata": {
    "slideshow": {
     "slide_type": "slide"
    }
   },
   "source": [
    "## Stochastic Gradient Descent"
   ]
  },
  {
   "cell_type": "code",
   "execution_count": null,
   "id": "c1de1633cb782418",
   "metadata": {
    "slideshow": {
     "slide_type": "subslide"
    }
   },
   "outputs": [],
   "source": [
    "from sklearn.linear_model import SGDRegressor"
   ]
  },
  {
   "cell_type": "code",
   "execution_count": null,
   "id": "4d3033331d11f4e8",
   "metadata": {
    "slideshow": {
     "slide_type": "subslide"
    }
   },
   "outputs": [],
   "source": [
    "evaluate_regressor(SGDRegressor, lin)"
   ]
  },
  {
   "cell_type": "code",
   "execution_count": null,
   "id": "bd5803fd9ddd3702",
   "metadata": {
    "slideshow": {
     "slide_type": "subslide"
    }
   },
   "outputs": [],
   "source": [
    "evaluate_regressor(SGDRegressor, fun)"
   ]
  },
  {
   "cell_type": "markdown",
   "id": "6a0160defbad2c4a",
   "metadata": {
    "slideshow": {
     "slide_type": "subslide"
    }
   },
   "source": [
    "### Unnormalized Data\n",
    "\n",
    "Stochastic gradient descent can sometimes run into trouble when different features are of different magnitudes."
   ]
  },
  {
   "cell_type": "markdown",
   "id": "7f8aae4f4a98fe90",
   "metadata": {
    "slideshow": {
     "slide_type": "slide"
    }
   },
   "source": [
    "## Nearest Neighbors\n",
    "\n",
    "<img src=\"img/KnnClassification.svg\" style=\"width: 40%; margin-left: auto; margin-right: auto;\"/>"
   ]
  },
  {
   "cell_type": "code",
   "execution_count": null,
   "id": "270acbbf2198b63b",
   "metadata": {
    "slideshow": {
     "slide_type": "subslide"
    }
   },
   "outputs": [],
   "source": [
    "from sklearn.neighbors import KNeighborsRegressor"
   ]
  },
  {
   "cell_type": "code",
   "execution_count": null,
   "id": "cd74379c46e0fa75",
   "metadata": {
    "slideshow": {
     "slide_type": "subslide"
    }
   },
   "outputs": [],
   "source": [
    "evaluate_non_random_regressor(KNeighborsRegressor, lin);"
   ]
  },
  {
   "cell_type": "code",
   "execution_count": null,
   "id": "704057a2e279fb83",
   "metadata": {
    "slideshow": {
     "slide_type": "subslide"
    }
   },
   "outputs": [],
   "source": [
    "evaluate_non_random_regressor(KNeighborsRegressor, lin, n_neighbors=1);"
   ]
  },
  {
   "cell_type": "code",
   "execution_count": null,
   "id": "fcefdc5de29d1031",
   "metadata": {
    "slideshow": {
     "slide_type": "subslide"
    }
   },
   "outputs": [],
   "source": [
    "evaluate_non_random_regressor(KNeighborsRegressor, lin, n_neighbors=2);"
   ]
  },
  {
   "cell_type": "code",
   "execution_count": null,
   "id": "a26c0837a5c102a9",
   "metadata": {
    "slideshow": {
     "slide_type": "subslide"
    }
   },
   "outputs": [],
   "source": [
    "evaluate_non_random_regressor(KNeighborsRegressor, lin, n_neighbors=50);"
   ]
  },
  {
   "cell_type": "code",
   "execution_count": null,
   "id": "acd2b6f9d3bb576e",
   "metadata": {
    "slideshow": {
     "slide_type": "subslide"
    }
   },
   "outputs": [],
   "source": [
    "evaluate_regressor(KNeighborsRegressor, lin)"
   ]
  },
  {
   "cell_type": "code",
   "execution_count": null,
   "id": "83222b241c8b4c5e",
   "metadata": {
    "slideshow": {
     "slide_type": "subslide"
    }
   },
   "outputs": [],
   "source": [
    "evaluate_regressor(KNeighborsRegressor, fun)"
   ]
  },
  {
   "cell_type": "markdown",
   "id": "c49ef153590e75a7",
   "metadata": {
    "slideshow": {
     "slide_type": "slide"
    }
   },
   "source": [
    "## Decision Trees"
   ]
  },
  {
   "cell_type": "markdown",
   "id": "719701f49fc378f1",
   "metadata": {
    "slideshow": {
     "slide_type": "subslide"
    }
   },
   "source": [
    "## Training Decision Trees\n",
    "\n",
    "- (Conceptually) build a nested `if`-`then`-`else` statement\n",
    "- Each test compares one feature against a value\n",
    "- Minimize some *loss function* (e.g., mean squared error)\n",
    "\n",
    "```python\n",
    "if feature_1 < 1.2:\n",
    "    if feature_2 < 3.0:\n",
    "        if feature_1 < 0.2:\n",
    "            return 25_324\n",
    "        else:\n",
    "            return 17_145\n",
    "    else:\n",
    "        ...\n",
    "else:\n",
    "    ...\n",
    "```"
   ]
  },
  {
   "cell_type": "code",
   "execution_count": null,
   "id": "2d9828568a541df2",
   "metadata": {
    "slideshow": {
     "slide_type": "subslide"
    }
   },
   "outputs": [],
   "source": [
    "x_plot = np.linspace(0, 10, 500)\n",
    "plt.figure(figsize=(12, 4))\n",
    "sns.lineplot(x=x_plot, y=fun(x_plot));"
   ]
  },
  {
   "cell_type": "code",
   "execution_count": null,
   "id": "aa6ca7c967fc80e6",
   "metadata": {
    "slideshow": {
     "slide_type": "subslide"
    }
   },
   "outputs": [],
   "source": [
    "from sklearn.metrics import mean_squared_error\n",
    "x_plot = np.linspace(0, 10, 500)\n",
    "y_plot = np.ones_like(x_plot) * 1.5\n",
    "print(mean_squared_error(fun(x_plot), y_plot))"
   ]
  },
  {
   "cell_type": "code",
   "execution_count": null,
   "id": "a1b4cb080d7acb01",
   "metadata": {
    "slideshow": {
     "slide_type": "subslide"
    }
   },
   "outputs": [],
   "source": [
    "plt.figure(figsize=(12, 4))\n",
    "sns.lineplot(x=x_plot, y=fun(x_plot))\n",
    "sns.lineplot(x=x_plot, y=y_plot);"
   ]
  },
  {
   "cell_type": "code",
   "execution_count": null,
   "id": "78e25d8e1edad13b",
   "metadata": {
    "slideshow": {
     "slide_type": "subslide"
    }
   },
   "outputs": [],
   "source": [
    "def approx(x):\n",
    "    if x < 6.2:\n",
    "        return -0.5\n",
    "    else:\n",
    "        return 5.5"
   ]
  },
  {
   "cell_type": "code",
   "execution_count": null,
   "id": "290131871ab293ad",
   "metadata": {},
   "outputs": [],
   "source": [
    "approx(4), approx(8)"
   ]
  },
  {
   "cell_type": "code",
   "execution_count": null,
   "id": "ba4d87fba8c23f32",
   "metadata": {},
   "outputs": [],
   "source": [
    "list(map(approx, np.arange(4, 10)))"
   ]
  },
  {
   "cell_type": "code",
   "execution_count": null,
   "id": "5aaf1fdd417b96e6",
   "metadata": {
    "slideshow": {
     "slide_type": "subslide"
    }
   },
   "outputs": [],
   "source": [
    "x_plot = np.linspace(0, 10, 500)\n",
    "y_plot = list(map(approx, x_plot))\n",
    "print(mean_squared_error(fun(x_plot), y_plot))"
   ]
  },
  {
   "cell_type": "code",
   "execution_count": null,
   "id": "e9d88df5824ec55f",
   "metadata": {
    "slideshow": {
     "slide_type": "subslide"
    }
   },
   "outputs": [],
   "source": [
    "plt.figure(figsize=(12, 4))\n",
    "sns.lineplot(x=x_plot, y=fun(x_plot))\n",
    "sns.lineplot(x=x_plot, y=y_plot);"
   ]
  },
  {
   "cell_type": "code",
   "execution_count": null,
   "id": "b3939105c470b6ca",
   "metadata": {
    "slideshow": {
     "slide_type": "subslide"
    }
   },
   "outputs": [],
   "source": [
    "plt.figure(figsize=(12, 4))\n",
    "sns.lineplot(x=x_plot, y=fun(x_plot));\n",
    "sns.lineplot(x=x_plot, y=np.select([x_plot<6.2, x_plot>=6.2], [-0.5, 5.5]));"
   ]
  },
  {
   "cell_type": "markdown",
   "id": "58c92e3da49245fe",
   "metadata": {
    "slideshow": {
     "slide_type": "subslide"
    }
   },
   "source": [
    "## Advantages\n",
    "\n",
    "- Simple to understand and visualize\n",
    "- Interpretable\n",
    "- Good for analyzing the dataset (e.g., feature importances, ...)\n",
    "- Robust to statistical variations in the data\n",
    "- Needs little data preparation (not sensitive to mean or standard deviation of features, ...)"
   ]
  },
  {
   "cell_type": "markdown",
   "id": "c3a1293da8b61a08",
   "metadata": {
    "slideshow": {
     "slide_type": "subslide"
    }
   },
   "source": [
    "## Disadvantages\n",
    "\n",
    "- Very prone to overfitting\n",
    "- Sensitive to unbalanced data sets\n",
    "- Only discrete predictions with axis-aligned boundaries\n",
    "- Unstable when training data changes (tree may change completely when a single item is added)"
   ]
  },
  {
   "cell_type": "code",
   "execution_count": null,
   "id": "65ceb4a80f88a7e2",
   "metadata": {
    "slideshow": {
     "slide_type": "slide"
    }
   },
   "outputs": [],
   "source": [
    "from sklearn.tree import DecisionTreeRegressor"
   ]
  },
  {
   "cell_type": "code",
   "execution_count": null,
   "id": "b396fe827f2d3183",
   "metadata": {
    "slideshow": {
     "slide_type": "subslide"
    }
   },
   "outputs": [],
   "source": [
    "evaluate_non_random_regressor(DecisionTreeRegressor, lin);"
   ]
  },
  {
   "cell_type": "code",
   "execution_count": null,
   "id": "ff8086f0fe7a35eb",
   "metadata": {
    "slideshow": {
     "slide_type": "subslide"
    }
   },
   "outputs": [],
   "source": [
    "evaluate_non_random_regressor(DecisionTreeRegressor, fun);"
   ]
  },
  {
   "cell_type": "code",
   "execution_count": null,
   "id": "a7e7ec2dfbbe920f",
   "metadata": {
    "slideshow": {
     "slide_type": "subslide"
    }
   },
   "outputs": [],
   "source": [
    "evaluate_non_random_regressor(DecisionTreeRegressor, fun, max_depth=4);"
   ]
  },
  {
   "cell_type": "code",
   "execution_count": null,
   "id": "1c7f3b3d2bf40888",
   "metadata": {
    "slideshow": {
     "slide_type": "subslide"
    }
   },
   "outputs": [],
   "source": [
    "dt1 = evaluate_non_random_regressor(DecisionTreeRegressor, fun, max_depth=1);"
   ]
  },
  {
   "cell_type": "code",
   "execution_count": null,
   "id": "f8f00e49bcc38d41",
   "metadata": {
    "slideshow": {
     "slide_type": "subslide"
    }
   },
   "outputs": [],
   "source": [
    "from sklearn.tree import plot_tree;"
   ]
  },
  {
   "cell_type": "code",
   "execution_count": null,
   "id": "25436e743888995b",
   "metadata": {
    "slideshow": {
     "slide_type": "subslide"
    }
   },
   "outputs": [],
   "source": [
    "fig, ax = plt.subplots(figsize=(12, 4))\n",
    "plot_tree(dt1, ax=ax, precision=1);"
   ]
  },
  {
   "cell_type": "code",
   "execution_count": null,
   "id": "8380f9f15094c44f",
   "metadata": {
    "slideshow": {
     "slide_type": "subslide"
    }
   },
   "outputs": [],
   "source": [
    "dt2 = evaluate_non_random_regressor(DecisionTreeRegressor, fun, max_depth=2);"
   ]
  },
  {
   "cell_type": "code",
   "execution_count": null,
   "id": "f214b5a95c68e680",
   "metadata": {
    "slideshow": {
     "slide_type": "subslide"
    }
   },
   "outputs": [],
   "source": [
    "fig, ax = plt.subplots(figsize=(16, 8))\n",
    "plot_tree(dt2, ax=ax, precision=1);"
   ]
  },
  {
   "cell_type": "code",
   "execution_count": null,
   "id": "746f87b9582bc7e3",
   "metadata": {
    "slideshow": {
     "slide_type": "subslide"
    }
   },
   "outputs": [],
   "source": [
    "def plot_regressions(regressors, f_y):\n",
    "    y_train = f_y(x_train).reshape(-1)\n",
    "\n",
    "    x_plot = np.linspace(0, 10, 500).reshape(-1, 1)\n",
    "    fig, ax = plt.subplots(figsize=(12, 6))\n",
    "    sns.lineplot(x=x_plot[:, 0], y=f_y(x_plot[:, 0]), ax=ax)\n",
    "    sns.scatterplot(x=x_train[:, 0], y=y_train, ax=ax)\n",
    "    for reg in regressors:\n",
    "        sns.lineplot(x=x_plot[:, 0], y=reg.predict(x_plot), ax=ax)\n",
    "    plt.show()"
   ]
  },
  {
   "cell_type": "code",
   "execution_count": null,
   "id": "6b0674776f938e80",
   "metadata": {
    "slideshow": {
     "slide_type": "subslide"
    }
   },
   "outputs": [],
   "source": [
    "plot_regressions([dt1, dt2], fun);"
   ]
  },
  {
   "cell_type": "code",
   "execution_count": null,
   "id": "f520e75034660f14",
   "metadata": {
    "slideshow": {
     "slide_type": "subslide"
    }
   },
   "outputs": [],
   "source": [
    "dt3 = evaluate_non_random_regressor(DecisionTreeRegressor, fun, max_depth=3);"
   ]
  },
  {
   "cell_type": "code",
   "execution_count": null,
   "id": "92ed408bcc74f418",
   "metadata": {
    "slideshow": {
     "slide_type": "subslide"
    }
   },
   "outputs": [],
   "source": [
    "fig, ax = plt.subplots(figsize=(18, 10))\n",
    "plot_tree(dt3, ax=ax, precision=1);"
   ]
  },
  {
   "cell_type": "code",
   "execution_count": null,
   "id": "b0e682abebfeb70b",
   "metadata": {
    "slideshow": {
     "slide_type": "subslide"
    }
   },
   "outputs": [],
   "source": [
    "plot_regressions([dt1, dt2, dt3], fun);"
   ]
  },
  {
   "cell_type": "code",
   "execution_count": null,
   "id": "e89b652987d9481b",
   "metadata": {
    "slideshow": {
     "slide_type": "subslide"
    }
   },
   "outputs": [],
   "source": [
    "dt1_mae = evaluate_non_random_regressor(\n",
    "    DecisionTreeRegressor, fun, max_depth=1, criterion=\"absolute_error\"\n",
    ")"
   ]
  },
  {
   "cell_type": "code",
   "execution_count": null,
   "id": "dc11bb1ca7ea278b",
   "metadata": {
    "slideshow": {
     "slide_type": "subslide"
    }
   },
   "outputs": [],
   "source": [
    "dt2_mae = evaluate_non_random_regressor(\n",
    "    DecisionTreeRegressor, fun, max_depth=2, criterion=\"absolute_error\"\n",
    ")"
   ]
  },
  {
   "cell_type": "code",
   "execution_count": null,
   "id": "a49a02e940a0bab9",
   "metadata": {
    "slideshow": {
     "slide_type": "subslide"
    }
   },
   "outputs": [],
   "source": [
    "dt3_mae = evaluate_non_random_regressor(\n",
    "    DecisionTreeRegressor, fun, max_depth=3, criterion=\"absolute_error\"\n",
    ");"
   ]
  },
  {
   "cell_type": "code",
   "execution_count": null,
   "id": "0bdca1a3a52c6d74",
   "metadata": {
    "slideshow": {
     "slide_type": "subslide"
    }
   },
   "outputs": [],
   "source": [
    "plot_regressions([dt1_mae, dt2_mae, dt3_mae], fun)"
   ]
  },
  {
   "cell_type": "code",
   "execution_count": null,
   "id": "80c550a48f720c56",
   "metadata": {
    "slideshow": {
     "slide_type": "subslide"
    }
   },
   "outputs": [],
   "source": [
    "plot_regressions([dt1, dt1_mae], fun)"
   ]
  },
  {
   "cell_type": "code",
   "execution_count": null,
   "id": "6f78f5f860a7319b",
   "metadata": {
    "slideshow": {
     "slide_type": "subslide"
    }
   },
   "outputs": [],
   "source": [
    "plot_regressions([dt2, dt2_mae], fun)"
   ]
  },
  {
   "cell_type": "code",
   "execution_count": null,
   "id": "62a88499d81745a8",
   "metadata": {
    "slideshow": {
     "slide_type": "subslide"
    }
   },
   "outputs": [],
   "source": [
    "plot_regressions([dt3, dt3_mae], fun)"
   ]
  },
  {
   "cell_type": "code",
   "execution_count": null,
   "id": "18960e0f3ea5b132",
   "metadata": {
    "slideshow": {
     "slide_type": "subslide"
    }
   },
   "outputs": [],
   "source": [
    "def plot_graphs(f_y, reg, reg_rand, reg_chaos, y_train, y_rand_train, y_chaos_train):\n",
    "    x_plot = np.linspace(0, 10, 500).reshape(-1, 1)\n",
    "    fig, ax = plt.subplots(figsize=(12, 8))\n",
    "    sns.lineplot(x=x_plot[:, 0], y=reg.predict(x_plot), ax=ax)\n",
    "    sns.scatterplot(x=x_train[:, 0], y=y_train, ax=ax)\n",
    "\n",
    "    sns.lineplot(x=x_plot[:, 0], y=reg_rand.predict(x_plot), ax=ax)\n",
    "    sns.scatterplot(x=x_train[:, 0], y=y_rand_train, ax=ax)\n",
    "\n",
    "    sns.lineplot(x=x_plot[:, 0], y=reg_chaos.predict(x_plot), ax=ax)\n",
    "    sns.scatterplot(x=x_train[:, 0], y=y_chaos_train, ax=ax)\n",
    "\n",
    "    sns.lineplot(x=x_plot[:, 0], y=f_y(x_plot[:, 0]), ax=ax)\n",
    "    plt.show()"
   ]
  },
  {
   "cell_type": "code",
   "execution_count": null,
   "id": "90acbd876a3f251b",
   "metadata": {
    "slideshow": {
     "slide_type": "subslide"
    }
   },
   "outputs": [],
   "source": [
    "def evaluate_regressor(reg_type, f_y, *args, **kwargs):\n",
    "    reg = reg_type(*args, **kwargs)\n",
    "    reg_rand = reg_type(*args, **kwargs)\n",
    "    reg_chaos = reg_type(*args, **kwargs)\n",
    "\n",
    "    y_train = f_y(x_train).reshape(-1)\n",
    "    y_test = f_y(x_test).reshape(-1)\n",
    "    y_pred = reg.fit(x_train, y_train).predict(x_test)\n",
    "\n",
    "    y_rand_train = randomize(f_y, x_train).reshape(-1)\n",
    "    y_rand_test = randomize(f_y, x_test).reshape(-1)\n",
    "    y_rand_pred = reg_rand.fit(x_train, y_rand_train).predict(x_test)\n",
    "\n",
    "    y_chaos_train = randomize(f_y, x_train, 1.5).reshape(-1)\n",
    "    y_chaos_test = randomize(f_y, x_test, 1.5).reshape(-1)\n",
    "    y_chaos_pred = reg_chaos.fit(x_train, y_chaos_train).predict(x_test)\n",
    "\n",
    "    plot_graphs(f_y, reg, reg_rand, reg_chaos, y_train, y_rand_train, y_chaos_train)\n",
    "    print_evaluation(y_test, y_pred, y_rand_test, y_rand_pred, y_chaos_test, y_chaos_pred)"
   ]
  },
  {
   "cell_type": "code",
   "execution_count": null,
   "id": "ef5a19d67f9d706c",
   "metadata": {
    "slideshow": {
     "slide_type": "subslide"
    }
   },
   "outputs": [],
   "source": [
    "evaluate_regressor(DecisionTreeRegressor, lin)"
   ]
  },
  {
   "cell_type": "code",
   "execution_count": null,
   "id": "216f3caf1def5448",
   "metadata": {
    "slideshow": {
     "slide_type": "subslide"
    }
   },
   "outputs": [],
   "source": [
    "evaluate_regressor(DecisionTreeRegressor, lin, max_depth=3)"
   ]
  },
  {
   "cell_type": "markdown",
   "id": "a717576ef0204692",
   "metadata": {
    "slideshow": {
     "slide_type": "slide"
    }
   },
   "source": [
    "# Overfitting and Underfitting\n",
    "\n",
    "Overfitting occurs when the model matches noise in the training data.\n",
    "\n",
    "Underfitting occurs when the model cannot match the training data set."
   ]
  },
  {
   "cell_type": "markdown",
   "id": "3647c377791cc433",
   "metadata": {
    "slideshow": {
     "slide_type": "slide"
    }
   },
   "source": [
    "## Bias/Variance Tradeoff\n",
    "\n",
    "**Bias error:** Error from bad assumptions in our model or learning algorithm about the structure of our solution. Leads to underfitting.\n",
    "\n",
    "**Variance:** Reaction to small fluctuations in the training data. Leads to overfitting.\n",
    "\n",
    "\"\\[B\\]ias measures the tendency of a system to consistently learn the  wrong things, and variance measures its tendency to learn irrelevant  details\"\n",
    "\n",
    "-- Pedro Domingos\n"
   ]
  },
  {
   "cell_type": "markdown",
   "id": "14690db532e08277",
   "metadata": {
    "slideshow": {
     "slide_type": "subslide"
    }
   },
   "source": [
    "### Bias/Variance Tradeoff\n",
    "\n",
    "<img src=\"img/low-bias-low-variance.png\" style=\"width: 22%; display: inline-block;\"/>\n",
    "<img src=\"img/low-bias-high-variance.png\" style=\"width: 22%; display: inline-block;\"/>\n",
    "<img src=\"img/high-bias-low-variance.png\" style=\"width: 22%; display: inline-block;\"/>\n",
    "<img src=\"img/high-bias-high-variance.png\" style=\"width: 22%; display: inline-block;\"/>"
   ]
  },
  {
   "cell_type": "markdown",
   "id": "ac5d8554f3189a86",
   "metadata": {
    "slideshow": {
     "slide_type": "subslide"
    }
   },
   "source": [
    "<img src=\"img/Figure-09-008.png\" style=\"width: 40%; padding: 20px;\"/>"
   ]
  },
  {
   "cell_type": "markdown",
   "id": "e6a1020ae7afd933",
   "metadata": {
    "slideshow": {
     "slide_type": "subslide"
    }
   },
   "source": [
    "<img src=\"img/Figure-09-009.png\" style=\"width: 80%; padding: 20px;\"/>"
   ]
  },
  {
   "cell_type": "markdown",
   "id": "779183e1f0c7fc46",
   "metadata": {
    "slideshow": {
     "slide_type": "subslide"
    }
   },
   "source": [
    "<img src=\"img/Figure-09-010.png\" style=\"width: 40%; padding: 20px;\"/>"
   ]
  },
  {
   "cell_type": "code",
   "execution_count": null,
   "id": "dfad480f82cc4350",
   "metadata": {
    "slideshow": {
     "slide_type": "subslide"
    }
   },
   "outputs": [],
   "source": [
    "x = np.linspace(0, 10, 500)\n",
    "y = randomize(fun, x, 2.0)\n",
    "lr_reg = LinearRegression().fit(x.reshape(-1, 1), y)\n",
    "dt_reg = DecisionTreeRegressor().fit(x.reshape(-1, 1), y)\n",
    "\n",
    "def plot(reg, ax):\n",
    "    sns.lineplot(x=x, y=fun(x), ax=ax, color=\"red\")\n",
    "    sns.lineplot(x=x, y=y, ax=ax, alpha=0.5)\n",
    "    sns.lineplot(x=x, y=reg.predict(x.reshape(-1, 1)), ax=ax);"
   ]
  },
  {
   "cell_type": "code",
   "execution_count": null,
   "id": "7121c9ac7e9a9124",
   "metadata": {
    "slideshow": {
     "slide_type": "subslide"
    }
   },
   "outputs": [],
   "source": [
    "fig, ax = plt.subplots(ncols=2, figsize=(20, 6))\n",
    "plot(lr_reg, ax[0])\n",
    "plot(dt_reg, ax[1])"
   ]
  },
  {
   "cell_type": "code",
   "execution_count": null,
   "id": "3cffa93425afe613",
   "metadata": {
    "slideshow": {
     "slide_type": "subslide"
    }
   },
   "outputs": [],
   "source": [
    "x = np.linspace(0, 10, 500)\n",
    "fix, ax = plt.subplots(figsize=(22, 12))\n",
    "# ax.fill_between(x, 1.8 * np.sin(x) + 0.09 * x ** 2 - 5, 2.1 * np.sin(x) + 0.11 * x ** 2 + 1, alpha=0.2)\n",
    "ax.plot(x, randomize(fun, x, scale=0.5))\n",
    "ax.plot(x, fun(x), color=\"r\");"
   ]
  },
  {
   "cell_type": "code",
   "execution_count": null,
   "id": "29168fd9dacf0b04",
   "metadata": {
    "slideshow": {
     "slide_type": "subslide"
    }
   },
   "outputs": [],
   "source": [
    "def fun2(x): return 2.8 * np.sin(x) + 0.3 * x + 0.08 * x ** 2 - 2.5\n",
    "fix, ax = plt.subplots(figsize=(22, 12))\n",
    "# ax.fill_between(x, 1.8 * np.sin(x) + 0.09 * x ** 2 - 5, 2.1 * np.sin(x) + 0.11 * x ** 2 + 1, alpha=0.2)\n",
    "ax.plot(x, randomize(fun2, x, scale=0.4), color=\"orange\")\n",
    "ax.plot(x, fun2(x), color=\"yellow\")\n",
    "ax.plot(x, fun(x), color=\"r\");"
   ]
  },
  {
   "cell_type": "code",
   "execution_count": null,
   "id": "5b53c5562391dfd3",
   "metadata": {
    "slideshow": {
     "slide_type": "subslide"
    }
   },
   "outputs": [],
   "source": [
    "fix, ax = plt.subplots(figsize=(22, 12))\n",
    "ax.fill_between(x, 1.8 * np.sin(x) + 0.09 * x ** 2 - 5, 2.1 * np.sin(x) + 0.11 * x ** 2 + 1, alpha=0.2)\n",
    "ax.plot(x, randomize(fun2, x, scale=0.4), color=\"orange\")\n",
    "# ax.plot(x, randomize(fun, x, scale=0.5))\n",
    "ax.plot(x, fun2(x), color=\"yellow\")\n",
    "ax.plot(x, fun(x), color=\"r\")\n",
    "ax.plot(x, np.select([x<=6, x>6], [-0.5, 3.5]), color=\"darkgreen\");"
   ]
  },
  {
   "cell_type": "markdown",
   "id": "48843b6d9002be99",
   "metadata": {
    "slideshow": {
     "slide_type": "slide"
    }
   },
   "source": [
    "## Recognizing Overfitting\n",
    "\n",
    "- Performance on your training set is much better than on your validation/test set"
   ]
  },
  {
   "cell_type": "markdown",
   "id": "1bb068f258e2d32f",
   "metadata": {
    "slideshow": {
     "slide_type": "slide"
    }
   },
   "source": [
    "## Reducing Overfitting\n",
    "\n",
    "- Collect more/different training data\n",
    "- Perform (better) feature engineering\n",
    "- Decrease model capacity\n",
    "- Regularize the model\n",
    "- Use cross validation\n",
    "- Augment the training data\n",
    "- Add batch normalization, dropout, ... layers\n",
    "- Stop training early\n",
    "- ..."
   ]
  },
  {
   "cell_type": "code",
   "execution_count": null,
   "id": "3a4125abdad33b75",
   "metadata": {
    "slideshow": {
     "slide_type": "subslide"
    }
   },
   "outputs": [],
   "source": [
    "rng = np.random.default_rng(42)\n",
    "dt_reg = DecisionTreeRegressor()\n",
    "x_train = rng.uniform(size=(100, 1), low=0.0, high=10.0)\n",
    "y_train = randomize(fun, x_train, scale=1.5)\n",
    "y_test = randomize(fun, x_train, scale=1.5)\n",
    "dt_reg.fit(x_train, y_train)"
   ]
  },
  {
   "cell_type": "code",
   "execution_count": null,
   "id": "beded4137a9317bb",
   "metadata": {
    "slideshow": {
     "slide_type": "subslide"
    }
   },
   "outputs": [],
   "source": [
    "mae = mean_absolute_error(y_train, dt_reg.predict(x_train))\n",
    "mse = mean_squared_error(y_train, dt_reg.predict(x_train))\n",
    "mae, mse"
   ]
  },
  {
   "cell_type": "code",
   "execution_count": null,
   "id": "5b654d18b689b54e",
   "metadata": {
    "slideshow": {
     "slide_type": "subslide"
    }
   },
   "outputs": [],
   "source": [
    "mae_test = mean_absolute_error(y_test, dt_reg.predict(x_train))\n",
    "mse_test = mean_squared_error(y_test, dt_reg.predict(x_train))\n",
    "mae_test, mse_test"
   ]
  },
  {
   "cell_type": "code",
   "execution_count": null,
   "id": "3bc742e831824a19",
   "metadata": {
    "slideshow": {
     "slide_type": "subslide"
    }
   },
   "outputs": [],
   "source": [
    "fun_mae = mean_absolute_error(y_train, fun(x_train))\n",
    "fun_mse = mean_squared_error(y_train, fun(x_train))\n",
    "fun_mae, fun_mse"
   ]
  },
  {
   "cell_type": "code",
   "execution_count": null,
   "id": "d8ffeb8cb65a6224",
   "metadata": {
    "slideshow": {
     "slide_type": "subslide"
    }
   },
   "outputs": [],
   "source": [
    "fig, ax = plt.subplots(figsize=(16, 6))\n",
    "sns.lineplot(x=x_train[:, 0], y=fun(x_train)[:, 0])\n",
    "sns.scatterplot(x=x_train[:, 0], y=y_train[:, 0])\n",
    "sns.lineplot(x=x_plot, y=dt_reg.predict(x_plot.reshape(-1, 1)));"
   ]
  },
  {
   "cell_type": "code",
   "execution_count": null,
   "id": "aa725ee75e3d6c87",
   "metadata": {
    "slideshow": {
     "slide_type": "subslide"
    }
   },
   "outputs": [],
   "source": [
    "fig, ax = plt.subplots(figsize=(16, 6))\n",
    "sns.lineplot(x=x_train[:, 0], y=fun(x_train)[:, 0])\n",
    "sns.scatterplot(x=x_train[:, 0], y=y_test[:, 0])\n",
    "sns.lineplot(x=x_plot, y=dt_reg.predict(x_plot.reshape(-1, 1)));"
   ]
  },
  {
   "cell_type": "code",
   "execution_count": null,
   "id": "62a48733ab6af2d6",
   "metadata": {
    "slideshow": {
     "slide_type": "subslide"
    }
   },
   "outputs": [],
   "source": [
    "evaluate_regressor(DecisionTreeRegressor, fun)"
   ]
  },
  {
   "cell_type": "code",
   "execution_count": null,
   "id": "68eb855ca6d6ec3f",
   "metadata": {
    "slideshow": {
     "slide_type": "subslide"
    }
   },
   "outputs": [],
   "source": [
    "evaluate_regressor(DecisionTreeRegressor, fun, max_depth=2)"
   ]
  },
  {
   "cell_type": "code",
   "execution_count": null,
   "id": "74722c45241086f3",
   "metadata": {
    "slideshow": {
     "slide_type": "subslide"
    }
   },
   "outputs": [],
   "source": [
    "evaluate_regressor(DecisionTreeRegressor, fun, max_depth=3)"
   ]
  },
  {
   "cell_type": "code",
   "execution_count": null,
   "id": "7233f66d64c3969c",
   "metadata": {
    "slideshow": {
     "slide_type": "subslide"
    }
   },
   "outputs": [],
   "source": [
    "evaluate_regressor(DecisionTreeRegressor, fun, max_depth=2, criterion=\"absolute_error\")"
   ]
  },
  {
   "cell_type": "code",
   "execution_count": null,
   "id": "4a692b27b81b4186",
   "metadata": {
    "slideshow": {
     "slide_type": "subslide"
    }
   },
   "outputs": [],
   "source": [
    "# evaluate_regressor(DecisionTreeRegressor, fun, max_leaf_nodes=20)\n",
    "evaluate_regressor(DecisionTreeRegressor, fun, max_leaf_nodes=20, criterion=\"absolute_error\")"
   ]
  },
  {
   "cell_type": "code",
   "execution_count": null,
   "id": "65fbc8e57a7d8f42",
   "metadata": {
    "slideshow": {
     "slide_type": "subslide"
    }
   },
   "outputs": [],
   "source": [
    "evaluate_regressor(DecisionTreeRegressor, fun, min_samples_split=16)"
   ]
  },
  {
   "cell_type": "code",
   "execution_count": null,
   "id": "d77d11d4af00921d",
   "metadata": {
    "slideshow": {
     "slide_type": "subslide"
    }
   },
   "outputs": [],
   "source": [
    "evaluate_regressor(DecisionTreeRegressor, fun, min_samples_leaf=8)"
   ]
  },
  {
   "cell_type": "code",
   "execution_count": null,
   "id": "6b4e03423667dbb7",
   "metadata": {},
   "outputs": [],
   "source": []
  }
 ],
 "metadata": {
  "jupytext": {
   "cell_metadata_filter": "slideshow,lang,tags,-all",
   "main_language": "python",
   "notebook_metadata_filter": "-all"
  },
  "kernelspec": {
   "display_name": "Python 3 (ipykernel)",
   "language": "python",
   "name": "python3"
  },
  "language_info": {
   "codemirror_mode": {
    "name": "ipython",
    "version": 3
   },
   "file_extension": ".py",
   "mimetype": "text/x-python",
   "name": "python",
   "nbconvert_exporter": "python",
   "pygments_lexer": "ipython3"
  }
 },
 "nbformat": 4,
 "nbformat_minor": 5
}
